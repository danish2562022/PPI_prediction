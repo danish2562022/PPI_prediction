{
 "cells": [
  {
   "cell_type": "code",
   "execution_count": 2,
   "id": "2bb4a2aa",
   "metadata": {},
   "outputs": [],
   "source": [
    "import pandas as pd\n",
    "import pickle\n",
    "from tqdm import tqdm"
   ]
  },
  {
   "cell_type": "code",
   "execution_count": 3,
   "id": "53480381",
   "metadata": {},
   "outputs": [],
   "source": [
    "data = pd.read_csv(\"/home/anwer/Desktop/PPI_prediction/csv_files_new_ppi/training_and_test_set/test_set_without_embedding.csv\")"
   ]
  },
  {
   "cell_type": "code",
   "execution_count": 4,
   "id": "5675b385",
   "metadata": {},
   "outputs": [
    {
     "data": {
      "text/html": [
       "<div>\n",
       "<style scoped>\n",
       "    .dataframe tbody tr th:only-of-type {\n",
       "        vertical-align: middle;\n",
       "    }\n",
       "\n",
       "    .dataframe tbody tr th {\n",
       "        vertical-align: top;\n",
       "    }\n",
       "\n",
       "    .dataframe thead th {\n",
       "        text-align: right;\n",
       "    }\n",
       "</style>\n",
       "<table border=\"1\" class=\"dataframe\">\n",
       "  <thead>\n",
       "    <tr style=\"text-align: right;\">\n",
       "      <th></th>\n",
       "      <th>Protein_A</th>\n",
       "      <th>Protein_B</th>\n",
       "      <th>label</th>\n",
       "    </tr>\n",
       "  </thead>\n",
       "  <tbody>\n",
       "    <tr>\n",
       "      <th>0</th>\n",
       "      <td>PRO_4691</td>\n",
       "      <td>PRO_2365</td>\n",
       "      <td>1</td>\n",
       "    </tr>\n",
       "    <tr>\n",
       "      <th>1</th>\n",
       "      <td>PRO_12486</td>\n",
       "      <td>PRO_12486</td>\n",
       "      <td>1</td>\n",
       "    </tr>\n",
       "    <tr>\n",
       "      <th>2</th>\n",
       "      <td>PRO_12486</td>\n",
       "      <td>PRO_15453</td>\n",
       "      <td>1</td>\n",
       "    </tr>\n",
       "    <tr>\n",
       "      <th>3</th>\n",
       "      <td>PRO_12486</td>\n",
       "      <td>PRO_22362</td>\n",
       "      <td>1</td>\n",
       "    </tr>\n",
       "    <tr>\n",
       "      <th>4</th>\n",
       "      <td>PRO_12486</td>\n",
       "      <td>PRO_3423</td>\n",
       "      <td>1</td>\n",
       "    </tr>\n",
       "    <tr>\n",
       "      <th>...</th>\n",
       "      <td>...</td>\n",
       "      <td>...</td>\n",
       "      <td>...</td>\n",
       "    </tr>\n",
       "    <tr>\n",
       "      <th>234800</th>\n",
       "      <td>PRO_11969</td>\n",
       "      <td>PRO_16870</td>\n",
       "      <td>0</td>\n",
       "    </tr>\n",
       "    <tr>\n",
       "      <th>234801</th>\n",
       "      <td>PRO_2554</td>\n",
       "      <td>PRO_3073</td>\n",
       "      <td>0</td>\n",
       "    </tr>\n",
       "    <tr>\n",
       "      <th>234802</th>\n",
       "      <td>PRO_15478</td>\n",
       "      <td>PRO_18292</td>\n",
       "      <td>0</td>\n",
       "    </tr>\n",
       "    <tr>\n",
       "      <th>234803</th>\n",
       "      <td>PRO_1011</td>\n",
       "      <td>PRO_16240</td>\n",
       "      <td>0</td>\n",
       "    </tr>\n",
       "    <tr>\n",
       "      <th>234804</th>\n",
       "      <td>PRO_23909</td>\n",
       "      <td>PRO_4129</td>\n",
       "      <td>0</td>\n",
       "    </tr>\n",
       "  </tbody>\n",
       "</table>\n",
       "<p>234805 rows × 3 columns</p>\n",
       "</div>"
      ],
      "text/plain": [
       "        Protein_A  Protein_B  label\n",
       "0        PRO_4691   PRO_2365      1\n",
       "1       PRO_12486  PRO_12486      1\n",
       "2       PRO_12486  PRO_15453      1\n",
       "3       PRO_12486  PRO_22362      1\n",
       "4       PRO_12486   PRO_3423      1\n",
       "...           ...        ...    ...\n",
       "234800  PRO_11969  PRO_16870      0\n",
       "234801   PRO_2554   PRO_3073      0\n",
       "234802  PRO_15478  PRO_18292      0\n",
       "234803   PRO_1011  PRO_16240      0\n",
       "234804  PRO_23909   PRO_4129      0\n",
       "\n",
       "[234805 rows x 3 columns]"
      ]
     },
     "execution_count": 4,
     "metadata": {},
     "output_type": "execute_result"
    }
   ],
   "source": [
    "data"
   ]
  },
  {
   "cell_type": "code",
   "execution_count": 5,
   "id": "3d8d011c",
   "metadata": {},
   "outputs": [],
   "source": [
    "with open('/home/anwer/Desktop/PPI_prediction/pickle/prot_to_seq_pickle/embedded_vectors_pro_bert_bfd.pickle', 'rb') as handle:\n",
    "        prot_to_vec = pickle.load(handle)"
   ]
  },
  {
   "cell_type": "code",
   "execution_count": 13,
   "id": "0b5d05d7",
   "metadata": {},
   "outputs": [],
   "source": [
    "# list_vector = [[prot_to_vec[row.Protein_A].tolist()] for index,row in data.iterrows()]\n",
    "\n",
    "def return_vec(name):\n",
    "    return prot_to_vec[name].tolist()\n"
   ]
  },
  {
   "cell_type": "code",
   "execution_count": null,
   "id": "8b74db1a",
   "metadata": {},
   "outputs": [],
   "source": [
    "data['Prot_A_embed'] = data['Protein_A'].map(return_vec)\n",
    "    "
   ]
  },
  {
   "cell_type": "code",
   "execution_count": null,
   "id": "ad3a6991",
   "metadata": {},
   "outputs": [],
   "source": []
  }
 ],
 "metadata": {
  "kernelspec": {
   "display_name": "Python 3 (ipykernel)",
   "language": "python",
   "name": "python3"
  },
  "language_info": {
   "codemirror_mode": {
    "name": "ipython",
    "version": 3
   },
   "file_extension": ".py",
   "mimetype": "text/x-python",
   "name": "python",
   "nbconvert_exporter": "python",
   "pygments_lexer": "ipython3",
   "version": "3.9.12"
  }
 },
 "nbformat": 4,
 "nbformat_minor": 5
}
