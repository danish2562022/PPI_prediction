{
 "cells": [
  {
   "cell_type": "code",
   "execution_count": 100,
   "id": "f1895559",
   "metadata": {},
   "outputs": [],
   "source": [
    "import pandas as pd\n",
    "import random \n",
    "import pickle\n",
    "from tqdm import tqdm"
   ]
  },
  {
   "cell_type": "code",
   "execution_count": 36,
   "id": "450d02bf",
   "metadata": {},
   "outputs": [
    {
     "data": {
      "text/html": [
       "<div>\n",
       "<style scoped>\n",
       "    .dataframe tbody tr th:only-of-type {\n",
       "        vertical-align: middle;\n",
       "    }\n",
       "\n",
       "    .dataframe tbody tr th {\n",
       "        vertical-align: top;\n",
       "    }\n",
       "\n",
       "    .dataframe thead th {\n",
       "        text-align: right;\n",
       "    }\n",
       "</style>\n",
       "<table border=\"1\" class=\"dataframe\">\n",
       "  <thead>\n",
       "    <tr style=\"text-align: right;\">\n",
       "      <th></th>\n",
       "      <th>Protein_A</th>\n",
       "      <th>Protein_B</th>\n",
       "      <th>Protein_A_sequence</th>\n",
       "      <th>Protein_B_sequence</th>\n",
       "      <th>split_0_10</th>\n",
       "      <th>split_0_20</th>\n",
       "      <th>split_0_30</th>\n",
       "      <th>split_0_40</th>\n",
       "      <th>split_0_50</th>\n",
       "      <th>split_0_60</th>\n",
       "      <th>...</th>\n",
       "      <th>split_1_90</th>\n",
       "      <th>split_2_10</th>\n",
       "      <th>split_2_20</th>\n",
       "      <th>split_2_30</th>\n",
       "      <th>split_2_40</th>\n",
       "      <th>split_2_50</th>\n",
       "      <th>split_2_60</th>\n",
       "      <th>split_2_70</th>\n",
       "      <th>split_2_80</th>\n",
       "      <th>split_2_90</th>\n",
       "    </tr>\n",
       "  </thead>\n",
       "  <tbody>\n",
       "    <tr>\n",
       "      <th>0</th>\n",
       "      <td>PRO_1968</td>\n",
       "      <td>PRO_2127</td>\n",
       "      <td>MAKNPPENCEDCHILNAEAFKSKKICKSLKICGLVFGILALTLIVL...</td>\n",
       "      <td>MRRSSRPGSASSSRKHTPNFFSENSSMSITSEDSKGLRSAEPGPGE...</td>\n",
       "      <td>0</td>\n",
       "      <td>-1</td>\n",
       "      <td>-1</td>\n",
       "      <td>-1</td>\n",
       "      <td>-1</td>\n",
       "      <td>-1</td>\n",
       "      <td>...</td>\n",
       "      <td>1</td>\n",
       "      <td>-1</td>\n",
       "      <td>-1</td>\n",
       "      <td>-1</td>\n",
       "      <td>-1</td>\n",
       "      <td>-1</td>\n",
       "      <td>-1</td>\n",
       "      <td>1</td>\n",
       "      <td>1</td>\n",
       "      <td>1</td>\n",
       "    </tr>\n",
       "    <tr>\n",
       "      <th>1</th>\n",
       "      <td>PRO_1968</td>\n",
       "      <td>PRO_3259</td>\n",
       "      <td>MAKNPPENCEDCHILNAEAFKSKKICKSLKICGLVFGILALTLIVL...</td>\n",
       "      <td>MASSSTVPLGFHYETKYVVLSYLGLLSQEKLQEQHLSSPQGVQLDI...</td>\n",
       "      <td>0</td>\n",
       "      <td>-1</td>\n",
       "      <td>1</td>\n",
       "      <td>1</td>\n",
       "      <td>1</td>\n",
       "      <td>1</td>\n",
       "      <td>...</td>\n",
       "      <td>1</td>\n",
       "      <td>-1</td>\n",
       "      <td>-1</td>\n",
       "      <td>1</td>\n",
       "      <td>1</td>\n",
       "      <td>1</td>\n",
       "      <td>1</td>\n",
       "      <td>1</td>\n",
       "      <td>1</td>\n",
       "      <td>1</td>\n",
       "    </tr>\n",
       "    <tr>\n",
       "      <th>2</th>\n",
       "      <td>PRO_1968</td>\n",
       "      <td>PRO_20825</td>\n",
       "      <td>MAKNPPENCEDCHILNAEAFKSKKICKSLKICGLVFGILALTLIVL...</td>\n",
       "      <td>MSSHLVEPPPPLHNNNNNCEENEQSLPPPAGLNSSWVELPMNSSNG...</td>\n",
       "      <td>-1</td>\n",
       "      <td>1</td>\n",
       "      <td>1</td>\n",
       "      <td>1</td>\n",
       "      <td>1</td>\n",
       "      <td>1</td>\n",
       "      <td>...</td>\n",
       "      <td>-1</td>\n",
       "      <td>-1</td>\n",
       "      <td>-1</td>\n",
       "      <td>-1</td>\n",
       "      <td>-1</td>\n",
       "      <td>1</td>\n",
       "      <td>1</td>\n",
       "      <td>1</td>\n",
       "      <td>1</td>\n",
       "      <td>1</td>\n",
       "    </tr>\n",
       "    <tr>\n",
       "      <th>3</th>\n",
       "      <td>PRO_1968</td>\n",
       "      <td>PRO_11236</td>\n",
       "      <td>MAKNPPENCEDCHILNAEAFKSKKICKSLKICGLVFGILALTLIVL...</td>\n",
       "      <td>MPLLLLLPLLWAGALAMDPNFWLQVQESVTVQEGLCVLVPCTFFHP...</td>\n",
       "      <td>-1</td>\n",
       "      <td>1</td>\n",
       "      <td>1</td>\n",
       "      <td>1</td>\n",
       "      <td>1</td>\n",
       "      <td>1</td>\n",
       "      <td>...</td>\n",
       "      <td>1</td>\n",
       "      <td>-1</td>\n",
       "      <td>-1</td>\n",
       "      <td>-1</td>\n",
       "      <td>1</td>\n",
       "      <td>1</td>\n",
       "      <td>1</td>\n",
       "      <td>1</td>\n",
       "      <td>1</td>\n",
       "      <td>1</td>\n",
       "    </tr>\n",
       "    <tr>\n",
       "      <th>4</th>\n",
       "      <td>PRO_1968</td>\n",
       "      <td>PRO_2577</td>\n",
       "      <td>MAKNPPENCEDCHILNAEAFKSKKICKSLKICGLVFGILALTLIVL...</td>\n",
       "      <td>MKAQTALSFFLILITSLSGSQGIFPLAFFIYVPMNEQIVIGRLDED...</td>\n",
       "      <td>0</td>\n",
       "      <td>-1</td>\n",
       "      <td>-1</td>\n",
       "      <td>-1</td>\n",
       "      <td>-1</td>\n",
       "      <td>1</td>\n",
       "      <td>...</td>\n",
       "      <td>1</td>\n",
       "      <td>-1</td>\n",
       "      <td>-1</td>\n",
       "      <td>1</td>\n",
       "      <td>1</td>\n",
       "      <td>1</td>\n",
       "      <td>1</td>\n",
       "      <td>1</td>\n",
       "      <td>1</td>\n",
       "      <td>1</td>\n",
       "    </tr>\n",
       "    <tr>\n",
       "      <th>...</th>\n",
       "      <td>...</td>\n",
       "      <td>...</td>\n",
       "      <td>...</td>\n",
       "      <td>...</td>\n",
       "      <td>...</td>\n",
       "      <td>...</td>\n",
       "      <td>...</td>\n",
       "      <td>...</td>\n",
       "      <td>...</td>\n",
       "      <td>...</td>\n",
       "      <td>...</td>\n",
       "      <td>...</td>\n",
       "      <td>...</td>\n",
       "      <td>...</td>\n",
       "      <td>...</td>\n",
       "      <td>...</td>\n",
       "      <td>...</td>\n",
       "      <td>...</td>\n",
       "      <td>...</td>\n",
       "      <td>...</td>\n",
       "      <td>...</td>\n",
       "    </tr>\n",
       "    <tr>\n",
       "      <th>397738</th>\n",
       "      <td>PRO_10712</td>\n",
       "      <td>PRO_4734</td>\n",
       "      <td>MADKRKLQGEIDRCLKKVSEGVEQFEDIWQKLHNAANANQKEKYEA...</td>\n",
       "      <td>MSAIQAAWPSGTECIAKYNFHGTAEQDLPFCKGDVLTIVAVTKDPN...</td>\n",
       "      <td>-1</td>\n",
       "      <td>-1</td>\n",
       "      <td>-1</td>\n",
       "      <td>-1</td>\n",
       "      <td>-1</td>\n",
       "      <td>-1</td>\n",
       "      <td>...</td>\n",
       "      <td>-1</td>\n",
       "      <td>0</td>\n",
       "      <td>0</td>\n",
       "      <td>0</td>\n",
       "      <td>0</td>\n",
       "      <td>0</td>\n",
       "      <td>0</td>\n",
       "      <td>0</td>\n",
       "      <td>-1</td>\n",
       "      <td>-1</td>\n",
       "    </tr>\n",
       "    <tr>\n",
       "      <th>397739</th>\n",
       "      <td>PRO_12924</td>\n",
       "      <td>PRO_18242</td>\n",
       "      <td>MRPGTGAERGGLMVSEMESHPPSQGPGDGERRLSGSSLCSGSWVSA...</td>\n",
       "      <td>MSEEKPKEGVKTENDHINLKVAGQDGSVVQFKIKRHTPLSKLMKAY...</td>\n",
       "      <td>1</td>\n",
       "      <td>1</td>\n",
       "      <td>1</td>\n",
       "      <td>1</td>\n",
       "      <td>1</td>\n",
       "      <td>1</td>\n",
       "      <td>...</td>\n",
       "      <td>1</td>\n",
       "      <td>0</td>\n",
       "      <td>0</td>\n",
       "      <td>0</td>\n",
       "      <td>0</td>\n",
       "      <td>-1</td>\n",
       "      <td>-1</td>\n",
       "      <td>-1</td>\n",
       "      <td>1</td>\n",
       "      <td>1</td>\n",
       "    </tr>\n",
       "    <tr>\n",
       "      <th>397740</th>\n",
       "      <td>PRO_4881</td>\n",
       "      <td>PRO_17066</td>\n",
       "      <td>MSELEQLRQEAEQLRNQIRDARKACGDSTLTQITAGLDPVGRIQMR...</td>\n",
       "      <td>MASSSVPPATVSAATAGPGPGFGFASKTKKKHFVQQKVKVFRAADP...</td>\n",
       "      <td>1</td>\n",
       "      <td>1</td>\n",
       "      <td>1</td>\n",
       "      <td>1</td>\n",
       "      <td>1</td>\n",
       "      <td>1</td>\n",
       "      <td>...</td>\n",
       "      <td>1</td>\n",
       "      <td>-1</td>\n",
       "      <td>-1</td>\n",
       "      <td>-1</td>\n",
       "      <td>-1</td>\n",
       "      <td>-1</td>\n",
       "      <td>-1</td>\n",
       "      <td>1</td>\n",
       "      <td>1</td>\n",
       "      <td>1</td>\n",
       "    </tr>\n",
       "    <tr>\n",
       "      <th>397741</th>\n",
       "      <td>PRO_15097</td>\n",
       "      <td>PRO_23695</td>\n",
       "      <td>MSSMNPEYDYLFKLLLIGDSGVGKSCLLLRFADDTYTESYISTIGV...</td>\n",
       "      <td>MGKRLDLSTLTDEEAEHVWAVVQRDFDLRRREEERLQGLKGKIQKE...</td>\n",
       "      <td>-1</td>\n",
       "      <td>-1</td>\n",
       "      <td>1</td>\n",
       "      <td>1</td>\n",
       "      <td>1</td>\n",
       "      <td>1</td>\n",
       "      <td>...</td>\n",
       "      <td>1</td>\n",
       "      <td>0</td>\n",
       "      <td>0</td>\n",
       "      <td>0</td>\n",
       "      <td>0</td>\n",
       "      <td>0</td>\n",
       "      <td>0</td>\n",
       "      <td>-1</td>\n",
       "      <td>-1</td>\n",
       "      <td>-1</td>\n",
       "    </tr>\n",
       "    <tr>\n",
       "      <th>397742</th>\n",
       "      <td>PRO_11821</td>\n",
       "      <td>PRO_14704</td>\n",
       "      <td>MIDTLRPVPFASEMAISKTVAWLNEQLELGNERLLLMDCRPQELYE...</td>\n",
       "      <td>MAQGLVTFADVAIDFSQEEWACLNSAQRDLYWDVMLENYSNLVSLD...</td>\n",
       "      <td>-1</td>\n",
       "      <td>1</td>\n",
       "      <td>1</td>\n",
       "      <td>1</td>\n",
       "      <td>1</td>\n",
       "      <td>1</td>\n",
       "      <td>...</td>\n",
       "      <td>1</td>\n",
       "      <td>-1</td>\n",
       "      <td>-1</td>\n",
       "      <td>-1</td>\n",
       "      <td>-1</td>\n",
       "      <td>-1</td>\n",
       "      <td>1</td>\n",
       "      <td>1</td>\n",
       "      <td>1</td>\n",
       "      <td>1</td>\n",
       "    </tr>\n",
       "  </tbody>\n",
       "</table>\n",
       "<p>397743 rows × 31 columns</p>\n",
       "</div>"
      ],
      "text/plain": [
       "        Protein_A  Protein_B  \\\n",
       "0        PRO_1968   PRO_2127   \n",
       "1        PRO_1968   PRO_3259   \n",
       "2        PRO_1968  PRO_20825   \n",
       "3        PRO_1968  PRO_11236   \n",
       "4        PRO_1968   PRO_2577   \n",
       "...           ...        ...   \n",
       "397738  PRO_10712   PRO_4734   \n",
       "397739  PRO_12924  PRO_18242   \n",
       "397740   PRO_4881  PRO_17066   \n",
       "397741  PRO_15097  PRO_23695   \n",
       "397742  PRO_11821  PRO_14704   \n",
       "\n",
       "                                       Protein_A_sequence  \\\n",
       "0       MAKNPPENCEDCHILNAEAFKSKKICKSLKICGLVFGILALTLIVL...   \n",
       "1       MAKNPPENCEDCHILNAEAFKSKKICKSLKICGLVFGILALTLIVL...   \n",
       "2       MAKNPPENCEDCHILNAEAFKSKKICKSLKICGLVFGILALTLIVL...   \n",
       "3       MAKNPPENCEDCHILNAEAFKSKKICKSLKICGLVFGILALTLIVL...   \n",
       "4       MAKNPPENCEDCHILNAEAFKSKKICKSLKICGLVFGILALTLIVL...   \n",
       "...                                                   ...   \n",
       "397738  MADKRKLQGEIDRCLKKVSEGVEQFEDIWQKLHNAANANQKEKYEA...   \n",
       "397739  MRPGTGAERGGLMVSEMESHPPSQGPGDGERRLSGSSLCSGSWVSA...   \n",
       "397740  MSELEQLRQEAEQLRNQIRDARKACGDSTLTQITAGLDPVGRIQMR...   \n",
       "397741  MSSMNPEYDYLFKLLLIGDSGVGKSCLLLRFADDTYTESYISTIGV...   \n",
       "397742  MIDTLRPVPFASEMAISKTVAWLNEQLELGNERLLLMDCRPQELYE...   \n",
       "\n",
       "                                       Protein_B_sequence  split_0_10  \\\n",
       "0       MRRSSRPGSASSSRKHTPNFFSENSSMSITSEDSKGLRSAEPGPGE...           0   \n",
       "1       MASSSTVPLGFHYETKYVVLSYLGLLSQEKLQEQHLSSPQGVQLDI...           0   \n",
       "2       MSSHLVEPPPPLHNNNNNCEENEQSLPPPAGLNSSWVELPMNSSNG...          -1   \n",
       "3       MPLLLLLPLLWAGALAMDPNFWLQVQESVTVQEGLCVLVPCTFFHP...          -1   \n",
       "4       MKAQTALSFFLILITSLSGSQGIFPLAFFIYVPMNEQIVIGRLDED...           0   \n",
       "...                                                   ...         ...   \n",
       "397738  MSAIQAAWPSGTECIAKYNFHGTAEQDLPFCKGDVLTIVAVTKDPN...          -1   \n",
       "397739  MSEEKPKEGVKTENDHINLKVAGQDGSVVQFKIKRHTPLSKLMKAY...           1   \n",
       "397740  MASSSVPPATVSAATAGPGPGFGFASKTKKKHFVQQKVKVFRAADP...           1   \n",
       "397741  MGKRLDLSTLTDEEAEHVWAVVQRDFDLRRREEERLQGLKGKIQKE...          -1   \n",
       "397742  MAQGLVTFADVAIDFSQEEWACLNSAQRDLYWDVMLENYSNLVSLD...          -1   \n",
       "\n",
       "        split_0_20  split_0_30  split_0_40  split_0_50  split_0_60  ...  \\\n",
       "0               -1          -1          -1          -1          -1  ...   \n",
       "1               -1           1           1           1           1  ...   \n",
       "2                1           1           1           1           1  ...   \n",
       "3                1           1           1           1           1  ...   \n",
       "4               -1          -1          -1          -1           1  ...   \n",
       "...            ...         ...         ...         ...         ...  ...   \n",
       "397738          -1          -1          -1          -1          -1  ...   \n",
       "397739           1           1           1           1           1  ...   \n",
       "397740           1           1           1           1           1  ...   \n",
       "397741          -1           1           1           1           1  ...   \n",
       "397742           1           1           1           1           1  ...   \n",
       "\n",
       "        split_1_90  split_2_10  split_2_20  split_2_30  split_2_40  \\\n",
       "0                1          -1          -1          -1          -1   \n",
       "1                1          -1          -1           1           1   \n",
       "2               -1          -1          -1          -1          -1   \n",
       "3                1          -1          -1          -1           1   \n",
       "4                1          -1          -1           1           1   \n",
       "...            ...         ...         ...         ...         ...   \n",
       "397738          -1           0           0           0           0   \n",
       "397739           1           0           0           0           0   \n",
       "397740           1          -1          -1          -1          -1   \n",
       "397741           1           0           0           0           0   \n",
       "397742           1          -1          -1          -1          -1   \n",
       "\n",
       "        split_2_50  split_2_60  split_2_70  split_2_80  split_2_90  \n",
       "0               -1          -1           1           1           1  \n",
       "1                1           1           1           1           1  \n",
       "2                1           1           1           1           1  \n",
       "3                1           1           1           1           1  \n",
       "4                1           1           1           1           1  \n",
       "...            ...         ...         ...         ...         ...  \n",
       "397738           0           0           0          -1          -1  \n",
       "397739          -1          -1          -1           1           1  \n",
       "397740          -1          -1           1           1           1  \n",
       "397741           0           0          -1          -1          -1  \n",
       "397742          -1           1           1           1           1  \n",
       "\n",
       "[397743 rows x 31 columns]"
      ]
     },
     "execution_count": 36,
     "metadata": {},
     "output_type": "execute_result"
    }
   ],
   "source": [
    "data = pd.read_csv(\"../cluster_by_sandra/new_data.csv\")\n",
    "x =len(data)\n",
    "data = data.drop(columns = ['index'])\n",
    "data"
   ]
  },
  {
   "cell_type": "markdown",
   "id": "e6a829d5",
   "metadata": {},
   "source": [
    "# 1, Choosing train set and test set(Minimizing loss of pairs)"
   ]
  },
  {
   "cell_type": "code",
   "execution_count": 37,
   "id": "aa43f287",
   "metadata": {},
   "outputs": [
    {
     "name": "stdout",
     "output_type": "stream",
     "text": [
      "split_0_10\n",
      "Train set size:  0.22849176478278688   count:  90881\n",
      "Test set size:  0.2728093266254843   count:  108508\n",
      "Deleting pairs:  0.49869890859172883   count:  198354\n",
      "\n",
      "\n",
      "split_0_20\n",
      "Train set size:  0.3533487704371919   count:  140542\n",
      "Test set size:  0.17263408784064083   count:  68664\n",
      "Deleting pairs:  0.47401714172216736   count:  188537\n",
      "\n",
      "\n",
      "split_0_30\n",
      "Train set size:  0.4626731331538204   count:  184025\n",
      "Test set size:  0.11068202331656371   count:  44023\n",
      "Deleting pairs:  0.42664484352961585   count:  169695\n",
      "\n",
      "\n",
      "split_0_40\n",
      "Train set size:  0.5445048687217625   count:  216573\n",
      "Test set size:  0.07627538385339278   count:  30338\n",
      "Deleting pairs:  0.3792197474248447   count:  150832\n",
      "\n",
      "\n",
      "split_0_50\n",
      "Train set size:  0.6106329966837882   count:  242875\n",
      "Test set size:  0.053896611631128646   count:  21437\n",
      "Deleting pairs:  0.3354703916850831   count:  133431\n",
      "\n",
      "\n",
      "split_0_60\n",
      "Train set size:  0.6723889546767636   count:  267438\n",
      "Test set size:  0.03737840766525118   count:  14867\n",
      "Deleting pairs:  0.2902326376579852   count:  115438\n",
      "\n",
      "\n",
      "split_0_70\n",
      "Train set size:  0.7491646616030955   count:  297975\n",
      "Test set size:  0.02032468201828819   count:  8084\n",
      "Deleting pairs:  0.23051065637861634   count:  91684\n",
      "\n",
      "\n",
      "split_0_80\n",
      "Train set size:  0.8282861043437597   count:  329445\n",
      "Test set size:  0.008842393203651605   count:  3517\n",
      "Deleting pairs:  0.16287150245258875   count:  64781\n",
      "\n",
      "\n",
      "split_0_90\n",
      "Train set size:  0.9157370462836555   count:  364228\n",
      "Test set size:  0.0020289483410141727   count:  807\n",
      "Deleting pairs:  0.08223400537533031   count:  32708\n",
      "\n",
      "\n"
     ]
    }
   ],
   "source": [
    "for j in range(1):\n",
    "    for i in range(10,100,10):\n",
    "            print(f'split_{j}_{i}')\n",
    "        \n",
    "            print(\"Train set size: \",data[f'split_{j}_{i}'].value_counts()[1]/x,\"  count: \",data[f'split_{j}_{i}'].value_counts()[1])\n",
    "            print(\"Test set size: \",data[f'split_{j}_{i}'].value_counts()[0]/x,\"  count: \",data[f'split_{j}_{i}'].value_counts()[0])\n",
    "            print(\"Deleting pairs: \",data[f'split_{j}_{i}'].value_counts()[-1]/x,\"  count: \",data[f'split_{j}_{i}'].value_counts()[-1])\n",
    "            print(\"\\n\")\n",
    "            "
   ]
  },
  {
   "cell_type": "code",
   "execution_count": 38,
   "id": "4d8aec5e",
   "metadata": {},
   "outputs": [
    {
     "data": {
      "text/html": [
       "<div>\n",
       "<style scoped>\n",
       "    .dataframe tbody tr th:only-of-type {\n",
       "        vertical-align: middle;\n",
       "    }\n",
       "\n",
       "    .dataframe tbody tr th {\n",
       "        vertical-align: top;\n",
       "    }\n",
       "\n",
       "    .dataframe thead th {\n",
       "        text-align: right;\n",
       "    }\n",
       "</style>\n",
       "<table border=\"1\" class=\"dataframe\">\n",
       "  <thead>\n",
       "    <tr style=\"text-align: right;\">\n",
       "      <th></th>\n",
       "      <th>Protein_A</th>\n",
       "      <th>Protein_B</th>\n",
       "      <th>Protein_A_sequence</th>\n",
       "      <th>Protein_B_sequence</th>\n",
       "      <th>split_0_10</th>\n",
       "      <th>split_0_20</th>\n",
       "      <th>split_0_30</th>\n",
       "      <th>split_0_40</th>\n",
       "      <th>split_0_50</th>\n",
       "      <th>split_0_60</th>\n",
       "      <th>...</th>\n",
       "      <th>split_1_90</th>\n",
       "      <th>split_2_10</th>\n",
       "      <th>split_2_20</th>\n",
       "      <th>split_2_30</th>\n",
       "      <th>split_2_40</th>\n",
       "      <th>split_2_50</th>\n",
       "      <th>split_2_60</th>\n",
       "      <th>split_2_70</th>\n",
       "      <th>split_2_80</th>\n",
       "      <th>split_2_90</th>\n",
       "    </tr>\n",
       "  </thead>\n",
       "  <tbody>\n",
       "    <tr>\n",
       "      <th>0</th>\n",
       "      <td>PRO_1968</td>\n",
       "      <td>PRO_2127</td>\n",
       "      <td>MAKNPPENCEDCHILNAEAFKSKKICKSLKICGLVFGILALTLIVL...</td>\n",
       "      <td>MRRSSRPGSASSSRKHTPNFFSENSSMSITSEDSKGLRSAEPGPGE...</td>\n",
       "      <td>0</td>\n",
       "      <td>-1</td>\n",
       "      <td>-1</td>\n",
       "      <td>-1</td>\n",
       "      <td>-1</td>\n",
       "      <td>-1</td>\n",
       "      <td>...</td>\n",
       "      <td>1</td>\n",
       "      <td>-1</td>\n",
       "      <td>-1</td>\n",
       "      <td>-1</td>\n",
       "      <td>-1</td>\n",
       "      <td>-1</td>\n",
       "      <td>-1</td>\n",
       "      <td>1</td>\n",
       "      <td>1</td>\n",
       "      <td>1</td>\n",
       "    </tr>\n",
       "    <tr>\n",
       "      <th>1</th>\n",
       "      <td>PRO_1968</td>\n",
       "      <td>PRO_3259</td>\n",
       "      <td>MAKNPPENCEDCHILNAEAFKSKKICKSLKICGLVFGILALTLIVL...</td>\n",
       "      <td>MASSSTVPLGFHYETKYVVLSYLGLLSQEKLQEQHLSSPQGVQLDI...</td>\n",
       "      <td>0</td>\n",
       "      <td>-1</td>\n",
       "      <td>1</td>\n",
       "      <td>1</td>\n",
       "      <td>1</td>\n",
       "      <td>1</td>\n",
       "      <td>...</td>\n",
       "      <td>1</td>\n",
       "      <td>-1</td>\n",
       "      <td>-1</td>\n",
       "      <td>1</td>\n",
       "      <td>1</td>\n",
       "      <td>1</td>\n",
       "      <td>1</td>\n",
       "      <td>1</td>\n",
       "      <td>1</td>\n",
       "      <td>1</td>\n",
       "    </tr>\n",
       "    <tr>\n",
       "      <th>2</th>\n",
       "      <td>PRO_1968</td>\n",
       "      <td>PRO_20825</td>\n",
       "      <td>MAKNPPENCEDCHILNAEAFKSKKICKSLKICGLVFGILALTLIVL...</td>\n",
       "      <td>MSSHLVEPPPPLHNNNNNCEENEQSLPPPAGLNSSWVELPMNSSNG...</td>\n",
       "      <td>-1</td>\n",
       "      <td>1</td>\n",
       "      <td>1</td>\n",
       "      <td>1</td>\n",
       "      <td>1</td>\n",
       "      <td>1</td>\n",
       "      <td>...</td>\n",
       "      <td>-1</td>\n",
       "      <td>-1</td>\n",
       "      <td>-1</td>\n",
       "      <td>-1</td>\n",
       "      <td>-1</td>\n",
       "      <td>1</td>\n",
       "      <td>1</td>\n",
       "      <td>1</td>\n",
       "      <td>1</td>\n",
       "      <td>1</td>\n",
       "    </tr>\n",
       "    <tr>\n",
       "      <th>3</th>\n",
       "      <td>PRO_1968</td>\n",
       "      <td>PRO_11236</td>\n",
       "      <td>MAKNPPENCEDCHILNAEAFKSKKICKSLKICGLVFGILALTLIVL...</td>\n",
       "      <td>MPLLLLLPLLWAGALAMDPNFWLQVQESVTVQEGLCVLVPCTFFHP...</td>\n",
       "      <td>-1</td>\n",
       "      <td>1</td>\n",
       "      <td>1</td>\n",
       "      <td>1</td>\n",
       "      <td>1</td>\n",
       "      <td>1</td>\n",
       "      <td>...</td>\n",
       "      <td>1</td>\n",
       "      <td>-1</td>\n",
       "      <td>-1</td>\n",
       "      <td>-1</td>\n",
       "      <td>1</td>\n",
       "      <td>1</td>\n",
       "      <td>1</td>\n",
       "      <td>1</td>\n",
       "      <td>1</td>\n",
       "      <td>1</td>\n",
       "    </tr>\n",
       "    <tr>\n",
       "      <th>4</th>\n",
       "      <td>PRO_1968</td>\n",
       "      <td>PRO_2577</td>\n",
       "      <td>MAKNPPENCEDCHILNAEAFKSKKICKSLKICGLVFGILALTLIVL...</td>\n",
       "      <td>MKAQTALSFFLILITSLSGSQGIFPLAFFIYVPMNEQIVIGRLDED...</td>\n",
       "      <td>0</td>\n",
       "      <td>-1</td>\n",
       "      <td>-1</td>\n",
       "      <td>-1</td>\n",
       "      <td>-1</td>\n",
       "      <td>1</td>\n",
       "      <td>...</td>\n",
       "      <td>1</td>\n",
       "      <td>-1</td>\n",
       "      <td>-1</td>\n",
       "      <td>1</td>\n",
       "      <td>1</td>\n",
       "      <td>1</td>\n",
       "      <td>1</td>\n",
       "      <td>1</td>\n",
       "      <td>1</td>\n",
       "      <td>1</td>\n",
       "    </tr>\n",
       "    <tr>\n",
       "      <th>...</th>\n",
       "      <td>...</td>\n",
       "      <td>...</td>\n",
       "      <td>...</td>\n",
       "      <td>...</td>\n",
       "      <td>...</td>\n",
       "      <td>...</td>\n",
       "      <td>...</td>\n",
       "      <td>...</td>\n",
       "      <td>...</td>\n",
       "      <td>...</td>\n",
       "      <td>...</td>\n",
       "      <td>...</td>\n",
       "      <td>...</td>\n",
       "      <td>...</td>\n",
       "      <td>...</td>\n",
       "      <td>...</td>\n",
       "      <td>...</td>\n",
       "      <td>...</td>\n",
       "      <td>...</td>\n",
       "      <td>...</td>\n",
       "      <td>...</td>\n",
       "    </tr>\n",
       "    <tr>\n",
       "      <th>397738</th>\n",
       "      <td>PRO_10712</td>\n",
       "      <td>PRO_4734</td>\n",
       "      <td>MADKRKLQGEIDRCLKKVSEGVEQFEDIWQKLHNAANANQKEKYEA...</td>\n",
       "      <td>MSAIQAAWPSGTECIAKYNFHGTAEQDLPFCKGDVLTIVAVTKDPN...</td>\n",
       "      <td>-1</td>\n",
       "      <td>-1</td>\n",
       "      <td>-1</td>\n",
       "      <td>-1</td>\n",
       "      <td>-1</td>\n",
       "      <td>-1</td>\n",
       "      <td>...</td>\n",
       "      <td>-1</td>\n",
       "      <td>0</td>\n",
       "      <td>0</td>\n",
       "      <td>0</td>\n",
       "      <td>0</td>\n",
       "      <td>0</td>\n",
       "      <td>0</td>\n",
       "      <td>0</td>\n",
       "      <td>-1</td>\n",
       "      <td>-1</td>\n",
       "    </tr>\n",
       "    <tr>\n",
       "      <th>397739</th>\n",
       "      <td>PRO_12924</td>\n",
       "      <td>PRO_18242</td>\n",
       "      <td>MRPGTGAERGGLMVSEMESHPPSQGPGDGERRLSGSSLCSGSWVSA...</td>\n",
       "      <td>MSEEKPKEGVKTENDHINLKVAGQDGSVVQFKIKRHTPLSKLMKAY...</td>\n",
       "      <td>1</td>\n",
       "      <td>1</td>\n",
       "      <td>1</td>\n",
       "      <td>1</td>\n",
       "      <td>1</td>\n",
       "      <td>1</td>\n",
       "      <td>...</td>\n",
       "      <td>1</td>\n",
       "      <td>0</td>\n",
       "      <td>0</td>\n",
       "      <td>0</td>\n",
       "      <td>0</td>\n",
       "      <td>-1</td>\n",
       "      <td>-1</td>\n",
       "      <td>-1</td>\n",
       "      <td>1</td>\n",
       "      <td>1</td>\n",
       "    </tr>\n",
       "    <tr>\n",
       "      <th>397740</th>\n",
       "      <td>PRO_4881</td>\n",
       "      <td>PRO_17066</td>\n",
       "      <td>MSELEQLRQEAEQLRNQIRDARKACGDSTLTQITAGLDPVGRIQMR...</td>\n",
       "      <td>MASSSVPPATVSAATAGPGPGFGFASKTKKKHFVQQKVKVFRAADP...</td>\n",
       "      <td>1</td>\n",
       "      <td>1</td>\n",
       "      <td>1</td>\n",
       "      <td>1</td>\n",
       "      <td>1</td>\n",
       "      <td>1</td>\n",
       "      <td>...</td>\n",
       "      <td>1</td>\n",
       "      <td>-1</td>\n",
       "      <td>-1</td>\n",
       "      <td>-1</td>\n",
       "      <td>-1</td>\n",
       "      <td>-1</td>\n",
       "      <td>-1</td>\n",
       "      <td>1</td>\n",
       "      <td>1</td>\n",
       "      <td>1</td>\n",
       "    </tr>\n",
       "    <tr>\n",
       "      <th>397741</th>\n",
       "      <td>PRO_15097</td>\n",
       "      <td>PRO_23695</td>\n",
       "      <td>MSSMNPEYDYLFKLLLIGDSGVGKSCLLLRFADDTYTESYISTIGV...</td>\n",
       "      <td>MGKRLDLSTLTDEEAEHVWAVVQRDFDLRRREEERLQGLKGKIQKE...</td>\n",
       "      <td>-1</td>\n",
       "      <td>-1</td>\n",
       "      <td>1</td>\n",
       "      <td>1</td>\n",
       "      <td>1</td>\n",
       "      <td>1</td>\n",
       "      <td>...</td>\n",
       "      <td>1</td>\n",
       "      <td>0</td>\n",
       "      <td>0</td>\n",
       "      <td>0</td>\n",
       "      <td>0</td>\n",
       "      <td>0</td>\n",
       "      <td>0</td>\n",
       "      <td>-1</td>\n",
       "      <td>-1</td>\n",
       "      <td>-1</td>\n",
       "    </tr>\n",
       "    <tr>\n",
       "      <th>397742</th>\n",
       "      <td>PRO_11821</td>\n",
       "      <td>PRO_14704</td>\n",
       "      <td>MIDTLRPVPFASEMAISKTVAWLNEQLELGNERLLLMDCRPQELYE...</td>\n",
       "      <td>MAQGLVTFADVAIDFSQEEWACLNSAQRDLYWDVMLENYSNLVSLD...</td>\n",
       "      <td>-1</td>\n",
       "      <td>1</td>\n",
       "      <td>1</td>\n",
       "      <td>1</td>\n",
       "      <td>1</td>\n",
       "      <td>1</td>\n",
       "      <td>...</td>\n",
       "      <td>1</td>\n",
       "      <td>-1</td>\n",
       "      <td>-1</td>\n",
       "      <td>-1</td>\n",
       "      <td>-1</td>\n",
       "      <td>-1</td>\n",
       "      <td>1</td>\n",
       "      <td>1</td>\n",
       "      <td>1</td>\n",
       "      <td>1</td>\n",
       "    </tr>\n",
       "  </tbody>\n",
       "</table>\n",
       "<p>397743 rows × 31 columns</p>\n",
       "</div>"
      ],
      "text/plain": [
       "        Protein_A  Protein_B  \\\n",
       "0        PRO_1968   PRO_2127   \n",
       "1        PRO_1968   PRO_3259   \n",
       "2        PRO_1968  PRO_20825   \n",
       "3        PRO_1968  PRO_11236   \n",
       "4        PRO_1968   PRO_2577   \n",
       "...           ...        ...   \n",
       "397738  PRO_10712   PRO_4734   \n",
       "397739  PRO_12924  PRO_18242   \n",
       "397740   PRO_4881  PRO_17066   \n",
       "397741  PRO_15097  PRO_23695   \n",
       "397742  PRO_11821  PRO_14704   \n",
       "\n",
       "                                       Protein_A_sequence  \\\n",
       "0       MAKNPPENCEDCHILNAEAFKSKKICKSLKICGLVFGILALTLIVL...   \n",
       "1       MAKNPPENCEDCHILNAEAFKSKKICKSLKICGLVFGILALTLIVL...   \n",
       "2       MAKNPPENCEDCHILNAEAFKSKKICKSLKICGLVFGILALTLIVL...   \n",
       "3       MAKNPPENCEDCHILNAEAFKSKKICKSLKICGLVFGILALTLIVL...   \n",
       "4       MAKNPPENCEDCHILNAEAFKSKKICKSLKICGLVFGILALTLIVL...   \n",
       "...                                                   ...   \n",
       "397738  MADKRKLQGEIDRCLKKVSEGVEQFEDIWQKLHNAANANQKEKYEA...   \n",
       "397739  MRPGTGAERGGLMVSEMESHPPSQGPGDGERRLSGSSLCSGSWVSA...   \n",
       "397740  MSELEQLRQEAEQLRNQIRDARKACGDSTLTQITAGLDPVGRIQMR...   \n",
       "397741  MSSMNPEYDYLFKLLLIGDSGVGKSCLLLRFADDTYTESYISTIGV...   \n",
       "397742  MIDTLRPVPFASEMAISKTVAWLNEQLELGNERLLLMDCRPQELYE...   \n",
       "\n",
       "                                       Protein_B_sequence  split_0_10  \\\n",
       "0       MRRSSRPGSASSSRKHTPNFFSENSSMSITSEDSKGLRSAEPGPGE...           0   \n",
       "1       MASSSTVPLGFHYETKYVVLSYLGLLSQEKLQEQHLSSPQGVQLDI...           0   \n",
       "2       MSSHLVEPPPPLHNNNNNCEENEQSLPPPAGLNSSWVELPMNSSNG...          -1   \n",
       "3       MPLLLLLPLLWAGALAMDPNFWLQVQESVTVQEGLCVLVPCTFFHP...          -1   \n",
       "4       MKAQTALSFFLILITSLSGSQGIFPLAFFIYVPMNEQIVIGRLDED...           0   \n",
       "...                                                   ...         ...   \n",
       "397738  MSAIQAAWPSGTECIAKYNFHGTAEQDLPFCKGDVLTIVAVTKDPN...          -1   \n",
       "397739  MSEEKPKEGVKTENDHINLKVAGQDGSVVQFKIKRHTPLSKLMKAY...           1   \n",
       "397740  MASSSVPPATVSAATAGPGPGFGFASKTKKKHFVQQKVKVFRAADP...           1   \n",
       "397741  MGKRLDLSTLTDEEAEHVWAVVQRDFDLRRREEERLQGLKGKIQKE...          -1   \n",
       "397742  MAQGLVTFADVAIDFSQEEWACLNSAQRDLYWDVMLENYSNLVSLD...          -1   \n",
       "\n",
       "        split_0_20  split_0_30  split_0_40  split_0_50  split_0_60  ...  \\\n",
       "0               -1          -1          -1          -1          -1  ...   \n",
       "1               -1           1           1           1           1  ...   \n",
       "2                1           1           1           1           1  ...   \n",
       "3                1           1           1           1           1  ...   \n",
       "4               -1          -1          -1          -1           1  ...   \n",
       "...            ...         ...         ...         ...         ...  ...   \n",
       "397738          -1          -1          -1          -1          -1  ...   \n",
       "397739           1           1           1           1           1  ...   \n",
       "397740           1           1           1           1           1  ...   \n",
       "397741          -1           1           1           1           1  ...   \n",
       "397742           1           1           1           1           1  ...   \n",
       "\n",
       "        split_1_90  split_2_10  split_2_20  split_2_30  split_2_40  \\\n",
       "0                1          -1          -1          -1          -1   \n",
       "1                1          -1          -1           1           1   \n",
       "2               -1          -1          -1          -1          -1   \n",
       "3                1          -1          -1          -1           1   \n",
       "4                1          -1          -1           1           1   \n",
       "...            ...         ...         ...         ...         ...   \n",
       "397738          -1           0           0           0           0   \n",
       "397739           1           0           0           0           0   \n",
       "397740           1          -1          -1          -1          -1   \n",
       "397741           1           0           0           0           0   \n",
       "397742           1          -1          -1          -1          -1   \n",
       "\n",
       "        split_2_50  split_2_60  split_2_70  split_2_80  split_2_90  \n",
       "0               -1          -1           1           1           1  \n",
       "1                1           1           1           1           1  \n",
       "2                1           1           1           1           1  \n",
       "3                1           1           1           1           1  \n",
       "4                1           1           1           1           1  \n",
       "...            ...         ...         ...         ...         ...  \n",
       "397738           0           0           0          -1          -1  \n",
       "397739          -1          -1          -1           1           1  \n",
       "397740          -1          -1           1           1           1  \n",
       "397741           0           0          -1          -1          -1  \n",
       "397742          -1           1           1           1           1  \n",
       "\n",
       "[397743 rows x 31 columns]"
      ]
     },
     "execution_count": 38,
     "metadata": {},
     "output_type": "execute_result"
    }
   ],
   "source": [
    "data"
   ]
  },
  {
   "cell_type": "code",
   "execution_count": 39,
   "id": "63261e5a",
   "metadata": {},
   "outputs": [],
   "source": [
    "train_data = data[data.split_0_50 == 1][['Protein_A','Protein_B','Protein_A_sequence','Protein_B_sequence']]\n",
    "test_data = data[data.split_0_50 == 0][['Protein_A','Protein_B','Protein_A_sequence','Protein_B_sequence']]\n",
    "deleted_data = data[data.split_0_50 == -1][['Protein_A','Protein_B','Protein_A_sequence','Protein_B_sequence']]\n"
   ]
  },
  {
   "cell_type": "code",
   "execution_count": 40,
   "id": "e14a84e8",
   "metadata": {},
   "outputs": [
    {
     "name": "stdout",
     "output_type": "stream",
     "text": [
      "count of proteins in total pairs  24016\n",
      "count of proteins in deleted pairs  18717\n",
      "count of proteins in train pairs  17290\n",
      "count of proteins in test pairs  4692\n"
     ]
    }
   ],
   "source": [
    "deleted_data_proteins = set(deleted_data.Protein_A).union(deleted_data.Protein_B)\n",
    "train_data_proteins = set(train_data.Protein_A).union(train_data.Protein_B)\n",
    "test_data_proteins = set(test_data.Protein_A).union(test_data.Protein_B)\n",
    "total_data_proteins = set(data.Protein_A).union(data.Protein_B)\n",
    "print(\"count of proteins in total pairs \",len(total_data_proteins))\n",
    "print(\"count of proteins in deleted pairs \",len(deleted_data_proteins))\n",
    "print(\"count of proteins in train pairs \",len(train_data_proteins))\n",
    "print(\"count of proteins in test pairs \",len(test_data_proteins))"
   ]
  },
  {
   "cell_type": "code",
   "execution_count": 41,
   "id": "40862ce8",
   "metadata": {},
   "outputs": [
    {
     "data": {
      "text/plain": [
       "12139"
      ]
     },
     "execution_count": 41,
     "metadata": {},
     "output_type": "execute_result"
    }
   ],
   "source": [
    "intersec_test_deleted_pro = deleted_data_proteins.intersection(train_data_proteins)\n",
    "len(intersec_test_deleted_pro)"
   ]
  },
  {
   "cell_type": "code",
   "execution_count": 55,
   "id": "63178cd2",
   "metadata": {},
   "outputs": [
    {
     "data": {
      "text/html": [
       "<div>\n",
       "<style scoped>\n",
       "    .dataframe tbody tr th:only-of-type {\n",
       "        vertical-align: middle;\n",
       "    }\n",
       "\n",
       "    .dataframe tbody tr th {\n",
       "        vertical-align: top;\n",
       "    }\n",
       "\n",
       "    .dataframe thead th {\n",
       "        text-align: right;\n",
       "    }\n",
       "</style>\n",
       "<table border=\"1\" class=\"dataframe\">\n",
       "  <thead>\n",
       "    <tr style=\"text-align: right;\">\n",
       "      <th></th>\n",
       "      <th>protein_A</th>\n",
       "      <th>protein_B</th>\n",
       "      <th>Protein_A_sequence</th>\n",
       "      <th>Protein_B_sequence</th>\n",
       "    </tr>\n",
       "  </thead>\n",
       "  <tbody>\n",
       "    <tr>\n",
       "      <th>0</th>\n",
       "      <td>PRO_20310</td>\n",
       "      <td>PRO_7397</td>\n",
       "      <td>MEKPLTVLRVSLYHPTLGPSAFANVPPRLQHDTSPLLLGRGQDAHL...</td>\n",
       "      <td>MSLLNCENSCGSSQSESDCCVAMASSCSAVTKDDSVGGTASTGNLS...</td>\n",
       "    </tr>\n",
       "    <tr>\n",
       "      <th>1</th>\n",
       "      <td>PRO_11741</td>\n",
       "      <td>PRO_6542</td>\n",
       "      <td>MSFIFEWIYNGFSSVLQFLGLYKKSGKLVFLGLDNAGKTTLLHMLK...</td>\n",
       "      <td>MNVTSLFSFTSPAVKRLLGWKQGDEEEKWAEKAVDALVKKLKKKKG...</td>\n",
       "    </tr>\n",
       "    <tr>\n",
       "      <th>2</th>\n",
       "      <td>PRO_6345</td>\n",
       "      <td>PRO_12266</td>\n",
       "      <td>MADLAECNIKVMCRFRPLNESEVNRGDKYIAKFQGEDTVVIASKPY...</td>\n",
       "      <td>MANVPWAEVCEKFQAALALSRVELHKNPEKEPYKSKYSARALLEEV...</td>\n",
       "    </tr>\n",
       "    <tr>\n",
       "      <th>3</th>\n",
       "      <td>PRO_7768</td>\n",
       "      <td>PRO_13606</td>\n",
       "      <td>MATSMGLLLLLLLLLTQPGAGTGADTEAVVCVGTACYTAHSGKLSA...</td>\n",
       "      <td>MEGPRGWLVLCVLAISLASMVTEDLCRAPDGKKGEAGRPGRRGRPG...</td>\n",
       "    </tr>\n",
       "    <tr>\n",
       "      <th>4</th>\n",
       "      <td>PRO_5048</td>\n",
       "      <td>PRO_9731</td>\n",
       "      <td>MSDEGPGTGPGNGLGEKGDTSGPEGSGGSGPQRRGGDNHGRGRGRG...</td>\n",
       "      <td>MSSILPFTPPVVKRLLGWKKSAGGSGGAGGGEQNGQEEKWCEKAVK...</td>\n",
       "    </tr>\n",
       "    <tr>\n",
       "      <th>...</th>\n",
       "      <td>...</td>\n",
       "      <td>...</td>\n",
       "      <td>...</td>\n",
       "      <td>...</td>\n",
       "    </tr>\n",
       "    <tr>\n",
       "      <th>1584</th>\n",
       "      <td>PRO_10712</td>\n",
       "      <td>PRO_4734</td>\n",
       "      <td>MADKRKLQGEIDRCLKKVSEGVEQFEDIWQKLHNAANANQKEKYEA...</td>\n",
       "      <td>MSAIQAAWPSGTECIAKYNFHGTAEQDLPFCKGDVLTIVAVTKDPN...</td>\n",
       "    </tr>\n",
       "    <tr>\n",
       "      <th>1585</th>\n",
       "      <td>PRO_12924</td>\n",
       "      <td>PRO_18242</td>\n",
       "      <td>MRPGTGAERGGLMVSEMESHPPSQGPGDGERRLSGSSLCSGSWVSA...</td>\n",
       "      <td>MSEEKPKEGVKTENDHINLKVAGQDGSVVQFKIKRHTPLSKLMKAY...</td>\n",
       "    </tr>\n",
       "    <tr>\n",
       "      <th>1586</th>\n",
       "      <td>PRO_4881</td>\n",
       "      <td>PRO_17066</td>\n",
       "      <td>MSELEQLRQEAEQLRNQIRDARKACGDSTLTQITAGLDPVGRIQMR...</td>\n",
       "      <td>MASSSVPPATVSAATAGPGPGFGFASKTKKKHFVQQKVKVFRAADP...</td>\n",
       "    </tr>\n",
       "    <tr>\n",
       "      <th>1587</th>\n",
       "      <td>PRO_15097</td>\n",
       "      <td>PRO_23695</td>\n",
       "      <td>MSSMNPEYDYLFKLLLIGDSGVGKSCLLLRFADDTYTESYISTIGV...</td>\n",
       "      <td>MGKRLDLSTLTDEEAEHVWAVVQRDFDLRRREEERLQGLKGKIQKE...</td>\n",
       "    </tr>\n",
       "    <tr>\n",
       "      <th>1588</th>\n",
       "      <td>PRO_11821</td>\n",
       "      <td>PRO_14704</td>\n",
       "      <td>MIDTLRPVPFASEMAISKTVAWLNEQLELGNERLLLMDCRPQELYE...</td>\n",
       "      <td>MAQGLVTFADVAIDFSQEEWACLNSAQRDLYWDVMLENYSNLVSLD...</td>\n",
       "    </tr>\n",
       "  </tbody>\n",
       "</table>\n",
       "<p>1589 rows × 4 columns</p>\n",
       "</div>"
      ],
      "text/plain": [
       "      protein_A  protein_B                                 Protein_A_sequence  \\\n",
       "0     PRO_20310   PRO_7397  MEKPLTVLRVSLYHPTLGPSAFANVPPRLQHDTSPLLLGRGQDAHL...   \n",
       "1     PRO_11741   PRO_6542  MSFIFEWIYNGFSSVLQFLGLYKKSGKLVFLGLDNAGKTTLLHMLK...   \n",
       "2      PRO_6345  PRO_12266  MADLAECNIKVMCRFRPLNESEVNRGDKYIAKFQGEDTVVIASKPY...   \n",
       "3      PRO_7768  PRO_13606  MATSMGLLLLLLLLLTQPGAGTGADTEAVVCVGTACYTAHSGKLSA...   \n",
       "4      PRO_5048   PRO_9731  MSDEGPGTGPGNGLGEKGDTSGPEGSGGSGPQRRGGDNHGRGRGRG...   \n",
       "...         ...        ...                                                ...   \n",
       "1584  PRO_10712   PRO_4734  MADKRKLQGEIDRCLKKVSEGVEQFEDIWQKLHNAANANQKEKYEA...   \n",
       "1585  PRO_12924  PRO_18242  MRPGTGAERGGLMVSEMESHPPSQGPGDGERRLSGSSLCSGSWVSA...   \n",
       "1586   PRO_4881  PRO_17066  MSELEQLRQEAEQLRNQIRDARKACGDSTLTQITAGLDPVGRIQMR...   \n",
       "1587  PRO_15097  PRO_23695  MSSMNPEYDYLFKLLLIGDSGVGKSCLLLRFADDTYTESYISTIGV...   \n",
       "1588  PRO_11821  PRO_14704  MIDTLRPVPFASEMAISKTVAWLNEQLELGNERLLLMDCRPQELYE...   \n",
       "\n",
       "                                     Protein_B_sequence  \n",
       "0     MSLLNCENSCGSSQSESDCCVAMASSCSAVTKDDSVGGTASTGNLS...  \n",
       "1     MNVTSLFSFTSPAVKRLLGWKQGDEEEKWAEKAVDALVKKLKKKKG...  \n",
       "2     MANVPWAEVCEKFQAALALSRVELHKNPEKEPYKSKYSARALLEEV...  \n",
       "3     MEGPRGWLVLCVLAISLASMVTEDLCRAPDGKKGEAGRPGRRGRPG...  \n",
       "4     MSSILPFTPPVVKRLLGWKKSAGGSGGAGGGEQNGQEEKWCEKAVK...  \n",
       "...                                                 ...  \n",
       "1584  MSAIQAAWPSGTECIAKYNFHGTAEQDLPFCKGDVLTIVAVTKDPN...  \n",
       "1585  MSEEKPKEGVKTENDHINLKVAGQDGSVVQFKIKRHTPLSKLMKAY...  \n",
       "1586  MASSSVPPATVSAATAGPGPGFGFASKTKKKHFVQQKVKVFRAADP...  \n",
       "1587  MGKRLDLSTLTDEEAEHVWAVVQRDFDLRRREEERLQGLKGKIQKE...  \n",
       "1588  MAQGLVTFADVAIDFSQEEWACLNSAQRDLYWDVMLENYSNLVSLD...  \n",
       "\n",
       "[1589 rows x 4 columns]"
      ]
     },
     "execution_count": 55,
     "metadata": {},
     "output_type": "execute_result"
    }
   ],
   "source": [
    "data_neg = pd.read_csv(\"../../csv_files_new_ppi/final_combined_negative_data_2.csv\")\n",
    "data_neg"
   ]
  },
  {
   "cell_type": "code",
   "execution_count": 56,
   "id": "dd6064a9",
   "metadata": {},
   "outputs": [
    {
     "data": {
      "text/html": [
       "<div>\n",
       "<style scoped>\n",
       "    .dataframe tbody tr th:only-of-type {\n",
       "        vertical-align: middle;\n",
       "    }\n",
       "\n",
       "    .dataframe tbody tr th {\n",
       "        vertical-align: top;\n",
       "    }\n",
       "\n",
       "    .dataframe thead th {\n",
       "        text-align: right;\n",
       "    }\n",
       "</style>\n",
       "<table border=\"1\" class=\"dataframe\">\n",
       "  <thead>\n",
       "    <tr style=\"text-align: right;\">\n",
       "      <th></th>\n",
       "      <th>Protein_A</th>\n",
       "      <th>Protein_B</th>\n",
       "      <th>Protein_A_sequence</th>\n",
       "      <th>Protein_B_sequence</th>\n",
       "      <th>split_0_10</th>\n",
       "      <th>split_0_20</th>\n",
       "      <th>split_0_30</th>\n",
       "      <th>split_0_40</th>\n",
       "      <th>split_0_50</th>\n",
       "      <th>split_0_60</th>\n",
       "      <th>...</th>\n",
       "      <th>split_1_90</th>\n",
       "      <th>split_2_10</th>\n",
       "      <th>split_2_20</th>\n",
       "      <th>split_2_30</th>\n",
       "      <th>split_2_40</th>\n",
       "      <th>split_2_50</th>\n",
       "      <th>split_2_60</th>\n",
       "      <th>split_2_70</th>\n",
       "      <th>split_2_80</th>\n",
       "      <th>split_2_90</th>\n",
       "    </tr>\n",
       "  </thead>\n",
       "  <tbody>\n",
       "    <tr>\n",
       "      <th>396154</th>\n",
       "      <td>PRO_20310</td>\n",
       "      <td>PRO_7397</td>\n",
       "      <td>MEKPLTVLRVSLYHPTLGPSAFANVPPRLQHDTSPLLLGRGQDAHL...</td>\n",
       "      <td>MSLLNCENSCGSSQSESDCCVAMASSCSAVTKDDSVGGTASTGNLS...</td>\n",
       "      <td>0</td>\n",
       "      <td>0</td>\n",
       "      <td>-1</td>\n",
       "      <td>-1</td>\n",
       "      <td>-1</td>\n",
       "      <td>-1</td>\n",
       "      <td>...</td>\n",
       "      <td>0</td>\n",
       "      <td>0</td>\n",
       "      <td>0</td>\n",
       "      <td>0</td>\n",
       "      <td>0</td>\n",
       "      <td>-1</td>\n",
       "      <td>-1</td>\n",
       "      <td>1</td>\n",
       "      <td>1</td>\n",
       "      <td>1</td>\n",
       "    </tr>\n",
       "    <tr>\n",
       "      <th>396155</th>\n",
       "      <td>PRO_11741</td>\n",
       "      <td>PRO_6542</td>\n",
       "      <td>MSFIFEWIYNGFSSVLQFLGLYKKSGKLVFLGLDNAGKTTLLHMLK...</td>\n",
       "      <td>MNVTSLFSFTSPAVKRLLGWKQGDEEEKWAEKAVDALVKKLKKKKG...</td>\n",
       "      <td>1</td>\n",
       "      <td>1</td>\n",
       "      <td>1</td>\n",
       "      <td>1</td>\n",
       "      <td>1</td>\n",
       "      <td>1</td>\n",
       "      <td>...</td>\n",
       "      <td>1</td>\n",
       "      <td>0</td>\n",
       "      <td>0</td>\n",
       "      <td>0</td>\n",
       "      <td>0</td>\n",
       "      <td>0</td>\n",
       "      <td>0</td>\n",
       "      <td>-1</td>\n",
       "      <td>1</td>\n",
       "      <td>1</td>\n",
       "    </tr>\n",
       "    <tr>\n",
       "      <th>396156</th>\n",
       "      <td>PRO_6345</td>\n",
       "      <td>PRO_12266</td>\n",
       "      <td>MADLAECNIKVMCRFRPLNESEVNRGDKYIAKFQGEDTVVIASKPY...</td>\n",
       "      <td>MANVPWAEVCEKFQAALALSRVELHKNPEKEPYKSKYSARALLEEV...</td>\n",
       "      <td>-1</td>\n",
       "      <td>-1</td>\n",
       "      <td>-1</td>\n",
       "      <td>-1</td>\n",
       "      <td>-1</td>\n",
       "      <td>-1</td>\n",
       "      <td>...</td>\n",
       "      <td>1</td>\n",
       "      <td>0</td>\n",
       "      <td>-1</td>\n",
       "      <td>-1</td>\n",
       "      <td>-1</td>\n",
       "      <td>-1</td>\n",
       "      <td>-1</td>\n",
       "      <td>-1</td>\n",
       "      <td>-1</td>\n",
       "      <td>1</td>\n",
       "    </tr>\n",
       "    <tr>\n",
       "      <th>396157</th>\n",
       "      <td>PRO_7768</td>\n",
       "      <td>PRO_13606</td>\n",
       "      <td>MATSMGLLLLLLLLLTQPGAGTGADTEAVVCVGTACYTAHSGKLSA...</td>\n",
       "      <td>MEGPRGWLVLCVLAISLASMVTEDLCRAPDGKKGEAGRPGRRGRPG...</td>\n",
       "      <td>-1</td>\n",
       "      <td>1</td>\n",
       "      <td>1</td>\n",
       "      <td>1</td>\n",
       "      <td>1</td>\n",
       "      <td>1</td>\n",
       "      <td>...</td>\n",
       "      <td>1</td>\n",
       "      <td>0</td>\n",
       "      <td>0</td>\n",
       "      <td>0</td>\n",
       "      <td>1</td>\n",
       "      <td>1</td>\n",
       "      <td>1</td>\n",
       "      <td>1</td>\n",
       "      <td>1</td>\n",
       "      <td>1</td>\n",
       "    </tr>\n",
       "    <tr>\n",
       "      <th>396158</th>\n",
       "      <td>PRO_5048</td>\n",
       "      <td>PRO_9731</td>\n",
       "      <td>MSDEGPGTGPGNGLGEKGDTSGPEGSGGSGPQRRGGDNHGRGRGRG...</td>\n",
       "      <td>MSSILPFTPPVVKRLLGWKKSAGGSGGAGGGEQNGQEEKWCEKAVK...</td>\n",
       "      <td>1</td>\n",
       "      <td>1</td>\n",
       "      <td>1</td>\n",
       "      <td>1</td>\n",
       "      <td>1</td>\n",
       "      <td>1</td>\n",
       "      <td>...</td>\n",
       "      <td>1</td>\n",
       "      <td>0</td>\n",
       "      <td>0</td>\n",
       "      <td>0</td>\n",
       "      <td>0</td>\n",
       "      <td>0</td>\n",
       "      <td>0</td>\n",
       "      <td>1</td>\n",
       "      <td>1</td>\n",
       "      <td>1</td>\n",
       "    </tr>\n",
       "    <tr>\n",
       "      <th>...</th>\n",
       "      <td>...</td>\n",
       "      <td>...</td>\n",
       "      <td>...</td>\n",
       "      <td>...</td>\n",
       "      <td>...</td>\n",
       "      <td>...</td>\n",
       "      <td>...</td>\n",
       "      <td>...</td>\n",
       "      <td>...</td>\n",
       "      <td>...</td>\n",
       "      <td>...</td>\n",
       "      <td>...</td>\n",
       "      <td>...</td>\n",
       "      <td>...</td>\n",
       "      <td>...</td>\n",
       "      <td>...</td>\n",
       "      <td>...</td>\n",
       "      <td>...</td>\n",
       "      <td>...</td>\n",
       "      <td>...</td>\n",
       "      <td>...</td>\n",
       "    </tr>\n",
       "    <tr>\n",
       "      <th>397738</th>\n",
       "      <td>PRO_10712</td>\n",
       "      <td>PRO_4734</td>\n",
       "      <td>MADKRKLQGEIDRCLKKVSEGVEQFEDIWQKLHNAANANQKEKYEA...</td>\n",
       "      <td>MSAIQAAWPSGTECIAKYNFHGTAEQDLPFCKGDVLTIVAVTKDPN...</td>\n",
       "      <td>-1</td>\n",
       "      <td>-1</td>\n",
       "      <td>-1</td>\n",
       "      <td>-1</td>\n",
       "      <td>-1</td>\n",
       "      <td>-1</td>\n",
       "      <td>...</td>\n",
       "      <td>-1</td>\n",
       "      <td>0</td>\n",
       "      <td>0</td>\n",
       "      <td>0</td>\n",
       "      <td>0</td>\n",
       "      <td>0</td>\n",
       "      <td>0</td>\n",
       "      <td>0</td>\n",
       "      <td>-1</td>\n",
       "      <td>-1</td>\n",
       "    </tr>\n",
       "    <tr>\n",
       "      <th>397739</th>\n",
       "      <td>PRO_12924</td>\n",
       "      <td>PRO_18242</td>\n",
       "      <td>MRPGTGAERGGLMVSEMESHPPSQGPGDGERRLSGSSLCSGSWVSA...</td>\n",
       "      <td>MSEEKPKEGVKTENDHINLKVAGQDGSVVQFKIKRHTPLSKLMKAY...</td>\n",
       "      <td>1</td>\n",
       "      <td>1</td>\n",
       "      <td>1</td>\n",
       "      <td>1</td>\n",
       "      <td>1</td>\n",
       "      <td>1</td>\n",
       "      <td>...</td>\n",
       "      <td>1</td>\n",
       "      <td>0</td>\n",
       "      <td>0</td>\n",
       "      <td>0</td>\n",
       "      <td>0</td>\n",
       "      <td>-1</td>\n",
       "      <td>-1</td>\n",
       "      <td>-1</td>\n",
       "      <td>1</td>\n",
       "      <td>1</td>\n",
       "    </tr>\n",
       "    <tr>\n",
       "      <th>397740</th>\n",
       "      <td>PRO_4881</td>\n",
       "      <td>PRO_17066</td>\n",
       "      <td>MSELEQLRQEAEQLRNQIRDARKACGDSTLTQITAGLDPVGRIQMR...</td>\n",
       "      <td>MASSSVPPATVSAATAGPGPGFGFASKTKKKHFVQQKVKVFRAADP...</td>\n",
       "      <td>1</td>\n",
       "      <td>1</td>\n",
       "      <td>1</td>\n",
       "      <td>1</td>\n",
       "      <td>1</td>\n",
       "      <td>1</td>\n",
       "      <td>...</td>\n",
       "      <td>1</td>\n",
       "      <td>-1</td>\n",
       "      <td>-1</td>\n",
       "      <td>-1</td>\n",
       "      <td>-1</td>\n",
       "      <td>-1</td>\n",
       "      <td>-1</td>\n",
       "      <td>1</td>\n",
       "      <td>1</td>\n",
       "      <td>1</td>\n",
       "    </tr>\n",
       "    <tr>\n",
       "      <th>397741</th>\n",
       "      <td>PRO_15097</td>\n",
       "      <td>PRO_23695</td>\n",
       "      <td>MSSMNPEYDYLFKLLLIGDSGVGKSCLLLRFADDTYTESYISTIGV...</td>\n",
       "      <td>MGKRLDLSTLTDEEAEHVWAVVQRDFDLRRREEERLQGLKGKIQKE...</td>\n",
       "      <td>-1</td>\n",
       "      <td>-1</td>\n",
       "      <td>1</td>\n",
       "      <td>1</td>\n",
       "      <td>1</td>\n",
       "      <td>1</td>\n",
       "      <td>...</td>\n",
       "      <td>1</td>\n",
       "      <td>0</td>\n",
       "      <td>0</td>\n",
       "      <td>0</td>\n",
       "      <td>0</td>\n",
       "      <td>0</td>\n",
       "      <td>0</td>\n",
       "      <td>-1</td>\n",
       "      <td>-1</td>\n",
       "      <td>-1</td>\n",
       "    </tr>\n",
       "    <tr>\n",
       "      <th>397742</th>\n",
       "      <td>PRO_11821</td>\n",
       "      <td>PRO_14704</td>\n",
       "      <td>MIDTLRPVPFASEMAISKTVAWLNEQLELGNERLLLMDCRPQELYE...</td>\n",
       "      <td>MAQGLVTFADVAIDFSQEEWACLNSAQRDLYWDVMLENYSNLVSLD...</td>\n",
       "      <td>-1</td>\n",
       "      <td>1</td>\n",
       "      <td>1</td>\n",
       "      <td>1</td>\n",
       "      <td>1</td>\n",
       "      <td>1</td>\n",
       "      <td>...</td>\n",
       "      <td>1</td>\n",
       "      <td>-1</td>\n",
       "      <td>-1</td>\n",
       "      <td>-1</td>\n",
       "      <td>-1</td>\n",
       "      <td>-1</td>\n",
       "      <td>1</td>\n",
       "      <td>1</td>\n",
       "      <td>1</td>\n",
       "      <td>1</td>\n",
       "    </tr>\n",
       "  </tbody>\n",
       "</table>\n",
       "<p>1589 rows × 31 columns</p>\n",
       "</div>"
      ],
      "text/plain": [
       "        Protein_A  Protein_B  \\\n",
       "396154  PRO_20310   PRO_7397   \n",
       "396155  PRO_11741   PRO_6542   \n",
       "396156   PRO_6345  PRO_12266   \n",
       "396157   PRO_7768  PRO_13606   \n",
       "396158   PRO_5048   PRO_9731   \n",
       "...           ...        ...   \n",
       "397738  PRO_10712   PRO_4734   \n",
       "397739  PRO_12924  PRO_18242   \n",
       "397740   PRO_4881  PRO_17066   \n",
       "397741  PRO_15097  PRO_23695   \n",
       "397742  PRO_11821  PRO_14704   \n",
       "\n",
       "                                       Protein_A_sequence  \\\n",
       "396154  MEKPLTVLRVSLYHPTLGPSAFANVPPRLQHDTSPLLLGRGQDAHL...   \n",
       "396155  MSFIFEWIYNGFSSVLQFLGLYKKSGKLVFLGLDNAGKTTLLHMLK...   \n",
       "396156  MADLAECNIKVMCRFRPLNESEVNRGDKYIAKFQGEDTVVIASKPY...   \n",
       "396157  MATSMGLLLLLLLLLTQPGAGTGADTEAVVCVGTACYTAHSGKLSA...   \n",
       "396158  MSDEGPGTGPGNGLGEKGDTSGPEGSGGSGPQRRGGDNHGRGRGRG...   \n",
       "...                                                   ...   \n",
       "397738  MADKRKLQGEIDRCLKKVSEGVEQFEDIWQKLHNAANANQKEKYEA...   \n",
       "397739  MRPGTGAERGGLMVSEMESHPPSQGPGDGERRLSGSSLCSGSWVSA...   \n",
       "397740  MSELEQLRQEAEQLRNQIRDARKACGDSTLTQITAGLDPVGRIQMR...   \n",
       "397741  MSSMNPEYDYLFKLLLIGDSGVGKSCLLLRFADDTYTESYISTIGV...   \n",
       "397742  MIDTLRPVPFASEMAISKTVAWLNEQLELGNERLLLMDCRPQELYE...   \n",
       "\n",
       "                                       Protein_B_sequence  split_0_10  \\\n",
       "396154  MSLLNCENSCGSSQSESDCCVAMASSCSAVTKDDSVGGTASTGNLS...           0   \n",
       "396155  MNVTSLFSFTSPAVKRLLGWKQGDEEEKWAEKAVDALVKKLKKKKG...           1   \n",
       "396156  MANVPWAEVCEKFQAALALSRVELHKNPEKEPYKSKYSARALLEEV...          -1   \n",
       "396157  MEGPRGWLVLCVLAISLASMVTEDLCRAPDGKKGEAGRPGRRGRPG...          -1   \n",
       "396158  MSSILPFTPPVVKRLLGWKKSAGGSGGAGGGEQNGQEEKWCEKAVK...           1   \n",
       "...                                                   ...         ...   \n",
       "397738  MSAIQAAWPSGTECIAKYNFHGTAEQDLPFCKGDVLTIVAVTKDPN...          -1   \n",
       "397739  MSEEKPKEGVKTENDHINLKVAGQDGSVVQFKIKRHTPLSKLMKAY...           1   \n",
       "397740  MASSSVPPATVSAATAGPGPGFGFASKTKKKHFVQQKVKVFRAADP...           1   \n",
       "397741  MGKRLDLSTLTDEEAEHVWAVVQRDFDLRRREEERLQGLKGKIQKE...          -1   \n",
       "397742  MAQGLVTFADVAIDFSQEEWACLNSAQRDLYWDVMLENYSNLVSLD...          -1   \n",
       "\n",
       "        split_0_20  split_0_30  split_0_40  split_0_50  split_0_60  ...  \\\n",
       "396154           0          -1          -1          -1          -1  ...   \n",
       "396155           1           1           1           1           1  ...   \n",
       "396156          -1          -1          -1          -1          -1  ...   \n",
       "396157           1           1           1           1           1  ...   \n",
       "396158           1           1           1           1           1  ...   \n",
       "...            ...         ...         ...         ...         ...  ...   \n",
       "397738          -1          -1          -1          -1          -1  ...   \n",
       "397739           1           1           1           1           1  ...   \n",
       "397740           1           1           1           1           1  ...   \n",
       "397741          -1           1           1           1           1  ...   \n",
       "397742           1           1           1           1           1  ...   \n",
       "\n",
       "        split_1_90  split_2_10  split_2_20  split_2_30  split_2_40  \\\n",
       "396154           0           0           0           0           0   \n",
       "396155           1           0           0           0           0   \n",
       "396156           1           0          -1          -1          -1   \n",
       "396157           1           0           0           0           1   \n",
       "396158           1           0           0           0           0   \n",
       "...            ...         ...         ...         ...         ...   \n",
       "397738          -1           0           0           0           0   \n",
       "397739           1           0           0           0           0   \n",
       "397740           1          -1          -1          -1          -1   \n",
       "397741           1           0           0           0           0   \n",
       "397742           1          -1          -1          -1          -1   \n",
       "\n",
       "        split_2_50  split_2_60  split_2_70  split_2_80  split_2_90  \n",
       "396154          -1          -1           1           1           1  \n",
       "396155           0           0          -1           1           1  \n",
       "396156          -1          -1          -1          -1           1  \n",
       "396157           1           1           1           1           1  \n",
       "396158           0           0           1           1           1  \n",
       "...            ...         ...         ...         ...         ...  \n",
       "397738           0           0           0          -1          -1  \n",
       "397739          -1          -1          -1           1           1  \n",
       "397740          -1          -1           1           1           1  \n",
       "397741           0           0          -1          -1          -1  \n",
       "397742          -1           1           1           1           1  \n",
       "\n",
       "[1589 rows x 31 columns]"
      ]
     },
     "execution_count": 56,
     "metadata": {},
     "output_type": "execute_result"
    }
   ],
   "source": [
    "negative_data = data.iloc[396154:]\n",
    "negative_data"
   ]
  },
  {
   "cell_type": "code",
   "execution_count": 57,
   "id": "50d845af",
   "metadata": {},
   "outputs": [
    {
     "data": {
      "text/html": [
       "<div>\n",
       "<style scoped>\n",
       "    .dataframe tbody tr th:only-of-type {\n",
       "        vertical-align: middle;\n",
       "    }\n",
       "\n",
       "    .dataframe tbody tr th {\n",
       "        vertical-align: top;\n",
       "    }\n",
       "\n",
       "    .dataframe thead th {\n",
       "        text-align: right;\n",
       "    }\n",
       "</style>\n",
       "<table border=\"1\" class=\"dataframe\">\n",
       "  <thead>\n",
       "    <tr style=\"text-align: right;\">\n",
       "      <th></th>\n",
       "      <th>Protein_A</th>\n",
       "      <th>Protein_B</th>\n",
       "      <th>Protein_A_sequence</th>\n",
       "      <th>Protein_B_sequence</th>\n",
       "      <th>split_0_10</th>\n",
       "      <th>split_0_20</th>\n",
       "      <th>split_0_30</th>\n",
       "      <th>split_0_40</th>\n",
       "      <th>split_0_50</th>\n",
       "      <th>split_0_60</th>\n",
       "      <th>...</th>\n",
       "      <th>split_1_90</th>\n",
       "      <th>split_2_10</th>\n",
       "      <th>split_2_20</th>\n",
       "      <th>split_2_30</th>\n",
       "      <th>split_2_40</th>\n",
       "      <th>split_2_50</th>\n",
       "      <th>split_2_60</th>\n",
       "      <th>split_2_70</th>\n",
       "      <th>split_2_80</th>\n",
       "      <th>split_2_90</th>\n",
       "    </tr>\n",
       "  </thead>\n",
       "  <tbody>\n",
       "    <tr>\n",
       "      <th>0</th>\n",
       "      <td>PRO_1968</td>\n",
       "      <td>PRO_2127</td>\n",
       "      <td>MAKNPPENCEDCHILNAEAFKSKKICKSLKICGLVFGILALTLIVL...</td>\n",
       "      <td>MRRSSRPGSASSSRKHTPNFFSENSSMSITSEDSKGLRSAEPGPGE...</td>\n",
       "      <td>0</td>\n",
       "      <td>-1</td>\n",
       "      <td>-1</td>\n",
       "      <td>-1</td>\n",
       "      <td>-1</td>\n",
       "      <td>-1</td>\n",
       "      <td>...</td>\n",
       "      <td>1</td>\n",
       "      <td>-1</td>\n",
       "      <td>-1</td>\n",
       "      <td>-1</td>\n",
       "      <td>-1</td>\n",
       "      <td>-1</td>\n",
       "      <td>-1</td>\n",
       "      <td>1</td>\n",
       "      <td>1</td>\n",
       "      <td>1</td>\n",
       "    </tr>\n",
       "    <tr>\n",
       "      <th>1</th>\n",
       "      <td>PRO_1968</td>\n",
       "      <td>PRO_3259</td>\n",
       "      <td>MAKNPPENCEDCHILNAEAFKSKKICKSLKICGLVFGILALTLIVL...</td>\n",
       "      <td>MASSSTVPLGFHYETKYVVLSYLGLLSQEKLQEQHLSSPQGVQLDI...</td>\n",
       "      <td>0</td>\n",
       "      <td>-1</td>\n",
       "      <td>1</td>\n",
       "      <td>1</td>\n",
       "      <td>1</td>\n",
       "      <td>1</td>\n",
       "      <td>...</td>\n",
       "      <td>1</td>\n",
       "      <td>-1</td>\n",
       "      <td>-1</td>\n",
       "      <td>1</td>\n",
       "      <td>1</td>\n",
       "      <td>1</td>\n",
       "      <td>1</td>\n",
       "      <td>1</td>\n",
       "      <td>1</td>\n",
       "      <td>1</td>\n",
       "    </tr>\n",
       "    <tr>\n",
       "      <th>2</th>\n",
       "      <td>PRO_1968</td>\n",
       "      <td>PRO_20825</td>\n",
       "      <td>MAKNPPENCEDCHILNAEAFKSKKICKSLKICGLVFGILALTLIVL...</td>\n",
       "      <td>MSSHLVEPPPPLHNNNNNCEENEQSLPPPAGLNSSWVELPMNSSNG...</td>\n",
       "      <td>-1</td>\n",
       "      <td>1</td>\n",
       "      <td>1</td>\n",
       "      <td>1</td>\n",
       "      <td>1</td>\n",
       "      <td>1</td>\n",
       "      <td>...</td>\n",
       "      <td>-1</td>\n",
       "      <td>-1</td>\n",
       "      <td>-1</td>\n",
       "      <td>-1</td>\n",
       "      <td>-1</td>\n",
       "      <td>1</td>\n",
       "      <td>1</td>\n",
       "      <td>1</td>\n",
       "      <td>1</td>\n",
       "      <td>1</td>\n",
       "    </tr>\n",
       "    <tr>\n",
       "      <th>3</th>\n",
       "      <td>PRO_1968</td>\n",
       "      <td>PRO_11236</td>\n",
       "      <td>MAKNPPENCEDCHILNAEAFKSKKICKSLKICGLVFGILALTLIVL...</td>\n",
       "      <td>MPLLLLLPLLWAGALAMDPNFWLQVQESVTVQEGLCVLVPCTFFHP...</td>\n",
       "      <td>-1</td>\n",
       "      <td>1</td>\n",
       "      <td>1</td>\n",
       "      <td>1</td>\n",
       "      <td>1</td>\n",
       "      <td>1</td>\n",
       "      <td>...</td>\n",
       "      <td>1</td>\n",
       "      <td>-1</td>\n",
       "      <td>-1</td>\n",
       "      <td>-1</td>\n",
       "      <td>1</td>\n",
       "      <td>1</td>\n",
       "      <td>1</td>\n",
       "      <td>1</td>\n",
       "      <td>1</td>\n",
       "      <td>1</td>\n",
       "    </tr>\n",
       "    <tr>\n",
       "      <th>4</th>\n",
       "      <td>PRO_1968</td>\n",
       "      <td>PRO_2577</td>\n",
       "      <td>MAKNPPENCEDCHILNAEAFKSKKICKSLKICGLVFGILALTLIVL...</td>\n",
       "      <td>MKAQTALSFFLILITSLSGSQGIFPLAFFIYVPMNEQIVIGRLDED...</td>\n",
       "      <td>0</td>\n",
       "      <td>-1</td>\n",
       "      <td>-1</td>\n",
       "      <td>-1</td>\n",
       "      <td>-1</td>\n",
       "      <td>1</td>\n",
       "      <td>...</td>\n",
       "      <td>1</td>\n",
       "      <td>-1</td>\n",
       "      <td>-1</td>\n",
       "      <td>1</td>\n",
       "      <td>1</td>\n",
       "      <td>1</td>\n",
       "      <td>1</td>\n",
       "      <td>1</td>\n",
       "      <td>1</td>\n",
       "      <td>1</td>\n",
       "    </tr>\n",
       "    <tr>\n",
       "      <th>...</th>\n",
       "      <td>...</td>\n",
       "      <td>...</td>\n",
       "      <td>...</td>\n",
       "      <td>...</td>\n",
       "      <td>...</td>\n",
       "      <td>...</td>\n",
       "      <td>...</td>\n",
       "      <td>...</td>\n",
       "      <td>...</td>\n",
       "      <td>...</td>\n",
       "      <td>...</td>\n",
       "      <td>...</td>\n",
       "      <td>...</td>\n",
       "      <td>...</td>\n",
       "      <td>...</td>\n",
       "      <td>...</td>\n",
       "      <td>...</td>\n",
       "      <td>...</td>\n",
       "      <td>...</td>\n",
       "      <td>...</td>\n",
       "      <td>...</td>\n",
       "    </tr>\n",
       "    <tr>\n",
       "      <th>396149</th>\n",
       "      <td>PRO_11977</td>\n",
       "      <td>PRO_20355</td>\n",
       "      <td>SGSWLRDIWDWICEVLSDFKTWLKAKLMPQLPGIPFVSCQRGYKGV...</td>\n",
       "      <td>MGGRSSCEDPGCPRDEERAPRMGCMKSKFLQVGGNTFSKTETSASP...</td>\n",
       "      <td>1</td>\n",
       "      <td>1</td>\n",
       "      <td>1</td>\n",
       "      <td>1</td>\n",
       "      <td>1</td>\n",
       "      <td>1</td>\n",
       "      <td>...</td>\n",
       "      <td>-1</td>\n",
       "      <td>0</td>\n",
       "      <td>0</td>\n",
       "      <td>-1</td>\n",
       "      <td>-1</td>\n",
       "      <td>1</td>\n",
       "      <td>1</td>\n",
       "      <td>1</td>\n",
       "      <td>1</td>\n",
       "      <td>1</td>\n",
       "    </tr>\n",
       "    <tr>\n",
       "      <th>396150</th>\n",
       "      <td>PRO_11977</td>\n",
       "      <td>PRO_4583</td>\n",
       "      <td>SGSWLRDIWDWICEVLSDFKTWLKAKLMPQLPGIPFVSCQRGYKGV...</td>\n",
       "      <td>MGCVQCKDKEATKLTEERDGSLNQSSGYRYGTDPTPQHYPSFGVTS...</td>\n",
       "      <td>1</td>\n",
       "      <td>1</td>\n",
       "      <td>1</td>\n",
       "      <td>1</td>\n",
       "      <td>1</td>\n",
       "      <td>1</td>\n",
       "      <td>...</td>\n",
       "      <td>-1</td>\n",
       "      <td>0</td>\n",
       "      <td>-1</td>\n",
       "      <td>-1</td>\n",
       "      <td>-1</td>\n",
       "      <td>1</td>\n",
       "      <td>1</td>\n",
       "      <td>1</td>\n",
       "      <td>1</td>\n",
       "      <td>1</td>\n",
       "    </tr>\n",
       "    <tr>\n",
       "      <th>396151</th>\n",
       "      <td>PRO_19214</td>\n",
       "      <td>PRO_18202</td>\n",
       "      <td>MDLLVDELFADMNADGASPPPPRPAGGPKNTPAAPPLYATGRLSQA...</td>\n",
       "      <td>MQREEKQLEASLDALLSQVADLKNSLGSFICKLENEYGRLTWPSVL...</td>\n",
       "      <td>0</td>\n",
       "      <td>-1</td>\n",
       "      <td>1</td>\n",
       "      <td>1</td>\n",
       "      <td>1</td>\n",
       "      <td>1</td>\n",
       "      <td>...</td>\n",
       "      <td>1</td>\n",
       "      <td>0</td>\n",
       "      <td>0</td>\n",
       "      <td>0</td>\n",
       "      <td>-1</td>\n",
       "      <td>-1</td>\n",
       "      <td>-1</td>\n",
       "      <td>1</td>\n",
       "      <td>1</td>\n",
       "      <td>1</td>\n",
       "    </tr>\n",
       "    <tr>\n",
       "      <th>396152</th>\n",
       "      <td>PRO_2146</td>\n",
       "      <td>PRO_4583</td>\n",
       "      <td>MGSGSWLKDVWDWICTVLADLKTWLQSKLLPRLPGVPFLSCQRGYK...</td>\n",
       "      <td>MGCVQCKDKEATKLTEERDGSLNQSSGYRYGTDPTPQHYPSFGVTS...</td>\n",
       "      <td>1</td>\n",
       "      <td>1</td>\n",
       "      <td>1</td>\n",
       "      <td>1</td>\n",
       "      <td>1</td>\n",
       "      <td>1</td>\n",
       "      <td>...</td>\n",
       "      <td>-1</td>\n",
       "      <td>0</td>\n",
       "      <td>-1</td>\n",
       "      <td>-1</td>\n",
       "      <td>-1</td>\n",
       "      <td>1</td>\n",
       "      <td>1</td>\n",
       "      <td>1</td>\n",
       "      <td>1</td>\n",
       "      <td>1</td>\n",
       "    </tr>\n",
       "    <tr>\n",
       "      <th>396153</th>\n",
       "      <td>PRO_19214</td>\n",
       "      <td>PRO_91</td>\n",
       "      <td>MDLLVDELFADMNADGASPPPPRPAGGPKNTPAAPPLYATGRLSQA...</td>\n",
       "      <td>MSGVRAVRISIESACEKQVHEVGLDGTETYLPPLSMSQNLARLAQR...</td>\n",
       "      <td>0</td>\n",
       "      <td>-1</td>\n",
       "      <td>1</td>\n",
       "      <td>1</td>\n",
       "      <td>1</td>\n",
       "      <td>1</td>\n",
       "      <td>...</td>\n",
       "      <td>1</td>\n",
       "      <td>0</td>\n",
       "      <td>-1</td>\n",
       "      <td>-1</td>\n",
       "      <td>1</td>\n",
       "      <td>1</td>\n",
       "      <td>1</td>\n",
       "      <td>1</td>\n",
       "      <td>1</td>\n",
       "      <td>1</td>\n",
       "    </tr>\n",
       "  </tbody>\n",
       "</table>\n",
       "<p>396154 rows × 31 columns</p>\n",
       "</div>"
      ],
      "text/plain": [
       "        Protein_A  Protein_B  \\\n",
       "0        PRO_1968   PRO_2127   \n",
       "1        PRO_1968   PRO_3259   \n",
       "2        PRO_1968  PRO_20825   \n",
       "3        PRO_1968  PRO_11236   \n",
       "4        PRO_1968   PRO_2577   \n",
       "...           ...        ...   \n",
       "396149  PRO_11977  PRO_20355   \n",
       "396150  PRO_11977   PRO_4583   \n",
       "396151  PRO_19214  PRO_18202   \n",
       "396152   PRO_2146   PRO_4583   \n",
       "396153  PRO_19214     PRO_91   \n",
       "\n",
       "                                       Protein_A_sequence  \\\n",
       "0       MAKNPPENCEDCHILNAEAFKSKKICKSLKICGLVFGILALTLIVL...   \n",
       "1       MAKNPPENCEDCHILNAEAFKSKKICKSLKICGLVFGILALTLIVL...   \n",
       "2       MAKNPPENCEDCHILNAEAFKSKKICKSLKICGLVFGILALTLIVL...   \n",
       "3       MAKNPPENCEDCHILNAEAFKSKKICKSLKICGLVFGILALTLIVL...   \n",
       "4       MAKNPPENCEDCHILNAEAFKSKKICKSLKICGLVFGILALTLIVL...   \n",
       "...                                                   ...   \n",
       "396149  SGSWLRDIWDWICEVLSDFKTWLKAKLMPQLPGIPFVSCQRGYKGV...   \n",
       "396150  SGSWLRDIWDWICEVLSDFKTWLKAKLMPQLPGIPFVSCQRGYKGV...   \n",
       "396151  MDLLVDELFADMNADGASPPPPRPAGGPKNTPAAPPLYATGRLSQA...   \n",
       "396152  MGSGSWLKDVWDWICTVLADLKTWLQSKLLPRLPGVPFLSCQRGYK...   \n",
       "396153  MDLLVDELFADMNADGASPPPPRPAGGPKNTPAAPPLYATGRLSQA...   \n",
       "\n",
       "                                       Protein_B_sequence  split_0_10  \\\n",
       "0       MRRSSRPGSASSSRKHTPNFFSENSSMSITSEDSKGLRSAEPGPGE...           0   \n",
       "1       MASSSTVPLGFHYETKYVVLSYLGLLSQEKLQEQHLSSPQGVQLDI...           0   \n",
       "2       MSSHLVEPPPPLHNNNNNCEENEQSLPPPAGLNSSWVELPMNSSNG...          -1   \n",
       "3       MPLLLLLPLLWAGALAMDPNFWLQVQESVTVQEGLCVLVPCTFFHP...          -1   \n",
       "4       MKAQTALSFFLILITSLSGSQGIFPLAFFIYVPMNEQIVIGRLDED...           0   \n",
       "...                                                   ...         ...   \n",
       "396149  MGGRSSCEDPGCPRDEERAPRMGCMKSKFLQVGGNTFSKTETSASP...           1   \n",
       "396150  MGCVQCKDKEATKLTEERDGSLNQSSGYRYGTDPTPQHYPSFGVTS...           1   \n",
       "396151  MQREEKQLEASLDALLSQVADLKNSLGSFICKLENEYGRLTWPSVL...           0   \n",
       "396152  MGCVQCKDKEATKLTEERDGSLNQSSGYRYGTDPTPQHYPSFGVTS...           1   \n",
       "396153  MSGVRAVRISIESACEKQVHEVGLDGTETYLPPLSMSQNLARLAQR...           0   \n",
       "\n",
       "        split_0_20  split_0_30  split_0_40  split_0_50  split_0_60  ...  \\\n",
       "0               -1          -1          -1          -1          -1  ...   \n",
       "1               -1           1           1           1           1  ...   \n",
       "2                1           1           1           1           1  ...   \n",
       "3                1           1           1           1           1  ...   \n",
       "4               -1          -1          -1          -1           1  ...   \n",
       "...            ...         ...         ...         ...         ...  ...   \n",
       "396149           1           1           1           1           1  ...   \n",
       "396150           1           1           1           1           1  ...   \n",
       "396151          -1           1           1           1           1  ...   \n",
       "396152           1           1           1           1           1  ...   \n",
       "396153          -1           1           1           1           1  ...   \n",
       "\n",
       "        split_1_90  split_2_10  split_2_20  split_2_30  split_2_40  \\\n",
       "0                1          -1          -1          -1          -1   \n",
       "1                1          -1          -1           1           1   \n",
       "2               -1          -1          -1          -1          -1   \n",
       "3                1          -1          -1          -1           1   \n",
       "4                1          -1          -1           1           1   \n",
       "...            ...         ...         ...         ...         ...   \n",
       "396149          -1           0           0          -1          -1   \n",
       "396150          -1           0          -1          -1          -1   \n",
       "396151           1           0           0           0          -1   \n",
       "396152          -1           0          -1          -1          -1   \n",
       "396153           1           0          -1          -1           1   \n",
       "\n",
       "        split_2_50  split_2_60  split_2_70  split_2_80  split_2_90  \n",
       "0               -1          -1           1           1           1  \n",
       "1                1           1           1           1           1  \n",
       "2                1           1           1           1           1  \n",
       "3                1           1           1           1           1  \n",
       "4                1           1           1           1           1  \n",
       "...            ...         ...         ...         ...         ...  \n",
       "396149           1           1           1           1           1  \n",
       "396150           1           1           1           1           1  \n",
       "396151          -1          -1           1           1           1  \n",
       "396152           1           1           1           1           1  \n",
       "396153           1           1           1           1           1  \n",
       "\n",
       "[396154 rows x 31 columns]"
      ]
     },
     "execution_count": 57,
     "metadata": {},
     "output_type": "execute_result"
    }
   ],
   "source": [
    "positive_data = data.iloc[:396154]\n",
    "positive_data"
   ]
  },
  {
   "cell_type": "code",
   "execution_count": 61,
   "id": "6b06fa9f",
   "metadata": {},
   "outputs": [],
   "source": [
    "train_pos_data = positive_data[positive_data.split_0_50 == 1][['Protein_A','Protein_B','Protein_A_sequence','Protein_B_sequence']]\n",
    "train_neg_data = negative_data[negative_data.split_0_50 == 1][['Protein_A','Protein_B','Protein_A_sequence','Protein_B_sequence']]\n",
    "test_pos_data = positive_data[positive_data.split_0_50 == 0][['Protein_A','Protein_B','Protein_A_sequence','Protein_B_sequence']]\n",
    "test_neg_data =negative_data[negative_data.split_0_50 == 0][['Protein_A','Protein_B','Protein_A_sequence','Protein_B_sequence']]"
   ]
  },
  {
   "cell_type": "code",
   "execution_count": 112,
   "id": "4e87545c",
   "metadata": {},
   "outputs": [
    {
     "data": {
      "text/html": [
       "<div>\n",
       "<style scoped>\n",
       "    .dataframe tbody tr th:only-of-type {\n",
       "        vertical-align: middle;\n",
       "    }\n",
       "\n",
       "    .dataframe tbody tr th {\n",
       "        vertical-align: top;\n",
       "    }\n",
       "\n",
       "    .dataframe thead th {\n",
       "        text-align: right;\n",
       "    }\n",
       "</style>\n",
       "<table border=\"1\" class=\"dataframe\">\n",
       "  <thead>\n",
       "    <tr style=\"text-align: right;\">\n",
       "      <th></th>\n",
       "      <th>Protein_A</th>\n",
       "      <th>Protein_B</th>\n",
       "      <th>Protein_A_sequence</th>\n",
       "      <th>Protein_B_sequence</th>\n",
       "    </tr>\n",
       "  </thead>\n",
       "  <tbody>\n",
       "    <tr>\n",
       "      <th>1</th>\n",
       "      <td>PRO_1968</td>\n",
       "      <td>PRO_3259</td>\n",
       "      <td>MAKNPPENCEDCHILNAEAFKSKKICKSLKICGLVFGILALTLIVL...</td>\n",
       "      <td>MASSSTVPLGFHYETKYVVLSYLGLLSQEKLQEQHLSSPQGVQLDI...</td>\n",
       "    </tr>\n",
       "    <tr>\n",
       "      <th>2</th>\n",
       "      <td>PRO_1968</td>\n",
       "      <td>PRO_20825</td>\n",
       "      <td>MAKNPPENCEDCHILNAEAFKSKKICKSLKICGLVFGILALTLIVL...</td>\n",
       "      <td>MSSHLVEPPPPLHNNNNNCEENEQSLPPPAGLNSSWVELPMNSSNG...</td>\n",
       "    </tr>\n",
       "    <tr>\n",
       "      <th>3</th>\n",
       "      <td>PRO_1968</td>\n",
       "      <td>PRO_11236</td>\n",
       "      <td>MAKNPPENCEDCHILNAEAFKSKKICKSLKICGLVFGILALTLIVL...</td>\n",
       "      <td>MPLLLLLPLLWAGALAMDPNFWLQVQESVTVQEGLCVLVPCTFFHP...</td>\n",
       "    </tr>\n",
       "    <tr>\n",
       "      <th>5</th>\n",
       "      <td>PRO_1968</td>\n",
       "      <td>PRO_16190</td>\n",
       "      <td>MAKNPPENCEDCHILNAEAFKSKKICKSLKICGLVFGILALTLIVL...</td>\n",
       "      <td>MWTLKSSLVLLLCLTCSYAFMFSSLRQKTSEPQGKVQYGEHFRIRQ...</td>\n",
       "    </tr>\n",
       "    <tr>\n",
       "      <th>6</th>\n",
       "      <td>PRO_1968</td>\n",
       "      <td>PRO_4579</td>\n",
       "      <td>MAKNPPENCEDCHILNAEAFKSKKICKSLKICGLVFGILALTLIVL...</td>\n",
       "      <td>MGHRFLRGLLTLLLPPPPLYTRHRMLGPESVPPPKRSRSKLMAPPR...</td>\n",
       "    </tr>\n",
       "    <tr>\n",
       "      <th>...</th>\n",
       "      <td>...</td>\n",
       "      <td>...</td>\n",
       "      <td>...</td>\n",
       "      <td>...</td>\n",
       "    </tr>\n",
       "    <tr>\n",
       "      <th>396149</th>\n",
       "      <td>PRO_11977</td>\n",
       "      <td>PRO_20355</td>\n",
       "      <td>SGSWLRDIWDWICEVLSDFKTWLKAKLMPQLPGIPFVSCQRGYKGV...</td>\n",
       "      <td>MGGRSSCEDPGCPRDEERAPRMGCMKSKFLQVGGNTFSKTETSASP...</td>\n",
       "    </tr>\n",
       "    <tr>\n",
       "      <th>396150</th>\n",
       "      <td>PRO_11977</td>\n",
       "      <td>PRO_4583</td>\n",
       "      <td>SGSWLRDIWDWICEVLSDFKTWLKAKLMPQLPGIPFVSCQRGYKGV...</td>\n",
       "      <td>MGCVQCKDKEATKLTEERDGSLNQSSGYRYGTDPTPQHYPSFGVTS...</td>\n",
       "    </tr>\n",
       "    <tr>\n",
       "      <th>396151</th>\n",
       "      <td>PRO_19214</td>\n",
       "      <td>PRO_18202</td>\n",
       "      <td>MDLLVDELFADMNADGASPPPPRPAGGPKNTPAAPPLYATGRLSQA...</td>\n",
       "      <td>MQREEKQLEASLDALLSQVADLKNSLGSFICKLENEYGRLTWPSVL...</td>\n",
       "    </tr>\n",
       "    <tr>\n",
       "      <th>396152</th>\n",
       "      <td>PRO_2146</td>\n",
       "      <td>PRO_4583</td>\n",
       "      <td>MGSGSWLKDVWDWICTVLADLKTWLQSKLLPRLPGVPFLSCQRGYK...</td>\n",
       "      <td>MGCVQCKDKEATKLTEERDGSLNQSSGYRYGTDPTPQHYPSFGVTS...</td>\n",
       "    </tr>\n",
       "    <tr>\n",
       "      <th>396153</th>\n",
       "      <td>PRO_19214</td>\n",
       "      <td>PRO_91</td>\n",
       "      <td>MDLLVDELFADMNADGASPPPPRPAGGPKNTPAAPPLYATGRLSQA...</td>\n",
       "      <td>MSGVRAVRISIESACEKQVHEVGLDGTETYLPPLSMSQNLARLAQR...</td>\n",
       "    </tr>\n",
       "  </tbody>\n",
       "</table>\n",
       "<p>241819 rows × 4 columns</p>\n",
       "</div>"
      ],
      "text/plain": [
       "        Protein_A  Protein_B  \\\n",
       "1        PRO_1968   PRO_3259   \n",
       "2        PRO_1968  PRO_20825   \n",
       "3        PRO_1968  PRO_11236   \n",
       "5        PRO_1968  PRO_16190   \n",
       "6        PRO_1968   PRO_4579   \n",
       "...           ...        ...   \n",
       "396149  PRO_11977  PRO_20355   \n",
       "396150  PRO_11977   PRO_4583   \n",
       "396151  PRO_19214  PRO_18202   \n",
       "396152   PRO_2146   PRO_4583   \n",
       "396153  PRO_19214     PRO_91   \n",
       "\n",
       "                                       Protein_A_sequence  \\\n",
       "1       MAKNPPENCEDCHILNAEAFKSKKICKSLKICGLVFGILALTLIVL...   \n",
       "2       MAKNPPENCEDCHILNAEAFKSKKICKSLKICGLVFGILALTLIVL...   \n",
       "3       MAKNPPENCEDCHILNAEAFKSKKICKSLKICGLVFGILALTLIVL...   \n",
       "5       MAKNPPENCEDCHILNAEAFKSKKICKSLKICGLVFGILALTLIVL...   \n",
       "6       MAKNPPENCEDCHILNAEAFKSKKICKSLKICGLVFGILALTLIVL...   \n",
       "...                                                   ...   \n",
       "396149  SGSWLRDIWDWICEVLSDFKTWLKAKLMPQLPGIPFVSCQRGYKGV...   \n",
       "396150  SGSWLRDIWDWICEVLSDFKTWLKAKLMPQLPGIPFVSCQRGYKGV...   \n",
       "396151  MDLLVDELFADMNADGASPPPPRPAGGPKNTPAAPPLYATGRLSQA...   \n",
       "396152  MGSGSWLKDVWDWICTVLADLKTWLQSKLLPRLPGVPFLSCQRGYK...   \n",
       "396153  MDLLVDELFADMNADGASPPPPRPAGGPKNTPAAPPLYATGRLSQA...   \n",
       "\n",
       "                                       Protein_B_sequence  \n",
       "1       MASSSTVPLGFHYETKYVVLSYLGLLSQEKLQEQHLSSPQGVQLDI...  \n",
       "2       MSSHLVEPPPPLHNNNNNCEENEQSLPPPAGLNSSWVELPMNSSNG...  \n",
       "3       MPLLLLLPLLWAGALAMDPNFWLQVQESVTVQEGLCVLVPCTFFHP...  \n",
       "5       MWTLKSSLVLLLCLTCSYAFMFSSLRQKTSEPQGKVQYGEHFRIRQ...  \n",
       "6       MGHRFLRGLLTLLLPPPPLYTRHRMLGPESVPPPKRSRSKLMAPPR...  \n",
       "...                                                   ...  \n",
       "396149  MGGRSSCEDPGCPRDEERAPRMGCMKSKFLQVGGNTFSKTETSASP...  \n",
       "396150  MGCVQCKDKEATKLTEERDGSLNQSSGYRYGTDPTPQHYPSFGVTS...  \n",
       "396151  MQREEKQLEASLDALLSQVADLKNSLGSFICKLENEYGRLTWPSVL...  \n",
       "396152  MGCVQCKDKEATKLTEERDGSLNQSSGYRYGTDPTPQHYPSFGVTS...  \n",
       "396153  MSGVRAVRISIESACEKQVHEVGLDGTETYLPPLSMSQNLARLAQR...  \n",
       "\n",
       "[241819 rows x 4 columns]"
      ]
     },
     "execution_count": 112,
     "metadata": {},
     "output_type": "execute_result"
    }
   ],
   "source": [
    "train_pos_data"
   ]
  },
  {
   "cell_type": "code",
   "execution_count": 68,
   "id": "69c16d61",
   "metadata": {},
   "outputs": [
    {
     "data": {
      "text/html": [
       "<div>\n",
       "<style scoped>\n",
       "    .dataframe tbody tr th:only-of-type {\n",
       "        vertical-align: middle;\n",
       "    }\n",
       "\n",
       "    .dataframe tbody tr th {\n",
       "        vertical-align: top;\n",
       "    }\n",
       "\n",
       "    .dataframe thead th {\n",
       "        text-align: right;\n",
       "    }\n",
       "</style>\n",
       "<table border=\"1\" class=\"dataframe\">\n",
       "  <thead>\n",
       "    <tr style=\"text-align: right;\">\n",
       "      <th></th>\n",
       "      <th>Protein_A</th>\n",
       "      <th>Protein_B</th>\n",
       "      <th>Protein_A_sequence</th>\n",
       "      <th>Protein_B_sequence</th>\n",
       "    </tr>\n",
       "  </thead>\n",
       "  <tbody>\n",
       "    <tr>\n",
       "      <th>16</th>\n",
       "      <td>PRO_4691</td>\n",
       "      <td>PRO_2365</td>\n",
       "      <td>MASLEVSRSPRRSRRELEVRSPRQNKYSVLLPTYNERENLPLIVWL...</td>\n",
       "      <td>MSGCPFLGNNFGYTFKKLPVEGSEEDKSQTGVNRASKGGLIYGNYL...</td>\n",
       "    </tr>\n",
       "    <tr>\n",
       "      <th>100</th>\n",
       "      <td>PRO_12486</td>\n",
       "      <td>PRO_12486</td>\n",
       "      <td>MEDLGENTMVLSTLRSLNNFISQRVEGGSGLDISTSAPGSLQMQYQ...</td>\n",
       "      <td>MEDLGENTMVLSTLRSLNNFISQRVEGGSGLDISTSAPGSLQMQYQ...</td>\n",
       "    </tr>\n",
       "    <tr>\n",
       "      <th>103</th>\n",
       "      <td>PRO_12486</td>\n",
       "      <td>PRO_15453</td>\n",
       "      <td>MEDLGENTMVLSTLRSLNNFISQRVEGGSGLDISTSAPGSLQMQYQ...</td>\n",
       "      <td>MTDDKDVLRDVWFGRIPTCFTLYQDEITEREAEPYYLLLPRVSYLT...</td>\n",
       "    </tr>\n",
       "    <tr>\n",
       "      <th>104</th>\n",
       "      <td>PRO_12486</td>\n",
       "      <td>PRO_22362</td>\n",
       "      <td>MEDLGENTMVLSTLRSLNNFISQRVEGGSGLDISTSAPGSLQMQYQ...</td>\n",
       "      <td>MADSKEGVLPLTAASTAPISFGFTRTSARRRLADSGDGAGPSPEEK...</td>\n",
       "    </tr>\n",
       "    <tr>\n",
       "      <th>107</th>\n",
       "      <td>PRO_12486</td>\n",
       "      <td>PRO_3423</td>\n",
       "      <td>MEDLGENTMVLSTLRSLNNFISQRVEGGSGLDISTSAPGSLQMQYQ...</td>\n",
       "      <td>MSRKISKESKKVNISSSLESEDISLETTVPTDDISSSEEREGKVRI...</td>\n",
       "    </tr>\n",
       "  </tbody>\n",
       "</table>\n",
       "</div>"
      ],
      "text/plain": [
       "     Protein_A  Protein_B                                 Protein_A_sequence  \\\n",
       "16    PRO_4691   PRO_2365  MASLEVSRSPRRSRRELEVRSPRQNKYSVLLPTYNERENLPLIVWL...   \n",
       "100  PRO_12486  PRO_12486  MEDLGENTMVLSTLRSLNNFISQRVEGGSGLDISTSAPGSLQMQYQ...   \n",
       "103  PRO_12486  PRO_15453  MEDLGENTMVLSTLRSLNNFISQRVEGGSGLDISTSAPGSLQMQYQ...   \n",
       "104  PRO_12486  PRO_22362  MEDLGENTMVLSTLRSLNNFISQRVEGGSGLDISTSAPGSLQMQYQ...   \n",
       "107  PRO_12486   PRO_3423  MEDLGENTMVLSTLRSLNNFISQRVEGGSGLDISTSAPGSLQMQYQ...   \n",
       "\n",
       "                                    Protein_B_sequence  \n",
       "16   MSGCPFLGNNFGYTFKKLPVEGSEEDKSQTGVNRASKGGLIYGNYL...  \n",
       "100  MEDLGENTMVLSTLRSLNNFISQRVEGGSGLDISTSAPGSLQMQYQ...  \n",
       "103  MTDDKDVLRDVWFGRIPTCFTLYQDEITEREAEPYYLLLPRVSYLT...  \n",
       "104  MADSKEGVLPLTAASTAPISFGFTRTSARRRLADSGDGAGPSPEEK...  \n",
       "107  MSRKISKESKKVNISSSLESEDISLETTVPTDDISSSEEREGKVRI...  "
      ]
     },
     "execution_count": 68,
     "metadata": {},
     "output_type": "execute_result"
    }
   ],
   "source": [
    "test_pos_data.head()"
   ]
  },
  {
   "cell_type": "code",
   "execution_count": 69,
   "id": "5210f2d8",
   "metadata": {},
   "outputs": [
    {
     "data": {
      "text/html": [
       "<div>\n",
       "<style scoped>\n",
       "    .dataframe tbody tr th:only-of-type {\n",
       "        vertical-align: middle;\n",
       "    }\n",
       "\n",
       "    .dataframe tbody tr th {\n",
       "        vertical-align: top;\n",
       "    }\n",
       "\n",
       "    .dataframe thead th {\n",
       "        text-align: right;\n",
       "    }\n",
       "</style>\n",
       "<table border=\"1\" class=\"dataframe\">\n",
       "  <thead>\n",
       "    <tr style=\"text-align: right;\">\n",
       "      <th></th>\n",
       "      <th>Protein_A</th>\n",
       "      <th>Protein_B</th>\n",
       "      <th>Protein_A_sequence</th>\n",
       "      <th>Protein_B_sequence</th>\n",
       "    </tr>\n",
       "  </thead>\n",
       "  <tbody>\n",
       "    <tr>\n",
       "      <th>396159</th>\n",
       "      <td>PRO_23889</td>\n",
       "      <td>PRO_23995</td>\n",
       "      <td>MAMRLLKTHLLFLHLYLFFSPCFAYTDMEVLLNLKSSMIGPKGHGL...</td>\n",
       "      <td>MIKIADFTLFFFIFVFSPSLPLAQSQLPDLDPQDKASLLIFRVSIH...</td>\n",
       "    </tr>\n",
       "    <tr>\n",
       "      <th>396165</th>\n",
       "      <td>PRO_23889</td>\n",
       "      <td>PRO_23995</td>\n",
       "      <td>MAMRLLKTHLLFLHLYLFFSPCFAYTDMEVLLNLKSSMIGPKGHGL...</td>\n",
       "      <td>MIKIADFTLFFFIFVFSPSLPLAQSQLPDLDPQDKASLLIFRVSIH...</td>\n",
       "    </tr>\n",
       "    <tr>\n",
       "      <th>396166</th>\n",
       "      <td>PRO_23995</td>\n",
       "      <td>PRO_23889</td>\n",
       "      <td>MIKIADFTLFFFIFVFSPSLPLAQSQLPDLDPQDKASLLIFRVSIH...</td>\n",
       "      <td>MAMRLLKTHLLFLHLYLFFSPCFAYTDMEVLLNLKSSMIGPKGHGL...</td>\n",
       "    </tr>\n",
       "    <tr>\n",
       "      <th>396191</th>\n",
       "      <td>PRO_10025</td>\n",
       "      <td>PRO_13020</td>\n",
       "      <td>MAALQKSVSSFLMGTLATSCLLLLALLVQGGAAAPISSHCRLDKSN...</td>\n",
       "      <td>MLPCLVVLLAALLSLRLGSDAHGTELPSPPSVWFEAEFFHHILHWT...</td>\n",
       "    </tr>\n",
       "    <tr>\n",
       "      <th>396215</th>\n",
       "      <td>PRO_23639</td>\n",
       "      <td>PRO_23650</td>\n",
       "      <td>MDDSFFGFDTNLPDEDGGDGRIVEAEYDALNDETFGSAINGDWEEA...</td>\n",
       "      <td>MGPTDQDWIGCAVSIACDEVLGVFQGLIKQISAEEITIVRAFRNGV...</td>\n",
       "    </tr>\n",
       "  </tbody>\n",
       "</table>\n",
       "</div>"
      ],
      "text/plain": [
       "        Protein_A  Protein_B  \\\n",
       "396159  PRO_23889  PRO_23995   \n",
       "396165  PRO_23889  PRO_23995   \n",
       "396166  PRO_23995  PRO_23889   \n",
       "396191  PRO_10025  PRO_13020   \n",
       "396215  PRO_23639  PRO_23650   \n",
       "\n",
       "                                       Protein_A_sequence  \\\n",
       "396159  MAMRLLKTHLLFLHLYLFFSPCFAYTDMEVLLNLKSSMIGPKGHGL...   \n",
       "396165  MAMRLLKTHLLFLHLYLFFSPCFAYTDMEVLLNLKSSMIGPKGHGL...   \n",
       "396166  MIKIADFTLFFFIFVFSPSLPLAQSQLPDLDPQDKASLLIFRVSIH...   \n",
       "396191  MAALQKSVSSFLMGTLATSCLLLLALLVQGGAAAPISSHCRLDKSN...   \n",
       "396215  MDDSFFGFDTNLPDEDGGDGRIVEAEYDALNDETFGSAINGDWEEA...   \n",
       "\n",
       "                                       Protein_B_sequence  \n",
       "396159  MIKIADFTLFFFIFVFSPSLPLAQSQLPDLDPQDKASLLIFRVSIH...  \n",
       "396165  MIKIADFTLFFFIFVFSPSLPLAQSQLPDLDPQDKASLLIFRVSIH...  \n",
       "396166  MAMRLLKTHLLFLHLYLFFSPCFAYTDMEVLLNLKSSMIGPKGHGL...  \n",
       "396191  MLPCLVVLLAALLSLRLGSDAHGTELPSPPSVWFEAEFFHHILHWT...  \n",
       "396215  MGPTDQDWIGCAVSIACDEVLGVFQGLIKQISAEEITIVRAFRNGV...  "
      ]
     },
     "execution_count": 69,
     "metadata": {},
     "output_type": "execute_result"
    }
   ],
   "source": [
    "test_neg_data.head()"
   ]
  },
  {
   "cell_type": "code",
   "execution_count": 70,
   "id": "2348b437",
   "metadata": {},
   "outputs": [
    {
     "data": {
      "text/html": [
       "<div>\n",
       "<style scoped>\n",
       "    .dataframe tbody tr th:only-of-type {\n",
       "        vertical-align: middle;\n",
       "    }\n",
       "\n",
       "    .dataframe tbody tr th {\n",
       "        vertical-align: top;\n",
       "    }\n",
       "\n",
       "    .dataframe thead th {\n",
       "        text-align: right;\n",
       "    }\n",
       "</style>\n",
       "<table border=\"1\" class=\"dataframe\">\n",
       "  <thead>\n",
       "    <tr style=\"text-align: right;\">\n",
       "      <th></th>\n",
       "      <th>Protein_A</th>\n",
       "      <th>Protein_B</th>\n",
       "      <th>Protein_A_sequence</th>\n",
       "      <th>Protein_B_sequence</th>\n",
       "    </tr>\n",
       "  </thead>\n",
       "  <tbody>\n",
       "    <tr>\n",
       "      <th>16</th>\n",
       "      <td>PRO_4691</td>\n",
       "      <td>PRO_2365</td>\n",
       "      <td>MASLEVSRSPRRSRRELEVRSPRQNKYSVLLPTYNERENLPLIVWL...</td>\n",
       "      <td>MSGCPFLGNNFGYTFKKLPVEGSEEDKSQTGVNRASKGGLIYGNYL...</td>\n",
       "    </tr>\n",
       "    <tr>\n",
       "      <th>100</th>\n",
       "      <td>PRO_12486</td>\n",
       "      <td>PRO_12486</td>\n",
       "      <td>MEDLGENTMVLSTLRSLNNFISQRVEGGSGLDISTSAPGSLQMQYQ...</td>\n",
       "      <td>MEDLGENTMVLSTLRSLNNFISQRVEGGSGLDISTSAPGSLQMQYQ...</td>\n",
       "    </tr>\n",
       "    <tr>\n",
       "      <th>103</th>\n",
       "      <td>PRO_12486</td>\n",
       "      <td>PRO_15453</td>\n",
       "      <td>MEDLGENTMVLSTLRSLNNFISQRVEGGSGLDISTSAPGSLQMQYQ...</td>\n",
       "      <td>MTDDKDVLRDVWFGRIPTCFTLYQDEITEREAEPYYLLLPRVSYLT...</td>\n",
       "    </tr>\n",
       "    <tr>\n",
       "      <th>104</th>\n",
       "      <td>PRO_12486</td>\n",
       "      <td>PRO_22362</td>\n",
       "      <td>MEDLGENTMVLSTLRSLNNFISQRVEGGSGLDISTSAPGSLQMQYQ...</td>\n",
       "      <td>MADSKEGVLPLTAASTAPISFGFTRTSARRRLADSGDGAGPSPEEK...</td>\n",
       "    </tr>\n",
       "    <tr>\n",
       "      <th>107</th>\n",
       "      <td>PRO_12486</td>\n",
       "      <td>PRO_3423</td>\n",
       "      <td>MEDLGENTMVLSTLRSLNNFISQRVEGGSGLDISTSAPGSLQMQYQ...</td>\n",
       "      <td>MSRKISKESKKVNISSSLESEDISLETTVPTDDISSSEEREGKVRI...</td>\n",
       "    </tr>\n",
       "  </tbody>\n",
       "</table>\n",
       "</div>"
      ],
      "text/plain": [
       "     Protein_A  Protein_B                                 Protein_A_sequence  \\\n",
       "16    PRO_4691   PRO_2365  MASLEVSRSPRRSRRELEVRSPRQNKYSVLLPTYNERENLPLIVWL...   \n",
       "100  PRO_12486  PRO_12486  MEDLGENTMVLSTLRSLNNFISQRVEGGSGLDISTSAPGSLQMQYQ...   \n",
       "103  PRO_12486  PRO_15453  MEDLGENTMVLSTLRSLNNFISQRVEGGSGLDISTSAPGSLQMQYQ...   \n",
       "104  PRO_12486  PRO_22362  MEDLGENTMVLSTLRSLNNFISQRVEGGSGLDISTSAPGSLQMQYQ...   \n",
       "107  PRO_12486   PRO_3423  MEDLGENTMVLSTLRSLNNFISQRVEGGSGLDISTSAPGSLQMQYQ...   \n",
       "\n",
       "                                    Protein_B_sequence  \n",
       "16   MSGCPFLGNNFGYTFKKLPVEGSEEDKSQTGVNRASKGGLIYGNYL...  \n",
       "100  MEDLGENTMVLSTLRSLNNFISQRVEGGSGLDISTSAPGSLQMQYQ...  \n",
       "103  MTDDKDVLRDVWFGRIPTCFTLYQDEITEREAEPYYLLLPRVSYLT...  \n",
       "104  MADSKEGVLPLTAASTAPISFGFTRTSARRRLADSGDGAGPSPEEK...  \n",
       "107  MSRKISKESKKVNISSSLESEDISLETTVPTDDISSSEEREGKVRI...  "
      ]
     },
     "execution_count": 70,
     "metadata": {},
     "output_type": "execute_result"
    }
   ],
   "source": [
    "test_pos_data.head()"
   ]
  },
  {
   "cell_type": "markdown",
   "id": "a4a779b6",
   "metadata": {},
   "source": [
    "# 2. Creating negative pairs by random sampling"
   ]
  },
  {
   "cell_type": "code",
   "execution_count": 87,
   "id": "ba537925",
   "metadata": {},
   "outputs": [],
   "source": [
    "unique_proteins_train_set = list(set(train_pos_data['Protein_A']).union(train_pos_data['Protein_B']))\n",
    "unique_proteins_test_set = list(set(test_pos_data['Protein_A']).union(test_pos_data['Protein_B']))"
   ]
  },
  {
   "cell_type": "code",
   "execution_count": 78,
   "id": "04240ff8",
   "metadata": {},
   "outputs": [],
   "source": [
    "def random_pairs(number_list): \n",
    "    return [number_list[i] for i in random.sample(range(len(number_list)), 2)]"
   ]
  },
  {
   "cell_type": "code",
   "execution_count": 113,
   "id": "453cbdd4",
   "metadata": {},
   "outputs": [],
   "source": [
    "all_possible_train_set_protein_pairs = [random_pairs(unique_proteins_train_set) for i in range(500000)]\n",
    "all_possible_test_set_protein_pairs = [random_pairs(unique_proteins_test_set) for i in range(500000)]"
   ]
  },
  {
   "cell_type": "code",
   "execution_count": 119,
   "id": "2e70a410",
   "metadata": {},
   "outputs": [],
   "source": [
    "positive_train_set_pairs = []\n",
    "for index,row in train_pos_data.iterrows():\n",
    "    positive_train_set_pairs.append([row.Protein_A,row.Protein_B])\n",
    "    positive_train_set_pairs.append([row.Protein_B,row.Protein_A])\n",
    "positive_test_set_pairs = []\n",
    "for index,row in test_pos_data.iterrows():\n",
    "    positive_test_set_pairs.append([row.Protein_A,row.Protein_B])\n",
    "    positive_test_set_pairs.append([row.Protein_B,row.Protein_A])"
   ]
  },
  {
   "cell_type": "code",
   "execution_count": 120,
   "id": "bb7d9df5",
   "metadata": {},
   "outputs": [
    {
     "data": {
      "text/plain": [
       "[['PRO_1968', 'PRO_3259'], ['PRO_3259', 'PRO_1968'], ['PRO_1968', 'PRO_20825']]"
      ]
     },
     "execution_count": 120,
     "metadata": {},
     "output_type": "execute_result"
    }
   ],
   "source": [
    "positive_train_set_pairs[:3]"
   ]
  },
  {
   "cell_type": "code",
   "execution_count": 121,
   "id": "eab1fb6b",
   "metadata": {},
   "outputs": [],
   "source": [
    "with open('/home/anwer/Desktop/PPI_prediction/pickle/prot_to_seq_pickle/all_prot_seq.pickle', 'rb') as handle:\n",
    "        dc= pickle.load(handle)"
   ]
  },
  {
   "cell_type": "code",
   "execution_count": 124,
   "id": "7d830e1b",
   "metadata": {},
   "outputs": [
    {
     "name": "stderr",
     "output_type": "stream",
     "text": [
      "  0%|                                                   | 367/500000 [00:03<1:24:36, 98.41it/s]"
     ]
    },
    {
     "name": "stdout",
     "output_type": "stream",
     "text": [
      "['PRO_19178', 'PRO_6073']\n"
     ]
    },
    {
     "name": "stderr",
     "output_type": "stream",
     "text": [
      "  0%|                                                  | 1000/500000 [00:10<1:24:30, 98.40it/s]"
     ]
    },
    {
     "name": "stdout",
     "output_type": "stream",
     "text": [
      "['PRO_5087', 'PRO_18022']\n"
     ]
    },
    {
     "name": "stderr",
     "output_type": "stream",
     "text": [
      "  0%|▏                                                 | 1941/500000 [00:20<1:32:17, 89.94it/s]"
     ]
    },
    {
     "name": "stdout",
     "output_type": "stream",
     "text": [
      "['PRO_16967', 'PRO_19231']\n"
     ]
    },
    {
     "name": "stderr",
     "output_type": "stream",
     "text": [
      "  1%|▍                                                 | 4660/500000 [00:51<1:33:03, 88.71it/s]"
     ]
    },
    {
     "name": "stdout",
     "output_type": "stream",
     "text": [
      "['PRO_7537', 'PRO_5163']\n"
     ]
    },
    {
     "name": "stderr",
     "output_type": "stream",
     "text": [
      "  1%|▍                                                 | 4789/500000 [00:52<1:34:20, 87.48it/s]"
     ]
    },
    {
     "name": "stdout",
     "output_type": "stream",
     "text": [
      "['PRO_12170', 'PRO_3860']\n"
     ]
    },
    {
     "name": "stderr",
     "output_type": "stream",
     "text": [
      "  1%|▌                                                 | 5821/500000 [01:04<1:33:47, 87.81it/s]"
     ]
    },
    {
     "name": "stdout",
     "output_type": "stream",
     "text": [
      "['PRO_22686', 'PRO_14775']\n"
     ]
    },
    {
     "name": "stderr",
     "output_type": "stream",
     "text": [
      "  1%|▌                                                 | 5980/500000 [01:06<1:37:36, 84.36it/s]"
     ]
    },
    {
     "name": "stdout",
     "output_type": "stream",
     "text": [
      "['PRO_6756', 'PRO_3194']\n"
     ]
    },
    {
     "name": "stderr",
     "output_type": "stream",
     "text": [
      "  1%|▋                                                 | 6707/500000 [01:14<1:31:29, 89.87it/s]"
     ]
    },
    {
     "name": "stdout",
     "output_type": "stream",
     "text": [
      "['PRO_5778', 'PRO_12585']\n",
      "['PRO_7098', 'PRO_14295']\n"
     ]
    },
    {
     "name": "stderr",
     "output_type": "stream",
     "text": [
      "  2%|▊                                                 | 8512/500000 [01:35<1:35:59, 85.34it/s]"
     ]
    },
    {
     "name": "stdout",
     "output_type": "stream",
     "text": [
      "['PRO_8348', 'PRO_5331']\n"
     ]
    },
    {
     "name": "stderr",
     "output_type": "stream",
     "text": [
      "  2%|▉                                                 | 9978/500000 [01:52<1:31:27, 89.29it/s]"
     ]
    },
    {
     "name": "stdout",
     "output_type": "stream",
     "text": [
      "['PRO_7900', 'PRO_18907']\n"
     ]
    },
    {
     "name": "stderr",
     "output_type": "stream",
     "text": [
      "  2%|█                                                | 10260/500000 [01:55<1:29:06, 91.60it/s]"
     ]
    },
    {
     "name": "stdout",
     "output_type": "stream",
     "text": [
      "['PRO_7157', 'PRO_7791']\n"
     ]
    },
    {
     "name": "stderr",
     "output_type": "stream",
     "text": [
      "  2%|█                                                | 10497/500000 [01:58<1:29:55, 90.73it/s]"
     ]
    },
    {
     "name": "stdout",
     "output_type": "stream",
     "text": [
      "['PRO_15681', 'PRO_13892']\n"
     ]
    },
    {
     "name": "stderr",
     "output_type": "stream",
     "text": [
      "  2%|█                                                | 11336/500000 [02:07<1:28:52, 91.64it/s]"
     ]
    },
    {
     "name": "stdout",
     "output_type": "stream",
     "text": [
      "['PRO_16280', 'PRO_23196']\n"
     ]
    },
    {
     "name": "stderr",
     "output_type": "stream",
     "text": [
      "  2%|█▏                                               | 11724/500000 [02:11<1:30:02, 90.37it/s]"
     ]
    },
    {
     "name": "stdout",
     "output_type": "stream",
     "text": [
      "['PRO_5053', 'PRO_18888']\n"
     ]
    },
    {
     "name": "stderr",
     "output_type": "stream",
     "text": [
      "  2%|█▏                                               | 12223/500000 [02:17<1:29:48, 90.53it/s]"
     ]
    },
    {
     "name": "stdout",
     "output_type": "stream",
     "text": [
      "['PRO_10216', 'PRO_1743']\n"
     ]
    },
    {
     "name": "stderr",
     "output_type": "stream",
     "text": [
      "  3%|█▎                                               | 13320/500000 [02:30<1:52:43, 71.95it/s]"
     ]
    },
    {
     "name": "stdout",
     "output_type": "stream",
     "text": [
      "['PRO_17177', 'PRO_18430']\n"
     ]
    },
    {
     "name": "stderr",
     "output_type": "stream",
     "text": [
      "  3%|█▌                                               | 15399/500000 [02:54<1:31:05, 88.67it/s]"
     ]
    },
    {
     "name": "stdout",
     "output_type": "stream",
     "text": [
      "['PRO_9911', 'PRO_2856']\n"
     ]
    },
    {
     "name": "stderr",
     "output_type": "stream",
     "text": [
      "  3%|█▌                                               | 15677/500000 [02:57<1:27:59, 91.74it/s]"
     ]
    },
    {
     "name": "stdout",
     "output_type": "stream",
     "text": [
      "['PRO_13653', 'PRO_9316']\n"
     ]
    },
    {
     "name": "stderr",
     "output_type": "stream",
     "text": [
      "  3%|█▋                                               | 17323/500000 [03:16<1:28:31, 90.87it/s]"
     ]
    },
    {
     "name": "stdout",
     "output_type": "stream",
     "text": [
      "['PRO_6808', 'PRO_6658']\n"
     ]
    },
    {
     "name": "stderr",
     "output_type": "stream",
     "text": [
      "  4%|█▋                                               | 17555/500000 [03:19<1:30:15, 89.08it/s]"
     ]
    },
    {
     "name": "stdout",
     "output_type": "stream",
     "text": [
      "['PRO_22474', 'PRO_11455']\n"
     ]
    },
    {
     "name": "stderr",
     "output_type": "stream",
     "text": [
      "  4%|█▊                                               | 18485/500000 [03:29<1:31:18, 87.88it/s]"
     ]
    },
    {
     "name": "stdout",
     "output_type": "stream",
     "text": [
      "['PRO_17718', 'PRO_8716']\n"
     ]
    },
    {
     "name": "stderr",
     "output_type": "stream",
     "text": [
      "  4%|█▊                                               | 18806/500000 [03:33<1:28:48, 90.31it/s]"
     ]
    },
    {
     "name": "stdout",
     "output_type": "stream",
     "text": [
      "['PRO_657', 'PRO_23385']\n"
     ]
    },
    {
     "name": "stderr",
     "output_type": "stream",
     "text": [
      "  4%|█▊                                               | 19045/500000 [03:36<1:28:54, 90.16it/s]"
     ]
    },
    {
     "name": "stdout",
     "output_type": "stream",
     "text": [
      "['PRO_9094', 'PRO_23316']\n"
     ]
    },
    {
     "name": "stderr",
     "output_type": "stream",
     "text": [
      "  4%|█▉                                               | 19133/500000 [03:37<1:29:01, 90.03it/s]"
     ]
    },
    {
     "name": "stdout",
     "output_type": "stream",
     "text": [
      "['PRO_13488', 'PRO_17403']\n"
     ]
    },
    {
     "name": "stderr",
     "output_type": "stream",
     "text": [
      "  4%|█▉                                               | 19553/500000 [03:42<1:29:03, 89.91it/s]"
     ]
    },
    {
     "name": "stdout",
     "output_type": "stream",
     "text": [
      "['PRO_4728', 'PRO_12192']\n"
     ]
    },
    {
     "name": "stderr",
     "output_type": "stream",
     "text": [
      "  4%|█▉                                               | 20218/500000 [03:49<1:30:50, 88.02it/s]"
     ]
    },
    {
     "name": "stdout",
     "output_type": "stream",
     "text": [
      "['PRO_9354', 'PRO_7866']\n"
     ]
    },
    {
     "name": "stderr",
     "output_type": "stream",
     "text": [
      "  4%|█▉                                               | 20341/500000 [03:51<1:29:34, 89.25it/s]"
     ]
    },
    {
     "name": "stdout",
     "output_type": "stream",
     "text": [
      "['PRO_22022', 'PRO_18719']\n"
     ]
    },
    {
     "name": "stderr",
     "output_type": "stream",
     "text": [
      "  4%|██                                               | 20934/500000 [03:57<1:35:51, 83.30it/s]"
     ]
    },
    {
     "name": "stdout",
     "output_type": "stream",
     "text": [
      "['PRO_12571', 'PRO_13515']\n"
     ]
    },
    {
     "name": "stderr",
     "output_type": "stream",
     "text": [
      "  4%|██▏                                              | 21719/500000 [04:06<1:30:18, 88.27it/s]"
     ]
    },
    {
     "name": "stdout",
     "output_type": "stream",
     "text": [
      "['PRO_13257', 'PRO_9553']\n"
     ]
    },
    {
     "name": "stderr",
     "output_type": "stream",
     "text": [
      "  4%|██▏                                              | 21949/500000 [04:09<1:32:34, 86.06it/s]"
     ]
    },
    {
     "name": "stdout",
     "output_type": "stream",
     "text": [
      "['PRO_2116', 'PRO_381']\n"
     ]
    },
    {
     "name": "stderr",
     "output_type": "stream",
     "text": [
      "  5%|██▎                                              | 23248/500000 [04:24<1:28:41, 89.59it/s]"
     ]
    },
    {
     "name": "stdout",
     "output_type": "stream",
     "text": [
      "['PRO_21289', 'PRO_3455']\n"
     ]
    },
    {
     "name": "stderr",
     "output_type": "stream",
     "text": [
      "  5%|██▎                                              | 23588/500000 [04:27<1:31:32, 86.75it/s]"
     ]
    },
    {
     "name": "stdout",
     "output_type": "stream",
     "text": [
      "['PRO_6642', 'PRO_14462']\n"
     ]
    },
    {
     "name": "stderr",
     "output_type": "stream",
     "text": [
      "  5%|██▎                                              | 23774/500000 [04:29<1:28:35, 89.59it/s]"
     ]
    },
    {
     "name": "stdout",
     "output_type": "stream",
     "text": [
      "['PRO_17742', 'PRO_15603']\n"
     ]
    },
    {
     "name": "stderr",
     "output_type": "stream",
     "text": [
      "  5%|██▍                                              | 24273/500000 [04:35<1:28:30, 89.58it/s]"
     ]
    },
    {
     "name": "stdout",
     "output_type": "stream",
     "text": [
      "['PRO_6167', 'PRO_10151']\n"
     ]
    },
    {
     "name": "stderr",
     "output_type": "stream",
     "text": [
      "  5%|██▍                                              | 24612/500000 [04:39<1:28:27, 89.56it/s]"
     ]
    },
    {
     "name": "stdout",
     "output_type": "stream",
     "text": [
      "['PRO_11212', 'PRO_13672']\n"
     ]
    },
    {
     "name": "stderr",
     "output_type": "stream",
     "text": [
      "  5%|██▍                                              | 24900/500000 [04:42<1:28:58, 88.99it/s]"
     ]
    },
    {
     "name": "stdout",
     "output_type": "stream",
     "text": [
      "['PRO_1677', 'PRO_15675']\n"
     ]
    },
    {
     "name": "stderr",
     "output_type": "stream",
     "text": [
      "  5%|██▌                                              | 25879/500000 [04:53<1:28:37, 89.16it/s]"
     ]
    },
    {
     "name": "stdout",
     "output_type": "stream",
     "text": [
      "['PRO_12123', 'PRO_4843']\n"
     ]
    },
    {
     "name": "stderr",
     "output_type": "stream",
     "text": [
      "  5%|██▌                                              | 26267/500000 [04:57<1:27:54, 89.82it/s]"
     ]
    },
    {
     "name": "stdout",
     "output_type": "stream",
     "text": [
      "['PRO_11451', 'PRO_18880']\n"
     ]
    },
    {
     "name": "stderr",
     "output_type": "stream",
     "text": [
      "  5%|██▌                                              | 26351/500000 [04:58<1:27:28, 90.25it/s]"
     ]
    },
    {
     "name": "stdout",
     "output_type": "stream",
     "text": [
      "['PRO_12156', 'PRO_2369']\n"
     ]
    },
    {
     "name": "stderr",
     "output_type": "stream",
     "text": [
      "  5%|██▌                                              | 26564/500000 [05:01<1:27:46, 89.89it/s]"
     ]
    },
    {
     "name": "stdout",
     "output_type": "stream",
     "text": [
      "['PRO_14217', 'PRO_8616']\n"
     ]
    },
    {
     "name": "stderr",
     "output_type": "stream",
     "text": [
      "  5%|██▌                                              | 26621/500000 [05:01<1:27:54, 89.76it/s]"
     ]
    },
    {
     "name": "stdout",
     "output_type": "stream",
     "text": [
      "['PRO_1549', 'PRO_13270']\n"
     ]
    },
    {
     "name": "stderr",
     "output_type": "stream",
     "text": [
      "  6%|██▋                                              | 27582/500000 [05:13<1:28:43, 88.74it/s]"
     ]
    },
    {
     "name": "stdout",
     "output_type": "stream",
     "text": [
      "['PRO_10572', 'PRO_23219']\n"
     ]
    },
    {
     "name": "stderr",
     "output_type": "stream",
     "text": [
      "  6%|██▋                                              | 27720/500000 [05:14<1:28:26, 88.99it/s]"
     ]
    },
    {
     "name": "stdout",
     "output_type": "stream",
     "text": [
      "['PRO_16042', 'PRO_21689']\n"
     ]
    },
    {
     "name": "stderr",
     "output_type": "stream",
     "text": [
      "  6%|██▊                                              | 28490/500000 [05:23<1:26:00, 91.37it/s]"
     ]
    },
    {
     "name": "stdout",
     "output_type": "stream",
     "text": [
      "['PRO_20174', 'PRO_18794']\n"
     ]
    },
    {
     "name": "stderr",
     "output_type": "stream",
     "text": [
      "  6%|██▊                                              | 29202/500000 [05:31<1:26:06, 91.12it/s]"
     ]
    },
    {
     "name": "stdout",
     "output_type": "stream",
     "text": [
      "['PRO_11995', 'PRO_8964']\n"
     ]
    },
    {
     "name": "stderr",
     "output_type": "stream",
     "text": [
      "  6%|██▊                                              | 29285/500000 [05:32<1:27:44, 89.41it/s]"
     ]
    },
    {
     "name": "stdout",
     "output_type": "stream",
     "text": [
      "['PRO_11952', 'PRO_13617']\n"
     ]
    },
    {
     "name": "stderr",
     "output_type": "stream",
     "text": [
      "  6%|██▉                                              | 29387/500000 [05:33<1:27:43, 89.40it/s]"
     ]
    },
    {
     "name": "stdout",
     "output_type": "stream",
     "text": [
      "['PRO_5258', 'PRO_15080']\n"
     ]
    },
    {
     "name": "stderr",
     "output_type": "stream",
     "text": [
      "  6%|███                                              | 31467/500000 [05:56<1:27:00, 89.76it/s]"
     ]
    },
    {
     "name": "stdout",
     "output_type": "stream",
     "text": [
      "['PRO_3814', 'PRO_6744']\n"
     ]
    },
    {
     "name": "stderr",
     "output_type": "stream",
     "text": [
      "  6%|███                                              | 31879/500000 [06:01<1:26:07, 90.58it/s]"
     ]
    },
    {
     "name": "stdout",
     "output_type": "stream",
     "text": [
      "['PRO_21341', 'PRO_2182']\n"
     ]
    },
    {
     "name": "stderr",
     "output_type": "stream",
     "text": [
      "  7%|███▏                                             | 32930/500000 [06:13<1:26:35, 89.89it/s]"
     ]
    },
    {
     "name": "stdout",
     "output_type": "stream",
     "text": [
      "['PRO_13755', 'PRO_20049']\n"
     ]
    },
    {
     "name": "stderr",
     "output_type": "stream",
     "text": [
      "  7%|███▎                                             | 33275/500000 [06:16<1:25:08, 91.36it/s]"
     ]
    },
    {
     "name": "stdout",
     "output_type": "stream",
     "text": [
      "['PRO_317', 'PRO_19692']\n"
     ]
    },
    {
     "name": "stderr",
     "output_type": "stream",
     "text": [
      "  7%|███▎                                             | 33639/500000 [06:21<1:25:48, 90.59it/s]"
     ]
    },
    {
     "name": "stdout",
     "output_type": "stream",
     "text": [
      "['PRO_9136', 'PRO_8851']\n"
     ]
    },
    {
     "name": "stderr",
     "output_type": "stream",
     "text": [
      "  7%|███▎                                             | 33852/500000 [06:23<1:24:43, 91.70it/s]"
     ]
    },
    {
     "name": "stdout",
     "output_type": "stream",
     "text": [
      "['PRO_6102', 'PRO_22548']\n"
     ]
    },
    {
     "name": "stderr",
     "output_type": "stream",
     "text": [
      "  7%|███▎                                             | 33969/500000 [06:24<1:25:16, 91.08it/s]"
     ]
    },
    {
     "name": "stdout",
     "output_type": "stream",
     "text": [
      "['PRO_22787', 'PRO_9567']\n"
     ]
    },
    {
     "name": "stderr",
     "output_type": "stream",
     "text": [
      "  7%|███▎                                             | 34134/500000 [06:26<1:26:21, 89.92it/s]"
     ]
    },
    {
     "name": "stdout",
     "output_type": "stream",
     "text": [
      "['PRO_4855', 'PRO_22123']\n"
     ]
    },
    {
     "name": "stderr",
     "output_type": "stream",
     "text": [
      "  7%|███▌                                             | 35746/500000 [06:44<1:24:21, 91.72it/s]"
     ]
    },
    {
     "name": "stdout",
     "output_type": "stream",
     "text": [
      "['PRO_22428', 'PRO_5116']\n"
     ]
    },
    {
     "name": "stderr",
     "output_type": "stream",
     "text": [
      "  7%|███▌                                             | 36153/500000 [06:49<1:25:26, 90.49it/s]"
     ]
    },
    {
     "name": "stdout",
     "output_type": "stream",
     "text": [
      "['PRO_19429', 'PRO_7872']\n"
     ]
    },
    {
     "name": "stderr",
     "output_type": "stream",
     "text": [
      "  7%|███▋                                             | 37005/500000 [06:59<1:24:24, 91.42it/s]"
     ]
    },
    {
     "name": "stdout",
     "output_type": "stream",
     "text": [
      "['PRO_1831', 'PRO_15385']\n"
     ]
    },
    {
     "name": "stderr",
     "output_type": "stream",
     "text": [
      "  7%|███▋                                             | 37113/500000 [07:00<1:25:55, 89.78it/s]"
     ]
    },
    {
     "name": "stdout",
     "output_type": "stream",
     "text": [
      "['PRO_15894', 'PRO_11132']\n"
     ]
    },
    {
     "name": "stderr",
     "output_type": "stream",
     "text": [
      "  8%|████                                             | 40976/500000 [07:43<1:26:59, 87.95it/s]"
     ]
    },
    {
     "name": "stdout",
     "output_type": "stream",
     "text": [
      "['PRO_5778', 'PRO_20976']\n"
     ]
    },
    {
     "name": "stderr",
     "output_type": "stream",
     "text": [
      "  8%|████▏                                            | 42285/500000 [07:58<1:24:31, 90.25it/s]"
     ]
    },
    {
     "name": "stdout",
     "output_type": "stream",
     "text": [
      "['PRO_2221', 'PRO_10623']\n"
     ]
    },
    {
     "name": "stderr",
     "output_type": "stream",
     "text": [
      "  9%|████▏                                            | 43027/500000 [08:06<1:44:13, 73.08it/s]"
     ]
    },
    {
     "name": "stdout",
     "output_type": "stream",
     "text": [
      "['PRO_20143', 'PRO_17408']\n"
     ]
    },
    {
     "name": "stderr",
     "output_type": "stream",
     "text": [
      "  9%|████▎                                            | 43438/500000 [08:12<1:39:54, 76.16it/s]"
     ]
    },
    {
     "name": "stdout",
     "output_type": "stream",
     "text": [
      "['PRO_21144', 'PRO_23430']\n"
     ]
    },
    {
     "name": "stderr",
     "output_type": "stream",
     "text": [
      "  9%|████▍                                            | 44770/500000 [08:29<1:27:24, 86.80it/s]"
     ]
    },
    {
     "name": "stdout",
     "output_type": "stream",
     "text": [
      "['PRO_7720', 'PRO_6126']\n"
     ]
    },
    {
     "name": "stderr",
     "output_type": "stream",
     "text": [
      "  9%|████▍                                            | 45604/500000 [08:39<1:51:23, 67.99it/s]"
     ]
    },
    {
     "name": "stdout",
     "output_type": "stream",
     "text": [
      "['PRO_20507', 'PRO_22806']\n"
     ]
    },
    {
     "name": "stderr",
     "output_type": "stream",
     "text": [
      "  9%|████▍                                            | 45818/500000 [08:42<1:23:37, 90.52it/s]"
     ]
    },
    {
     "name": "stdout",
     "output_type": "stream",
     "text": [
      "['PRO_15814', 'PRO_22763']\n"
     ]
    },
    {
     "name": "stderr",
     "output_type": "stream",
     "text": [
      "  9%|████▍                                            | 45910/500000 [08:43<1:40:26, 75.34it/s]"
     ]
    },
    {
     "name": "stdout",
     "output_type": "stream",
     "text": [
      "['PRO_9676', 'PRO_8606']\n"
     ]
    },
    {
     "name": "stderr",
     "output_type": "stream",
     "text": [
      "  9%|████▌                                            | 46257/500000 [08:47<1:24:59, 88.98it/s]"
     ]
    },
    {
     "name": "stdout",
     "output_type": "stream",
     "text": [
      "['PRO_16941', 'PRO_14439']\n"
     ]
    },
    {
     "name": "stderr",
     "output_type": "stream",
     "text": [
      "  9%|████▌                                            | 46782/500000 [08:54<1:30:34, 83.39it/s]"
     ]
    },
    {
     "name": "stdout",
     "output_type": "stream",
     "text": [
      "['PRO_22513', 'PRO_21716']\n"
     ]
    },
    {
     "name": "stderr",
     "output_type": "stream",
     "text": [
      "  9%|████▋                                            | 47245/500000 [09:00<1:40:31, 75.07it/s]"
     ]
    },
    {
     "name": "stdout",
     "output_type": "stream",
     "text": [
      "['PRO_17052', 'PRO_18039']\n"
     ]
    },
    {
     "name": "stderr",
     "output_type": "stream",
     "text": [
      " 10%|████▋                                            | 47601/500000 [09:04<1:48:19, 69.61it/s]"
     ]
    },
    {
     "name": "stdout",
     "output_type": "stream",
     "text": [
      "['PRO_2915', 'PRO_19605']\n"
     ]
    },
    {
     "name": "stderr",
     "output_type": "stream",
     "text": [
      " 10%|████▊                                            | 49392/500000 [09:26<1:34:54, 79.13it/s]"
     ]
    },
    {
     "name": "stdout",
     "output_type": "stream",
     "text": [
      "['PRO_21722', 'PRO_18077']\n"
     ]
    },
    {
     "name": "stderr",
     "output_type": "stream",
     "text": [
      " 10%|████▉                                            | 50544/500000 [09:39<1:23:31, 89.68it/s]"
     ]
    },
    {
     "name": "stdout",
     "output_type": "stream",
     "text": [
      "['PRO_336', 'PRO_20088']\n"
     ]
    },
    {
     "name": "stderr",
     "output_type": "stream",
     "text": [
      " 10%|█████                                            | 51958/500000 [09:56<1:21:46, 91.31it/s]"
     ]
    },
    {
     "name": "stdout",
     "output_type": "stream",
     "text": [
      "['PRO_8504', 'PRO_18719']\n"
     ]
    },
    {
     "name": "stderr",
     "output_type": "stream",
     "text": [
      " 10%|█████▏                                           | 52364/500000 [10:00<1:25:58, 86.78it/s]"
     ]
    },
    {
     "name": "stdout",
     "output_type": "stream",
     "text": [
      "['PRO_2433', 'PRO_20545']\n"
     ]
    },
    {
     "name": "stderr",
     "output_type": "stream",
     "text": [
      " 11%|█████▏                                           | 52762/500000 [10:05<1:25:56, 86.73it/s]"
     ]
    },
    {
     "name": "stdout",
     "output_type": "stream",
     "text": [
      "['PRO_2067', 'PRO_5725']\n"
     ]
    },
    {
     "name": "stderr",
     "output_type": "stream",
     "text": [
      " 11%|█████▏                                           | 53167/500000 [10:09<1:22:24, 90.37it/s]"
     ]
    },
    {
     "name": "stdout",
     "output_type": "stream",
     "text": [
      "['PRO_14604', 'PRO_7542']\n"
     ]
    },
    {
     "name": "stderr",
     "output_type": "stream",
     "text": [
      " 11%|█████▎                                           | 53643/500000 [10:15<1:26:23, 86.12it/s]"
     ]
    },
    {
     "name": "stdout",
     "output_type": "stream",
     "text": [
      "['PRO_21557', 'PRO_8407']\n"
     ]
    },
    {
     "name": "stderr",
     "output_type": "stream",
     "text": [
      " 11%|█████▎                                           | 53968/500000 [10:19<1:23:53, 88.61it/s]"
     ]
    },
    {
     "name": "stdout",
     "output_type": "stream",
     "text": [
      "['PRO_13932', 'PRO_5223']\n"
     ]
    },
    {
     "name": "stderr",
     "output_type": "stream",
     "text": [
      " 11%|█████▎                                           | 54211/500000 [10:21<1:19:38, 93.28it/s]"
     ]
    },
    {
     "name": "stdout",
     "output_type": "stream",
     "text": [
      "['PRO_21734', 'PRO_226']\n"
     ]
    },
    {
     "name": "stderr",
     "output_type": "stream",
     "text": [
      " 11%|█████▎                                           | 54279/500000 [10:22<1:23:10, 89.31it/s]"
     ]
    },
    {
     "name": "stdout",
     "output_type": "stream",
     "text": [
      "['PRO_2872', 'PRO_14761']\n"
     ]
    },
    {
     "name": "stderr",
     "output_type": "stream",
     "text": [
      " 11%|█████▍                                           | 55910/500000 [10:41<1:20:29, 91.96it/s]"
     ]
    },
    {
     "name": "stdout",
     "output_type": "stream",
     "text": [
      "['PRO_13852', 'PRO_11579']\n"
     ]
    },
    {
     "name": "stderr",
     "output_type": "stream",
     "text": [
      " 11%|█████▍                                           | 56033/500000 [10:42<1:22:44, 89.44it/s]"
     ]
    },
    {
     "name": "stdout",
     "output_type": "stream",
     "text": [
      "['PRO_9935', 'PRO_1721']\n"
     ]
    },
    {
     "name": "stderr",
     "output_type": "stream",
     "text": [
      " 12%|█████▋                                           | 58525/500000 [11:11<1:23:16, 88.35it/s]"
     ]
    },
    {
     "name": "stdout",
     "output_type": "stream",
     "text": [
      "['PRO_4682', 'PRO_19459']\n"
     ]
    },
    {
     "name": "stderr",
     "output_type": "stream",
     "text": [
      " 12%|█████▋                                           | 58590/500000 [11:12<1:22:26, 89.24it/s]"
     ]
    },
    {
     "name": "stdout",
     "output_type": "stream",
     "text": [
      "['PRO_19797', 'PRO_5553']\n"
     ]
    },
    {
     "name": "stderr",
     "output_type": "stream",
     "text": [
      " 12%|█████▊                                           | 58989/500000 [11:16<1:25:25, 86.05it/s]"
     ]
    },
    {
     "name": "stdout",
     "output_type": "stream",
     "text": [
      "['PRO_21072', 'PRO_13257']\n"
     ]
    },
    {
     "name": "stderr",
     "output_type": "stream",
     "text": [
      " 12%|█████▊                                           | 59542/500000 [11:23<1:27:32, 83.86it/s]"
     ]
    },
    {
     "name": "stdout",
     "output_type": "stream",
     "text": [
      "['PRO_15413', 'PRO_14948']\n"
     ]
    },
    {
     "name": "stderr",
     "output_type": "stream",
     "text": [
      " 12%|█████▊                                           | 59626/500000 [11:24<1:21:17, 90.29it/s]"
     ]
    },
    {
     "name": "stdout",
     "output_type": "stream",
     "text": [
      "['PRO_264', 'PRO_1672']\n"
     ]
    },
    {
     "name": "stderr",
     "output_type": "stream",
     "text": [
      " 12%|█████▊                                           | 59936/500000 [11:27<1:24:18, 87.00it/s]"
     ]
    },
    {
     "name": "stdout",
     "output_type": "stream",
     "text": [
      "['PRO_22117', 'PRO_13372']\n"
     ]
    },
    {
     "name": "stderr",
     "output_type": "stream",
     "text": [
      " 12%|█████▉                                           | 59985/500000 [11:28<1:21:40, 89.79it/s]"
     ]
    },
    {
     "name": "stdout",
     "output_type": "stream",
     "text": [
      "['PRO_21757', 'PRO_22410']\n"
     ]
    },
    {
     "name": "stderr",
     "output_type": "stream",
     "text": [
      " 12%|█████▉                                           | 60014/500000 [11:28<1:21:55, 89.52it/s]"
     ]
    },
    {
     "name": "stdout",
     "output_type": "stream",
     "text": [
      "['PRO_22986', 'PRO_4769']\n"
     ]
    },
    {
     "name": "stderr",
     "output_type": "stream",
     "text": [
      " 12%|█████▉                                           | 60982/500000 [11:40<1:39:37, 73.44it/s]"
     ]
    },
    {
     "name": "stdout",
     "output_type": "stream",
     "text": [
      "['PRO_12036', 'PRO_18503']\n"
     ]
    },
    {
     "name": "stderr",
     "output_type": "stream",
     "text": [
      " 12%|██████                                           | 61273/500000 [11:44<1:28:10, 82.93it/s]"
     ]
    },
    {
     "name": "stdout",
     "output_type": "stream",
     "text": [
      "['PRO_8193', 'PRO_14682']\n"
     ]
    },
    {
     "name": "stderr",
     "output_type": "stream",
     "text": [
      " 12%|██████                                           | 62402/500000 [11:58<1:31:38, 79.58it/s]"
     ]
    },
    {
     "name": "stdout",
     "output_type": "stream",
     "text": [
      "['PRO_20916', 'PRO_12855']\n"
     ]
    },
    {
     "name": "stderr",
     "output_type": "stream",
     "text": [
      " 13%|██████▎                                          | 64008/500000 [12:19<1:22:55, 87.63it/s]"
     ]
    },
    {
     "name": "stdout",
     "output_type": "stream",
     "text": [
      "['PRO_14956', 'PRO_22244']\n"
     ]
    },
    {
     "name": "stderr",
     "output_type": "stream",
     "text": [
      " 13%|██████▎                                          | 64224/500000 [12:22<1:26:21, 84.10it/s]"
     ]
    },
    {
     "name": "stdout",
     "output_type": "stream",
     "text": [
      "['PRO_21464', 'PRO_13440']\n"
     ]
    },
    {
     "name": "stderr",
     "output_type": "stream",
     "text": [
      " 13%|██████▍                                          | 65531/500000 [12:37<1:22:01, 88.28it/s]"
     ]
    },
    {
     "name": "stdout",
     "output_type": "stream",
     "text": [
      "['PRO_15004', 'PRO_12315']\n"
     ]
    },
    {
     "name": "stderr",
     "output_type": "stream",
     "text": [
      " 13%|██████▍                                          | 65577/500000 [12:37<1:22:21, 87.92it/s]"
     ]
    },
    {
     "name": "stdout",
     "output_type": "stream",
     "text": [
      "['PRO_21557', 'PRO_19784']\n"
     ]
    },
    {
     "name": "stderr",
     "output_type": "stream",
     "text": [
      " 13%|██████▍                                          | 65730/500000 [12:39<1:22:34, 87.65it/s]"
     ]
    },
    {
     "name": "stdout",
     "output_type": "stream",
     "text": [
      "['PRO_2122', 'PRO_12680']\n"
     ]
    },
    {
     "name": "stderr",
     "output_type": "stream",
     "text": [
      " 13%|██████▍                                          | 65970/500000 [12:42<1:18:55, 91.66it/s]"
     ]
    },
    {
     "name": "stdout",
     "output_type": "stream",
     "text": [
      "['PRO_16746', 'PRO_7210']\n"
     ]
    },
    {
     "name": "stderr",
     "output_type": "stream",
     "text": [
      " 13%|██████▍                                          | 66142/500000 [12:44<1:21:58, 88.21it/s]"
     ]
    },
    {
     "name": "stdout",
     "output_type": "stream",
     "text": [
      "['PRO_10405', 'PRO_5664']\n"
     ]
    },
    {
     "name": "stderr",
     "output_type": "stream",
     "text": [
      " 13%|██████▌                                          | 67175/500000 [12:56<1:24:06, 85.77it/s]"
     ]
    },
    {
     "name": "stdout",
     "output_type": "stream",
     "text": [
      "['PRO_7902', 'PRO_20596']\n"
     ]
    },
    {
     "name": "stderr",
     "output_type": "stream",
     "text": [
      " 13%|██████▌                                          | 67433/500000 [12:59<1:33:32, 77.07it/s]"
     ]
    },
    {
     "name": "stdout",
     "output_type": "stream",
     "text": [
      "['PRO_16488', 'PRO_3255']\n"
     ]
    },
    {
     "name": "stderr",
     "output_type": "stream",
     "text": [
      " 14%|██████▋                                          | 67880/500000 [13:06<1:39:09, 72.63it/s]"
     ]
    },
    {
     "name": "stdout",
     "output_type": "stream",
     "text": [
      "['PRO_20752', 'PRO_3481']\n"
     ]
    },
    {
     "name": "stderr",
     "output_type": "stream",
     "text": [
      " 14%|██████▋                                          | 68083/500000 [13:10<1:53:37, 63.36it/s]"
     ]
    },
    {
     "name": "stdout",
     "output_type": "stream",
     "text": [
      "['PRO_19305', 'PRO_7845']\n"
     ]
    },
    {
     "name": "stderr",
     "output_type": "stream",
     "text": [
      " 14%|██████▋                                          | 68411/500000 [13:14<1:28:30, 81.27it/s]"
     ]
    },
    {
     "name": "stdout",
     "output_type": "stream",
     "text": [
      "['PRO_4321', 'PRO_8678']\n"
     ]
    },
    {
     "name": "stderr",
     "output_type": "stream",
     "text": [
      " 14%|██████▋                                          | 68632/500000 [13:17<1:46:09, 67.72it/s]"
     ]
    },
    {
     "name": "stdout",
     "output_type": "stream",
     "text": [
      "['PRO_20859', 'PRO_9208']\n"
     ]
    },
    {
     "name": "stderr",
     "output_type": "stream",
     "text": [
      " 14%|██████▊                                          | 68887/500000 [13:21<1:27:21, 82.25it/s]"
     ]
    },
    {
     "name": "stdout",
     "output_type": "stream",
     "text": [
      "['PRO_22763', 'PRO_6062']\n"
     ]
    },
    {
     "name": "stderr",
     "output_type": "stream",
     "text": [
      " 14%|██████▊                                          | 69373/500000 [13:27<1:36:13, 74.59it/s]"
     ]
    },
    {
     "name": "stdout",
     "output_type": "stream",
     "text": [
      "['PRO_6317', 'PRO_15034']\n"
     ]
    },
    {
     "name": "stderr",
     "output_type": "stream",
     "text": [
      " 14%|██████▉                                          | 70544/500000 [13:43<1:30:05, 79.45it/s]"
     ]
    },
    {
     "name": "stdout",
     "output_type": "stream",
     "text": [
      "['PRO_7900', 'PRO_10018']\n"
     ]
    },
    {
     "name": "stderr",
     "output_type": "stream",
     "text": [
      " 14%|██████▉                                          | 71409/500000 [13:54<1:46:41, 66.95it/s]"
     ]
    },
    {
     "name": "stdout",
     "output_type": "stream",
     "text": [
      "['PRO_21307', 'PRO_14038']\n"
     ]
    },
    {
     "name": "stderr",
     "output_type": "stream",
     "text": [
      " 14%|███████                                          | 71886/500000 [14:02<1:47:36, 66.30it/s]"
     ]
    },
    {
     "name": "stdout",
     "output_type": "stream",
     "text": [
      "['PRO_13269', 'PRO_6682']\n"
     ]
    },
    {
     "name": "stderr",
     "output_type": "stream",
     "text": [
      " 15%|███████▎                                         | 74630/500000 [14:37<1:22:35, 85.83it/s]"
     ]
    },
    {
     "name": "stdout",
     "output_type": "stream",
     "text": [
      "['PRO_3460', 'PRO_18709']\n"
     ]
    },
    {
     "name": "stderr",
     "output_type": "stream",
     "text": [
      " 15%|███████▎                                         | 74721/500000 [14:38<1:21:50, 86.61it/s]"
     ]
    },
    {
     "name": "stdout",
     "output_type": "stream",
     "text": [
      "['PRO_16317', 'PRO_11619']\n"
     ]
    },
    {
     "name": "stderr",
     "output_type": "stream",
     "text": [
      " 15%|███████▎                                         | 75019/500000 [14:41<1:20:43, 87.74it/s]"
     ]
    },
    {
     "name": "stdout",
     "output_type": "stream",
     "text": [
      "['PRO_19621', 'PRO_2171']\n"
     ]
    },
    {
     "name": "stderr",
     "output_type": "stream",
     "text": [
      " 15%|███████▍                                         | 75589/500000 [14:48<1:21:21, 86.94it/s]"
     ]
    },
    {
     "name": "stdout",
     "output_type": "stream",
     "text": [
      "['PRO_22967', 'PRO_6020']\n"
     ]
    },
    {
     "name": "stderr",
     "output_type": "stream",
     "text": [
      " 15%|███████▍                                         | 76088/500000 [14:54<1:18:51, 89.59it/s]"
     ]
    },
    {
     "name": "stdout",
     "output_type": "stream",
     "text": [
      "['PRO_11824', 'PRO_4960']\n"
     ]
    },
    {
     "name": "stderr",
     "output_type": "stream",
     "text": [
      " 15%|███████▌                                         | 77265/500000 [15:07<1:19:02, 89.14it/s]"
     ]
    },
    {
     "name": "stdout",
     "output_type": "stream",
     "text": [
      "['PRO_3012', 'PRO_13817']\n"
     ]
    },
    {
     "name": "stderr",
     "output_type": "stream",
     "text": [
      " 15%|███████▌                                         | 77302/500000 [15:08<1:19:36, 88.50it/s]"
     ]
    },
    {
     "name": "stdout",
     "output_type": "stream",
     "text": [
      "['PRO_6573', 'PRO_5878']\n"
     ]
    },
    {
     "name": "stderr",
     "output_type": "stream",
     "text": [
      " 16%|███████▋                                         | 78072/500000 [15:17<1:19:35, 88.36it/s]"
     ]
    },
    {
     "name": "stdout",
     "output_type": "stream",
     "text": [
      "['PRO_20901', 'PRO_14067']\n"
     ]
    },
    {
     "name": "stderr",
     "output_type": "stream",
     "text": [
      " 16%|███████▋                                         | 78783/500000 [15:26<1:21:10, 86.48it/s]"
     ]
    },
    {
     "name": "stdout",
     "output_type": "stream",
     "text": [
      "['PRO_9406', 'PRO_16259']\n"
     ]
    },
    {
     "name": "stderr",
     "output_type": "stream",
     "text": [
      " 16%|███████▊                                         | 79931/500000 [15:39<1:20:00, 87.51it/s]"
     ]
    },
    {
     "name": "stdout",
     "output_type": "stream",
     "text": [
      "['PRO_12855', 'PRO_20916']\n"
     ]
    },
    {
     "name": "stderr",
     "output_type": "stream",
     "text": [
      " 16%|████████                                         | 81790/500000 [16:01<1:19:48, 87.34it/s]"
     ]
    },
    {
     "name": "stdout",
     "output_type": "stream",
     "text": [
      "['PRO_4960', 'PRO_12924']\n"
     ]
    },
    {
     "name": "stderr",
     "output_type": "stream",
     "text": [
      " 16%|████████                                         | 81837/500000 [16:01<1:17:16, 90.19it/s]"
     ]
    },
    {
     "name": "stdout",
     "output_type": "stream",
     "text": [
      "['PRO_5195', 'PRO_15932']\n"
     ]
    },
    {
     "name": "stderr",
     "output_type": "stream",
     "text": [
      " 17%|████████                                         | 82735/500000 [16:13<1:39:00, 70.24it/s]"
     ]
    },
    {
     "name": "stdout",
     "output_type": "stream",
     "text": [
      "['PRO_13222', 'PRO_20341']\n"
     ]
    },
    {
     "name": "stderr",
     "output_type": "stream",
     "text": [
      " 17%|████████▎                                        | 84775/500000 [16:37<1:12:01, 96.09it/s]"
     ]
    },
    {
     "name": "stdout",
     "output_type": "stream",
     "text": [
      "['PRO_19874', 'PRO_5811']\n"
     ]
    },
    {
     "name": "stderr",
     "output_type": "stream",
     "text": [
      " 17%|████████▍                                        | 85817/500000 [16:49<1:13:12, 94.29it/s]"
     ]
    },
    {
     "name": "stdout",
     "output_type": "stream",
     "text": [
      "['PRO_4035', 'PRO_17151']\n"
     ]
    },
    {
     "name": "stderr",
     "output_type": "stream",
     "text": [
      " 17%|████████▍                                        | 86007/500000 [16:51<1:12:10, 95.60it/s]"
     ]
    },
    {
     "name": "stdout",
     "output_type": "stream",
     "text": [
      "['PRO_16241', 'PRO_2898']\n"
     ]
    },
    {
     "name": "stderr",
     "output_type": "stream",
     "text": [
      " 17%|████████▍                                        | 86156/500000 [16:53<1:18:42, 87.63it/s]"
     ]
    },
    {
     "name": "stdout",
     "output_type": "stream",
     "text": [
      "['PRO_18134', 'PRO_22183']\n"
     ]
    },
    {
     "name": "stderr",
     "output_type": "stream",
     "text": [
      " 18%|████████▌                                        | 87778/500000 [17:11<1:21:58, 83.80it/s]"
     ]
    },
    {
     "name": "stdout",
     "output_type": "stream",
     "text": [
      "['PRO_8185', 'PRO_1522']\n"
     ]
    },
    {
     "name": "stderr",
     "output_type": "stream",
     "text": [
      " 18%|████████▋                                        | 89028/500000 [17:26<1:26:19, 79.34it/s]"
     ]
    },
    {
     "name": "stdout",
     "output_type": "stream",
     "text": [
      "['PRO_8235', 'PRO_9977']\n"
     ]
    },
    {
     "name": "stderr",
     "output_type": "stream",
     "text": [
      " 18%|████████▉                                        | 91566/500000 [17:57<1:17:40, 87.65it/s]"
     ]
    },
    {
     "name": "stdout",
     "output_type": "stream",
     "text": [
      "['PRO_22923', 'PRO_719']\n"
     ]
    },
    {
     "name": "stderr",
     "output_type": "stream",
     "text": [
      " 18%|█████████                                        | 91872/500000 [18:01<1:26:52, 78.30it/s]"
     ]
    },
    {
     "name": "stdout",
     "output_type": "stream",
     "text": [
      "['PRO_7477', 'PRO_18511']\n"
     ]
    },
    {
     "name": "stderr",
     "output_type": "stream",
     "text": [
      " 18%|█████████                                        | 92335/500000 [18:06<1:15:27, 90.03it/s]"
     ]
    },
    {
     "name": "stdout",
     "output_type": "stream",
     "text": [
      "['PRO_20727', 'PRO_15614']\n"
     ]
    },
    {
     "name": "stderr",
     "output_type": "stream",
     "text": [
      " 19%|█████████                                        | 92723/500000 [18:11<1:21:52, 82.90it/s]"
     ]
    },
    {
     "name": "stdout",
     "output_type": "stream",
     "text": [
      "['PRO_17781', 'PRO_7186']\n"
     ]
    },
    {
     "name": "stderr",
     "output_type": "stream",
     "text": [
      " 19%|█████████▏                                       | 93414/500000 [18:20<1:26:28, 78.36it/s]"
     ]
    },
    {
     "name": "stdout",
     "output_type": "stream",
     "text": [
      "['PRO_525', 'PRO_20843']\n"
     ]
    },
    {
     "name": "stderr",
     "output_type": "stream",
     "text": [
      " 19%|█████████▏                                       | 93569/500000 [18:22<1:31:11, 74.28it/s]"
     ]
    },
    {
     "name": "stdout",
     "output_type": "stream",
     "text": [
      "['PRO_6102', 'PRO_11511']\n"
     ]
    },
    {
     "name": "stderr",
     "output_type": "stream",
     "text": [
      " 19%|█████████▏                                       | 94062/500000 [18:27<1:12:18, 93.57it/s]"
     ]
    },
    {
     "name": "stdout",
     "output_type": "stream",
     "text": [
      "['PRO_14599', 'PRO_7781']\n"
     ]
    },
    {
     "name": "stderr",
     "output_type": "stream",
     "text": [
      " 19%|█████████▎                                       | 94623/500000 [18:33<1:10:29, 95.85it/s]"
     ]
    },
    {
     "name": "stdout",
     "output_type": "stream",
     "text": [
      "['PRO_4382', 'PRO_3813']\n"
     ]
    },
    {
     "name": "stderr",
     "output_type": "stream",
     "text": [
      " 19%|█████████▍                                       | 96498/500000 [18:55<1:15:51, 88.66it/s]"
     ]
    },
    {
     "name": "stdout",
     "output_type": "stream",
     "text": [
      "['PRO_14986', 'PRO_21025']\n"
     ]
    },
    {
     "name": "stderr",
     "output_type": "stream",
     "text": [
      " 19%|█████████▌                                       | 97446/500000 [19:07<1:13:26, 91.35it/s]"
     ]
    },
    {
     "name": "stdout",
     "output_type": "stream",
     "text": [
      "['PRO_1990', 'PRO_19620']\n"
     ]
    },
    {
     "name": "stderr",
     "output_type": "stream",
     "text": [
      " 20%|█████████▌                                       | 97856/500000 [19:11<1:10:12, 95.47it/s]"
     ]
    },
    {
     "name": "stdout",
     "output_type": "stream",
     "text": [
      "['PRO_19505', 'PRO_17174']\n"
     ]
    },
    {
     "name": "stderr",
     "output_type": "stream",
     "text": [
      " 20%|█████████▌                                       | 97968/500000 [19:13<1:20:13, 83.52it/s]"
     ]
    },
    {
     "name": "stdout",
     "output_type": "stream",
     "text": [
      "['PRO_17029', 'PRO_10207']\n"
     ]
    },
    {
     "name": "stderr",
     "output_type": "stream",
     "text": [
      " 20%|█████████▋                                       | 98249/500000 [19:16<1:10:39, 94.77it/s]"
     ]
    },
    {
     "name": "stdout",
     "output_type": "stream",
     "text": [
      "['PRO_8081', 'PRO_9521']\n"
     ]
    },
    {
     "name": "stderr",
     "output_type": "stream",
     "text": [
      " 20%|█████████▋                                      | 100363/500000 [19:38<1:08:46, 96.85it/s]"
     ]
    },
    {
     "name": "stdout",
     "output_type": "stream",
     "text": [
      "['PRO_3793', 'PRO_5851']\n"
     ]
    },
    {
     "name": "stderr",
     "output_type": "stream",
     "text": [
      " 20%|█████████▋                                      | 100703/500000 [19:42<1:09:45, 95.40it/s]"
     ]
    },
    {
     "name": "stdout",
     "output_type": "stream",
     "text": [
      "['PRO_9982', 'PRO_12586']\n"
     ]
    },
    {
     "name": "stderr",
     "output_type": "stream",
     "text": [
      " 20%|█████████▋                                      | 100864/500000 [19:43<1:08:16, 97.42it/s]"
     ]
    },
    {
     "name": "stdout",
     "output_type": "stream",
     "text": [
      "['PRO_11482', 'PRO_11205']\n"
     ]
    },
    {
     "name": "stderr",
     "output_type": "stream",
     "text": [
      " 21%|█████████▉                                      | 102986/500000 [20:06<1:08:00, 97.29it/s]"
     ]
    },
    {
     "name": "stdout",
     "output_type": "stream",
     "text": [
      "['PRO_9646', 'PRO_10177']\n"
     ]
    },
    {
     "name": "stderr",
     "output_type": "stream",
     "text": [
      " 21%|██████████                                      | 104938/500000 [20:28<1:14:33, 88.31it/s]"
     ]
    },
    {
     "name": "stdout",
     "output_type": "stream",
     "text": [
      "['PRO_2980', 'PRO_13132']\n"
     ]
    },
    {
     "name": "stderr",
     "output_type": "stream",
     "text": [
      " 21%|██████████▏                                     | 105640/500000 [20:36<1:12:25, 90.75it/s]"
     ]
    },
    {
     "name": "stdout",
     "output_type": "stream",
     "text": [
      "['PRO_682', 'PRO_1039']\n"
     ]
    },
    {
     "name": "stderr",
     "output_type": "stream",
     "text": [
      " 21%|██████████▏                                     | 106515/500000 [20:46<1:12:52, 89.99it/s]"
     ]
    },
    {
     "name": "stdout",
     "output_type": "stream",
     "text": [
      "['PRO_584', 'PRO_750']\n"
     ]
    },
    {
     "name": "stderr",
     "output_type": "stream",
     "text": [
      " 21%|██████████▎                                     | 107436/500000 [20:57<1:13:31, 88.99it/s]"
     ]
    },
    {
     "name": "stdout",
     "output_type": "stream",
     "text": [
      "['PRO_18690', 'PRO_7448']\n"
     ]
    },
    {
     "name": "stderr",
     "output_type": "stream",
     "text": [
      " 22%|██████████▎                                     | 107726/500000 [21:00<1:11:25, 91.53it/s]"
     ]
    },
    {
     "name": "stdout",
     "output_type": "stream",
     "text": [
      "['PRO_19265', 'PRO_19463']\n"
     ]
    },
    {
     "name": "stderr",
     "output_type": "stream",
     "text": [
      " 22%|██████████▎                                     | 107894/500000 [21:02<1:16:52, 85.01it/s]"
     ]
    },
    {
     "name": "stdout",
     "output_type": "stream",
     "text": [
      "['PRO_14157', 'PRO_10168']\n"
     ]
    },
    {
     "name": "stderr",
     "output_type": "stream",
     "text": [
      " 22%|██████████▍                                     | 108117/500000 [21:04<1:12:00, 90.70it/s]"
     ]
    },
    {
     "name": "stdout",
     "output_type": "stream",
     "text": [
      "['PRO_14179', 'PRO_6212']\n"
     ]
    },
    {
     "name": "stderr",
     "output_type": "stream",
     "text": [
      " 22%|██████████▋                                     | 111172/500000 [21:39<1:10:49, 91.49it/s]"
     ]
    },
    {
     "name": "stdout",
     "output_type": "stream",
     "text": [
      "['PRO_16488', 'PRO_6098']\n"
     ]
    },
    {
     "name": "stderr",
     "output_type": "stream",
     "text": [
      " 22%|██████████▋                                     | 111380/500000 [21:42<1:12:42, 89.08it/s]"
     ]
    },
    {
     "name": "stdout",
     "output_type": "stream",
     "text": [
      "['PRO_4887', 'PRO_10735']\n"
     ]
    },
    {
     "name": "stderr",
     "output_type": "stream",
     "text": [
      " 22%|██████████▋                                     | 111452/500000 [21:42<1:13:11, 88.48it/s]"
     ]
    },
    {
     "name": "stdout",
     "output_type": "stream",
     "text": [
      "['PRO_6110', 'PRO_4591']\n"
     ]
    },
    {
     "name": "stderr",
     "output_type": "stream",
     "text": [
      " 22%|██████████▋                                     | 111854/500000 [21:47<1:12:03, 89.78it/s]"
     ]
    },
    {
     "name": "stdout",
     "output_type": "stream",
     "text": [
      "['PRO_4404', 'PRO_951']\n"
     ]
    },
    {
     "name": "stderr",
     "output_type": "stream",
     "text": [
      " 23%|███████████                                     | 115351/500000 [22:27<1:11:55, 89.12it/s]"
     ]
    },
    {
     "name": "stdout",
     "output_type": "stream",
     "text": [
      "['PRO_19536', 'PRO_7499']\n"
     ]
    },
    {
     "name": "stderr",
     "output_type": "stream",
     "text": [
      " 23%|███████████▏                                    | 115999/500000 [22:34<1:13:45, 86.77it/s]"
     ]
    },
    {
     "name": "stdout",
     "output_type": "stream",
     "text": [
      "['PRO_16150', 'PRO_13085']\n"
     ]
    },
    {
     "name": "stderr",
     "output_type": "stream",
     "text": [
      " 23%|███████████▏                                    | 116294/500000 [22:38<1:11:11, 89.84it/s]"
     ]
    },
    {
     "name": "stdout",
     "output_type": "stream",
     "text": [
      "['PRO_7827', 'PRO_19372']\n"
     ]
    },
    {
     "name": "stderr",
     "output_type": "stream",
     "text": [
      " 23%|███████████▏                                    | 116643/500000 [22:41<1:11:48, 88.98it/s]"
     ]
    },
    {
     "name": "stdout",
     "output_type": "stream",
     "text": [
      "['PRO_8697', 'PRO_17481']\n"
     ]
    },
    {
     "name": "stderr",
     "output_type": "stream",
     "text": [
      " 24%|███████████▎                                    | 117592/500000 [22:52<1:12:01, 88.48it/s]"
     ]
    },
    {
     "name": "stdout",
     "output_type": "stream",
     "text": [
      "['PRO_469', 'PRO_17343']\n"
     ]
    },
    {
     "name": "stderr",
     "output_type": "stream",
     "text": [
      " 24%|███████████▍                                    | 118877/500000 [23:07<1:10:48, 89.70it/s]"
     ]
    },
    {
     "name": "stdout",
     "output_type": "stream",
     "text": [
      "['PRO_19622', 'PRO_9646']\n"
     ]
    },
    {
     "name": "stderr",
     "output_type": "stream",
     "text": [
      " 24%|███████████▋                                    | 121841/500000 [23:43<1:29:20, 70.54it/s]"
     ]
    },
    {
     "name": "stdout",
     "output_type": "stream",
     "text": [
      "['PRO_4960', 'PRO_9076']\n"
     ]
    },
    {
     "name": "stderr",
     "output_type": "stream",
     "text": [
      " 25%|███████████▊                                    | 122665/500000 [23:53<1:15:25, 83.38it/s]"
     ]
    },
    {
     "name": "stdout",
     "output_type": "stream",
     "text": [
      "['PRO_8800', 'PRO_1602']\n"
     ]
    },
    {
     "name": "stderr",
     "output_type": "stream",
     "text": [
      " 25%|███████████▊                                    | 123449/500000 [24:03<1:20:54, 77.57it/s]"
     ]
    },
    {
     "name": "stdout",
     "output_type": "stream",
     "text": [
      "['PRO_21464', 'PRO_10486']\n"
     ]
    },
    {
     "name": "stderr",
     "output_type": "stream",
     "text": [
      " 25%|███████████▊                                    | 123674/500000 [24:05<1:10:46, 88.63it/s]"
     ]
    },
    {
     "name": "stdout",
     "output_type": "stream",
     "text": [
      "['PRO_6158', 'PRO_9868']\n"
     ]
    },
    {
     "name": "stderr",
     "output_type": "stream",
     "text": [
      " 25%|███████████▉                                    | 124245/500000 [24:12<1:11:49, 87.20it/s]"
     ]
    },
    {
     "name": "stdout",
     "output_type": "stream",
     "text": [
      "['PRO_7900', 'PRO_11905']\n"
     ]
    },
    {
     "name": "stderr",
     "output_type": "stream",
     "text": [
      " 25%|████████████                                    | 125796/500000 [24:30<1:09:35, 89.61it/s]"
     ]
    },
    {
     "name": "stdout",
     "output_type": "stream",
     "text": [
      "['PRO_6370', 'PRO_4695']\n"
     ]
    },
    {
     "name": "stderr",
     "output_type": "stream",
     "text": [
      " 25%|████████████                                    | 126243/500000 [24:35<1:09:14, 89.96it/s]"
     ]
    },
    {
     "name": "stdout",
     "output_type": "stream",
     "text": [
      "['PRO_8309', 'PRO_18959']\n"
     ]
    },
    {
     "name": "stderr",
     "output_type": "stream",
     "text": [
      " 25%|████████████▏                                   | 126598/500000 [24:39<1:08:46, 90.48it/s]"
     ]
    },
    {
     "name": "stdout",
     "output_type": "stream",
     "text": [
      "['PRO_1297', 'PRO_21474']\n"
     ]
    },
    {
     "name": "stderr",
     "output_type": "stream",
     "text": [
      " 26%|████████████▌                                   | 130310/500000 [25:27<1:26:42, 71.06it/s]"
     ]
    },
    {
     "name": "stdout",
     "output_type": "stream",
     "text": [
      "['PRO_390', 'PRO_5206']\n"
     ]
    },
    {
     "name": "stderr",
     "output_type": "stream",
     "text": [
      " 26%|████████████▋                                   | 132018/500000 [25:47<1:08:00, 90.18it/s]"
     ]
    },
    {
     "name": "stdout",
     "output_type": "stream",
     "text": [
      "['PRO_6762', 'PRO_21513']\n"
     ]
    },
    {
     "name": "stderr",
     "output_type": "stream",
     "text": [
      " 26%|████████████▋                                   | 132137/500000 [25:48<1:08:25, 89.60it/s]"
     ]
    },
    {
     "name": "stdout",
     "output_type": "stream",
     "text": [
      "['PRO_4960', 'PRO_8940']\n"
     ]
    },
    {
     "name": "stderr",
     "output_type": "stream",
     "text": [
      " 27%|████████████▉                                   | 134421/500000 [26:16<1:12:11, 84.40it/s]"
     ]
    },
    {
     "name": "stdout",
     "output_type": "stream",
     "text": [
      "['PRO_4683', 'PRO_2161']\n"
     ]
    },
    {
     "name": "stderr",
     "output_type": "stream",
     "text": [
      " 27%|████████████▉                                   | 134885/500000 [26:22<1:22:00, 74.21it/s]"
     ]
    },
    {
     "name": "stdout",
     "output_type": "stream",
     "text": [
      "['PRO_8141', 'PRO_6494']\n"
     ]
    },
    {
     "name": "stderr",
     "output_type": "stream",
     "text": [
      " 28%|█████████████▎                                  | 138661/500000 [27:11<1:21:59, 73.45it/s]"
     ]
    },
    {
     "name": "stdout",
     "output_type": "stream",
     "text": [
      "['PRO_20097', 'PRO_3917']\n"
     ]
    },
    {
     "name": "stderr",
     "output_type": "stream",
     "text": [
      " 28%|█████████████▎                                  | 139208/500000 [27:17<1:10:29, 85.30it/s]"
     ]
    },
    {
     "name": "stdout",
     "output_type": "stream",
     "text": [
      "['PRO_18569', 'PRO_5316']\n"
     ]
    },
    {
     "name": "stderr",
     "output_type": "stream",
     "text": [
      " 28%|█████████████▌                                  | 141095/500000 [27:39<1:05:46, 90.95it/s]"
     ]
    },
    {
     "name": "stdout",
     "output_type": "stream",
     "text": [
      "['PRO_922', 'PRO_16084']\n"
     ]
    },
    {
     "name": "stderr",
     "output_type": "stream",
     "text": [
      " 28%|█████████████▌                                  | 141684/500000 [27:46<1:07:21, 88.66it/s]"
     ]
    },
    {
     "name": "stdout",
     "output_type": "stream",
     "text": [
      "['PRO_1510', 'PRO_7998']\n"
     ]
    },
    {
     "name": "stderr",
     "output_type": "stream",
     "text": [
      " 29%|█████████████▋                                  | 142822/500000 [27:58<1:05:52, 90.38it/s]"
     ]
    },
    {
     "name": "stdout",
     "output_type": "stream",
     "text": [
      "['PRO_22940', 'PRO_7141']\n"
     ]
    },
    {
     "name": "stderr",
     "output_type": "stream",
     "text": [
      " 29%|█████████████▊                                  | 143769/500000 [28:09<1:07:47, 87.57it/s]"
     ]
    },
    {
     "name": "stdout",
     "output_type": "stream",
     "text": [
      "['PRO_22210', 'PRO_8026']\n"
     ]
    },
    {
     "name": "stderr",
     "output_type": "stream",
     "text": [
      " 29%|█████████████▉                                  | 144726/500000 [28:20<1:05:56, 89.80it/s]"
     ]
    },
    {
     "name": "stdout",
     "output_type": "stream",
     "text": [
      "['PRO_20482', 'PRO_5873']\n"
     ]
    },
    {
     "name": "stderr",
     "output_type": "stream",
     "text": [
      " 29%|█████████████▉                                  | 145230/500000 [28:26<1:06:19, 89.15it/s]"
     ]
    },
    {
     "name": "stdout",
     "output_type": "stream",
     "text": [
      "['PRO_22319', 'PRO_18860']\n"
     ]
    },
    {
     "name": "stderr",
     "output_type": "stream",
     "text": [
      " 29%|██████████████                                  | 145856/500000 [28:33<1:05:28, 90.14it/s]"
     ]
    },
    {
     "name": "stdout",
     "output_type": "stream",
     "text": [
      "['PRO_2601', 'PRO_6052']\n"
     ]
    },
    {
     "name": "stderr",
     "output_type": "stream",
     "text": [
      " 29%|██████████████                                  | 146814/500000 [28:44<1:05:59, 89.20it/s]"
     ]
    },
    {
     "name": "stdout",
     "output_type": "stream",
     "text": [
      "['PRO_12276', 'PRO_20901']\n"
     ]
    },
    {
     "name": "stderr",
     "output_type": "stream",
     "text": [
      " 29%|██████████████                                  | 146881/500000 [28:44<1:05:05, 90.41it/s]"
     ]
    },
    {
     "name": "stdout",
     "output_type": "stream",
     "text": [
      "['PRO_20447', 'PRO_10167']\n"
     ]
    },
    {
     "name": "stderr",
     "output_type": "stream",
     "text": [
      " 29%|██████████████                                  | 147002/500000 [28:46<1:05:13, 90.21it/s]"
     ]
    },
    {
     "name": "stdout",
     "output_type": "stream",
     "text": [
      "['PRO_1743', 'PRO_718']\n"
     ]
    },
    {
     "name": "stderr",
     "output_type": "stream",
     "text": [
      " 30%|██████████████▏                                 | 147785/500000 [28:55<1:04:32, 90.95it/s]"
     ]
    },
    {
     "name": "stdout",
     "output_type": "stream",
     "text": [
      "['PRO_15229', 'PRO_22503']\n"
     ]
    },
    {
     "name": "stderr",
     "output_type": "stream",
     "text": [
      " 30%|██████████████▏                                 | 148216/500000 [28:59<1:05:05, 90.07it/s]"
     ]
    },
    {
     "name": "stdout",
     "output_type": "stream",
     "text": [
      "['PRO_4735', 'PRO_16731']\n"
     ]
    },
    {
     "name": "stderr",
     "output_type": "stream",
     "text": [
      " 30%|██████████████▎                                 | 148885/500000 [29:07<1:03:31, 92.13it/s]"
     ]
    },
    {
     "name": "stdout",
     "output_type": "stream",
     "text": [
      "['PRO_193', 'PRO_4166']\n",
      "['PRO_4636', 'PRO_13396']\n"
     ]
    },
    {
     "name": "stderr",
     "output_type": "stream",
     "text": [
      " 30%|██████████████▎                                 | 149188/500000 [29:10<1:05:27, 89.32it/s]"
     ]
    },
    {
     "name": "stdout",
     "output_type": "stream",
     "text": [
      "['PRO_7904', 'PRO_7027']\n"
     ]
    },
    {
     "name": "stderr",
     "output_type": "stream",
     "text": [
      " 30%|██████████████▎                                 | 149604/500000 [29:15<1:06:20, 88.02it/s]"
     ]
    },
    {
     "name": "stdout",
     "output_type": "stream",
     "text": [
      "['PRO_18578', 'PRO_4721']\n"
     ]
    },
    {
     "name": "stderr",
     "output_type": "stream",
     "text": [
      " 30%|██████████████▍                                 | 149805/500000 [29:17<1:05:10, 89.56it/s]"
     ]
    },
    {
     "name": "stdout",
     "output_type": "stream",
     "text": [
      "['PRO_7452', 'PRO_18701']\n"
     ]
    },
    {
     "name": "stderr",
     "output_type": "stream",
     "text": [
      " 30%|██████████████▍                                 | 150124/500000 [29:21<1:04:47, 89.99it/s]"
     ]
    },
    {
     "name": "stdout",
     "output_type": "stream",
     "text": [
      "['PRO_13278', 'PRO_16190']\n"
     ]
    },
    {
     "name": "stderr",
     "output_type": "stream",
     "text": [
      " 30%|██████████████▍                                 | 150882/500000 [29:30<1:04:25, 90.33it/s]"
     ]
    },
    {
     "name": "stdout",
     "output_type": "stream",
     "text": [
      "['PRO_1283', 'PRO_4523']\n"
     ]
    },
    {
     "name": "stderr",
     "output_type": "stream",
     "text": [
      " 30%|██████████████▌                                 | 151515/500000 [29:37<1:03:51, 90.94it/s]"
     ]
    },
    {
     "name": "stdout",
     "output_type": "stream",
     "text": [
      "['PRO_1039', 'PRO_2438']\n"
     ]
    },
    {
     "name": "stderr",
     "output_type": "stream",
     "text": [
      " 31%|██████████████▊                                 | 154472/500000 [30:11<1:08:01, 84.65it/s]"
     ]
    },
    {
     "name": "stdout",
     "output_type": "stream",
     "text": [
      "['PRO_17035', 'PRO_21513']\n"
     ]
    },
    {
     "name": "stderr",
     "output_type": "stream",
     "text": [
      " 31%|██████████████▉                                 | 155172/500000 [30:19<1:05:29, 87.75it/s]"
     ]
    },
    {
     "name": "stdout",
     "output_type": "stream",
     "text": [
      "['PRO_12629', 'PRO_17482']\n"
     ]
    },
    {
     "name": "stderr",
     "output_type": "stream",
     "text": [
      " 31%|██████████████▉                                 | 155457/500000 [30:22<1:03:36, 90.27it/s]"
     ]
    },
    {
     "name": "stdout",
     "output_type": "stream",
     "text": [
      "['PRO_20388', 'PRO_3814']\n"
     ]
    },
    {
     "name": "stderr",
     "output_type": "stream",
     "text": [
      " 32%|███████████████▏                                | 158390/500000 [30:55<1:03:22, 89.83it/s]"
     ]
    },
    {
     "name": "stdout",
     "output_type": "stream",
     "text": [
      "['PRO_4485', 'PRO_273']\n"
     ]
    },
    {
     "name": "stderr",
     "output_type": "stream",
     "text": [
      " 32%|███████████████▏                                | 158572/500000 [30:57<1:03:25, 89.71it/s]"
     ]
    },
    {
     "name": "stdout",
     "output_type": "stream",
     "text": [
      "['PRO_1153', 'PRO_16868']\n"
     ]
    },
    {
     "name": "stderr",
     "output_type": "stream",
     "text": [
      " 32%|███████████████▎                                | 159274/500000 [31:05<1:03:44, 89.10it/s]"
     ]
    },
    {
     "name": "stdout",
     "output_type": "stream",
     "text": [
      "['PRO_12709', 'PRO_9676']\n"
     ]
    },
    {
     "name": "stderr",
     "output_type": "stream",
     "text": [
      " 32%|███████████████▍                                | 160179/500000 [31:15<1:04:09, 88.27it/s]"
     ]
    },
    {
     "name": "stdout",
     "output_type": "stream",
     "text": [
      "['PRO_22967', 'PRO_18081']\n"
     ]
    },
    {
     "name": "stderr",
     "output_type": "stream",
     "text": [
      " 32%|███████████████▍                                | 160718/500000 [31:21<1:03:41, 88.77it/s]"
     ]
    },
    {
     "name": "stdout",
     "output_type": "stream",
     "text": [
      "['PRO_9690', 'PRO_22858']\n"
     ]
    },
    {
     "name": "stderr",
     "output_type": "stream",
     "text": [
      " 32%|███████████████▍                                | 160922/500000 [31:24<1:02:44, 90.06it/s]"
     ]
    },
    {
     "name": "stdout",
     "output_type": "stream",
     "text": [
      "['PRO_9886', 'PRO_14829']\n"
     ]
    },
    {
     "name": "stderr",
     "output_type": "stream",
     "text": [
      " 33%|███████████████▋                                | 162931/500000 [31:46<1:00:38, 92.65it/s]"
     ]
    },
    {
     "name": "stdout",
     "output_type": "stream",
     "text": [
      "['PRO_7920', 'PRO_5204']\n",
      "['PRO_18895', 'PRO_10490']\n",
      "['PRO_5823', 'PRO_18678']\n"
     ]
    },
    {
     "name": "stderr",
     "output_type": "stream",
     "text": [
      " 33%|███████████████▊                                | 164072/500000 [31:59<1:02:15, 89.92it/s]"
     ]
    },
    {
     "name": "stdout",
     "output_type": "stream",
     "text": [
      "['PRO_333', 'PRO_4460']\n"
     ]
    },
    {
     "name": "stderr",
     "output_type": "stream",
     "text": [
      " 33%|███████████████▉                                | 166041/500000 [32:22<1:02:30, 89.04it/s]"
     ]
    },
    {
     "name": "stdout",
     "output_type": "stream",
     "text": [
      "['PRO_10448', 'PRO_17232']\n"
     ]
    },
    {
     "name": "stderr",
     "output_type": "stream",
     "text": [
      " 34%|████████████████                                | 167660/500000 [32:40<1:01:29, 90.09it/s]"
     ]
    },
    {
     "name": "stdout",
     "output_type": "stream",
     "text": [
      "['PRO_1297', 'PRO_7617']\n"
     ]
    },
    {
     "name": "stderr",
     "output_type": "stream",
     "text": [
      " 34%|████████████████▏                               | 167998/500000 [32:44<1:01:54, 89.39it/s]"
     ]
    },
    {
     "name": "stdout",
     "output_type": "stream",
     "text": [
      "['PRO_7713', 'PRO_12715']\n"
     ]
    },
    {
     "name": "stderr",
     "output_type": "stream",
     "text": [
      " 34%|████████████████▏                               | 168025/500000 [32:44<1:02:18, 88.81it/s]"
     ]
    },
    {
     "name": "stdout",
     "output_type": "stream",
     "text": [
      "['PRO_16488', 'PRO_16148']\n"
     ]
    },
    {
     "name": "stderr",
     "output_type": "stream",
     "text": [
      " 34%|████████████████▏                               | 168559/500000 [32:50<1:02:15, 88.72it/s]"
     ]
    },
    {
     "name": "stdout",
     "output_type": "stream",
     "text": [
      "['PRO_6244', 'PRO_21785']\n"
     ]
    },
    {
     "name": "stderr",
     "output_type": "stream",
     "text": [
      " 34%|████████████████▎                               | 169936/500000 [33:06<1:01:08, 89.97it/s]"
     ]
    },
    {
     "name": "stdout",
     "output_type": "stream",
     "text": [
      "['PRO_1148', 'PRO_1472']\n"
     ]
    },
    {
     "name": "stderr",
     "output_type": "stream",
     "text": [
      " 34%|█████████████████                                 | 170331/500000 [33:10<59:56, 91.66it/s]"
     ]
    },
    {
     "name": "stdout",
     "output_type": "stream",
     "text": [
      "['PRO_4595', 'PRO_4102']\n"
     ]
    },
    {
     "name": "stderr",
     "output_type": "stream",
     "text": [
      " 34%|████████████████▍                               | 171392/500000 [33:22<1:00:43, 90.18it/s]"
     ]
    },
    {
     "name": "stdout",
     "output_type": "stream",
     "text": [
      "['PRO_12056', 'PRO_7476']\n"
     ]
    },
    {
     "name": "stderr",
     "output_type": "stream",
     "text": [
      " 34%|████████████████▍                               | 171532/500000 [33:24<1:01:20, 89.25it/s]"
     ]
    },
    {
     "name": "stdout",
     "output_type": "stream",
     "text": [
      "['PRO_17534', 'PRO_2209']\n"
     ]
    },
    {
     "name": "stderr",
     "output_type": "stream",
     "text": [
      " 34%|████████████████▍                               | 171828/500000 [33:27<1:01:16, 89.25it/s]"
     ]
    },
    {
     "name": "stdout",
     "output_type": "stream",
     "text": [
      "['PRO_7844', 'PRO_5770']\n"
     ]
    },
    {
     "name": "stderr",
     "output_type": "stream",
     "text": [
      " 35%|████████████████▋                               | 174465/500000 [33:57<1:06:16, 81.86it/s]"
     ]
    },
    {
     "name": "stdout",
     "output_type": "stream",
     "text": [
      "['PRO_19476', 'PRO_7362']\n"
     ]
    },
    {
     "name": "stderr",
     "output_type": "stream",
     "text": [
      " 35%|████████████████▊                               | 175202/500000 [34:07<1:05:19, 82.86it/s]"
     ]
    },
    {
     "name": "stdout",
     "output_type": "stream",
     "text": [
      "['PRO_3070', 'PRO_15596']\n"
     ]
    },
    {
     "name": "stderr",
     "output_type": "stream",
     "text": [
      " 35%|████████████████▊                               | 175230/500000 [34:07<1:02:26, 86.69it/s]"
     ]
    },
    {
     "name": "stdout",
     "output_type": "stream",
     "text": [
      "['PRO_6982', 'PRO_12293']\n"
     ]
    },
    {
     "name": "stderr",
     "output_type": "stream",
     "text": [
      " 35%|████████████████▊                               | 175447/500000 [34:10<1:05:06, 83.08it/s]"
     ]
    },
    {
     "name": "stdout",
     "output_type": "stream",
     "text": [
      "['PRO_20107', 'PRO_1184']\n"
     ]
    },
    {
     "name": "stderr",
     "output_type": "stream",
     "text": [
      " 35%|████████████████▉                               | 175857/500000 [34:15<1:00:31, 89.27it/s]"
     ]
    },
    {
     "name": "stdout",
     "output_type": "stream",
     "text": [
      "['PRO_3510', 'PRO_23188']\n"
     ]
    },
    {
     "name": "stderr",
     "output_type": "stream",
     "text": [
      " 35%|████████████████▉                               | 176820/500000 [34:27<1:01:18, 87.85it/s]"
     ]
    },
    {
     "name": "stdout",
     "output_type": "stream",
     "text": [
      "['PRO_19579', 'PRO_17223']\n"
     ]
    },
    {
     "name": "stderr",
     "output_type": "stream",
     "text": [
      " 35%|█████████████████                               | 177102/500000 [34:30<1:00:06, 89.54it/s]"
     ]
    },
    {
     "name": "stdout",
     "output_type": "stream",
     "text": [
      "['PRO_5832', 'PRO_14824']\n"
     ]
    },
    {
     "name": "stderr",
     "output_type": "stream",
     "text": [
      " 35%|█████████████████                               | 177274/500000 [34:32<1:12:43, 73.97it/s]"
     ]
    },
    {
     "name": "stdout",
     "output_type": "stream",
     "text": [
      "['PRO_14986', 'PRO_6472']\n"
     ]
    },
    {
     "name": "stderr",
     "output_type": "stream",
     "text": [
      " 35%|█████████████████                               | 177335/500000 [34:33<1:05:46, 81.75it/s]"
     ]
    },
    {
     "name": "stdout",
     "output_type": "stream",
     "text": [
      "['PRO_15894', 'PRO_18788']\n"
     ]
    },
    {
     "name": "stderr",
     "output_type": "stream",
     "text": [
      " 36%|█████████████████                               | 177643/500000 [34:37<1:02:08, 86.45it/s]"
     ]
    },
    {
     "name": "stdout",
     "output_type": "stream",
     "text": [
      "['PRO_17254', 'PRO_9523']\n"
     ]
    },
    {
     "name": "stderr",
     "output_type": "stream",
     "text": [
      " 36%|█████████████████                               | 177800/500000 [34:39<1:00:41, 88.48it/s]"
     ]
    },
    {
     "name": "stdout",
     "output_type": "stream",
     "text": [
      "['PRO_14350', 'PRO_12907']\n"
     ]
    },
    {
     "name": "stderr",
     "output_type": "stream",
     "text": [
      " 36%|█████████████████▏                              | 179353/500000 [34:58<1:05:07, 82.06it/s]"
     ]
    },
    {
     "name": "stdout",
     "output_type": "stream",
     "text": [
      "['PRO_20916', 'PRO_21740']\n"
     ]
    },
    {
     "name": "stderr",
     "output_type": "stream",
     "text": [
      " 36%|█████████████████▎                              | 179733/500000 [35:03<1:14:57, 71.22it/s]"
     ]
    },
    {
     "name": "stdout",
     "output_type": "stream",
     "text": [
      "['PRO_1297', 'PRO_23200']\n"
     ]
    },
    {
     "name": "stderr",
     "output_type": "stream",
     "text": [
      " 36%|█████████████████▎                              | 179904/500000 [35:05<1:01:30, 86.73it/s]"
     ]
    },
    {
     "name": "stdout",
     "output_type": "stream",
     "text": [
      "['PRO_118', 'PRO_9466']\n"
     ]
    },
    {
     "name": "stderr",
     "output_type": "stream",
     "text": [
      " 36%|█████████████████▎                              | 180068/500000 [35:07<1:04:23, 82.80it/s]"
     ]
    },
    {
     "name": "stdout",
     "output_type": "stream",
     "text": [
      "['PRO_8796', 'PRO_16635']\n"
     ]
    },
    {
     "name": "stderr",
     "output_type": "stream",
     "text": [
      " 36%|█████████████████▎                              | 180126/500000 [35:08<1:12:10, 73.86it/s]"
     ]
    },
    {
     "name": "stdout",
     "output_type": "stream",
     "text": [
      "['PRO_14482', 'PRO_10280']\n"
     ]
    },
    {
     "name": "stderr",
     "output_type": "stream",
     "text": [
      " 36%|█████████████████▍                              | 182090/500000 [35:34<1:02:39, 84.56it/s]"
     ]
    },
    {
     "name": "stdout",
     "output_type": "stream",
     "text": [
      "['PRO_1014', 'PRO_17315']\n"
     ]
    },
    {
     "name": "stderr",
     "output_type": "stream",
     "text": [
      " 36%|█████████████████▌                              | 182417/500000 [35:38<1:04:35, 81.94it/s]"
     ]
    },
    {
     "name": "stdout",
     "output_type": "stream",
     "text": [
      "['PRO_3839', 'PRO_18944']\n"
     ]
    },
    {
     "name": "stderr",
     "output_type": "stream",
     "text": [
      " 37%|█████████████████▌                              | 182964/500000 [35:46<1:02:39, 84.34it/s]"
     ]
    },
    {
     "name": "stdout",
     "output_type": "stream",
     "text": [
      "['PRO_23430', 'PRO_15080']\n"
     ]
    },
    {
     "name": "stderr",
     "output_type": "stream",
     "text": [
      " 37%|█████████████████▌                              | 183428/500000 [35:51<1:01:38, 85.59it/s]"
     ]
    },
    {
     "name": "stdout",
     "output_type": "stream",
     "text": [
      "['PRO_6636', 'PRO_4211']\n"
     ]
    },
    {
     "name": "stderr",
     "output_type": "stream",
     "text": [
      " 37%|█████████████████▊                              | 185103/500000 [36:14<1:16:13, 68.86it/s]"
     ]
    },
    {
     "name": "stdout",
     "output_type": "stream",
     "text": [
      "['PRO_16819', 'PRO_1079']\n"
     ]
    },
    {
     "name": "stderr",
     "output_type": "stream",
     "text": [
      " 37%|█████████████████▊                              | 185342/500000 [36:17<1:10:41, 74.18it/s]"
     ]
    },
    {
     "name": "stdout",
     "output_type": "stream",
     "text": [
      "['PRO_7622', 'PRO_4430']\n"
     ]
    },
    {
     "name": "stderr",
     "output_type": "stream",
     "text": [
      " 37%|█████████████████▉                              | 186440/500000 [36:33<1:09:31, 75.16it/s]"
     ]
    },
    {
     "name": "stdout",
     "output_type": "stream",
     "text": [
      "['PRO_111', 'PRO_14885']\n"
     ]
    },
    {
     "name": "stderr",
     "output_type": "stream",
     "text": [
      " 37%|██████████████████▋                               | 186898/500000 [36:38<58:47, 88.75it/s]"
     ]
    },
    {
     "name": "stdout",
     "output_type": "stream",
     "text": [
      "['PRO_22881', 'PRO_20934']\n",
      "['PRO_9754', 'PRO_19983']\n"
     ]
    },
    {
     "name": "stderr",
     "output_type": "stream",
     "text": [
      " 37%|██████████████████▋                               | 186918/500000 [36:39<58:29, 89.22it/s]"
     ]
    },
    {
     "name": "stdout",
     "output_type": "stream",
     "text": [
      "['PRO_19648', 'PRO_12543']\n"
     ]
    },
    {
     "name": "stderr",
     "output_type": "stream",
     "text": [
      " 37%|██████████████████▋                               | 187357/500000 [36:43<54:26, 95.72it/s]"
     ]
    },
    {
     "name": "stdout",
     "output_type": "stream",
     "text": [
      "['PRO_4636', 'PRO_22085']\n"
     ]
    },
    {
     "name": "stderr",
     "output_type": "stream",
     "text": [
      " 38%|██████████████████▊                               | 188298/500000 [36:53<54:24, 95.49it/s]"
     ]
    },
    {
     "name": "stdout",
     "output_type": "stream",
     "text": [
      "['PRO_7581', 'PRO_21265']\n"
     ]
    },
    {
     "name": "stderr",
     "output_type": "stream",
     "text": [
      " 38%|██████████████████▊                               | 188588/500000 [36:56<53:46, 96.53it/s]"
     ]
    },
    {
     "name": "stdout",
     "output_type": "stream",
     "text": [
      "['PRO_19544', 'PRO_19178']\n"
     ]
    },
    {
     "name": "stderr",
     "output_type": "stream",
     "text": [
      " 38%|██████████████████▉                               | 189469/500000 [37:06<53:43, 96.34it/s]"
     ]
    },
    {
     "name": "stdout",
     "output_type": "stream",
     "text": [
      "['PRO_6015', 'PRO_8583']\n"
     ]
    },
    {
     "name": "stderr",
     "output_type": "stream",
     "text": [
      " 38%|██████████████████▉                               | 189881/500000 [37:10<58:28, 88.39it/s]"
     ]
    },
    {
     "name": "stdout",
     "output_type": "stream",
     "text": [
      "['PRO_12319', 'PRO_15642']\n"
     ]
    },
    {
     "name": "stderr",
     "output_type": "stream",
     "text": [
      " 38%|███████████████████                               | 190143/500000 [37:13<52:54, 97.62it/s]"
     ]
    },
    {
     "name": "stdout",
     "output_type": "stream",
     "text": [
      "['PRO_18895', 'PRO_15497']\n"
     ]
    },
    {
     "name": "stderr",
     "output_type": "stream",
     "text": [
      " 38%|███████████████████                               | 190403/500000 [37:16<54:28, 94.71it/s]"
     ]
    },
    {
     "name": "stdout",
     "output_type": "stream",
     "text": [
      "['PRO_19076', 'PRO_4568']\n"
     ]
    },
    {
     "name": "stderr",
     "output_type": "stream",
     "text": [
      " 38%|███████████████████                               | 191195/500000 [37:24<52:57, 97.19it/s]"
     ]
    },
    {
     "name": "stdout",
     "output_type": "stream",
     "text": [
      "['PRO_5319', 'PRO_4128']\n"
     ]
    },
    {
     "name": "stderr",
     "output_type": "stream",
     "text": [
      " 39%|███████████████████▎                              | 192966/500000 [37:43<52:39, 97.17it/s]"
     ]
    },
    {
     "name": "stdout",
     "output_type": "stream",
     "text": [
      "['PRO_6460', 'PRO_15664']\n"
     ]
    },
    {
     "name": "stderr",
     "output_type": "stream",
     "text": [
      " 39%|███████████████████▍                              | 193852/500000 [37:53<52:47, 96.64it/s]"
     ]
    },
    {
     "name": "stdout",
     "output_type": "stream",
     "text": [
      "['PRO_7852', 'PRO_17816']\n"
     ]
    },
    {
     "name": "stderr",
     "output_type": "stream",
     "text": [
      " 39%|███████████████████▍                              | 194208/500000 [37:56<53:10, 95.84it/s]"
     ]
    },
    {
     "name": "stdout",
     "output_type": "stream",
     "text": [
      "['PRO_4214', 'PRO_2028']\n"
     ]
    },
    {
     "name": "stderr",
     "output_type": "stream",
     "text": [
      " 39%|███████████████████▌                              | 195351/500000 [38:09<52:22, 96.94it/s]"
     ]
    },
    {
     "name": "stdout",
     "output_type": "stream",
     "text": [
      "['PRO_16697', 'PRO_5295']\n"
     ]
    },
    {
     "name": "stderr",
     "output_type": "stream",
     "text": [
      " 39%|███████████████████▌                              | 195382/500000 [38:09<51:54, 97.81it/s]"
     ]
    },
    {
     "name": "stdout",
     "output_type": "stream",
     "text": [
      "['PRO_1601', 'PRO_3618']\n"
     ]
    },
    {
     "name": "stderr",
     "output_type": "stream",
     "text": [
      " 39%|███████████████████▌                              | 195707/500000 [38:12<50:59, 99.44it/s]"
     ]
    },
    {
     "name": "stdout",
     "output_type": "stream",
     "text": [
      "['PRO_8993', 'PRO_11812']\n",
      "['PRO_4984', 'PRO_15349']\n"
     ]
    },
    {
     "name": "stderr",
     "output_type": "stream",
     "text": [
      " 39%|███████████████████▌                              | 196061/500000 [38:17<52:22, 96.71it/s]"
     ]
    },
    {
     "name": "stdout",
     "output_type": "stream",
     "text": [
      "['PRO_5593', 'PRO_11420']\n"
     ]
    },
    {
     "name": "stderr",
     "output_type": "stream",
     "text": [
      " 39%|███████████████████▋                              | 197478/500000 [38:33<59:23, 84.90it/s]"
     ]
    },
    {
     "name": "stdout",
     "output_type": "stream",
     "text": [
      "['PRO_21427', 'PRO_13026']\n"
     ]
    },
    {
     "name": "stderr",
     "output_type": "stream",
     "text": [
      " 40%|███████████████████▊                              | 197560/500000 [38:34<58:00, 86.90it/s]"
     ]
    },
    {
     "name": "stdout",
     "output_type": "stream",
     "text": [
      "['PRO_9655', 'PRO_7157']\n"
     ]
    },
    {
     "name": "stderr",
     "output_type": "stream",
     "text": [
      " 40%|██████████████████▉                             | 197795/500000 [38:37<1:02:16, 80.88it/s]"
     ]
    },
    {
     "name": "stdout",
     "output_type": "stream",
     "text": [
      "['PRO_15038', 'PRO_9390']\n"
     ]
    },
    {
     "name": "stderr",
     "output_type": "stream",
     "text": [
      " 40%|███████████████████▊                              | 198293/500000 [38:43<52:06, 96.49it/s]"
     ]
    },
    {
     "name": "stdout",
     "output_type": "stream",
     "text": [
      "['PRO_5508', 'PRO_16241']\n"
     ]
    },
    {
     "name": "stderr",
     "output_type": "stream",
     "text": [
      " 40%|███████████████████▉                              | 198885/500000 [38:49<52:06, 96.32it/s]"
     ]
    },
    {
     "name": "stdout",
     "output_type": "stream",
     "text": [
      "['PRO_706', 'PRO_6831']\n"
     ]
    },
    {
     "name": "stderr",
     "output_type": "stream",
     "text": [
      " 40%|████████████████████                              | 200368/500000 [39:05<50:46, 98.35it/s]"
     ]
    },
    {
     "name": "stdout",
     "output_type": "stream",
     "text": [
      "['PRO_17039', 'PRO_7546']\n"
     ]
    },
    {
     "name": "stderr",
     "output_type": "stream",
     "text": [
      " 40%|████████████████████▏                             | 202353/500000 [39:25<52:09, 95.12it/s]"
     ]
    },
    {
     "name": "stdout",
     "output_type": "stream",
     "text": [
      "['PRO_19642', 'PRO_3902']\n"
     ]
    },
    {
     "name": "stderr",
     "output_type": "stream",
     "text": [
      " 41%|████████████████████▎                             | 202793/500000 [39:30<51:18, 96.54it/s]"
     ]
    },
    {
     "name": "stdout",
     "output_type": "stream",
     "text": [
      "['PRO_4996', 'PRO_7900']\n"
     ]
    },
    {
     "name": "stderr",
     "output_type": "stream",
     "text": [
      " 41%|████████████████████▎                             | 203535/500000 [39:38<51:12, 96.48it/s]"
     ]
    },
    {
     "name": "stdout",
     "output_type": "stream",
     "text": [
      "['PRO_19685', 'PRO_15709']\n"
     ]
    },
    {
     "name": "stderr",
     "output_type": "stream",
     "text": [
      " 41%|████████████████████▍                             | 204038/500000 [39:43<52:47, 93.45it/s]"
     ]
    },
    {
     "name": "stdout",
     "output_type": "stream",
     "text": [
      "['PRO_13700', 'PRO_12519']\n"
     ]
    },
    {
     "name": "stderr",
     "output_type": "stream",
     "text": [
      " 41%|████████████████████▌                             | 205551/500000 [39:59<59:12, 82.88it/s]"
     ]
    },
    {
     "name": "stdout",
     "output_type": "stream",
     "text": [
      "['PRO_20705', 'PRO_8350']\n"
     ]
    },
    {
     "name": "stderr",
     "output_type": "stream",
     "text": [
      " 41%|████████████████████▋                             | 206465/500000 [40:10<52:40, 92.88it/s]"
     ]
    },
    {
     "name": "stdout",
     "output_type": "stream",
     "text": [
      "['PRO_4180', 'PRO_11268']\n"
     ]
    },
    {
     "name": "stderr",
     "output_type": "stream",
     "text": [
      " 41%|████████████████████▋                             | 206942/500000 [40:15<50:16, 97.16it/s]"
     ]
    },
    {
     "name": "stdout",
     "output_type": "stream",
     "text": [
      "['PRO_18423', 'PRO_5283']\n"
     ]
    },
    {
     "name": "stderr",
     "output_type": "stream",
     "text": [
      " 41%|████████████████████▋                             | 206992/500000 [40:15<50:51, 96.03it/s]"
     ]
    },
    {
     "name": "stdout",
     "output_type": "stream",
     "text": [
      "['PRO_8141', 'PRO_8678']\n"
     ]
    },
    {
     "name": "stderr",
     "output_type": "stream",
     "text": [
      " 42%|████████████████████▊                             | 207934/500000 [40:25<51:01, 95.40it/s]"
     ]
    },
    {
     "name": "stdout",
     "output_type": "stream",
     "text": [
      "['PRO_1253', 'PRO_7621']\n"
     ]
    },
    {
     "name": "stderr",
     "output_type": "stream",
     "text": [
      " 42%|█████████████████████▏                            | 211321/500000 [41:02<49:23, 97.40it/s]"
     ]
    },
    {
     "name": "stdout",
     "output_type": "stream",
     "text": [
      "['PRO_6311', 'PRO_19835']\n"
     ]
    },
    {
     "name": "stderr",
     "output_type": "stream",
     "text": [
      " 42%|█████████████████████▏                            | 211431/500000 [41:03<53:22, 90.11it/s]"
     ]
    },
    {
     "name": "stdout",
     "output_type": "stream",
     "text": [
      "['PRO_4843', 'PRO_5295']\n"
     ]
    },
    {
     "name": "stderr",
     "output_type": "stream",
     "text": [
      " 42%|█████████████████████▏                            | 211990/500000 [41:09<48:29, 98.98it/s]"
     ]
    },
    {
     "name": "stdout",
     "output_type": "stream",
     "text": [
      "['PRO_606', 'PRO_14404']\n"
     ]
    },
    {
     "name": "stderr",
     "output_type": "stream",
     "text": [
      " 43%|█████████████████████▍                            | 213769/500000 [41:28<55:36, 85.78it/s]"
     ]
    },
    {
     "name": "stdout",
     "output_type": "stream",
     "text": [
      "['PRO_4850', 'PRO_21119']\n"
     ]
    },
    {
     "name": "stderr",
     "output_type": "stream",
     "text": [
      " 43%|█████████████████████▌                            | 215111/500000 [41:42<49:07, 96.65it/s]"
     ]
    },
    {
     "name": "stdout",
     "output_type": "stream",
     "text": [
      "['PRO_2688', 'PRO_7625']\n"
     ]
    },
    {
     "name": "stderr",
     "output_type": "stream",
     "text": [
      " 43%|█████████████████████▌                            | 215142/500000 [41:42<48:57, 96.98it/s]"
     ]
    },
    {
     "name": "stdout",
     "output_type": "stream",
     "text": [
      "['PRO_15913', 'PRO_14609']\n"
     ]
    },
    {
     "name": "stderr",
     "output_type": "stream",
     "text": [
      " 43%|█████████████████████▋                            | 216493/500000 [41:56<48:46, 96.89it/s]"
     ]
    },
    {
     "name": "stdout",
     "output_type": "stream",
     "text": [
      "['PRO_6102', 'PRO_7795']\n"
     ]
    },
    {
     "name": "stderr",
     "output_type": "stream",
     "text": [
      " 43%|█████████████████████▋                            | 216937/500000 [42:01<49:57, 94.43it/s]"
     ]
    },
    {
     "name": "stdout",
     "output_type": "stream",
     "text": [
      "['PRO_15815', 'PRO_16074']\n"
     ]
    },
    {
     "name": "stderr",
     "output_type": "stream",
     "text": [
      " 43%|█████████████████████▋                            | 217026/500000 [42:02<53:05, 88.85it/s]"
     ]
    },
    {
     "name": "stdout",
     "output_type": "stream",
     "text": [
      "['PRO_16301', 'PRO_7964']\n"
     ]
    },
    {
     "name": "stderr",
     "output_type": "stream",
     "text": [
      " 43%|█████████████████████▋                            | 217253/500000 [42:05<48:35, 96.97it/s]"
     ]
    },
    {
     "name": "stdout",
     "output_type": "stream",
     "text": [
      "['PRO_22152', 'PRO_4975']\n"
     ]
    },
    {
     "name": "stderr",
     "output_type": "stream",
     "text": [
      " 44%|█████████████████████▊                            | 217986/500000 [42:12<48:16, 97.38it/s]"
     ]
    },
    {
     "name": "stdout",
     "output_type": "stream",
     "text": [
      "['PRO_9469', 'PRO_6748']\n"
     ]
    },
    {
     "name": "stderr",
     "output_type": "stream",
     "text": [
      " 44%|█████████████████████▊                            | 218267/500000 [42:15<48:14, 97.34it/s]"
     ]
    },
    {
     "name": "stdout",
     "output_type": "stream",
     "text": [
      "['PRO_4166', 'PRO_14779']\n"
     ]
    },
    {
     "name": "stderr",
     "output_type": "stream",
     "text": [
      " 44%|█████████████████████▊                            | 218579/500000 [42:18<47:46, 98.18it/s]"
     ]
    },
    {
     "name": "stdout",
     "output_type": "stream",
     "text": [
      "['PRO_21927', 'PRO_20647']\n"
     ]
    },
    {
     "name": "stderr",
     "output_type": "stream",
     "text": [
      " 44%|█████████████████████▉                            | 219197/500000 [42:25<48:34, 96.35it/s]"
     ]
    },
    {
     "name": "stdout",
     "output_type": "stream",
     "text": [
      "['PRO_7588', 'PRO_13910']\n"
     ]
    },
    {
     "name": "stderr",
     "output_type": "stream",
     "text": [
      " 44%|█████████████████████▉                            | 219478/500000 [42:28<48:11, 97.02it/s]"
     ]
    },
    {
     "name": "stdout",
     "output_type": "stream",
     "text": [
      "['PRO_13718', 'PRO_19141']\n"
     ]
    },
    {
     "name": "stderr",
     "output_type": "stream",
     "text": [
      " 44%|█████████████████████▉                            | 219749/500000 [42:31<48:36, 96.11it/s]"
     ]
    },
    {
     "name": "stdout",
     "output_type": "stream",
     "text": [
      "['PRO_15495', 'PRO_19844']\n"
     ]
    },
    {
     "name": "stderr",
     "output_type": "stream",
     "text": [
      " 44%|██████████████████████                            | 220729/500000 [42:41<48:03, 96.85it/s]"
     ]
    },
    {
     "name": "stdout",
     "output_type": "stream",
     "text": [
      "['PRO_11354', 'PRO_1510']\n"
     ]
    },
    {
     "name": "stderr",
     "output_type": "stream",
     "text": [
      " 44%|██████████████████████                            | 221091/500000 [42:45<48:32, 95.76it/s]"
     ]
    },
    {
     "name": "stdout",
     "output_type": "stream",
     "text": [
      "['PRO_21731', 'PRO_4975']\n"
     ]
    },
    {
     "name": "stderr",
     "output_type": "stream",
     "text": [
      " 44%|██████████████████████▏                           | 221342/500000 [42:48<48:11, 96.38it/s]"
     ]
    },
    {
     "name": "stdout",
     "output_type": "stream",
     "text": [
      "['PRO_14726', 'PRO_5097']\n"
     ]
    },
    {
     "name": "stderr",
     "output_type": "stream",
     "text": [
      " 44%|██████████████████████▏                           | 221483/500000 [42:49<47:32, 97.64it/s]"
     ]
    },
    {
     "name": "stdout",
     "output_type": "stream",
     "text": [
      "['PRO_545', 'PRO_1638']\n"
     ]
    },
    {
     "name": "stderr",
     "output_type": "stream",
     "text": [
      " 44%|██████████████████████▏                           | 222465/500000 [42:59<46:42, 99.02it/s]"
     ]
    },
    {
     "name": "stdout",
     "output_type": "stream",
     "text": [
      "['PRO_12329', 'PRO_8897']\n",
      "['PRO_20541', 'PRO_17285']\n"
     ]
    },
    {
     "name": "stderr",
     "output_type": "stream",
     "text": [
      " 45%|██████████████████████▎                           | 223404/500000 [43:09<48:38, 94.76it/s]"
     ]
    },
    {
     "name": "stdout",
     "output_type": "stream",
     "text": [
      "['PRO_9716', 'PRO_14523']\n"
     ]
    },
    {
     "name": "stderr",
     "output_type": "stream",
     "text": [
      " 45%|██████████████████████▎                           | 223606/500000 [43:11<46:47, 98.45it/s]"
     ]
    },
    {
     "name": "stdout",
     "output_type": "stream",
     "text": [
      "['PRO_21734', 'PRO_7630']\n"
     ]
    },
    {
     "name": "stderr",
     "output_type": "stream",
     "text": [
      " 45%|██████████████████████▍                           | 224287/500000 [43:18<47:01, 97.73it/s]"
     ]
    },
    {
     "name": "stdout",
     "output_type": "stream",
     "text": [
      "['PRO_3781', 'PRO_8548']\n"
     ]
    },
    {
     "name": "stderr",
     "output_type": "stream",
     "text": [
      " 45%|██████████████████████▌                           | 225989/500000 [43:36<46:58, 97.20it/s]"
     ]
    },
    {
     "name": "stdout",
     "output_type": "stream",
     "text": [
      "['PRO_4062', 'PRO_17785']\n"
     ]
    },
    {
     "name": "stderr",
     "output_type": "stream",
     "text": [
      " 45%|██████████████████████▋                           | 226629/500000 [43:43<47:05, 96.76it/s]"
     ]
    },
    {
     "name": "stdout",
     "output_type": "stream",
     "text": [
      "['PRO_10600', 'PRO_22967']\n"
     ]
    },
    {
     "name": "stderr",
     "output_type": "stream",
     "text": [
      " 45%|██████████████████████▋                           | 227052/500000 [43:47<47:29, 95.78it/s]"
     ]
    },
    {
     "name": "stdout",
     "output_type": "stream",
     "text": [
      "['PRO_6541', 'PRO_770']\n"
     ]
    },
    {
     "name": "stderr",
     "output_type": "stream",
     "text": [
      " 45%|██████████████████████▋                           | 227123/500000 [43:48<46:18, 98.22it/s]"
     ]
    },
    {
     "name": "stdout",
     "output_type": "stream",
     "text": [
      "['PRO_18510', 'PRO_22763']\n"
     ]
    },
    {
     "name": "stderr",
     "output_type": "stream",
     "text": [
      " 45%|██████████████████████▋                           | 227143/500000 [43:48<46:18, 98.20it/s]"
     ]
    },
    {
     "name": "stdout",
     "output_type": "stream",
     "text": [
      "['PRO_5150', 'PRO_19200']\n"
     ]
    },
    {
     "name": "stderr",
     "output_type": "stream",
     "text": [
      " 46%|██████████████████████▊                           | 227923/500000 [43:56<47:15, 95.96it/s]"
     ]
    },
    {
     "name": "stdout",
     "output_type": "stream",
     "text": [
      "['PRO_3853', 'PRO_3624']\n"
     ]
    },
    {
     "name": "stderr",
     "output_type": "stream",
     "text": [
      " 46%|██████████████████████▊                           | 228023/500000 [43:57<48:03, 94.32it/s]"
     ]
    },
    {
     "name": "stdout",
     "output_type": "stream",
     "text": [
      "['PRO_8163', 'PRO_8396']\n"
     ]
    },
    {
     "name": "stderr",
     "output_type": "stream",
     "text": [
      " 46%|██████████████████████▉                           | 229165/500000 [44:09<46:22, 97.35it/s]"
     ]
    },
    {
     "name": "stdout",
     "output_type": "stream",
     "text": [
      "['PRO_6528', 'PRO_22878']\n"
     ]
    },
    {
     "name": "stderr",
     "output_type": "stream",
     "text": [
      " 46%|██████████████████████▉                           | 229597/500000 [44:14<46:06, 97.74it/s]"
     ]
    },
    {
     "name": "stdout",
     "output_type": "stream",
     "text": [
      "['PRO_10744', 'PRO_7781']\n"
     ]
    },
    {
     "name": "stderr",
     "output_type": "stream",
     "text": [
      " 46%|███████████████████████                           | 230729/500000 [44:25<46:15, 97.01it/s]"
     ]
    },
    {
     "name": "stdout",
     "output_type": "stream",
     "text": [
      "['PRO_20789', 'PRO_13010']\n"
     ]
    },
    {
     "name": "stderr",
     "output_type": "stream",
     "text": [
      " 46%|███████████████████████▏                          | 232074/500000 [44:39<46:01, 97.03it/s]"
     ]
    },
    {
     "name": "stdout",
     "output_type": "stream",
     "text": [
      "['PRO_12311', 'PRO_4735']\n"
     ]
    },
    {
     "name": "stderr",
     "output_type": "stream",
     "text": [
      " 47%|███████████████████████▍                          | 234499/500000 [45:05<45:29, 97.26it/s]"
     ]
    },
    {
     "name": "stdout",
     "output_type": "stream",
     "text": [
      "['PRO_22610', 'PRO_10605']\n"
     ]
    },
    {
     "name": "stderr",
     "output_type": "stream",
     "text": [
      " 47%|███████████████████████▌                          | 235309/500000 [45:13<45:29, 96.97it/s]"
     ]
    },
    {
     "name": "stdout",
     "output_type": "stream",
     "text": [
      "['PRO_13817', 'PRO_20480']\n"
     ]
    },
    {
     "name": "stderr",
     "output_type": "stream",
     "text": [
      " 48%|███████████████████████▊                          | 238499/500000 [45:46<44:30, 97.93it/s]"
     ]
    },
    {
     "name": "stdout",
     "output_type": "stream",
     "text": [
      "['PRO_21808', 'PRO_2149']\n"
     ]
    },
    {
     "name": "stderr",
     "output_type": "stream",
     "text": [
      " 48%|███████████████████████▊                          | 238741/500000 [45:48<44:28, 97.91it/s]"
     ]
    },
    {
     "name": "stdout",
     "output_type": "stream",
     "text": [
      "['PRO_1253', 'PRO_6413']\n"
     ]
    },
    {
     "name": "stderr",
     "output_type": "stream",
     "text": [
      " 48%|███████████████████████▉                          | 239253/500000 [45:54<43:42, 99.43it/s]"
     ]
    },
    {
     "name": "stdout",
     "output_type": "stream",
     "text": [
      "['PRO_20337', 'PRO_8507']\n"
     ]
    },
    {
     "name": "stderr",
     "output_type": "stream",
     "text": [
      " 48%|████████████████████████                          | 240159/500000 [46:03<44:12, 97.96it/s]"
     ]
    },
    {
     "name": "stdout",
     "output_type": "stream",
     "text": [
      "['PRO_7673', 'PRO_4738']\n"
     ]
    },
    {
     "name": "stderr",
     "output_type": "stream",
     "text": [
      " 48%|████████████████████████                          | 240279/500000 [46:04<44:14, 97.86it/s]"
     ]
    },
    {
     "name": "stdout",
     "output_type": "stream",
     "text": [
      "['PRO_12484', 'PRO_14025']\n"
     ]
    },
    {
     "name": "stderr",
     "output_type": "stream",
     "text": [
      " 49%|████████████████████████▎                         | 243178/500000 [46:34<43:35, 98.19it/s]"
     ]
    },
    {
     "name": "stdout",
     "output_type": "stream",
     "text": [
      "['PRO_13432', 'PRO_13653']\n"
     ]
    },
    {
     "name": "stderr",
     "output_type": "stream",
     "text": [
      " 49%|████████████████████████▎                         | 243559/500000 [46:38<43:51, 97.44it/s]"
     ]
    },
    {
     "name": "stdout",
     "output_type": "stream",
     "text": [
      "['PRO_18338', 'PRO_6370']\n"
     ]
    },
    {
     "name": "stderr",
     "output_type": "stream",
     "text": [
      " 49%|████████████████████████▍                         | 244203/500000 [46:45<43:36, 97.76it/s]"
     ]
    },
    {
     "name": "stdout",
     "output_type": "stream",
     "text": [
      "['PRO_6321', 'PRO_2143']\n"
     ]
    },
    {
     "name": "stderr",
     "output_type": "stream",
     "text": [
      " 49%|████████████████████████▍                         | 244833/500000 [46:51<44:04, 96.48it/s]"
     ]
    },
    {
     "name": "stdout",
     "output_type": "stream",
     "text": [
      "['PRO_2148', 'PRO_15497']\n"
     ]
    },
    {
     "name": "stderr",
     "output_type": "stream",
     "text": [
      " 49%|████████████████████████▌                         | 245104/500000 [46:54<43:12, 98.33it/s]"
     ]
    },
    {
     "name": "stdout",
     "output_type": "stream",
     "text": [
      "['PRO_12969', 'PRO_21141']\n"
     ]
    },
    {
     "name": "stderr",
     "output_type": "stream",
     "text": [
      " 49%|████████████████████████                         | 245186/500000 [46:55<42:19, 100.33it/s]"
     ]
    },
    {
     "name": "stdout",
     "output_type": "stream",
     "text": [
      "['PRO_6833', 'PRO_9941']\n",
      "['PRO_7845', 'PRO_20891']\n"
     ]
    },
    {
     "name": "stderr",
     "output_type": "stream",
     "text": [
      " 49%|████████████████████████▌                         | 245408/500000 [46:57<43:46, 96.92it/s]"
     ]
    },
    {
     "name": "stdout",
     "output_type": "stream",
     "text": [
      "['PRO_629', 'PRO_5676']\n"
     ]
    },
    {
     "name": "stderr",
     "output_type": "stream",
     "text": [
      " 49%|████████████████████████▌                         | 246249/500000 [47:06<43:51, 96.43it/s]"
     ]
    },
    {
     "name": "stdout",
     "output_type": "stream",
     "text": [
      "['PRO_19651', 'PRO_21661']\n"
     ]
    },
    {
     "name": "stderr",
     "output_type": "stream",
     "text": [
      " 49%|████████████████████████▋                         | 246410/500000 [47:08<43:33, 97.05it/s]"
     ]
    },
    {
     "name": "stdout",
     "output_type": "stream",
     "text": [
      "['PRO_19909', 'PRO_1661']\n",
      "['PRO_20532', 'PRO_18113']\n"
     ]
    },
    {
     "name": "stderr",
     "output_type": "stream",
     "text": [
      " 50%|████████████████████████▊                         | 248520/500000 [47:33<53:34, 78.24it/s]"
     ]
    },
    {
     "name": "stdout",
     "output_type": "stream",
     "text": [
      "['PRO_19265', 'PRO_15657']\n"
     ]
    },
    {
     "name": "stderr",
     "output_type": "stream",
     "text": [
      " 50%|████████████████████████▊                         | 248573/500000 [47:33<53:27, 78.39it/s]"
     ]
    },
    {
     "name": "stdout",
     "output_type": "stream",
     "text": [
      "['PRO_22658', 'PRO_930']\n"
     ]
    },
    {
     "name": "stderr",
     "output_type": "stream",
     "text": [
      " 50%|████████████████████████▉                         | 249883/500000 [47:49<50:28, 82.59it/s]"
     ]
    },
    {
     "name": "stdout",
     "output_type": "stream",
     "text": [
      "['PRO_20682', 'PRO_10273']\n"
     ]
    },
    {
     "name": "stderr",
     "output_type": "stream",
     "text": [
      " 50%|█████████████████████████                         | 250126/500000 [47:52<48:30, 85.84it/s]"
     ]
    },
    {
     "name": "stdout",
     "output_type": "stream",
     "text": [
      "['PRO_5053', 'PRO_18391']\n"
     ]
    },
    {
     "name": "stderr",
     "output_type": "stream",
     "text": [
      " 50%|█████████████████████████                         | 251046/500000 [48:02<50:19, 82.44it/s]"
     ]
    },
    {
     "name": "stdout",
     "output_type": "stream",
     "text": [
      "['PRO_3813', 'PRO_17990']\n"
     ]
    },
    {
     "name": "stderr",
     "output_type": "stream",
     "text": [
      " 50%|█████████████████████████▏                        | 251770/500000 [48:11<42:31, 97.28it/s]"
     ]
    },
    {
     "name": "stdout",
     "output_type": "stream",
     "text": [
      "['PRO_3259', 'PRO_10825']\n"
     ]
    },
    {
     "name": "stderr",
     "output_type": "stream",
     "text": [
      " 50%|█████████████████████████▏                        | 251840/500000 [48:11<42:32, 97.24it/s]"
     ]
    },
    {
     "name": "stdout",
     "output_type": "stream",
     "text": [
      "['PRO_21114', 'PRO_22805']\n"
     ]
    },
    {
     "name": "stderr",
     "output_type": "stream",
     "text": [
      " 51%|█████████████████████████▎                        | 253125/500000 [48:25<42:45, 96.23it/s]"
     ]
    },
    {
     "name": "stdout",
     "output_type": "stream",
     "text": [
      "['PRO_3159', 'PRO_21492']\n"
     ]
    },
    {
     "name": "stderr",
     "output_type": "stream",
     "text": [
      " 51%|█████████████████████████▎                        | 253516/500000 [48:29<41:53, 98.05it/s]"
     ]
    },
    {
     "name": "stdout",
     "output_type": "stream",
     "text": [
      "['PRO_17951', 'PRO_8648']\n"
     ]
    },
    {
     "name": "stderr",
     "output_type": "stream",
     "text": [
      " 51%|████████████████████████▉                        | 253990/500000 [48:34<41:00, 100.00it/s]"
     ]
    },
    {
     "name": "stdout",
     "output_type": "stream",
     "text": [
      "['PRO_16965', 'PRO_5659']\n"
     ]
    },
    {
     "name": "stderr",
     "output_type": "stream",
     "text": [
      " 51%|█████████████████████████▍                        | 254591/500000 [48:40<42:27, 96.34it/s]"
     ]
    },
    {
     "name": "stdout",
     "output_type": "stream",
     "text": [
      "['PRO_16705', 'PRO_3038']\n"
     ]
    },
    {
     "name": "stderr",
     "output_type": "stream",
     "text": [
      " 51%|█████████████████████████▌                        | 255543/500000 [48:50<41:43, 97.65it/s]"
     ]
    },
    {
     "name": "stdout",
     "output_type": "stream",
     "text": [
      "['PRO_9213', 'PRO_1714']\n"
     ]
    },
    {
     "name": "stderr",
     "output_type": "stream",
     "text": [
      " 51%|█████████████████████████▌                        | 255996/500000 [48:54<41:53, 97.08it/s]"
     ]
    },
    {
     "name": "stdout",
     "output_type": "stream",
     "text": [
      "['PRO_22893', 'PRO_4685']\n"
     ]
    },
    {
     "name": "stderr",
     "output_type": "stream",
     "text": [
      " 51%|█████████████████████████▋                        | 256721/500000 [49:02<41:39, 97.32it/s]"
     ]
    },
    {
     "name": "stdout",
     "output_type": "stream",
     "text": [
      "['PRO_15673', 'PRO_17991']\n"
     ]
    },
    {
     "name": "stderr",
     "output_type": "stream",
     "text": [
      " 51%|█████████████████████████▋                        | 257081/500000 [49:06<43:20, 93.42it/s]"
     ]
    },
    {
     "name": "stdout",
     "output_type": "stream",
     "text": [
      "['PRO_11470', 'PRO_9945']\n"
     ]
    },
    {
     "name": "stderr",
     "output_type": "stream",
     "text": [
      " 52%|██████████████████████████▏                       | 262113/500000 [49:58<40:29, 97.93it/s]"
     ]
    },
    {
     "name": "stdout",
     "output_type": "stream",
     "text": [
      "['PRO_22924', 'PRO_4243']\n"
     ]
    },
    {
     "name": "stderr",
     "output_type": "stream",
     "text": [
      " 53%|██████████████████████████▍                       | 263949/500000 [50:17<40:43, 96.61it/s]"
     ]
    },
    {
     "name": "stdout",
     "output_type": "stream",
     "text": [
      "['PRO_3189', 'PRO_7792']\n"
     ]
    },
    {
     "name": "stderr",
     "output_type": "stream",
     "text": [
      " 53%|██████████████████████████▍                       | 264463/500000 [50:22<40:57, 95.86it/s]"
     ]
    },
    {
     "name": "stdout",
     "output_type": "stream",
     "text": [
      "['PRO_12686', 'PRO_21193']\n"
     ]
    },
    {
     "name": "stderr",
     "output_type": "stream",
     "text": [
      " 53%|██████████████████████████▌                       | 265074/500000 [50:28<39:57, 97.98it/s]"
     ]
    },
    {
     "name": "stdout",
     "output_type": "stream",
     "text": [
      "['PRO_17389', 'PRO_8292']\n"
     ]
    },
    {
     "name": "stderr",
     "output_type": "stream",
     "text": [
      " 53%|██████████████████████████▌                       | 265578/500000 [50:34<39:30, 98.87it/s]"
     ]
    },
    {
     "name": "stdout",
     "output_type": "stream",
     "text": [
      "['PRO_9094', 'PRO_17239']\n"
     ]
    },
    {
     "name": "stderr",
     "output_type": "stream",
     "text": [
      " 53%|██████████████████████████▌                       | 266051/500000 [50:38<39:53, 97.73it/s]"
     ]
    },
    {
     "name": "stdout",
     "output_type": "stream",
     "text": [
      "['PRO_10268', 'PRO_11720']\n"
     ]
    },
    {
     "name": "stderr",
     "output_type": "stream",
     "text": [
      " 53%|██████████████████████████▋                       | 266713/500000 [50:45<39:52, 97.53it/s]"
     ]
    },
    {
     "name": "stdout",
     "output_type": "stream",
     "text": [
      "['PRO_9498', 'PRO_7900']\n"
     ]
    },
    {
     "name": "stderr",
     "output_type": "stream",
     "text": [
      " 54%|██████████████████████████▉                       | 269393/500000 [51:13<39:20, 97.70it/s]"
     ]
    },
    {
     "name": "stdout",
     "output_type": "stream",
     "text": [
      "['PRO_14597', 'PRO_17243']\n"
     ]
    },
    {
     "name": "stderr",
     "output_type": "stream",
     "text": [
      " 54%|██████████████████████████▉                       | 269696/500000 [51:16<38:54, 98.66it/s]"
     ]
    },
    {
     "name": "stdout",
     "output_type": "stream",
     "text": [
      "['PRO_6351', 'PRO_6102']\n"
     ]
    },
    {
     "name": "stderr",
     "output_type": "stream",
     "text": [
      " 54%|███████████████████████████                       | 270370/500000 [51:23<39:26, 97.03it/s]"
     ]
    },
    {
     "name": "stdout",
     "output_type": "stream",
     "text": [
      "['PRO_7770', 'PRO_6692']\n"
     ]
    },
    {
     "name": "stderr",
     "output_type": "stream",
     "text": [
      " 54%|███████████████████████████▏                      | 271277/500000 [51:32<38:18, 99.50it/s]"
     ]
    },
    {
     "name": "stdout",
     "output_type": "stream",
     "text": [
      "['PRO_7419', 'PRO_23196']\n"
     ]
    },
    {
     "name": "stderr",
     "output_type": "stream",
     "text": [
      " 54%|███████████████████████████▏                      | 272295/500000 [51:43<38:50, 97.72it/s]"
     ]
    },
    {
     "name": "stdout",
     "output_type": "stream",
     "text": [
      "['PRO_23075', 'PRO_3744']\n"
     ]
    },
    {
     "name": "stderr",
     "output_type": "stream",
     "text": [
      " 55%|███████████████████████████▎                      | 273118/500000 [51:51<38:30, 98.20it/s]"
     ]
    },
    {
     "name": "stdout",
     "output_type": "stream",
     "text": [
      "['PRO_4644', 'PRO_16251']\n"
     ]
    },
    {
     "name": "stderr",
     "output_type": "stream",
     "text": [
      " 55%|███████████████████████████▍                      | 274320/500000 [52:04<38:50, 96.85it/s]"
     ]
    },
    {
     "name": "stdout",
     "output_type": "stream",
     "text": [
      "['PRO_13270', 'PRO_18703']\n"
     ]
    },
    {
     "name": "stderr",
     "output_type": "stream",
     "text": [
      " 55%|███████████████████████████▋                      | 276368/500000 [52:25<37:48, 98.59it/s]"
     ]
    },
    {
     "name": "stdout",
     "output_type": "stream",
     "text": [
      "['PRO_10864', 'PRO_1411']\n"
     ]
    },
    {
     "name": "stderr",
     "output_type": "stream",
     "text": [
      " 55%|███████████████████████████▋                      | 276500/500000 [52:26<38:05, 97.78it/s]"
     ]
    },
    {
     "name": "stdout",
     "output_type": "stream",
     "text": [
      "['PRO_21498', 'PRO_3944']\n"
     ]
    },
    {
     "name": "stderr",
     "output_type": "stream",
     "text": [
      " 55%|███████████████████████████▋                      | 277401/500000 [52:35<38:20, 96.76it/s]"
     ]
    },
    {
     "name": "stdout",
     "output_type": "stream",
     "text": [
      "['PRO_6116', 'PRO_17042']\n"
     ]
    },
    {
     "name": "stderr",
     "output_type": "stream",
     "text": [
      " 56%|███████████████████████████▊                      | 278561/500000 [52:47<37:26, 98.58it/s]"
     ]
    },
    {
     "name": "stdout",
     "output_type": "stream",
     "text": [
      "['PRO_14441', 'PRO_6571']\n"
     ]
    },
    {
     "name": "stderr",
     "output_type": "stream",
     "text": [
      " 56%|███████████████████████████▉                      | 279466/500000 [52:57<37:48, 97.22it/s]"
     ]
    },
    {
     "name": "stdout",
     "output_type": "stream",
     "text": [
      "['PRO_12619', 'PRO_11411']\n"
     ]
    },
    {
     "name": "stderr",
     "output_type": "stream",
     "text": [
      " 56%|███████████████████████████▉                      | 279948/500000 [53:02<37:11, 98.61it/s]"
     ]
    },
    {
     "name": "stdout",
     "output_type": "stream",
     "text": [
      "['PRO_6102', 'PRO_1168']\n"
     ]
    },
    {
     "name": "stderr",
     "output_type": "stream",
     "text": [
      " 56%|███████████████████████████▉                      | 279989/500000 [53:02<37:14, 98.44it/s]"
     ]
    },
    {
     "name": "stdout",
     "output_type": "stream",
     "text": [
      "['PRO_19267', 'PRO_9814']\n"
     ]
    },
    {
     "name": "stderr",
     "output_type": "stream",
     "text": [
      " 56%|████████████████████████████                      | 280019/500000 [53:02<37:37, 97.45it/s]"
     ]
    },
    {
     "name": "stdout",
     "output_type": "stream",
     "text": [
      "['PRO_1989', 'PRO_11184']\n"
     ]
    },
    {
     "name": "stderr",
     "output_type": "stream",
     "text": [
      " 56%|████████████████████████████                      | 280399/500000 [53:06<37:27, 97.70it/s]"
     ]
    },
    {
     "name": "stdout",
     "output_type": "stream",
     "text": [
      "['PRO_4388', 'PRO_3697']\n"
     ]
    },
    {
     "name": "stderr",
     "output_type": "stream",
     "text": [
      " 56%|████████████████████████████▏                     | 281271/500000 [53:15<37:37, 96.88it/s]"
     ]
    },
    {
     "name": "stdout",
     "output_type": "stream",
     "text": [
      "['PRO_22453', 'PRO_20355']\n"
     ]
    },
    {
     "name": "stderr",
     "output_type": "stream",
     "text": [
      " 56%|████████████████████████████▏                     | 281866/500000 [53:21<36:53, 98.53it/s]"
     ]
    },
    {
     "name": "stdout",
     "output_type": "stream",
     "text": [
      "['PRO_16872', 'PRO_527']\n",
      "['PRO_14051', 'PRO_12293']\n"
     ]
    },
    {
     "name": "stderr",
     "output_type": "stream",
     "text": [
      " 57%|████████████████████████████▎                     | 282768/500000 [53:31<37:10, 97.39it/s]"
     ]
    },
    {
     "name": "stdout",
     "output_type": "stream",
     "text": [
      "['PRO_3135', 'PRO_1769']\n",
      "['PRO_10229', 'PRO_4680']\n"
     ]
    },
    {
     "name": "stderr",
     "output_type": "stream",
     "text": [
      " 57%|████████████████████████████▎                     | 283119/500000 [53:34<36:54, 97.93it/s]"
     ]
    },
    {
     "name": "stdout",
     "output_type": "stream",
     "text": [
      "['PRO_4306', 'PRO_20181']\n"
     ]
    },
    {
     "name": "stderr",
     "output_type": "stream",
     "text": [
      " 57%|████████████████████████████▍                     | 284524/500000 [53:49<36:32, 98.26it/s]"
     ]
    },
    {
     "name": "stdout",
     "output_type": "stream",
     "text": [
      "['PRO_127', 'PRO_14643']\n"
     ]
    },
    {
     "name": "stderr",
     "output_type": "stream",
     "text": [
      " 57%|████████████████████████████▋                     | 286950/500000 [54:14<36:35, 97.04it/s]"
     ]
    },
    {
     "name": "stdout",
     "output_type": "stream",
     "text": [
      "['PRO_9094', 'PRO_20696']\n"
     ]
    },
    {
     "name": "stderr",
     "output_type": "stream",
     "text": [
      " 57%|████████████████████████████▋                     | 286981/500000 [54:14<36:05, 98.39it/s]"
     ]
    },
    {
     "name": "stdout",
     "output_type": "stream",
     "text": [
      "['PRO_2045', 'PRO_4528']\n"
     ]
    },
    {
     "name": "stderr",
     "output_type": "stream",
     "text": [
      " 58%|████████████████████████████▊                     | 287684/500000 [54:22<36:54, 95.88it/s]"
     ]
    },
    {
     "name": "stdout",
     "output_type": "stream",
     "text": [
      "['PRO_22359', 'PRO_5582']\n"
     ]
    },
    {
     "name": "stderr",
     "output_type": "stream",
     "text": [
      " 58%|████████████████████████████▊                     | 288467/500000 [54:30<35:52, 98.26it/s]"
     ]
    },
    {
     "name": "stdout",
     "output_type": "stream",
     "text": [
      "['PRO_21681', 'PRO_23140']\n"
     ]
    },
    {
     "name": "stderr",
     "output_type": "stream",
     "text": [
      " 58%|████████████████████████████▉                     | 288798/500000 [54:33<36:12, 97.20it/s]"
     ]
    },
    {
     "name": "stdout",
     "output_type": "stream",
     "text": [
      "['PRO_23027', 'PRO_15853']\n"
     ]
    },
    {
     "name": "stderr",
     "output_type": "stream",
     "text": [
      " 58%|████████████████████████████▍                    | 290379/500000 [54:49<34:46, 100.45it/s]"
     ]
    },
    {
     "name": "stdout",
     "output_type": "stream",
     "text": [
      "['PRO_21165', 'PRO_1633']\n",
      "['PRO_12692', 'PRO_11676']\n"
     ]
    },
    {
     "name": "stderr",
     "output_type": "stream",
     "text": [
      " 58%|█████████████████████████████                     | 290595/500000 [54:52<35:26, 98.48it/s]"
     ]
    },
    {
     "name": "stdout",
     "output_type": "stream",
     "text": [
      "['PRO_18287', 'PRO_3624']\n"
     ]
    },
    {
     "name": "stderr",
     "output_type": "stream",
     "text": [
      " 58%|█████████████████████████████▏                    | 291921/500000 [55:05<35:25, 97.92it/s]"
     ]
    },
    {
     "name": "stdout",
     "output_type": "stream",
     "text": [
      "['PRO_9591', 'PRO_19370']\n"
     ]
    },
    {
     "name": "stderr",
     "output_type": "stream",
     "text": [
      " 58%|█████████████████████████████▏                    | 292193/500000 [55:08<35:25, 97.79it/s]"
     ]
    },
    {
     "name": "stdout",
     "output_type": "stream",
     "text": [
      "['PRO_22418', 'PRO_14812']\n"
     ]
    },
    {
     "name": "stderr",
     "output_type": "stream",
     "text": [
      " 59%|█████████████████████████████▎                    | 293007/500000 [55:16<35:58, 95.92it/s]"
     ]
    },
    {
     "name": "stdout",
     "output_type": "stream",
     "text": [
      "['PRO_4104', 'PRO_18910']\n"
     ]
    },
    {
     "name": "stderr",
     "output_type": "stream",
     "text": [
      " 59%|█████████████████████████████▎                    | 293189/500000 [55:18<35:15, 97.75it/s]"
     ]
    },
    {
     "name": "stdout",
     "output_type": "stream",
     "text": [
      "['PRO_7655', 'PRO_14101']\n"
     ]
    },
    {
     "name": "stderr",
     "output_type": "stream",
     "text": [
      " 59%|█████████████████████████████▍                    | 294123/500000 [55:28<35:29, 96.67it/s]"
     ]
    },
    {
     "name": "stdout",
     "output_type": "stream",
     "text": [
      "['PRO_4219', 'PRO_17238']\n"
     ]
    },
    {
     "name": "stderr",
     "output_type": "stream",
     "text": [
      " 59%|█████████████████████████████▍                    | 294504/500000 [55:32<34:53, 98.14it/s]"
     ]
    },
    {
     "name": "stdout",
     "output_type": "stream",
     "text": [
      "['PRO_10734', 'PRO_4952']\n"
     ]
    },
    {
     "name": "stderr",
     "output_type": "stream",
     "text": [
      " 59%|█████████████████████████████▍                    | 294685/500000 [55:34<34:58, 97.83it/s]"
     ]
    },
    {
     "name": "stdout",
     "output_type": "stream",
     "text": [
      "['PRO_18978', 'PRO_14646']\n"
     ]
    },
    {
     "name": "stderr",
     "output_type": "stream",
     "text": [
      " 59%|█████████████████████████████▌                    | 295396/500000 [55:41<35:17, 96.61it/s]"
     ]
    },
    {
     "name": "stdout",
     "output_type": "stream",
     "text": [
      "['PRO_9592', 'PRO_11016']\n"
     ]
    },
    {
     "name": "stderr",
     "output_type": "stream",
     "text": [
      " 59%|█████████████████████████████▌                    | 295948/500000 [55:47<34:45, 97.83it/s]"
     ]
    },
    {
     "name": "stdout",
     "output_type": "stream",
     "text": [
      "['PRO_2591', 'PRO_7759']\n"
     ]
    },
    {
     "name": "stderr",
     "output_type": "stream",
     "text": [
      " 60%|█████████████████████████████▊                    | 298244/500000 [56:11<34:30, 97.46it/s]"
     ]
    },
    {
     "name": "stdout",
     "output_type": "stream",
     "text": [
      "['PRO_5519', 'PRO_21093']\n"
     ]
    },
    {
     "name": "stderr",
     "output_type": "stream",
     "text": [
      " 60%|█████████████████████████████▊                    | 298294/500000 [56:11<34:19, 97.94it/s]"
     ]
    },
    {
     "name": "stdout",
     "output_type": "stream",
     "text": [
      "['PRO_7309', 'PRO_20916']\n"
     ]
    },
    {
     "name": "stderr",
     "output_type": "stream",
     "text": [
      " 60%|█████████████████████████████▉                    | 299258/500000 [56:21<34:09, 97.97it/s]"
     ]
    },
    {
     "name": "stdout",
     "output_type": "stream",
     "text": [
      "['PRO_1429', 'PRO_8609']\n"
     ]
    },
    {
     "name": "stderr",
     "output_type": "stream",
     "text": [
      " 60%|██████████████████████████████                    | 301053/500000 [56:40<34:02, 97.41it/s]"
     ]
    },
    {
     "name": "stdout",
     "output_type": "stream",
     "text": [
      "['PRO_3385', 'PRO_9302']\n"
     ]
    },
    {
     "name": "stderr",
     "output_type": "stream",
     "text": [
      " 60%|██████████████████████████████                    | 301103/500000 [56:40<34:13, 96.87it/s]"
     ]
    },
    {
     "name": "stdout",
     "output_type": "stream",
     "text": [
      "['PRO_20222', 'PRO_7098']\n"
     ]
    },
    {
     "name": "stderr",
     "output_type": "stream",
     "text": [
      " 60%|██████████████████████████████▏                   | 302358/500000 [56:53<33:45, 97.57it/s]"
     ]
    },
    {
     "name": "stdout",
     "output_type": "stream",
     "text": [
      "['PRO_16343', 'PRO_14482']\n"
     ]
    },
    {
     "name": "stderr",
     "output_type": "stream",
     "text": [
      " 61%|██████████████████████████████▎                   | 302771/500000 [56:57<34:01, 96.61it/s]"
     ]
    },
    {
     "name": "stdout",
     "output_type": "stream",
     "text": [
      "['PRO_11138', 'PRO_20097']\n"
     ]
    },
    {
     "name": "stderr",
     "output_type": "stream",
     "text": [
      " 61%|██████████████████████████████▎                   | 302891/500000 [56:59<33:49, 97.13it/s]"
     ]
    },
    {
     "name": "stdout",
     "output_type": "stream",
     "text": [
      "['PRO_20481', 'PRO_4680']\n"
     ]
    },
    {
     "name": "stderr",
     "output_type": "stream",
     "text": [
      " 61%|██████████████████████████████▎                   | 303392/500000 [57:04<33:45, 97.09it/s]"
     ]
    },
    {
     "name": "stdout",
     "output_type": "stream",
     "text": [
      "['PRO_7247', 'PRO_1551']\n"
     ]
    },
    {
     "name": "stderr",
     "output_type": "stream",
     "text": [
      " 61%|██████████████████████████████▎                   | 303552/500000 [57:06<33:54, 96.54it/s]"
     ]
    },
    {
     "name": "stdout",
     "output_type": "stream",
     "text": [
      "['PRO_1271', 'PRO_9591']\n"
     ]
    },
    {
     "name": "stderr",
     "output_type": "stream",
     "text": [
      " 61%|██████████████████████████████▎                   | 303662/500000 [57:07<33:29, 97.72it/s]"
     ]
    },
    {
     "name": "stdout",
     "output_type": "stream",
     "text": [
      "['PRO_21461', 'PRO_3624']\n"
     ]
    },
    {
     "name": "stderr",
     "output_type": "stream",
     "text": [
      " 61%|██████████████████████████████▍                   | 303804/500000 [57:08<33:03, 98.90it/s]"
     ]
    },
    {
     "name": "stdout",
     "output_type": "stream",
     "text": [
      "['PRO_19387', 'PRO_6842']\n"
     ]
    },
    {
     "name": "stderr",
     "output_type": "stream",
     "text": [
      " 61%|██████████████████████████████▌                   | 305370/500000 [57:24<33:30, 96.79it/s]"
     ]
    },
    {
     "name": "stdout",
     "output_type": "stream",
     "text": [
      "['PRO_5692', 'PRO_10482']\n"
     ]
    },
    {
     "name": "stderr",
     "output_type": "stream",
     "text": [
      " 61%|██████████████████████████████▌                   | 306121/500000 [57:32<33:15, 97.14it/s]"
     ]
    },
    {
     "name": "stdout",
     "output_type": "stream",
     "text": [
      "['PRO_17032', 'PRO_16009']\n"
     ]
    },
    {
     "name": "stderr",
     "output_type": "stream",
     "text": [
      " 61%|██████████████████████████████▌                   | 306151/500000 [57:32<33:15, 97.16it/s]"
     ]
    },
    {
     "name": "stdout",
     "output_type": "stream",
     "text": [
      "['PRO_7822', 'PRO_16435']\n"
     ]
    },
    {
     "name": "stderr",
     "output_type": "stream",
     "text": [
      " 61%|██████████████████████████████▋                   | 306444/500000 [57:35<33:01, 97.67it/s]"
     ]
    },
    {
     "name": "stdout",
     "output_type": "stream",
     "text": [
      "['PRO_4739', 'PRO_16358']\n"
     ]
    },
    {
     "name": "stderr",
     "output_type": "stream",
     "text": [
      " 62%|██████████████████████████████▊                   | 307639/500000 [57:48<32:26, 98.82it/s]"
     ]
    },
    {
     "name": "stdout",
     "output_type": "stream",
     "text": [
      "['PRO_11725', 'PRO_1892']\n"
     ]
    },
    {
     "name": "stderr",
     "output_type": "stream",
     "text": [
      " 62%|██████████████████████████████▊                   | 308203/500000 [57:54<33:10, 96.33it/s]"
     ]
    },
    {
     "name": "stdout",
     "output_type": "stream",
     "text": [
      "['PRO_14956', 'PRO_7417']\n"
     ]
    },
    {
     "name": "stderr",
     "output_type": "stream",
     "text": [
      " 62%|██████████████████████████████▊                   | 308435/500000 [57:56<32:50, 97.20it/s]"
     ]
    },
    {
     "name": "stdout",
     "output_type": "stream",
     "text": [
      "['PRO_8818', 'PRO_137']\n"
     ]
    },
    {
     "name": "stderr",
     "output_type": "stream",
     "text": [
      " 62%|███████████████████████████████                   | 310628/500000 [58:19<32:52, 96.02it/s]"
     ]
    },
    {
     "name": "stdout",
     "output_type": "stream",
     "text": [
      "['PRO_7588', 'PRO_9279']\n"
     ]
    },
    {
     "name": "stderr",
     "output_type": "stream",
     "text": [
      " 63%|███████████████████████████████▎                  | 313626/500000 [58:50<32:02, 96.94it/s]"
     ]
    },
    {
     "name": "stdout",
     "output_type": "stream",
     "text": [
      "['PRO_3832', 'PRO_19048']\n"
     ]
    },
    {
     "name": "stderr",
     "output_type": "stream",
     "text": [
      " 63%|███████████████████████████████▌                  | 315340/500000 [59:07<31:33, 97.54it/s]"
     ]
    },
    {
     "name": "stdout",
     "output_type": "stream",
     "text": [
      "['PRO_22021', 'PRO_21496']\n"
     ]
    },
    {
     "name": "stderr",
     "output_type": "stream",
     "text": [
      " 63%|███████████████████████████████▌                  | 316022/500000 [59:15<31:38, 96.88it/s]"
     ]
    },
    {
     "name": "stdout",
     "output_type": "stream",
     "text": [
      "['PRO_9840', 'PRO_21289']\n"
     ]
    },
    {
     "name": "stderr",
     "output_type": "stream",
     "text": [
      " 63%|███████████████████████████████▋                  | 317135/500000 [59:26<31:25, 96.97it/s]"
     ]
    },
    {
     "name": "stdout",
     "output_type": "stream",
     "text": [
      "['PRO_20843', 'PRO_8170']\n"
     ]
    },
    {
     "name": "stderr",
     "output_type": "stream",
     "text": [
      " 64%|███████████████████████████████▊                  | 318378/500000 [59:39<30:34, 98.99it/s]"
     ]
    },
    {
     "name": "stdout",
     "output_type": "stream",
     "text": [
      "['PRO_3698', 'PRO_8398']\n",
      "['PRO_8924', 'PRO_6699']\n"
     ]
    },
    {
     "name": "stderr",
     "output_type": "stream",
     "text": [
      " 64%|███████████████████████████████▉                  | 318760/500000 [59:43<31:00, 97.40it/s]"
     ]
    },
    {
     "name": "stdout",
     "output_type": "stream",
     "text": [
      "['PRO_2460', 'PRO_3160']\n"
     ]
    },
    {
     "name": "stderr",
     "output_type": "stream",
     "text": [
      " 64%|███████████████████████████████▉                  | 319002/500000 [59:45<31:02, 97.15it/s]"
     ]
    },
    {
     "name": "stdout",
     "output_type": "stream",
     "text": [
      "['PRO_12142', 'PRO_17662']\n"
     ]
    },
    {
     "name": "stderr",
     "output_type": "stream",
     "text": [
      " 64%|████████████████████████████████                  | 320196/500000 [59:58<30:30, 98.24it/s]"
     ]
    },
    {
     "name": "stdout",
     "output_type": "stream",
     "text": [
      "['PRO_6275', 'PRO_6568']\n",
      "['PRO_18578', 'PRO_12501']\n"
     ]
    },
    {
     "name": "stderr",
     "output_type": "stream",
     "text": [
      " 64%|██████████████████████████████▊                 | 320829/500000 [1:00:04<31:00, 96.29it/s]"
     ]
    },
    {
     "name": "stdout",
     "output_type": "stream",
     "text": [
      "['PRO_21492', 'PRO_4377']\n"
     ]
    },
    {
     "name": "stderr",
     "output_type": "stream",
     "text": [
      " 64%|██████████████████████████████▊                 | 320880/500000 [1:00:05<30:20, 98.37it/s]"
     ]
    },
    {
     "name": "stdout",
     "output_type": "stream",
     "text": [
      "['PRO_9448', 'PRO_15446']\n"
     ]
    },
    {
     "name": "stderr",
     "output_type": "stream",
     "text": [
      " 64%|██████████████████████████████▊                 | 321412/500000 [1:00:10<30:21, 98.02it/s]"
     ]
    },
    {
     "name": "stdout",
     "output_type": "stream",
     "text": [
      "['PRO_10441', 'PRO_4763']\n"
     ]
    },
    {
     "name": "stderr",
     "output_type": "stream",
     "text": [
      " 65%|███████████████████████████████                 | 323244/500000 [1:00:29<30:10, 97.61it/s]"
     ]
    },
    {
     "name": "stdout",
     "output_type": "stream",
     "text": [
      "['PRO_16578', 'PRO_6809']\n"
     ]
    },
    {
     "name": "stderr",
     "output_type": "stream",
     "text": [
      " 65%|███████████████████████████████▏                | 324259/500000 [1:00:40<30:04, 97.39it/s]"
     ]
    },
    {
     "name": "stdout",
     "output_type": "stream",
     "text": [
      "['PRO_14607', 'PRO_6659']\n"
     ]
    },
    {
     "name": "stderr",
     "output_type": "stream",
     "text": [
      " 65%|███████████████████████████████▏                | 324841/500000 [1:00:46<30:10, 96.73it/s]"
     ]
    },
    {
     "name": "stdout",
     "output_type": "stream",
     "text": [
      "['PRO_8193', 'PRO_42']\n",
      "['PRO_7845', 'PRO_5252']\n"
     ]
    },
    {
     "name": "stderr",
     "output_type": "stream",
     "text": [
      " 65%|███████████████████████████████▎                | 326559/500000 [1:01:04<29:38, 97.51it/s]"
     ]
    },
    {
     "name": "stdout",
     "output_type": "stream",
     "text": [
      "['PRO_6117', 'PRO_22268']\n"
     ]
    },
    {
     "name": "stderr",
     "output_type": "stream",
     "text": [
      " 65%|███████████████████████████████▍                | 326830/500000 [1:01:06<30:03, 96.03it/s]"
     ]
    },
    {
     "name": "stdout",
     "output_type": "stream",
     "text": [
      "['PRO_9285', 'PRO_6557']\n"
     ]
    },
    {
     "name": "stderr",
     "output_type": "stream",
     "text": [
      " 65%|███████████████████████████████▍                | 326931/500000 [1:01:07<29:24, 98.09it/s]"
     ]
    },
    {
     "name": "stdout",
     "output_type": "stream",
     "text": [
      "['PRO_18584', 'PRO_22511']\n"
     ]
    },
    {
     "name": "stderr",
     "output_type": "stream",
     "text": [
      " 66%|███████████████████████████████▍                | 328055/500000 [1:01:19<29:34, 96.89it/s]"
     ]
    },
    {
     "name": "stdout",
     "output_type": "stream",
     "text": [
      "['PRO_3336', 'PRO_2193']\n"
     ]
    },
    {
     "name": "stderr",
     "output_type": "stream",
     "text": [
      " 66%|███████████████████████████████▌                | 328286/500000 [1:01:21<29:05, 98.36it/s]"
     ]
    },
    {
     "name": "stdout",
     "output_type": "stream",
     "text": [
      "['PRO_1368', 'PRO_3790']\n"
     ]
    },
    {
     "name": "stderr",
     "output_type": "stream",
     "text": [
      " 66%|███████████████████████████████▌                | 328689/500000 [1:01:26<29:31, 96.68it/s]"
     ]
    },
    {
     "name": "stdout",
     "output_type": "stream",
     "text": [
      "['PRO_15284', 'PRO_16745']\n"
     ]
    },
    {
     "name": "stderr",
     "output_type": "stream",
     "text": [
      " 66%|███████████████████████████████▋                | 329663/500000 [1:01:36<29:15, 97.05it/s]"
     ]
    },
    {
     "name": "stdout",
     "output_type": "stream",
     "text": [
      "['PRO_9770', 'PRO_4377']\n"
     ]
    },
    {
     "name": "stderr",
     "output_type": "stream",
     "text": [
      " 66%|███████████████████████████████▋                | 329774/500000 [1:01:37<28:47, 98.52it/s]"
     ]
    },
    {
     "name": "stdout",
     "output_type": "stream",
     "text": [
      "['PRO_23360', 'PRO_6139']\n"
     ]
    },
    {
     "name": "stderr",
     "output_type": "stream",
     "text": [
      " 66%|███████████████████████████████▋                | 330588/500000 [1:01:45<28:40, 98.47it/s]"
     ]
    },
    {
     "name": "stdout",
     "output_type": "stream",
     "text": [
      "['PRO_22882', 'PRO_19472']\n"
     ]
    },
    {
     "name": "stderr",
     "output_type": "stream",
     "text": [
      " 66%|███████████████████████████████▊                | 331711/500000 [1:01:57<28:26, 98.63it/s]"
     ]
    },
    {
     "name": "stdout",
     "output_type": "stream",
     "text": [
      "['PRO_21519', 'PRO_18288']\n"
     ]
    },
    {
     "name": "stderr",
     "output_type": "stream",
     "text": [
      " 66%|███████████████████████████████▉                | 332262/500000 [1:02:03<28:38, 97.60it/s]"
     ]
    },
    {
     "name": "stdout",
     "output_type": "stream",
     "text": [
      "['PRO_20441', 'PRO_19332']\n"
     ]
    },
    {
     "name": "stderr",
     "output_type": "stream",
     "text": [
      " 66%|███████████████████████████████▉                | 332302/500000 [1:02:03<29:05, 96.07it/s]"
     ]
    },
    {
     "name": "stdout",
     "output_type": "stream",
     "text": [
      "['PRO_22967', 'PRO_13559']\n"
     ]
    },
    {
     "name": "stderr",
     "output_type": "stream",
     "text": [
      " 66%|███████████████████████████████▉                | 332322/500000 [1:02:03<28:53, 96.70it/s]"
     ]
    },
    {
     "name": "stdout",
     "output_type": "stream",
     "text": [
      "['PRO_11209', 'PRO_2612']\n"
     ]
    },
    {
     "name": "stderr",
     "output_type": "stream",
     "text": [
      " 67%|███████████████████████████████▉                | 332672/500000 [1:02:07<28:44, 97.03it/s]"
     ]
    },
    {
     "name": "stdout",
     "output_type": "stream",
     "text": [
      "['PRO_16578', 'PRO_4191']\n"
     ]
    },
    {
     "name": "stderr",
     "output_type": "stream",
     "text": [
      " 67%|████████████████████████████████                | 333977/500000 [1:02:20<28:22, 97.50it/s]"
     ]
    },
    {
     "name": "stdout",
     "output_type": "stream",
     "text": [
      "['PRO_4327', 'PRO_17487']\n"
     ]
    },
    {
     "name": "stderr",
     "output_type": "stream",
     "text": [
      " 67%|████████████████████████████████▏               | 334831/500000 [1:02:29<27:46, 99.10it/s]"
     ]
    },
    {
     "name": "stdout",
     "output_type": "stream",
     "text": [
      "['PRO_15007', 'PRO_5801']\n"
     ]
    },
    {
     "name": "stderr",
     "output_type": "stream",
     "text": [
      " 67%|████████████████████████████████▏               | 335484/500000 [1:02:36<28:34, 95.95it/s]"
     ]
    },
    {
     "name": "stdout",
     "output_type": "stream",
     "text": [
      "['PRO_3403', 'PRO_1687']\n"
     ]
    },
    {
     "name": "stderr",
     "output_type": "stream",
     "text": [
      " 67%|████████████████████████████████▏               | 335655/500000 [1:02:38<28:00, 97.82it/s]"
     ]
    },
    {
     "name": "stdout",
     "output_type": "stream",
     "text": [
      "['PRO_14393', 'PRO_8920']\n"
     ]
    },
    {
     "name": "stderr",
     "output_type": "stream",
     "text": [
      " 67%|████████████████████████████████▎               | 336327/500000 [1:02:45<28:01, 97.36it/s]"
     ]
    },
    {
     "name": "stdout",
     "output_type": "stream",
     "text": [
      "['PRO_20966', 'PRO_13371']\n"
     ]
    },
    {
     "name": "stderr",
     "output_type": "stream",
     "text": [
      " 68%|████████████████████████████████▍               | 338452/500000 [1:03:06<27:02, 99.55it/s]"
     ]
    },
    {
     "name": "stdout",
     "output_type": "stream",
     "text": [
      "['PRO_9046', 'PRO_23048']\n"
     ]
    },
    {
     "name": "stderr",
     "output_type": "stream",
     "text": [
      " 68%|████████████████████████████████▌               | 339758/500000 [1:03:20<27:22, 97.57it/s]"
     ]
    },
    {
     "name": "stdout",
     "output_type": "stream",
     "text": [
      "['PRO_14873', 'PRO_10075']\n"
     ]
    },
    {
     "name": "stderr",
     "output_type": "stream",
     "text": [
      " 68%|████████████████████████████████▋               | 341001/500000 [1:03:33<27:14, 97.28it/s]"
     ]
    },
    {
     "name": "stdout",
     "output_type": "stream",
     "text": [
      "['PRO_23287', 'PRO_21218']\n"
     ]
    },
    {
     "name": "stderr",
     "output_type": "stream",
     "text": [
      " 68%|████████████████████████████████▊               | 341483/500000 [1:03:38<27:00, 97.81it/s]"
     ]
    },
    {
     "name": "stdout",
     "output_type": "stream",
     "text": [
      "['PRO_5547', 'PRO_5322']\n"
     ]
    },
    {
     "name": "stderr",
     "output_type": "stream",
     "text": [
      " 68%|████████████████████████████████▊               | 342008/500000 [1:03:43<27:00, 97.47it/s]"
     ]
    },
    {
     "name": "stdout",
     "output_type": "stream",
     "text": [
      "['PRO_12353', 'PRO_1248']\n"
     ]
    },
    {
     "name": "stderr",
     "output_type": "stream",
     "text": [
      " 69%|████████████████████████████████▉               | 342539/500000 [1:03:49<26:56, 97.40it/s]"
     ]
    },
    {
     "name": "stdout",
     "output_type": "stream",
     "text": [
      "['PRO_579', 'PRO_7600']\n"
     ]
    },
    {
     "name": "stderr",
     "output_type": "stream",
     "text": [
      " 69%|████████████████████████████████▉               | 342922/500000 [1:03:53<26:26, 99.02it/s]"
     ]
    },
    {
     "name": "stdout",
     "output_type": "stream",
     "text": [
      "['PRO_21677', 'PRO_1394']\n"
     ]
    },
    {
     "name": "stderr",
     "output_type": "stream",
     "text": [
      " 69%|████████████████████████████████▉               | 343216/500000 [1:03:56<26:27, 98.78it/s]"
     ]
    },
    {
     "name": "stdout",
     "output_type": "stream",
     "text": [
      "['PRO_16162', 'PRO_14686']\n"
     ]
    },
    {
     "name": "stderr",
     "output_type": "stream",
     "text": [
      " 69%|█████████████████████████████████▏              | 345118/500000 [1:04:15<26:05, 98.91it/s]"
     ]
    },
    {
     "name": "stdout",
     "output_type": "stream",
     "text": [
      "['PRO_23027', 'PRO_13598']\n"
     ]
    },
    {
     "name": "stderr",
     "output_type": "stream",
     "text": [
      " 69%|█████████████████████████████████▏              | 346035/500000 [1:04:25<26:02, 98.56it/s]"
     ]
    },
    {
     "name": "stdout",
     "output_type": "stream",
     "text": [
      "['PRO_14864', 'PRO_18485']\n"
     ]
    },
    {
     "name": "stderr",
     "output_type": "stream",
     "text": [
      " 69%|█████████████████████████████████▎              | 346529/500000 [1:04:30<26:04, 98.08it/s]"
     ]
    },
    {
     "name": "stdout",
     "output_type": "stream",
     "text": [
      "['PRO_3489', 'PRO_22480']\n"
     ]
    },
    {
     "name": "stderr",
     "output_type": "stream",
     "text": [
      " 69%|█████████████████████████████████▎              | 346953/500000 [1:04:34<25:55, 98.38it/s]"
     ]
    },
    {
     "name": "stdout",
     "output_type": "stream",
     "text": [
      "['PRO_12462', 'PRO_17052']\n"
     ]
    },
    {
     "name": "stderr",
     "output_type": "stream",
     "text": [
      " 70%|█████████████████████████████████▍              | 348232/500000 [1:04:47<25:21, 99.78it/s]"
     ]
    },
    {
     "name": "stdout",
     "output_type": "stream",
     "text": [
      "['PRO_17607', 'PRO_14101']\n"
     ]
    },
    {
     "name": "stderr",
     "output_type": "stream",
     "text": [
      " 70%|█████████████████████████████████▍              | 348566/500000 [1:04:51<25:54, 97.42it/s]"
     ]
    },
    {
     "name": "stdout",
     "output_type": "stream",
     "text": [
      "['PRO_18880', 'PRO_4738']\n"
     ]
    },
    {
     "name": "stderr",
     "output_type": "stream",
     "text": [
      " 70%|█████████████████████████████████▍              | 348728/500000 [1:04:52<25:38, 98.34it/s]"
     ]
    },
    {
     "name": "stdout",
     "output_type": "stream",
     "text": [
      "['PRO_5050', 'PRO_21026']\n"
     ]
    },
    {
     "name": "stderr",
     "output_type": "stream",
     "text": [
      " 70%|█████████████████████████████████▍              | 348869/500000 [1:04:54<25:33, 98.54it/s]"
     ]
    },
    {
     "name": "stdout",
     "output_type": "stream",
     "text": [
      "['PRO_6249', 'PRO_8926']\n"
     ]
    },
    {
     "name": "stderr",
     "output_type": "stream",
     "text": [
      " 70%|█████████████████████████████████▌              | 349621/500000 [1:05:02<25:50, 97.00it/s]"
     ]
    },
    {
     "name": "stdout",
     "output_type": "stream",
     "text": [
      "['PRO_8711', 'PRO_14775']\n"
     ]
    },
    {
     "name": "stderr",
     "output_type": "stream",
     "text": [
      " 70%|█████████████████████████████████▌              | 350035/500000 [1:05:06<25:19, 98.69it/s]"
     ]
    },
    {
     "name": "stdout",
     "output_type": "stream",
     "text": [
      "['PRO_3477', 'PRO_9843']\n"
     ]
    },
    {
     "name": "stderr",
     "output_type": "stream",
     "text": [
      " 70%|█████████████████████████████████▋              | 350309/500000 [1:05:09<25:31, 97.74it/s]"
     ]
    },
    {
     "name": "stdout",
     "output_type": "stream",
     "text": [
      "['PRO_21513', 'PRO_1079']\n"
     ]
    },
    {
     "name": "stderr",
     "output_type": "stream",
     "text": [
      " 70%|█████████████████████████████████▋              | 350771/500000 [1:05:13<25:09, 98.85it/s]"
     ]
    },
    {
     "name": "stdout",
     "output_type": "stream",
     "text": [
      "['PRO_21121', 'PRO_6881']\n"
     ]
    },
    {
     "name": "stderr",
     "output_type": "stream",
     "text": [
      " 70%|█████████████████████████████████▋              | 351285/500000 [1:05:19<25:43, 96.33it/s]"
     ]
    },
    {
     "name": "stdout",
     "output_type": "stream",
     "text": [
      "['PRO_4531', 'PRO_7538']\n"
     ]
    },
    {
     "name": "stderr",
     "output_type": "stream",
     "text": [
      " 70%|█████████████████████████████████▋              | 351476/500000 [1:05:21<25:01, 98.92it/s]"
     ]
    },
    {
     "name": "stdout",
     "output_type": "stream",
     "text": [
      "['PRO_17365', 'PRO_6102']\n"
     ]
    },
    {
     "name": "stderr",
     "output_type": "stream",
     "text": [
      " 70%|█████████████████████████████████▊              | 352120/500000 [1:05:27<24:43, 99.68it/s]"
     ]
    },
    {
     "name": "stdout",
     "output_type": "stream",
     "text": [
      "['PRO_15446', 'PRO_22122']\n"
     ]
    },
    {
     "name": "stderr",
     "output_type": "stream",
     "text": [
      " 70%|█████████████████████████████████▊              | 352142/500000 [1:05:28<24:43, 99.67it/s]"
     ]
    },
    {
     "name": "stdout",
     "output_type": "stream",
     "text": [
      "['PRO_4216', 'PRO_1923']\n"
     ]
    },
    {
     "name": "stderr",
     "output_type": "stream",
     "text": [
      " 71%|█████████████████████████████████▉              | 353305/500000 [1:05:39<24:57, 97.95it/s]"
     ]
    },
    {
     "name": "stdout",
     "output_type": "stream",
     "text": [
      "['PRO_20626', 'PRO_1577']\n"
     ]
    },
    {
     "name": "stderr",
     "output_type": "stream",
     "text": [
      " 71%|█████████████████████████████████▉              | 353335/500000 [1:05:40<24:56, 98.03it/s]"
     ]
    },
    {
     "name": "stdout",
     "output_type": "stream",
     "text": [
      "['PRO_9310', 'PRO_221']\n"
     ]
    },
    {
     "name": "stderr",
     "output_type": "stream",
     "text": [
      " 71%|█████████████████████████████████▉              | 353696/500000 [1:05:44<25:03, 97.33it/s]"
     ]
    },
    {
     "name": "stdout",
     "output_type": "stream",
     "text": [
      "['PRO_2538', 'PRO_19573']\n"
     ]
    },
    {
     "name": "stderr",
     "output_type": "stream",
     "text": [
      " 71%|█████████████████████████████████▉              | 353849/500000 [1:05:45<24:34, 99.15it/s]"
     ]
    },
    {
     "name": "stdout",
     "output_type": "stream",
     "text": [
      "['PRO_15810', 'PRO_17189']\n"
     ]
    },
    {
     "name": "stderr",
     "output_type": "stream",
     "text": [
      " 71%|█████████████████████████████████▉              | 353970/500000 [1:05:46<24:41, 98.59it/s]"
     ]
    },
    {
     "name": "stdout",
     "output_type": "stream",
     "text": [
      "['PRO_11470', 'PRO_21312']\n"
     ]
    },
    {
     "name": "stderr",
     "output_type": "stream",
     "text": [
      " 71%|█████████████████████████████████▉              | 354032/500000 [1:05:47<24:29, 99.31it/s]"
     ]
    },
    {
     "name": "stdout",
     "output_type": "stream",
     "text": [
      "['PRO_4706', 'PRO_7965']\n"
     ]
    },
    {
     "name": "stderr",
     "output_type": "stream",
     "text": [
      " 71%|██████████████████████████████████              | 354363/500000 [1:05:50<24:44, 98.07it/s]"
     ]
    },
    {
     "name": "stdout",
     "output_type": "stream",
     "text": [
      "['PRO_565', 'PRO_11952']\n"
     ]
    },
    {
     "name": "stderr",
     "output_type": "stream",
     "text": [
      " 71%|██████████████████████████████████              | 355392/500000 [1:06:01<24:55, 96.67it/s]"
     ]
    },
    {
     "name": "stdout",
     "output_type": "stream",
     "text": [
      "['PRO_17435', 'PRO_2357']\n"
     ]
    },
    {
     "name": "stderr",
     "output_type": "stream",
     "text": [
      " 71%|██████████████████████████████████▏             | 355887/500000 [1:06:06<24:43, 97.17it/s]"
     ]
    },
    {
     "name": "stdout",
     "output_type": "stream",
     "text": [
      "['PRO_15405', 'PRO_3281']\n"
     ]
    },
    {
     "name": "stderr",
     "output_type": "stream",
     "text": [
      " 71%|█████████████████████████████████▌             | 356961/500000 [1:06:17<23:50, 100.00it/s]"
     ]
    },
    {
     "name": "stdout",
     "output_type": "stream",
     "text": [
      "['PRO_13534', 'PRO_15790']\n"
     ]
    },
    {
     "name": "stderr",
     "output_type": "stream",
     "text": [
      " 71%|██████████████████████████████████▎             | 357012/500000 [1:06:18<24:14, 98.32it/s]"
     ]
    },
    {
     "name": "stdout",
     "output_type": "stream",
     "text": [
      "['PRO_14637', 'PRO_3988']\n"
     ]
    },
    {
     "name": "stderr",
     "output_type": "stream",
     "text": [
      " 71%|██████████████████████████████████▎             | 357152/500000 [1:06:19<24:24, 97.56it/s]"
     ]
    },
    {
     "name": "stdout",
     "output_type": "stream",
     "text": [
      "['PRO_12338', 'PRO_4041']\n"
     ]
    },
    {
     "name": "stderr",
     "output_type": "stream",
     "text": [
      " 72%|██████████████████████████████████▍             | 358360/500000 [1:06:31<23:50, 99.01it/s]"
     ]
    },
    {
     "name": "stdout",
     "output_type": "stream",
     "text": [
      "['PRO_14217', 'PRO_9390']\n"
     ]
    },
    {
     "name": "stderr",
     "output_type": "stream",
     "text": [
      " 72%|██████████████████████████████████▍             | 358541/500000 [1:06:33<24:03, 97.97it/s]"
     ]
    },
    {
     "name": "stdout",
     "output_type": "stream",
     "text": [
      "['PRO_17526', 'PRO_4685']\n"
     ]
    },
    {
     "name": "stderr",
     "output_type": "stream",
     "text": [
      " 72%|██████████████████████████████████▌             | 360552/500000 [1:06:54<23:25, 99.23it/s]"
     ]
    },
    {
     "name": "stdout",
     "output_type": "stream",
     "text": [
      "['PRO_18828', 'PRO_1824']\n"
     ]
    },
    {
     "name": "stderr",
     "output_type": "stream",
     "text": [
      " 72%|██████████████████████████████████▋             | 361215/500000 [1:07:01<23:50, 97.00it/s]"
     ]
    },
    {
     "name": "stdout",
     "output_type": "stream",
     "text": [
      "['PRO_19961', 'PRO_1577']\n"
     ]
    },
    {
     "name": "stderr",
     "output_type": "stream",
     "text": [
      " 72%|██████████████████████████████████▋             | 361495/500000 [1:07:04<23:34, 97.91it/s]"
     ]
    },
    {
     "name": "stdout",
     "output_type": "stream",
     "text": [
      "['PRO_19076', 'PRO_6661']\n"
     ]
    },
    {
     "name": "stderr",
     "output_type": "stream",
     "text": [
      " 72%|██████████████████████████████████▋             | 361826/500000 [1:07:07<23:34, 97.66it/s]"
     ]
    },
    {
     "name": "stdout",
     "output_type": "stream",
     "text": [
      "['PRO_22816', 'PRO_13105']\n"
     ]
    },
    {
     "name": "stderr",
     "output_type": "stream",
     "text": [
      " 72%|██████████████████████████████████▋             | 361877/500000 [1:07:08<23:23, 98.40it/s]"
     ]
    },
    {
     "name": "stdout",
     "output_type": "stream",
     "text": [
      "['PRO_11499', 'PRO_509']\n"
     ]
    },
    {
     "name": "stderr",
     "output_type": "stream",
     "text": [
      " 72%|██████████████████████████████████▋             | 361929/500000 [1:07:08<23:03, 99.77it/s]"
     ]
    },
    {
     "name": "stdout",
     "output_type": "stream",
     "text": [
      "['PRO_5437', 'PRO_14393']\n"
     ]
    },
    {
     "name": "stderr",
     "output_type": "stream",
     "text": [
      " 73%|██████████████████████████████████▊             | 363275/500000 [1:07:22<23:34, 96.63it/s]"
     ]
    },
    {
     "name": "stdout",
     "output_type": "stream",
     "text": [
      "['PRO_9237', 'PRO_6244']\n"
     ]
    },
    {
     "name": "stderr",
     "output_type": "stream",
     "text": [
      " 73%|██████████████████████████████████▉             | 363755/500000 [1:07:27<23:09, 98.03it/s]"
     ]
    },
    {
     "name": "stdout",
     "output_type": "stream",
     "text": [
      "['PRO_9597', 'PRO_17435']\n"
     ]
    },
    {
     "name": "stderr",
     "output_type": "stream",
     "text": [
      " 73%|██████████████████████████████████▉             | 364066/500000 [1:07:30<23:16, 97.31it/s]"
     ]
    },
    {
     "name": "stdout",
     "output_type": "stream",
     "text": [
      "['PRO_4797', 'PRO_11060']\n"
     ]
    },
    {
     "name": "stderr",
     "output_type": "stream",
     "text": [
      " 73%|██████████████████████████████████▉             | 364491/500000 [1:07:34<22:51, 98.84it/s]"
     ]
    },
    {
     "name": "stdout",
     "output_type": "stream",
     "text": [
      "['PRO_18986', 'PRO_2857']\n"
     ]
    },
    {
     "name": "stderr",
     "output_type": "stream",
     "text": [
      " 73%|███████████████████████████████████             | 365274/500000 [1:07:42<22:56, 97.86it/s]"
     ]
    },
    {
     "name": "stdout",
     "output_type": "stream",
     "text": [
      "['PRO_5543', 'PRO_9676']\n"
     ]
    },
    {
     "name": "stderr",
     "output_type": "stream",
     "text": [
      " 73%|███████████████████████████████████             | 365624/500000 [1:07:46<22:52, 97.91it/s]"
     ]
    },
    {
     "name": "stdout",
     "output_type": "stream",
     "text": [
      "['PRO_9898', 'PRO_11875']\n"
     ]
    },
    {
     "name": "stderr",
     "output_type": "stream",
     "text": [
      " 73%|███████████████████████████████████             | 365835/500000 [1:07:48<23:06, 96.80it/s]"
     ]
    },
    {
     "name": "stdout",
     "output_type": "stream",
     "text": [
      "['PRO_3624', 'PRO_1860']\n"
     ]
    },
    {
     "name": "stderr",
     "output_type": "stream",
     "text": [
      " 73%|███████████████████████████████████▏            | 366087/500000 [1:07:51<22:32, 99.02it/s]"
     ]
    },
    {
     "name": "stdout",
     "output_type": "stream",
     "text": [
      "['PRO_629', 'PRO_14654']\n"
     ]
    },
    {
     "name": "stderr",
     "output_type": "stream",
     "text": [
      " 73%|███████████████████████████████████▏            | 366421/500000 [1:07:54<22:30, 98.93it/s]"
     ]
    },
    {
     "name": "stdout",
     "output_type": "stream",
     "text": [
      "['PRO_16746', 'PRO_9580']\n"
     ]
    },
    {
     "name": "stderr",
     "output_type": "stream",
     "text": [
      " 73%|███████████████████████████████████▏            | 367093/500000 [1:08:01<22:40, 97.68it/s]"
     ]
    },
    {
     "name": "stdout",
     "output_type": "stream",
     "text": [
      "['PRO_127', 'PRO_19386']\n"
     ]
    },
    {
     "name": "stderr",
     "output_type": "stream",
     "text": [
      " 73%|███████████████████████████████████▎            | 367225/500000 [1:08:03<22:40, 97.63it/s]"
     ]
    },
    {
     "name": "stdout",
     "output_type": "stream",
     "text": [
      "['PRO_17243', 'PRO_13686']\n"
     ]
    },
    {
     "name": "stderr",
     "output_type": "stream",
     "text": [
      " 73%|███████████████████████████████████▎            | 367326/500000 [1:08:04<22:37, 97.75it/s]"
     ]
    },
    {
     "name": "stdout",
     "output_type": "stream",
     "text": [
      "['PRO_12353', 'PRO_13253']\n"
     ]
    },
    {
     "name": "stderr",
     "output_type": "stream",
     "text": [
      " 74%|███████████████████████████████████▎            | 367908/500000 [1:08:10<22:09, 99.36it/s]"
     ]
    },
    {
     "name": "stdout",
     "output_type": "stream",
     "text": [
      "['PRO_127', 'PRO_1753']\n"
     ]
    },
    {
     "name": "stderr",
     "output_type": "stream",
     "text": [
      " 74%|███████████████████████████████████▎            | 368289/500000 [1:08:14<22:32, 97.41it/s]"
     ]
    },
    {
     "name": "stdout",
     "output_type": "stream",
     "text": [
      "['PRO_17408', 'PRO_888']\n"
     ]
    },
    {
     "name": "stderr",
     "output_type": "stream",
     "text": [
      " 74%|███████████████████████████████████▍            | 368562/500000 [1:08:16<22:06, 99.12it/s]"
     ]
    },
    {
     "name": "stdout",
     "output_type": "stream",
     "text": [
      "['PRO_18115', 'PRO_13267']\n"
     ]
    },
    {
     "name": "stderr",
     "output_type": "stream",
     "text": [
      " 74%|███████████████████████████████████▍            | 368723/500000 [1:08:18<22:23, 97.72it/s]"
     ]
    },
    {
     "name": "stdout",
     "output_type": "stream",
     "text": [
      "['PRO_18192', 'PRO_20821']\n"
     ]
    },
    {
     "name": "stderr",
     "output_type": "stream",
     "text": [
      " 74%|███████████████████████████████████▍            | 368793/500000 [1:08:19<22:45, 96.11it/s]"
     ]
    },
    {
     "name": "stdout",
     "output_type": "stream",
     "text": [
      "['PRO_16781', 'PRO_9991']\n"
     ]
    },
    {
     "name": "stderr",
     "output_type": "stream",
     "text": [
      " 74%|███████████████████████████████████▍            | 369427/500000 [1:08:25<22:22, 97.23it/s]"
     ]
    },
    {
     "name": "stdout",
     "output_type": "stream",
     "text": [
      "['PRO_137', 'PRO_22842']\n"
     ]
    },
    {
     "name": "stderr",
     "output_type": "stream",
     "text": [
      " 74%|███████████████████████████████████▍            | 369468/500000 [1:08:26<22:20, 97.36it/s]"
     ]
    },
    {
     "name": "stdout",
     "output_type": "stream",
     "text": [
      "['PRO_9884', 'PRO_4216']\n"
     ]
    },
    {
     "name": "stderr",
     "output_type": "stream",
     "text": [
      " 74%|███████████████████████████████████▌            | 369929/500000 [1:08:31<22:19, 97.10it/s]"
     ]
    },
    {
     "name": "stdout",
     "output_type": "stream",
     "text": [
      "['PRO_6370', 'PRO_9751']\n"
     ]
    },
    {
     "name": "stderr",
     "output_type": "stream",
     "text": [
      " 74%|███████████████████████████████████▌            | 370010/500000 [1:08:31<22:10, 97.72it/s]"
     ]
    },
    {
     "name": "stdout",
     "output_type": "stream",
     "text": [
      "['PRO_2219', 'PRO_14253']\n"
     ]
    },
    {
     "name": "stderr",
     "output_type": "stream",
     "text": [
      " 74%|███████████████████████████████████▌            | 370612/500000 [1:08:38<22:18, 96.67it/s]"
     ]
    },
    {
     "name": "stdout",
     "output_type": "stream",
     "text": [
      "['PRO_795', 'PRO_16907']\n"
     ]
    },
    {
     "name": "stderr",
     "output_type": "stream",
     "text": [
      " 74%|███████████████████████████████████▋            | 371096/500000 [1:08:43<21:44, 98.79it/s]"
     ]
    },
    {
     "name": "stdout",
     "output_type": "stream",
     "text": [
      "['PRO_9180', 'PRO_2493']\n"
     ]
    },
    {
     "name": "stderr",
     "output_type": "stream",
     "text": [
      " 74%|███████████████████████████████████▋            | 371167/500000 [1:08:43<21:57, 97.77it/s]"
     ]
    },
    {
     "name": "stdout",
     "output_type": "stream",
     "text": [
      "['PRO_13614', 'PRO_18427']\n"
     ]
    },
    {
     "name": "stderr",
     "output_type": "stream",
     "text": [
      " 74%|███████████████████████████████████▋            | 371520/500000 [1:08:47<22:07, 96.75it/s]"
     ]
    },
    {
     "name": "stdout",
     "output_type": "stream",
     "text": [
      "['PRO_13867', 'PRO_20421']\n"
     ]
    },
    {
     "name": "stderr",
     "output_type": "stream",
     "text": [
      " 74%|███████████████████████████████████▋            | 372115/500000 [1:08:53<21:40, 98.36it/s]"
     ]
    },
    {
     "name": "stdout",
     "output_type": "stream",
     "text": [
      "['PRO_5646', 'PRO_19956']\n"
     ]
    },
    {
     "name": "stderr",
     "output_type": "stream",
     "text": [
      " 75%|███████████████████████████████████▊            | 372558/500000 [1:08:58<21:31, 98.69it/s]"
     ]
    },
    {
     "name": "stdout",
     "output_type": "stream",
     "text": [
      "['PRO_18698', 'PRO_3505']\n"
     ]
    },
    {
     "name": "stderr",
     "output_type": "stream",
     "text": [
      " 75%|████████████████████████████████████            | 375100/500000 [1:09:24<21:16, 97.82it/s]"
     ]
    },
    {
     "name": "stdout",
     "output_type": "stream",
     "text": [
      "['PRO_837', 'PRO_1248']\n"
     ]
    },
    {
     "name": "stderr",
     "output_type": "stream",
     "text": [
      " 75%|████████████████████████████████████            | 375151/500000 [1:09:24<21:03, 98.79it/s]"
     ]
    },
    {
     "name": "stdout",
     "output_type": "stream",
     "text": [
      "['PRO_8648', 'PRO_16994']\n"
     ]
    },
    {
     "name": "stderr",
     "output_type": "stream",
     "text": [
      " 75%|████████████████████████████████████            | 375611/500000 [1:09:29<21:30, 96.40it/s]"
     ]
    },
    {
     "name": "stdout",
     "output_type": "stream",
     "text": [
      "['PRO_13671', 'PRO_20235']\n"
     ]
    },
    {
     "name": "stderr",
     "output_type": "stream",
     "text": [
      " 75%|████████████████████████████████████            | 375752/500000 [1:09:31<21:17, 97.29it/s]"
     ]
    },
    {
     "name": "stdout",
     "output_type": "stream",
     "text": [
      "['PRO_11234', 'PRO_15034']\n"
     ]
    },
    {
     "name": "stderr",
     "output_type": "stream",
     "text": [
      " 75%|████████████████████████████████████            | 375992/500000 [1:09:33<21:21, 96.75it/s]"
     ]
    },
    {
     "name": "stdout",
     "output_type": "stream",
     "text": [
      "['PRO_1434', 'PRO_17357']\n"
     ]
    },
    {
     "name": "stderr",
     "output_type": "stream",
     "text": [
      " 75%|████████████████████████████████████▏           | 376763/500000 [1:09:41<20:51, 98.47it/s]"
     ]
    },
    {
     "name": "stdout",
     "output_type": "stream",
     "text": [
      "['PRO_23329', 'PRO_13108']\n"
     ]
    },
    {
     "name": "stderr",
     "output_type": "stream",
     "text": [
      " 76%|████████████████████████████████████▎           | 378177/500000 [1:09:56<20:52, 97.28it/s]"
     ]
    },
    {
     "name": "stdout",
     "output_type": "stream",
     "text": [
      "['PRO_13229', 'PRO_12170']\n",
      "['PRO_9891', 'PRO_17189']\n"
     ]
    },
    {
     "name": "stderr",
     "output_type": "stream",
     "text": [
      " 76%|████████████████████████████████████▎           | 378417/500000 [1:09:58<20:48, 97.38it/s]"
     ]
    },
    {
     "name": "stdout",
     "output_type": "stream",
     "text": [
      "['PRO_8835', 'PRO_2090']\n"
     ]
    },
    {
     "name": "stderr",
     "output_type": "stream",
     "text": [
      " 76%|████████████████████████████████████▎           | 378517/500000 [1:09:59<21:00, 96.35it/s]"
     ]
    },
    {
     "name": "stdout",
     "output_type": "stream",
     "text": [
      "['PRO_6831', 'PRO_3624']\n"
     ]
    },
    {
     "name": "stderr",
     "output_type": "stream",
     "text": [
      " 76%|████████████████████████████████████▍           | 379770/500000 [1:10:12<20:16, 98.79it/s]"
     ]
    },
    {
     "name": "stdout",
     "output_type": "stream",
     "text": [
      "['PRO_15204', 'PRO_6637']\n"
     ]
    },
    {
     "name": "stderr",
     "output_type": "stream",
     "text": [
      " 76%|████████████████████████████████████▍           | 379950/500000 [1:10:14<20:35, 97.16it/s]"
     ]
    },
    {
     "name": "stdout",
     "output_type": "stream",
     "text": [
      "['PRO_3394', 'PRO_22222']\n"
     ]
    },
    {
     "name": "stderr",
     "output_type": "stream",
     "text": [
      " 76%|████████████████████████████████████▌           | 380212/500000 [1:10:17<20:03, 99.51it/s]"
     ]
    },
    {
     "name": "stdout",
     "output_type": "stream",
     "text": [
      "['PRO_19265', 'PRO_4300']\n"
     ]
    },
    {
     "name": "stderr",
     "output_type": "stream",
     "text": [
      " 76%|████████████████████████████████████▌           | 381146/500000 [1:10:27<20:26, 96.90it/s]"
     ]
    },
    {
     "name": "stdout",
     "output_type": "stream",
     "text": [
      "['PRO_11371', 'PRO_4975']\n"
     ]
    },
    {
     "name": "stderr",
     "output_type": "stream",
     "text": [
      " 76%|████████████████████████████████████▌           | 381378/500000 [1:10:29<20:21, 97.15it/s]"
     ]
    },
    {
     "name": "stdout",
     "output_type": "stream",
     "text": [
      "['PRO_22267', 'PRO_23305']\n"
     ]
    },
    {
     "name": "stderr",
     "output_type": "stream",
     "text": [
      " 76%|████████████████████████████████████▌           | 381428/500000 [1:10:30<20:28, 96.48it/s]"
     ]
    },
    {
     "name": "stdout",
     "output_type": "stream",
     "text": [
      "['PRO_20136', 'PRO_16438']\n"
     ]
    },
    {
     "name": "stderr",
     "output_type": "stream",
     "text": [
      " 76%|████████████████████████████████████▋           | 382349/500000 [1:10:39<19:57, 98.23it/s]"
     ]
    },
    {
     "name": "stdout",
     "output_type": "stream",
     "text": [
      "['PRO_8787', 'PRO_10907']\n"
     ]
    },
    {
     "name": "stderr",
     "output_type": "stream",
     "text": [
      " 77%|████████████████████████████████████▋           | 382573/500000 [1:10:41<20:16, 96.52it/s]"
     ]
    },
    {
     "name": "stdout",
     "output_type": "stream",
     "text": [
      "['PRO_21084', 'PRO_12933']\n"
     ]
    },
    {
     "name": "stderr",
     "output_type": "stream",
     "text": [
      " 77%|████████████████████████████████████▊           | 383607/500000 [1:10:52<19:54, 97.43it/s]"
     ]
    },
    {
     "name": "stdout",
     "output_type": "stream",
     "text": [
      "['PRO_6034', 'PRO_11635']\n"
     ]
    },
    {
     "name": "stderr",
     "output_type": "stream",
     "text": [
      " 77%|████████████████████████████████████▊           | 383728/500000 [1:10:53<19:35, 98.95it/s]"
     ]
    },
    {
     "name": "stdout",
     "output_type": "stream",
     "text": [
      "['PRO_11501', 'PRO_15979']\n"
     ]
    },
    {
     "name": "stderr",
     "output_type": "stream",
     "text": [
      " 77%|████████████████████████████████████▉           | 384510/500000 [1:11:01<19:50, 96.98it/s]"
     ]
    },
    {
     "name": "stdout",
     "output_type": "stream",
     "text": [
      "['PRO_11783', 'PRO_22614']\n"
     ]
    },
    {
     "name": "stderr",
     "output_type": "stream",
     "text": [
      " 77%|█████████████████████████████████████           | 385783/500000 [1:11:15<19:33, 97.29it/s]"
     ]
    },
    {
     "name": "stdout",
     "output_type": "stream",
     "text": [
      "['PRO_7331', 'PRO_1714']\n"
     ]
    },
    {
     "name": "stderr",
     "output_type": "stream",
     "text": [
      " 77%|█████████████████████████████████████           | 386154/500000 [1:11:18<19:34, 96.91it/s]"
     ]
    },
    {
     "name": "stdout",
     "output_type": "stream",
     "text": [
      "['PRO_751', 'PRO_6486']\n"
     ]
    },
    {
     "name": "stderr",
     "output_type": "stream",
     "text": [
      " 77%|█████████████████████████████████████           | 386645/500000 [1:11:24<19:07, 98.76it/s]"
     ]
    },
    {
     "name": "stdout",
     "output_type": "stream",
     "text": [
      "['PRO_17684', 'PRO_4981']\n"
     ]
    },
    {
     "name": "stderr",
     "output_type": "stream",
     "text": [
      " 77%|█████████████████████████████████████▏          | 386987/500000 [1:11:27<19:32, 96.37it/s]"
     ]
    },
    {
     "name": "stdout",
     "output_type": "stream",
     "text": [
      "['PRO_6416', 'PRO_17512']\n"
     ]
    },
    {
     "name": "stderr",
     "output_type": "stream",
     "text": [
      " 78%|████████████████████████████████████▍          | 387511/500000 [1:11:32<18:41, 100.34it/s]"
     ]
    },
    {
     "name": "stdout",
     "output_type": "stream",
     "text": [
      "['PRO_10524', 'PRO_9846']\n"
     ]
    },
    {
     "name": "stderr",
     "output_type": "stream",
     "text": [
      " 78%|█████████████████████████████████████▏          | 387935/500000 [1:11:37<18:48, 99.27it/s]"
     ]
    },
    {
     "name": "stdout",
     "output_type": "stream",
     "text": [
      "['PRO_11421', 'PRO_17408']\n",
      "['PRO_7419', 'PRO_21781']\n"
     ]
    },
    {
     "name": "stderr",
     "output_type": "stream",
     "text": [
      " 78%|█████████████████████████████████████▎          | 388588/500000 [1:11:44<19:28, 95.33it/s]"
     ]
    },
    {
     "name": "stdout",
     "output_type": "stream",
     "text": [
      "['PRO_10636', 'PRO_20767']\n"
     ]
    },
    {
     "name": "stderr",
     "output_type": "stream",
     "text": [
      " 78%|█████████████████████████████████████▎          | 388820/500000 [1:11:46<18:43, 98.95it/s]"
     ]
    },
    {
     "name": "stdout",
     "output_type": "stream",
     "text": [
      "['PRO_14404', 'PRO_22694']\n"
     ]
    },
    {
     "name": "stderr",
     "output_type": "stream",
     "text": [
      " 78%|█████████████████████████████████████▍          | 390133/500000 [1:12:00<19:02, 96.17it/s]"
     ]
    },
    {
     "name": "stdout",
     "output_type": "stream",
     "text": [
      "['PRO_19066', 'PRO_8405']\n"
     ]
    },
    {
     "name": "stderr",
     "output_type": "stream",
     "text": [
      " 78%|█████████████████████████████████████▌          | 391094/500000 [1:12:10<18:54, 95.96it/s]"
     ]
    },
    {
     "name": "stdout",
     "output_type": "stream",
     "text": [
      "['PRO_22075', 'PRO_19774']\n"
     ]
    },
    {
     "name": "stderr",
     "output_type": "stream",
     "text": [
      " 78%|█████████████████████████████████████▌          | 391135/500000 [1:12:10<18:47, 96.59it/s]"
     ]
    },
    {
     "name": "stdout",
     "output_type": "stream",
     "text": [
      "['PRO_6500', 'PRO_3505']\n"
     ]
    },
    {
     "name": "stderr",
     "output_type": "stream",
     "text": [
      " 78%|█████████████████████████████████████▌          | 391175/500000 [1:12:10<18:56, 95.75it/s]"
     ]
    },
    {
     "name": "stdout",
     "output_type": "stream",
     "text": [
      "['PRO_7823', 'PRO_15675']\n"
     ]
    },
    {
     "name": "stderr",
     "output_type": "stream",
     "text": [
      " 78%|█████████████████████████████████████▌          | 391726/500000 [1:12:16<18:37, 96.91it/s]"
     ]
    },
    {
     "name": "stdout",
     "output_type": "stream",
     "text": [
      "['PRO_15515', 'PRO_2857']\n"
     ]
    },
    {
     "name": "stderr",
     "output_type": "stream",
     "text": [
      " 78%|█████████████████████████████████████▋          | 392257/500000 [1:12:22<18:36, 96.51it/s]"
     ]
    },
    {
     "name": "stdout",
     "output_type": "stream",
     "text": [
      "['PRO_19472', 'PRO_9049']\n"
     ]
    },
    {
     "name": "stderr",
     "output_type": "stream",
     "text": [
      " 78%|█████████████████████████████████████▋          | 392368/500000 [1:12:23<18:21, 97.74it/s]"
     ]
    },
    {
     "name": "stdout",
     "output_type": "stream",
     "text": [
      "['PRO_8160', 'PRO_10447']\n"
     ]
    },
    {
     "name": "stderr",
     "output_type": "stream",
     "text": [
      " 79%|█████████████████████████████████████▋          | 393148/500000 [1:12:31<18:33, 95.99it/s]"
     ]
    },
    {
     "name": "stdout",
     "output_type": "stream",
     "text": [
      "['PRO_8436', 'PRO_19565']\n"
     ]
    },
    {
     "name": "stderr",
     "output_type": "stream",
     "text": [
      " 79%|█████████████████████████████████████▊          | 393631/500000 [1:12:36<18:07, 97.77it/s]"
     ]
    },
    {
     "name": "stdout",
     "output_type": "stream",
     "text": [
      "['PRO_23275', 'PRO_16964']\n"
     ]
    },
    {
     "name": "stderr",
     "output_type": "stream",
     "text": [
      " 79%|█████████████████████████████████████▊          | 393712/500000 [1:12:37<18:05, 97.89it/s]"
     ]
    },
    {
     "name": "stdout",
     "output_type": "stream",
     "text": [
      "['PRO_23346', 'PRO_20098']\n"
     ]
    },
    {
     "name": "stderr",
     "output_type": "stream",
     "text": [
      " 79%|█████████████████████████████████████▊          | 394174/500000 [1:12:42<17:51, 98.73it/s]"
     ]
    },
    {
     "name": "stdout",
     "output_type": "stream",
     "text": [
      "['PRO_18810', 'PRO_21321']\n"
     ]
    },
    {
     "name": "stderr",
     "output_type": "stream",
     "text": [
      " 79%|█████████████████████████████████████▉          | 394685/500000 [1:12:47<18:01, 97.42it/s]"
     ]
    },
    {
     "name": "stdout",
     "output_type": "stream",
     "text": [
      "['PRO_8367', 'PRO_7098']\n"
     ]
    },
    {
     "name": "stderr",
     "output_type": "stream",
     "text": [
      " 79%|█████████████████████████████████████▉          | 394735/500000 [1:12:47<18:10, 96.51it/s]"
     ]
    },
    {
     "name": "stdout",
     "output_type": "stream",
     "text": [
      "['PRO_7115', 'PRO_21193']\n"
     ]
    },
    {
     "name": "stderr",
     "output_type": "stream",
     "text": [
      " 79%|██████████████████████████████████████          | 396037/500000 [1:13:01<18:02, 96.05it/s]"
     ]
    },
    {
     "name": "stdout",
     "output_type": "stream",
     "text": [
      "['PRO_6365', 'PRO_18006']\n"
     ]
    },
    {
     "name": "stderr",
     "output_type": "stream",
     "text": [
      " 79%|██████████████████████████████████████          | 396548/500000 [1:13:06<17:43, 97.24it/s]"
     ]
    },
    {
     "name": "stdout",
     "output_type": "stream",
     "text": [
      "['PRO_8766', 'PRO_12319']\n"
     ]
    },
    {
     "name": "stderr",
     "output_type": "stream",
     "text": [
      " 79%|██████████████████████████████████████          | 396759/500000 [1:13:08<17:44, 96.96it/s]"
     ]
    },
    {
     "name": "stdout",
     "output_type": "stream",
     "text": [
      "['PRO_16301', 'PRO_1212']\n"
     ]
    },
    {
     "name": "stderr",
     "output_type": "stream",
     "text": [
      " 80%|██████████████████████████████████████▏         | 397921/500000 [1:13:21<17:48, 95.54it/s]"
     ]
    },
    {
     "name": "stdout",
     "output_type": "stream",
     "text": [
      "['PRO_9352', 'PRO_22763']\n"
     ]
    },
    {
     "name": "stderr",
     "output_type": "stream",
     "text": [
      " 80%|██████████████████████████████████████▎         | 398454/500000 [1:13:26<17:13, 98.25it/s]"
     ]
    },
    {
     "name": "stdout",
     "output_type": "stream",
     "text": [
      "['PRO_8618', 'PRO_1969']\n"
     ]
    },
    {
     "name": "stderr",
     "output_type": "stream",
     "text": [
      " 80%|██████████████████████████████████████▎         | 399418/500000 [1:13:36<16:56, 98.90it/s]"
     ]
    },
    {
     "name": "stdout",
     "output_type": "stream",
     "text": [
      "['PRO_10609', 'PRO_18770']\n"
     ]
    },
    {
     "name": "stderr",
     "output_type": "stream",
     "text": [
      " 80%|██████████████████████████████████████▍         | 399909/500000 [1:13:41<17:03, 97.75it/s]"
     ]
    },
    {
     "name": "stdout",
     "output_type": "stream",
     "text": [
      "['PRO_21052', 'PRO_194']\n"
     ]
    },
    {
     "name": "stderr",
     "output_type": "stream",
     "text": [
      " 80%|██████████████████████████████████████▌         | 401153/500000 [1:13:54<16:57, 97.18it/s]"
     ]
    },
    {
     "name": "stdout",
     "output_type": "stream",
     "text": [
      "['PRO_16290', 'PRO_20985']\n"
     ]
    },
    {
     "name": "stderr",
     "output_type": "stream",
     "text": [
      " 80%|██████████████████████████████████████▌         | 401870/500000 [1:14:01<16:29, 99.22it/s]"
     ]
    },
    {
     "name": "stdout",
     "output_type": "stream",
     "text": [
      "['PRO_12251', 'PRO_22090']\n"
     ]
    },
    {
     "name": "stderr",
     "output_type": "stream",
     "text": [
      " 81%|██████████████████████████████████████▋         | 402601/500000 [1:14:09<16:47, 96.64it/s]"
     ]
    },
    {
     "name": "stdout",
     "output_type": "stream",
     "text": [
      "['PRO_6311', 'PRO_5843']\n"
     ]
    },
    {
     "name": "stderr",
     "output_type": "stream",
     "text": [
      " 81%|██████████████████████████████████████▋         | 402761/500000 [1:14:11<16:57, 95.61it/s]"
     ]
    },
    {
     "name": "stdout",
     "output_type": "stream",
     "text": [
      "['PRO_19616', 'PRO_629']\n"
     ]
    },
    {
     "name": "stderr",
     "output_type": "stream",
     "text": [
      " 81%|██████████████████████████████████████▊         | 403884/500000 [1:14:22<16:28, 97.22it/s]"
     ]
    },
    {
     "name": "stdout",
     "output_type": "stream",
     "text": [
      "['PRO_10288', 'PRO_9094']\n"
     ]
    },
    {
     "name": "stderr",
     "output_type": "stream",
     "text": [
      " 81%|██████████████████████████████████████▊         | 404026/500000 [1:14:24<16:22, 97.63it/s]"
     ]
    },
    {
     "name": "stdout",
     "output_type": "stream",
     "text": [
      "['PRO_4101', 'PRO_14183']\n"
     ]
    },
    {
     "name": "stderr",
     "output_type": "stream",
     "text": [
      " 81%|██████████████████████████████████████▊         | 404447/500000 [1:14:28<16:14, 98.07it/s]"
     ]
    },
    {
     "name": "stdout",
     "output_type": "stream",
     "text": [
      "['PRO_22787', 'PRO_798']\n"
     ]
    },
    {
     "name": "stderr",
     "output_type": "stream",
     "text": [
      " 81%|██████████████████████████████████████▊         | 404898/500000 [1:14:33<16:18, 97.18it/s]"
     ]
    },
    {
     "name": "stdout",
     "output_type": "stream",
     "text": [
      "['PRO_5', 'PRO_13675']\n"
     ]
    },
    {
     "name": "stderr",
     "output_type": "stream",
     "text": [
      " 81%|██████████████████████████████████████▉         | 405379/500000 [1:14:38<16:24, 96.12it/s]"
     ]
    },
    {
     "name": "stdout",
     "output_type": "stream",
     "text": [
      "['PRO_6271', 'PRO_2517']\n"
     ]
    },
    {
     "name": "stderr",
     "output_type": "stream",
     "text": [
      " 81%|██████████████████████████████████████▉         | 406059/500000 [1:14:45<16:10, 96.75it/s]"
     ]
    },
    {
     "name": "stdout",
     "output_type": "stream",
     "text": [
      "['PRO_12933', 'PRO_3170']\n"
     ]
    },
    {
     "name": "stderr",
     "output_type": "stream",
     "text": [
      " 82%|███████████████████████████████████████▏        | 408279/500000 [1:15:08<15:20, 99.62it/s]"
     ]
    },
    {
     "name": "stdout",
     "output_type": "stream",
     "text": [
      "['PRO_12153', 'PRO_8489']\n"
     ]
    },
    {
     "name": "stderr",
     "output_type": "stream",
     "text": [
      " 82%|███████████████████████████████████████▏        | 408440/500000 [1:15:09<15:46, 96.77it/s]"
     ]
    },
    {
     "name": "stdout",
     "output_type": "stream",
     "text": [
      "['PRO_12873', 'PRO_127']\n"
     ]
    },
    {
     "name": "stderr",
     "output_type": "stream",
     "text": [
      " 82%|███████████████████████████████████████▌        | 411825/500000 [1:15:44<14:58, 98.11it/s]"
     ]
    },
    {
     "name": "stdout",
     "output_type": "stream",
     "text": [
      "['PRO_12017', 'PRO_4523']\n"
     ]
    },
    {
     "name": "stderr",
     "output_type": "stream",
     "text": [
      " 82%|███████████████████████████████████████▌        | 412398/500000 [1:15:50<14:49, 98.50it/s]"
     ]
    },
    {
     "name": "stdout",
     "output_type": "stream",
     "text": [
      "['PRO_14012', 'PRO_13048']\n"
     ]
    },
    {
     "name": "stderr",
     "output_type": "stream",
     "text": [
      " 83%|███████████████████████████████████████▋        | 413040/500000 [1:15:57<14:53, 97.29it/s]"
     ]
    },
    {
     "name": "stdout",
     "output_type": "stream",
     "text": [
      "['PRO_4342', 'PRO_9002']\n"
     ]
    },
    {
     "name": "stderr",
     "output_type": "stream",
     "text": [
      " 83%|███████████████████████████████████████▋        | 413781/500000 [1:16:04<14:40, 97.92it/s]"
     ]
    },
    {
     "name": "stdout",
     "output_type": "stream",
     "text": [
      "['PRO_21022', 'PRO_16178']\n"
     ]
    },
    {
     "name": "stderr",
     "output_type": "stream",
     "text": [
      " 83%|███████████████████████████████████████▊        | 415047/500000 [1:16:18<14:19, 98.88it/s]"
     ]
    },
    {
     "name": "stdout",
     "output_type": "stream",
     "text": [
      "['PRO_3157', 'PRO_11437']\n",
      "['PRO_16282', 'PRO_5499']\n"
     ]
    },
    {
     "name": "stderr",
     "output_type": "stream",
     "text": [
      " 83%|███████████████████████████████████████▊        | 415228/500000 [1:16:19<14:19, 98.58it/s]"
     ]
    },
    {
     "name": "stdout",
     "output_type": "stream",
     "text": [
      "['PRO_5245', 'PRO_3652']\n"
     ]
    },
    {
     "name": "stderr",
     "output_type": "stream",
     "text": [
      " 84%|████████████████████████████████████████        | 417690/500000 [1:16:45<14:12, 96.61it/s]"
     ]
    },
    {
     "name": "stdout",
     "output_type": "stream",
     "text": [
      "['PRO_13304', 'PRO_10665']\n"
     ]
    },
    {
     "name": "stderr",
     "output_type": "stream",
     "text": [
      " 84%|████████████████████████████████████████        | 417911/500000 [1:16:47<13:54, 98.34it/s]"
     ]
    },
    {
     "name": "stdout",
     "output_type": "stream",
     "text": [
      "['PRO_15018', 'PRO_5425']\n"
     ]
    },
    {
     "name": "stderr",
     "output_type": "stream",
     "text": [
      " 84%|████████████████████████████████████████▏       | 418831/500000 [1:16:57<13:52, 97.54it/s]"
     ]
    },
    {
     "name": "stdout",
     "output_type": "stream",
     "text": [
      "['PRO_22967', 'PRO_11054']\n"
     ]
    },
    {
     "name": "stderr",
     "output_type": "stream",
     "text": [
      " 84%|████████████████████████████████████████▎       | 419293/500000 [1:17:02<13:49, 97.30it/s]"
     ]
    },
    {
     "name": "stdout",
     "output_type": "stream",
     "text": [
      "['PRO_20151', 'PRO_12433']\n"
     ]
    },
    {
     "name": "stderr",
     "output_type": "stream",
     "text": [
      " 84%|████████████████████████████████████████▎       | 419323/500000 [1:17:02<13:48, 97.42it/s]"
     ]
    },
    {
     "name": "stdout",
     "output_type": "stream",
     "text": [
      "['PRO_17737', 'PRO_17189']\n"
     ]
    },
    {
     "name": "stderr",
     "output_type": "stream",
     "text": [
      " 84%|████████████████████████████████████████▎       | 419374/500000 [1:17:03<13:46, 97.57it/s]"
     ]
    },
    {
     "name": "stdout",
     "output_type": "stream",
     "text": [
      "['PRO_4999', 'PRO_7796']\n"
     ]
    },
    {
     "name": "stderr",
     "output_type": "stream",
     "text": [
      " 84%|████████████████████████████████████████▎       | 419834/500000 [1:17:07<13:50, 96.58it/s]"
     ]
    },
    {
     "name": "stdout",
     "output_type": "stream",
     "text": [
      "['PRO_3068', 'PRO_18578']\n"
     ]
    },
    {
     "name": "stderr",
     "output_type": "stream",
     "text": [
      " 84%|████████████████████████████████████████▎       | 419924/500000 [1:17:08<13:49, 96.50it/s]"
     ]
    },
    {
     "name": "stdout",
     "output_type": "stream",
     "text": [
      "['PRO_7553', 'PRO_1920']\n"
     ]
    },
    {
     "name": "stderr",
     "output_type": "stream",
     "text": [
      " 84%|████████████████████████████████████████▎       | 420464/500000 [1:17:14<13:56, 95.05it/s]"
     ]
    },
    {
     "name": "stdout",
     "output_type": "stream",
     "text": [
      "['PRO_18764', 'PRO_5258']\n"
     ]
    },
    {
     "name": "stderr",
     "output_type": "stream",
     "text": [
      " 84%|████████████████████████████████████████▍       | 420905/500000 [1:17:18<13:32, 97.35it/s]"
     ]
    },
    {
     "name": "stdout",
     "output_type": "stream",
     "text": [
      "['PRO_15388', 'PRO_9676']\n"
     ]
    },
    {
     "name": "stderr",
     "output_type": "stream",
     "text": [
      " 85%|████████████████████████████████████████▊       | 424679/500000 [1:17:58<12:52, 97.56it/s]"
     ]
    },
    {
     "name": "stdout",
     "output_type": "stream",
     "text": [
      "['PRO_12369', 'PRO_9119']\n"
     ]
    },
    {
     "name": "stderr",
     "output_type": "stream",
     "text": [
      " 85%|████████████████████████████████████████▏      | 426910/500000 [1:18:21<12:09, 100.20it/s]"
     ]
    },
    {
     "name": "stdout",
     "output_type": "stream",
     "text": [
      "['PRO_2915', 'PRO_19164']\n"
     ]
    },
    {
     "name": "stderr",
     "output_type": "stream",
     "text": [
      " 86%|█████████████████████████████████████████▏      | 428733/500000 [1:18:40<12:00, 98.89it/s]"
     ]
    },
    {
     "name": "stdout",
     "output_type": "stream",
     "text": [
      "['PRO_22273', 'PRO_20508']\n"
     ]
    },
    {
     "name": "stderr",
     "output_type": "stream",
     "text": [
      " 86%|█████████████████████████████████████████▏      | 429155/500000 [1:18:44<12:03, 97.90it/s]"
     ]
    },
    {
     "name": "stdout",
     "output_type": "stream",
     "text": [
      "['PRO_4700', 'PRO_14146']\n"
     ]
    },
    {
     "name": "stderr",
     "output_type": "stream",
     "text": [
      " 86%|█████████████████████████████████████████▏      | 429236/500000 [1:18:45<12:00, 98.17it/s]"
     ]
    },
    {
     "name": "stdout",
     "output_type": "stream",
     "text": [
      "['PRO_2614', 'PRO_9362']\n"
     ]
    },
    {
     "name": "stderr",
     "output_type": "stream",
     "text": [
      " 86%|█████████████████████████████████████████▏      | 429507/500000 [1:18:48<11:57, 98.23it/s]"
     ]
    },
    {
     "name": "stdout",
     "output_type": "stream",
     "text": [
      "['PRO_7218', 'PRO_22586']\n"
     ]
    },
    {
     "name": "stderr",
     "output_type": "stream",
     "text": [
      " 86%|█████████████████████████████████████████▎      | 430000/500000 [1:18:53<11:53, 98.13it/s]"
     ]
    },
    {
     "name": "stdout",
     "output_type": "stream",
     "text": [
      "['PRO_15413', 'PRO_14125']\n"
     ]
    },
    {
     "name": "stderr",
     "output_type": "stream",
     "text": [
      " 86%|█████████████████████████████████████████▎      | 430170/500000 [1:18:54<11:57, 97.35it/s]"
     ]
    },
    {
     "name": "stdout",
     "output_type": "stream",
     "text": [
      "['PRO_16772', 'PRO_20608']\n"
     ]
    },
    {
     "name": "stderr",
     "output_type": "stream",
     "text": [
      " 86%|████████████████████████████████████████▍      | 430262/500000 [1:18:55<11:34, 100.48it/s]"
     ]
    },
    {
     "name": "stdout",
     "output_type": "stream",
     "text": [
      "['PRO_6102', 'PRO_17508']\n"
     ]
    },
    {
     "name": "stderr",
     "output_type": "stream",
     "text": [
      " 86%|█████████████████████████████████████████▍      | 431467/500000 [1:19:08<11:31, 99.04it/s]"
     ]
    },
    {
     "name": "stdout",
     "output_type": "stream",
     "text": [
      "['PRO_588', 'PRO_22288']\n"
     ]
    },
    {
     "name": "stderr",
     "output_type": "stream",
     "text": [
      " 86%|█████████████████████████████████████████▍      | 431588/500000 [1:19:09<11:36, 98.29it/s]"
     ]
    },
    {
     "name": "stdout",
     "output_type": "stream",
     "text": [
      "['PRO_8027', 'PRO_7051']\n"
     ]
    },
    {
     "name": "stderr",
     "output_type": "stream",
     "text": [
      " 86%|█████████████████████████████████████████▍      | 432142/500000 [1:19:15<11:27, 98.77it/s]"
     ]
    },
    {
     "name": "stdout",
     "output_type": "stream",
     "text": [
      "['PRO_10159', 'PRO_15016']\n"
     ]
    },
    {
     "name": "stderr",
     "output_type": "stream",
     "text": [
      " 87%|█████████████████████████████████████████▌      | 433421/500000 [1:19:28<11:16, 98.46it/s]"
     ]
    },
    {
     "name": "stdout",
     "output_type": "stream",
     "text": [
      "['PRO_20395', 'PRO_7343']\n"
     ]
    },
    {
     "name": "stderr",
     "output_type": "stream",
     "text": [
      " 87%|█████████████████████████████████████████▋      | 433681/500000 [1:19:30<11:23, 97.07it/s]"
     ]
    },
    {
     "name": "stdout",
     "output_type": "stream",
     "text": [
      "['PRO_1981', 'PRO_6424']\n"
     ]
    },
    {
     "name": "stderr",
     "output_type": "stream",
     "text": [
      " 87%|█████████████████████████████████████████▋      | 433711/500000 [1:19:31<11:17, 97.79it/s]"
     ]
    },
    {
     "name": "stdout",
     "output_type": "stream",
     "text": [
      "['PRO_2193', 'PRO_8304']\n"
     ]
    },
    {
     "name": "stderr",
     "output_type": "stream",
     "text": [
      " 87%|█████████████████████████████████████████▊      | 435006/500000 [1:19:44<11:05, 97.72it/s]"
     ]
    },
    {
     "name": "stdout",
     "output_type": "stream",
     "text": [
      "['PRO_2822', 'PRO_3164']\n"
     ]
    },
    {
     "name": "stderr",
     "output_type": "stream",
     "text": [
      " 87%|█████████████████████████████████████████▊      | 435269/500000 [1:19:47<10:52, 99.22it/s]"
     ]
    },
    {
     "name": "stdout",
     "output_type": "stream",
     "text": [
      "['PRO_4976', 'PRO_240']\n"
     ]
    },
    {
     "name": "stderr",
     "output_type": "stream",
     "text": [
      " 87%|████████████████████████████████████████▉      | 435441/500000 [1:19:49<10:43, 100.31it/s]"
     ]
    },
    {
     "name": "stdout",
     "output_type": "stream",
     "text": [
      "['PRO_13433', 'PRO_9586']\n"
     ]
    },
    {
     "name": "stderr",
     "output_type": "stream",
     "text": [
      " 87%|█████████████████████████████████████████▉      | 436977/500000 [1:20:05<10:46, 97.48it/s]"
     ]
    },
    {
     "name": "stdout",
     "output_type": "stream",
     "text": [
      "['PRO_10508', 'PRO_7254']\n"
     ]
    },
    {
     "name": "stderr",
     "output_type": "stream",
     "text": [
      " 87%|█████████████████████████████████████████▉      | 437067/500000 [1:20:05<10:48, 97.02it/s]"
     ]
    },
    {
     "name": "stdout",
     "output_type": "stream",
     "text": [
      "['PRO_13223', 'PRO_12325']\n"
     ]
    },
    {
     "name": "stderr",
     "output_type": "stream",
     "text": [
      " 88%|██████████████████████████████████████████      | 438099/500000 [1:20:16<10:42, 96.38it/s]"
     ]
    },
    {
     "name": "stdout",
     "output_type": "stream",
     "text": [
      "['PRO_11291', 'PRO_1654']\n"
     ]
    },
    {
     "name": "stderr",
     "output_type": "stream",
     "text": [
      " 88%|██████████████████████████████████████████▏     | 439108/500000 [1:20:27<10:24, 97.48it/s]"
     ]
    },
    {
     "name": "stdout",
     "output_type": "stream",
     "text": [
      "['PRO_11686', 'PRO_19131']\n"
     ]
    },
    {
     "name": "stderr",
     "output_type": "stream",
     "text": [
      " 88%|██████████████████████████████████████████▏     | 439420/500000 [1:20:30<10:11, 99.12it/s]"
     ]
    },
    {
     "name": "stdout",
     "output_type": "stream",
     "text": [
      "['PRO_15018', 'PRO_4630']\n"
     ]
    },
    {
     "name": "stderr",
     "output_type": "stream",
     "text": [
      " 88%|██████████████████████████████████████████▏     | 439731/500000 [1:20:33<10:13, 98.16it/s]"
     ]
    },
    {
     "name": "stdout",
     "output_type": "stream",
     "text": [
      "['PRO_5277', 'PRO_10871']\n"
     ]
    },
    {
     "name": "stderr",
     "output_type": "stream",
     "text": [
      " 88%|██████████████████████████████████████████▏     | 439833/500000 [1:20:34<10:09, 98.70it/s]"
     ]
    },
    {
     "name": "stdout",
     "output_type": "stream",
     "text": [
      "['PRO_2096', 'PRO_10957']\n",
      "['PRO_7728', 'PRO_19759']\n"
     ]
    },
    {
     "name": "stderr",
     "output_type": "stream",
     "text": [
      " 88%|██████████████████████████████████████████▎     | 441025/500000 [1:20:47<09:56, 98.79it/s]"
     ]
    },
    {
     "name": "stdout",
     "output_type": "stream",
     "text": [
      "['PRO_7218', 'PRO_10553']\n"
     ]
    },
    {
     "name": "stderr",
     "output_type": "stream",
     "text": [
      " 88%|██████████████████████████████████████████▍     | 441628/500000 [1:20:53<10:07, 96.07it/s]"
     ]
    },
    {
     "name": "stdout",
     "output_type": "stream",
     "text": [
      "['PRO_19527', 'PRO_3247']\n"
     ]
    },
    {
     "name": "stderr",
     "output_type": "stream",
     "text": [
      " 88%|██████████████████████████████████████████▍     | 442330/500000 [1:21:00<09:48, 98.04it/s]"
     ]
    },
    {
     "name": "stdout",
     "output_type": "stream",
     "text": [
      "['PRO_22354', 'PRO_5086']\n"
     ]
    },
    {
     "name": "stderr",
     "output_type": "stream",
     "text": [
      " 88%|██████████████████████████████████████████▍     | 442371/500000 [1:21:01<09:46, 98.27it/s]"
     ]
    },
    {
     "name": "stdout",
     "output_type": "stream",
     "text": [
      "['PRO_3218', 'PRO_21906']\n"
     ]
    },
    {
     "name": "stderr",
     "output_type": "stream",
     "text": [
      " 89%|██████████████████████████████████████████▌     | 443162/500000 [1:21:09<09:52, 95.88it/s]"
     ]
    },
    {
     "name": "stdout",
     "output_type": "stream",
     "text": [
      "['PRO_3403', 'PRO_6419']\n"
     ]
    },
    {
     "name": "stderr",
     "output_type": "stream",
     "text": [
      " 89%|██████████████████████████████████████████▌     | 443212/500000 [1:21:10<09:55, 95.32it/s]"
     ]
    },
    {
     "name": "stdout",
     "output_type": "stream",
     "text": [
      "['PRO_9977', 'PRO_11411']\n"
     ]
    },
    {
     "name": "stderr",
     "output_type": "stream",
     "text": [
      " 89%|██████████████████████████████████████████▌     | 443413/500000 [1:21:12<09:50, 95.76it/s]"
     ]
    },
    {
     "name": "stdout",
     "output_type": "stream",
     "text": [
      "['PRO_13108', 'PRO_6694']\n"
     ]
    },
    {
     "name": "stderr",
     "output_type": "stream",
     "text": [
      " 89%|██████████████████████████████████████████▌     | 443644/500000 [1:21:14<09:39, 97.33it/s]"
     ]
    },
    {
     "name": "stdout",
     "output_type": "stream",
     "text": [
      "['PRO_15227', 'PRO_17404']\n"
     ]
    },
    {
     "name": "stderr",
     "output_type": "stream",
     "text": [
      " 89%|██████████████████████████████████████████▉     | 447087/500000 [1:21:50<08:59, 98.02it/s]"
     ]
    },
    {
     "name": "stdout",
     "output_type": "stream",
     "text": [
      "['PRO_20823', 'PRO_1191']\n"
     ]
    },
    {
     "name": "stderr",
     "output_type": "stream",
     "text": [
      " 90%|██████████████████████████████████████████▉     | 447764/500000 [1:21:57<08:45, 99.31it/s]"
     ]
    },
    {
     "name": "stdout",
     "output_type": "stream",
     "text": [
      "['PRO_14986', 'PRO_8231']\n"
     ]
    },
    {
     "name": "stderr",
     "output_type": "stream",
     "text": [
      " 90%|███████████████████████████████████████████     | 448096/500000 [1:22:00<08:41, 99.45it/s]"
     ]
    },
    {
     "name": "stdout",
     "output_type": "stream",
     "text": [
      "['PRO_6954', 'PRO_5613']\n"
     ]
    },
    {
     "name": "stderr",
     "output_type": "stream",
     "text": [
      " 90%|███████████████████████████████████████████     | 449150/500000 [1:22:11<08:31, 99.44it/s]"
     ]
    },
    {
     "name": "stdout",
     "output_type": "stream",
     "text": [
      "['PRO_487', 'PRO_19536']\n"
     ]
    },
    {
     "name": "stderr",
     "output_type": "stream",
     "text": [
      " 90%|███████████████████████████████████████████▏    | 449651/500000 [1:22:16<08:42, 96.35it/s]"
     ]
    },
    {
     "name": "stdout",
     "output_type": "stream",
     "text": [
      "['PRO_13387', 'PRO_10825']\n"
     ]
    },
    {
     "name": "stderr",
     "output_type": "stream",
     "text": [
      " 90%|███████████████████████████████████████████▏    | 449742/500000 [1:22:17<08:30, 98.43it/s]"
     ]
    },
    {
     "name": "stdout",
     "output_type": "stream",
     "text": [
      "['PRO_17650', 'PRO_5388']\n"
     ]
    },
    {
     "name": "stderr",
     "output_type": "stream",
     "text": [
      " 90%|███████████████████████████████████████████▏    | 449924/500000 [1:22:19<08:24, 99.21it/s]"
     ]
    },
    {
     "name": "stdout",
     "output_type": "stream",
     "text": [
      "['PRO_7098', 'PRO_9664']\n"
     ]
    },
    {
     "name": "stderr",
     "output_type": "stream",
     "text": [
      " 90%|███████████████████████████████████████████▏    | 450346/500000 [1:22:24<08:26, 98.07it/s]"
     ]
    },
    {
     "name": "stdout",
     "output_type": "stream",
     "text": [
      "['PRO_14974', 'PRO_18443']\n"
     ]
    },
    {
     "name": "stderr",
     "output_type": "stream",
     "text": [
      " 90%|███████████████████████████████████████████▎    | 450531/500000 [1:22:26<08:22, 98.53it/s]"
     ]
    },
    {
     "name": "stdout",
     "output_type": "stream",
     "text": [
      "['PRO_12933', 'PRO_17272']\n"
     ]
    },
    {
     "name": "stderr",
     "output_type": "stream",
     "text": [
      " 90%|███████████████████████████████████████████▎    | 451084/500000 [1:22:31<08:20, 97.78it/s]"
     ]
    },
    {
     "name": "stdout",
     "output_type": "stream",
     "text": [
      "['PRO_20151', 'PRO_22608']\n"
     ]
    },
    {
     "name": "stderr",
     "output_type": "stream",
     "text": [
      " 90%|███████████████████████████████████████████▍    | 451992/500000 [1:22:41<08:07, 98.39it/s]"
     ]
    },
    {
     "name": "stdout",
     "output_type": "stream",
     "text": [
      "['PRO_397', 'PRO_12400']\n"
     ]
    },
    {
     "name": "stderr",
     "output_type": "stream",
     "text": [
      " 90%|███████████████████████████████████████████▍    | 452296/500000 [1:22:44<08:10, 97.21it/s]"
     ]
    },
    {
     "name": "stdout",
     "output_type": "stream",
     "text": [
      "['PRO_2857', 'PRO_4842']\n"
     ]
    },
    {
     "name": "stderr",
     "output_type": "stream",
     "text": [
      " 91%|███████████████████████████████████████████▍    | 452549/500000 [1:22:46<08:03, 98.23it/s]"
     ]
    },
    {
     "name": "stdout",
     "output_type": "stream",
     "text": [
      "['PRO_765', 'PRO_12544']\n"
     ]
    },
    {
     "name": "stderr",
     "output_type": "stream",
     "text": [
      " 91%|███████████████████████████████████████████▌    | 453440/500000 [1:22:56<07:56, 97.64it/s]"
     ]
    },
    {
     "name": "stdout",
     "output_type": "stream",
     "text": [
      "['PRO_5270', 'PRO_6244']\n"
     ]
    },
    {
     "name": "stderr",
     "output_type": "stream",
     "text": [
      " 91%|███████████████████████████████████████████▌    | 453892/500000 [1:23:00<07:49, 98.17it/s]"
     ]
    },
    {
     "name": "stdout",
     "output_type": "stream",
     "text": [
      "['PRO_17476', 'PRO_7950']\n"
     ]
    },
    {
     "name": "stderr",
     "output_type": "stream",
     "text": [
      " 91%|███████████████████████████████████████████▋    | 455377/500000 [1:23:16<07:54, 93.94it/s]"
     ]
    },
    {
     "name": "stdout",
     "output_type": "stream",
     "text": [
      "['PRO_12288', 'PRO_9543']\n"
     ]
    },
    {
     "name": "stderr",
     "output_type": "stream",
     "text": [
      " 91%|██████████████████████████████████████████▊    | 455839/500000 [1:23:21<07:20, 100.18it/s]"
     ]
    },
    {
     "name": "stdout",
     "output_type": "stream",
     "text": [
      "['PRO_5942', 'PRO_10490']\n"
     ]
    },
    {
     "name": "stderr",
     "output_type": "stream",
     "text": [
      " 91%|███████████████████████████████████████████▊    | 455990/500000 [1:23:22<07:49, 93.70it/s]"
     ]
    },
    {
     "name": "stdout",
     "output_type": "stream",
     "text": [
      "['PRO_1700', 'PRO_6019']\n"
     ]
    },
    {
     "name": "stderr",
     "output_type": "stream",
     "text": [
      " 91%|███████████████████████████████████████████▊    | 456021/500000 [1:23:23<07:36, 96.35it/s]"
     ]
    },
    {
     "name": "stdout",
     "output_type": "stream",
     "text": [
      "['PRO_8030', 'PRO_2105']\n"
     ]
    },
    {
     "name": "stderr",
     "output_type": "stream",
     "text": [
      " 91%|███████████████████████████████████████████▊    | 456769/500000 [1:23:31<08:27, 85.25it/s]"
     ]
    },
    {
     "name": "stdout",
     "output_type": "stream",
     "text": [
      "['PRO_3770', 'PRO_2349']\n"
     ]
    },
    {
     "name": "stderr",
     "output_type": "stream",
     "text": [
      " 91%|███████████████████████████████████████████▉    | 457305/500000 [1:23:37<07:09, 99.30it/s]"
     ]
    },
    {
     "name": "stdout",
     "output_type": "stream",
     "text": [
      "['PRO_5438', 'PRO_6925']\n"
     ]
    },
    {
     "name": "stderr",
     "output_type": "stream",
     "text": [
      " 91%|███████████████████████████████████████████▉    | 457485/500000 [1:23:39<07:14, 97.94it/s]"
     ]
    },
    {
     "name": "stdout",
     "output_type": "stream",
     "text": [
      "['PRO_11952', 'PRO_12186']\n"
     ]
    },
    {
     "name": "stderr",
     "output_type": "stream",
     "text": [
      " 92%|████████████████████████████████████████████    | 459308/500000 [1:23:58<06:58, 97.27it/s]"
     ]
    },
    {
     "name": "stdout",
     "output_type": "stream",
     "text": [
      "['PRO_2116', 'PRO_5730']\n",
      "['PRO_4624', 'PRO_847']\n"
     ]
    },
    {
     "name": "stderr",
     "output_type": "stream",
     "text": [
      " 92%|████████████████████████████████████████████▏   | 459770/500000 [1:24:03<06:52, 97.59it/s]"
     ]
    },
    {
     "name": "stdout",
     "output_type": "stream",
     "text": [
      "['PRO_20034', 'PRO_14187']\n"
     ]
    },
    {
     "name": "stderr",
     "output_type": "stream",
     "text": [
      " 92%|████████████████████████████████████████████▏   | 460002/500000 [1:24:05<06:43, 99.06it/s]"
     ]
    },
    {
     "name": "stdout",
     "output_type": "stream",
     "text": [
      "['PRO_22561', 'PRO_6092']\n"
     ]
    },
    {
     "name": "stderr",
     "output_type": "stream",
     "text": [
      " 93%|████████████████████████████████████████████▍   | 463267/500000 [1:24:42<06:15, 97.76it/s]"
     ]
    },
    {
     "name": "stdout",
     "output_type": "stream",
     "text": [
      "['PRO_6312', 'PRO_7849']\n"
     ]
    },
    {
     "name": "stderr",
     "output_type": "stream",
     "text": [
      " 93%|████████████████████████████████████████████▌   | 463628/500000 [1:24:46<06:27, 93.93it/s]"
     ]
    },
    {
     "name": "stdout",
     "output_type": "stream",
     "text": [
      "['PRO_4579', 'PRO_8432']\n"
     ]
    },
    {
     "name": "stderr",
     "output_type": "stream",
     "text": [
      " 93%|████████████████████████████████████████████▌   | 463719/500000 [1:24:47<06:12, 97.52it/s]"
     ]
    },
    {
     "name": "stdout",
     "output_type": "stream",
     "text": [
      "['PRO_4557', 'PRO_3706']\n"
     ]
    },
    {
     "name": "stderr",
     "output_type": "stream",
     "text": [
      " 93%|████████████████████████████████████████████▌   | 464020/500000 [1:24:50<06:10, 97.10it/s]"
     ]
    },
    {
     "name": "stdout",
     "output_type": "stream",
     "text": [
      "['PRO_13424', 'PRO_22965']\n"
     ]
    },
    {
     "name": "stderr",
     "output_type": "stream",
     "text": [
      " 93%|████████████████████████████████████████████▋   | 465683/500000 [1:25:09<05:51, 97.54it/s]"
     ]
    },
    {
     "name": "stdout",
     "output_type": "stream",
     "text": [
      "['PRO_17874', 'PRO_19565']\n"
     ]
    },
    {
     "name": "stderr",
     "output_type": "stream",
     "text": [
      " 93%|████████████████████████████████████████████▋   | 466025/500000 [1:25:13<05:49, 97.28it/s]"
     ]
    },
    {
     "name": "stdout",
     "output_type": "stream",
     "text": [
      "['PRO_7766', 'PRO_19405']\n"
     ]
    },
    {
     "name": "stderr",
     "output_type": "stream",
     "text": [
      " 93%|████████████████████████████████████████████▋   | 466125/500000 [1:25:14<05:46, 97.65it/s]"
     ]
    },
    {
     "name": "stdout",
     "output_type": "stream",
     "text": [
      "['PRO_2026', 'PRO_5903']\n",
      "['PRO_8787', 'PRO_726']\n"
     ]
    },
    {
     "name": "stderr",
     "output_type": "stream",
     "text": [
      " 93%|████████████████████████████████████████████▊   | 466810/500000 [1:25:21<05:53, 94.02it/s]"
     ]
    },
    {
     "name": "stdout",
     "output_type": "stream",
     "text": [
      "['PRO_16390', 'PRO_4216']\n"
     ]
    },
    {
     "name": "stderr",
     "output_type": "stream",
     "text": [
      " 93%|████████████████████████████████████████████▊   | 467170/500000 [1:25:25<05:50, 93.62it/s]"
     ]
    },
    {
     "name": "stdout",
     "output_type": "stream",
     "text": [
      "['PRO_9166', 'PRO_4853']\n"
     ]
    },
    {
     "name": "stderr",
     "output_type": "stream",
     "text": [
      " 93%|████████████████████████████████████████████▉   | 467496/500000 [1:25:29<05:40, 95.47it/s]"
     ]
    },
    {
     "name": "stdout",
     "output_type": "stream",
     "text": [
      "['PRO_2581', 'PRO_3127']\n"
     ]
    },
    {
     "name": "stderr",
     "output_type": "stream",
     "text": [
      " 94%|████████████████████████████████████████████▉   | 467586/500000 [1:25:29<05:31, 97.80it/s]"
     ]
    },
    {
     "name": "stdout",
     "output_type": "stream",
     "text": [
      "['PRO_13681', 'PRO_13817']\n",
      "['PRO_12585', 'PRO_23196']\n"
     ]
    },
    {
     "name": "stderr",
     "output_type": "stream",
     "text": [
      " 94%|█████████████████████████████████████████████▏  | 470170/500000 [1:25:57<05:07, 97.07it/s]"
     ]
    },
    {
     "name": "stdout",
     "output_type": "stream",
     "text": [
      "['PRO_23196', 'PRO_5541']\n"
     ]
    },
    {
     "name": "stderr",
     "output_type": "stream",
     "text": [
      " 94%|█████████████████████████████████████████████▏  | 470441/500000 [1:26:00<05:02, 97.67it/s]"
     ]
    },
    {
     "name": "stdout",
     "output_type": "stream",
     "text": [
      "['PRO_6636', 'PRO_18356']\n"
     ]
    },
    {
     "name": "stderr",
     "output_type": "stream",
     "text": [
      " 94%|█████████████████████████████████████████████▏  | 471284/500000 [1:26:08<05:00, 95.57it/s]"
     ]
    },
    {
     "name": "stdout",
     "output_type": "stream",
     "text": [
      "['PRO_14956', 'PRO_23060']\n"
     ]
    },
    {
     "name": "stderr",
     "output_type": "stream",
     "text": [
      " 94%|█████████████████████████████████████████████▎  | 471544/500000 [1:26:11<04:54, 96.56it/s]"
     ]
    },
    {
     "name": "stdout",
     "output_type": "stream",
     "text": [
      "['PRO_5509', 'PRO_3135']\n"
     ]
    },
    {
     "name": "stderr",
     "output_type": "stream",
     "text": [
      " 94%|█████████████████████████████████████████████▎  | 471835/500000 [1:26:14<04:50, 97.08it/s]"
     ]
    },
    {
     "name": "stdout",
     "output_type": "stream",
     "text": [
      "['PRO_5664', 'PRO_16660']\n"
     ]
    },
    {
     "name": "stderr",
     "output_type": "stream",
     "text": [
      " 94%|█████████████████████████████████████████████▎  | 472415/500000 [1:26:20<04:46, 96.44it/s]"
     ]
    },
    {
     "name": "stdout",
     "output_type": "stream",
     "text": [
      "['PRO_14956', 'PRO_14266']\n"
     ]
    },
    {
     "name": "stderr",
     "output_type": "stream",
     "text": [
      " 95%|█████████████████████████████████████████████▎  | 472516/500000 [1:26:21<04:40, 97.81it/s]"
     ]
    },
    {
     "name": "stdout",
     "output_type": "stream",
     "text": [
      "['PRO_8300', 'PRO_12272']\n"
     ]
    },
    {
     "name": "stderr",
     "output_type": "stream",
     "text": [
      " 95%|█████████████████████████████████████████████▌  | 474630/500000 [1:26:43<04:20, 97.33it/s]"
     ]
    },
    {
     "name": "stdout",
     "output_type": "stream",
     "text": [
      "['PRO_18410', 'PRO_22281']\n"
     ]
    },
    {
     "name": "stderr",
     "output_type": "stream",
     "text": [
      " 95%|█████████████████████████████████████████████▋  | 475721/500000 [1:26:55<04:14, 95.24it/s]"
     ]
    },
    {
     "name": "stdout",
     "output_type": "stream",
     "text": [
      "['PRO_21462', 'PRO_6876']\n"
     ]
    },
    {
     "name": "stderr",
     "output_type": "stream",
     "text": [
      " 95%|█████████████████████████████████████████████▋  | 475752/500000 [1:26:55<04:11, 96.31it/s]"
     ]
    },
    {
     "name": "stdout",
     "output_type": "stream",
     "text": [
      "['PRO_22304', 'PRO_5582']\n"
     ]
    },
    {
     "name": "stderr",
     "output_type": "stream",
     "text": [
      " 95%|█████████████████████████████████████████████▊  | 477114/500000 [1:27:09<04:03, 93.96it/s]"
     ]
    },
    {
     "name": "stdout",
     "output_type": "stream",
     "text": [
      "['PRO_17045', 'PRO_21804']\n"
     ]
    },
    {
     "name": "stderr",
     "output_type": "stream",
     "text": [
      " 95%|█████████████████████████████████████████████▊  | 477325/500000 [1:27:12<03:50, 98.26it/s]"
     ]
    },
    {
     "name": "stdout",
     "output_type": "stream",
     "text": [
      "['PRO_23027', 'PRO_10490']\n"
     ]
    },
    {
     "name": "stderr",
     "output_type": "stream",
     "text": [
      " 96%|█████████████████████████████████████████████▊  | 477517/500000 [1:27:14<03:50, 97.72it/s]"
     ]
    },
    {
     "name": "stdout",
     "output_type": "stream",
     "text": [
      "['PRO_14307', 'PRO_15573']\n"
     ]
    },
    {
     "name": "stderr",
     "output_type": "stream",
     "text": [
      " 96%|█████████████████████████████████████████████▉  | 478440/500000 [1:27:23<03:42, 97.09it/s]"
     ]
    },
    {
     "name": "stdout",
     "output_type": "stream",
     "text": [
      "['PRO_11021', 'PRO_7781']\n"
     ]
    },
    {
     "name": "stderr",
     "output_type": "stream",
     "text": [
      " 96%|█████████████████████████████████████████████▉  | 478540/500000 [1:27:24<03:42, 96.45it/s]"
     ]
    },
    {
     "name": "stdout",
     "output_type": "stream",
     "text": [
      "['PRO_18701', 'PRO_10482']\n"
     ]
    },
    {
     "name": "stderr",
     "output_type": "stream",
     "text": [
      " 96%|██████████████████████████████████████████████  | 479791/500000 [1:27:37<03:27, 97.56it/s]"
     ]
    },
    {
     "name": "stdout",
     "output_type": "stream",
     "text": [
      "['PRO_14726', 'PRO_9752']\n"
     ]
    },
    {
     "name": "stderr",
     "output_type": "stream",
     "text": [
      " 96%|██████████████████████████████████████████████▏ | 480992/500000 [1:27:50<03:17, 96.23it/s]"
     ]
    },
    {
     "name": "stdout",
     "output_type": "stream",
     "text": [
      "['PRO_5238', 'PRO_20507']\n"
     ]
    },
    {
     "name": "stderr",
     "output_type": "stream",
     "text": [
      " 96%|██████████████████████████████████████████████▎ | 482305/500000 [1:28:04<03:01, 97.29it/s]"
     ]
    },
    {
     "name": "stdout",
     "output_type": "stream",
     "text": [
      "['PRO_5547', 'PRO_10298']\n"
     ]
    },
    {
     "name": "stderr",
     "output_type": "stream",
     "text": [
      " 96%|██████████████████████████████████████████████▎ | 482345/500000 [1:28:04<03:02, 96.84it/s]"
     ]
    },
    {
     "name": "stdout",
     "output_type": "stream",
     "text": [
      "['PRO_5048', 'PRO_17456']\n"
     ]
    },
    {
     "name": "stderr",
     "output_type": "stream",
     "text": [
      " 97%|██████████████████████████████████████████████▎ | 482704/500000 [1:28:08<02:59, 96.44it/s]"
     ]
    },
    {
     "name": "stdout",
     "output_type": "stream",
     "text": [
      "['PRO_2406', 'PRO_6756']\n"
     ]
    },
    {
     "name": "stderr",
     "output_type": "stream",
     "text": [
      " 97%|██████████████████████████████████████████████▎ | 482734/500000 [1:28:08<02:58, 96.60it/s]"
     ]
    },
    {
     "name": "stdout",
     "output_type": "stream",
     "text": [
      "['PRO_12068', 'PRO_448']\n"
     ]
    },
    {
     "name": "stderr",
     "output_type": "stream",
     "text": [
      " 97%|██████████████████████████████████████████████▍ | 484147/500000 [1:28:23<02:42, 97.55it/s]"
     ]
    },
    {
     "name": "stdout",
     "output_type": "stream",
     "text": [
      "['PRO_1577', 'PRO_350']\n"
     ]
    },
    {
     "name": "stderr",
     "output_type": "stream",
     "text": [
      " 97%|██████████████████████████████████████████████▋ | 486119/500000 [1:28:44<02:21, 97.90it/s]"
     ]
    },
    {
     "name": "stdout",
     "output_type": "stream",
     "text": [
      "['PRO_10857', 'PRO_9532']\n"
     ]
    },
    {
     "name": "stderr",
     "output_type": "stream",
     "text": [
      " 97%|██████████████████████████████████████████████▋ | 486469/500000 [1:28:47<02:19, 97.07it/s]"
     ]
    },
    {
     "name": "stdout",
     "output_type": "stream",
     "text": [
      "['PRO_6729', 'PRO_22892']\n"
     ]
    },
    {
     "name": "stderr",
     "output_type": "stream",
     "text": [
      " 97%|██████████████████████████████████████████████▋ | 486789/500000 [1:28:50<02:16, 96.99it/s]"
     ]
    },
    {
     "name": "stdout",
     "output_type": "stream",
     "text": [
      "['PRO_15681', 'PRO_12340']\n"
     ]
    },
    {
     "name": "stderr",
     "output_type": "stream",
     "text": [
      " 98%|██████████████████████████████████████████████▉ | 489272/500000 [1:29:16<01:51, 96.55it/s]"
     ]
    },
    {
     "name": "stdout",
     "output_type": "stream",
     "text": [
      "['PRO_4735', 'PRO_18763']\n"
     ]
    },
    {
     "name": "stderr",
     "output_type": "stream",
     "text": [
      " 98%|███████████████████████████████████████████████ | 489612/500000 [1:29:20<01:47, 96.36it/s]"
     ]
    },
    {
     "name": "stdout",
     "output_type": "stream",
     "text": [
      "['PRO_12658', 'PRO_22765']\n"
     ]
    },
    {
     "name": "stderr",
     "output_type": "stream",
     "text": [
      " 98%|███████████████████████████████████████████████ | 489863/500000 [1:29:22<01:45, 96.16it/s]"
     ]
    },
    {
     "name": "stdout",
     "output_type": "stream",
     "text": [
      "['PRO_7749', 'PRO_14217']\n"
     ]
    },
    {
     "name": "stderr",
     "output_type": "stream",
     "text": [
      " 98%|███████████████████████████████████████████████ | 490054/500000 [1:29:24<01:42, 96.90it/s]"
     ]
    },
    {
     "name": "stdout",
     "output_type": "stream",
     "text": [
      "['PRO_11976', 'PRO_6102']\n"
     ]
    },
    {
     "name": "stderr",
     "output_type": "stream",
     "text": [
      " 98%|███████████████████████████████████████████████ | 490345/500000 [1:29:27<01:39, 96.63it/s]"
     ]
    },
    {
     "name": "stdout",
     "output_type": "stream",
     "text": [
      "['PRO_5775', 'PRO_19038']\n"
     ]
    },
    {
     "name": "stderr",
     "output_type": "stream",
     "text": [
      " 98%|███████████████████████████████████████████████ | 490737/500000 [1:29:32<01:35, 97.28it/s]"
     ]
    },
    {
     "name": "stdout",
     "output_type": "stream",
     "text": [
      "['PRO_4843', 'PRO_15987']\n"
     ]
    },
    {
     "name": "stderr",
     "output_type": "stream",
     "text": [
      " 98%|███████████████████████████████████████████████ | 490858/500000 [1:29:33<01:34, 96.90it/s]"
     ]
    },
    {
     "name": "stdout",
     "output_type": "stream",
     "text": [
      "['PRO_4887', 'PRO_19214']\n"
     ]
    },
    {
     "name": "stderr",
     "output_type": "stream",
     "text": [
      " 98%|███████████████████████████████████████████████▏| 491869/500000 [1:29:43<01:24, 96.53it/s]"
     ]
    },
    {
     "name": "stdout",
     "output_type": "stream",
     "text": [
      "['PRO_8503', 'PRO_12526']\n"
     ]
    },
    {
     "name": "stderr",
     "output_type": "stream",
     "text": [
      " 99%|███████████████████████████████████████████████▍| 493924/500000 [1:30:05<01:02, 97.04it/s]"
     ]
    },
    {
     "name": "stdout",
     "output_type": "stream",
     "text": [
      "['PRO_22050', 'PRO_15446']\n"
     ]
    },
    {
     "name": "stderr",
     "output_type": "stream",
     "text": [
      "100%|███████████████████████████████████████████████▊| 498044/500000 [1:30:48<00:20, 97.06it/s]"
     ]
    },
    {
     "name": "stdout",
     "output_type": "stream",
     "text": [
      "['PRO_6647', 'PRO_19076']\n"
     ]
    },
    {
     "name": "stderr",
     "output_type": "stream",
     "text": [
      "100%|███████████████████████████████████████████████▊| 498264/500000 [1:30:50<00:17, 96.48it/s]"
     ]
    },
    {
     "name": "stdout",
     "output_type": "stream",
     "text": [
      "['PRO_4516', 'PRO_6877']\n"
     ]
    },
    {
     "name": "stderr",
     "output_type": "stream",
     "text": [
      "100%|███████████████████████████████████████████████▉| 499457/500000 [1:31:02<00:05, 97.21it/s]"
     ]
    },
    {
     "name": "stdout",
     "output_type": "stream",
     "text": [
      "['PRO_21583', 'PRO_6381']\n"
     ]
    },
    {
     "name": "stderr",
     "output_type": "stream",
     "text": [
      "100%|███████████████████████████████████████████████▉| 499477/500000 [1:31:03<00:05, 96.04it/s]"
     ]
    },
    {
     "name": "stdout",
     "output_type": "stream",
     "text": [
      "['PRO_5314', 'PRO_12338']\n"
     ]
    },
    {
     "name": "stderr",
     "output_type": "stream",
     "text": [
      "100%|███████████████████████████████████████████████▉| 499538/500000 [1:31:03<00:04, 97.33it/s]"
     ]
    },
    {
     "name": "stdout",
     "output_type": "stream",
     "text": [
      "['PRO_21464', 'PRO_6783']\n"
     ]
    },
    {
     "name": "stderr",
     "output_type": "stream",
     "text": [
      "100%|████████████████████████████████████████████████| 500000/500000 [1:31:08<00:00, 91.43it/s]\n"
     ]
    }
   ],
   "source": [
    "neg_train_pairs = []\n",
    "for i in tqdm(all_possible_train_set_protein_pairs):\n",
    "    \n",
    "    if i in positive_train_set_pairs:\n",
    "        \n",
    "        print(i)\n",
    "        continue\n",
    "    else:\n",
    "        neg_train_pairs.append(i)\n",
    "        "
   ]
  },
  {
   "cell_type": "code",
   "execution_count": 125,
   "id": "cd8a0c9f",
   "metadata": {},
   "outputs": [],
   "source": []
  },
  {
   "cell_type": "code",
   "execution_count": 126,
   "id": "ca14d8fd",
   "metadata": {},
   "outputs": [
    {
     "data": {
      "text/plain": [
       "483638"
      ]
     },
     "execution_count": 126,
     "metadata": {},
     "output_type": "execute_result"
    }
   ],
   "source": [
    "len(positive_train_set_pairs)"
   ]
  },
  {
   "cell_type": "code",
   "execution_count": 127,
   "id": "d4db743d",
   "metadata": {},
   "outputs": [
    {
     "data": {
      "text/plain": [
       "483638"
      ]
     },
     "execution_count": 127,
     "metadata": {},
     "output_type": "execute_result"
    }
   ],
   "source": [
    "241819 * 2"
   ]
  },
  {
   "cell_type": "code",
   "execution_count": 130,
   "id": "ce3ee7a8",
   "metadata": {},
   "outputs": [],
   "source": [
    "neg_train_set_pairs = []\n",
    "for index,row in train_neg_data.iterrows():\n",
    "   \n",
    "    neg_train_set_pairs.append([row.Protein_A,row.Protein_B])\n",
    "    neg_train_set_pairs.append([row.Protein_B,row.Protein_A])"
   ]
  },
  {
   "cell_type": "code",
   "execution_count": 131,
   "id": "29ae1b5e",
   "metadata": {},
   "outputs": [
    {
     "data": {
      "text/plain": [
       "2112"
      ]
     },
     "execution_count": 131,
     "metadata": {},
     "output_type": "execute_result"
    }
   ],
   "source": [
    "len(neg_train_set_pairs)"
   ]
  },
  {
   "cell_type": "code",
   "execution_count": 137,
   "id": "e240be36",
   "metadata": {},
   "outputs": [],
   "source": [
    "neg_train_pairs_subset = random.sample(neg_train_pairs,241819-(len(neg_train_set_pairs)//2))"
   ]
  },
  {
   "cell_type": "code",
   "execution_count": 134,
   "id": "8ac12be7",
   "metadata": {},
   "outputs": [
    {
     "data": {
      "text/plain": [
       "240763"
      ]
     },
     "execution_count": 134,
     "metadata": {},
     "output_type": "execute_result"
    }
   ],
   "source": [
    "neg_train_pairs_subset"
   ]
  },
  {
   "cell_type": "code",
   "execution_count": 135,
   "id": "044d4b50",
   "metadata": {},
   "outputs": [
    {
     "data": {
      "text/plain": [
       "481526"
      ]
     },
     "execution_count": 135,
     "metadata": {},
     "output_type": "execute_result"
    }
   ],
   "source": []
  },
  {
   "cell_type": "code",
   "execution_count": 136,
   "id": "f3c1eeb9",
   "metadata": {},
   "outputs": [
    {
     "data": {
      "text/plain": [
       "483638"
      ]
     },
     "execution_count": 136,
     "metadata": {},
     "output_type": "execute_result"
    }
   ],
   "source": []
  },
  {
   "cell_type": "code",
   "execution_count": null,
   "id": "06eb64ad",
   "metadata": {},
   "outputs": [],
   "source": []
  }
 ],
 "metadata": {
  "kernelspec": {
   "display_name": "Python 3 (ipykernel)",
   "language": "python",
   "name": "python3"
  },
  "language_info": {
   "codemirror_mode": {
    "name": "ipython",
    "version": 3
   },
   "file_extension": ".py",
   "mimetype": "text/x-python",
   "name": "python",
   "nbconvert_exporter": "python",
   "pygments_lexer": "ipython3",
   "version": "3.9.12"
  }
 },
 "nbformat": 4,
 "nbformat_minor": 5
}
