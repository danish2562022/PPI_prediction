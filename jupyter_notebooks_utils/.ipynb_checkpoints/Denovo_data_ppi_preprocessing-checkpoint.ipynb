{
 "cells": [
  {
   "cell_type": "code",
   "execution_count": 182,
   "id": "620412c6",
   "metadata": {},
   "outputs": [],
   "source": [
    "import numpy as np\n",
    "import pandas as pd\n",
    "import Bio.SeqIO as SeqIO"
   ]
  },
  {
   "cell_type": "code",
   "execution_count": 183,
   "id": "5c1e89e0",
   "metadata": {},
   "outputs": [],
   "source": [
    "data = pd.read_excel(\"/home/anwer/Desktop/PPI_prediction/Dataset_ppi/Denovo/AS1.xlsx\")"
   ]
  },
  {
   "cell_type": "code",
   "execution_count": 184,
   "id": "eb4f56d5",
   "metadata": {},
   "outputs": [],
   "source": [
    "data = data[['Protein A','Protein B']]"
   ]
  },
  {
   "cell_type": "markdown",
   "id": "50db03f9",
   "metadata": {},
   "source": [
    "## 1. Data Preprocessing"
   ]
  },
  {
   "cell_type": "markdown",
   "id": "aad52f67",
   "metadata": {},
   "source": [
    "### 1.1 Protein name to sequence"
   ]
  },
  {
   "cell_type": "code",
   "execution_count": 185,
   "id": "35402f79",
   "metadata": {},
   "outputs": [
    {
     "name": "stderr",
     "output_type": "stream",
     "text": [
      "445it [00:00, 88111.47it/s]\n",
      "2340it [00:00, 93223.58it/s]\n"
     ]
    }
   ],
   "source": [
    "from tqdm import tqdm\n",
    "dct_1 = {}\n",
    "for rec in tqdm(SeqIO.parse(\"/home/anwer/Desktop/PPI_prediction/Dataset_ppi/Denovo/AS2.fasta\",\"fasta\")):\n",
    "    dct_1[rec.id.split(\"|\")[1]] = str(rec.seq)\n",
    "for rec in tqdm(SeqIO.parse(\"/home/anwer/Desktop/PPI_prediction/Dataset_ppi/Denovo/AS3.fasta\",\"fasta\")):\n",
    "    dct_1[rec.id.split(\"|\")[1]] = str(rec.seq)    "
   ]
  },
  {
   "cell_type": "code",
   "execution_count": 186,
   "id": "2c6d524f",
   "metadata": {},
   "outputs": [],
   "source": [
    "def convert_to_seq(seq_name):\n",
    "    try:\n",
    "        return dct_1[seq_name]\n",
    "    except:\n",
    "        return None"
   ]
  },
  {
   "cell_type": "code",
   "execution_count": 187,
   "id": "308fb1a8",
   "metadata": {},
   "outputs": [],
   "source": [
    "data[\"Protein_A_sequence\"] = data['Protein A'].apply(convert_to_seq)\n",
    "data[\"Protein_B_sequence\"] = data['Protein B'].apply(convert_to_seq)\n",
    "data.dropna(inplace = True)"
   ]
  },
  {
   "cell_type": "code",
   "execution_count": 188,
   "id": "67dc6159",
   "metadata": {},
   "outputs": [],
   "source": [
    "data = data.apply(lambda x: x.str.strip())\n",
    "data.to_csv(\"/home/anwer/Desktop/PPI_prediction/csv_files/Denovo_ppi_with_sequences.csv\",index = False)"
   ]
  },
  {
   "cell_type": "markdown",
   "id": "0ae306d6",
   "metadata": {},
   "source": [
    "### 1.2 Exploratory Data Analysis"
   ]
  },
  {
   "cell_type": "code",
   "execution_count": 263,
   "id": "aaf1de6e",
   "metadata": {},
   "outputs": [],
   "source": [
    "data = pd.read_csv('/home/anwer/Desktop/PPI_prediction/csv_files/Denovo_ppi_with_sequences.csv')"
   ]
  },
  {
   "cell_type": "code",
   "execution_count": 264,
   "id": "ba3113e7",
   "metadata": {},
   "outputs": [
    {
     "data": {
      "text/html": [
       "<div>\n",
       "<style scoped>\n",
       "    .dataframe tbody tr th:only-of-type {\n",
       "        vertical-align: middle;\n",
       "    }\n",
       "\n",
       "    .dataframe tbody tr th {\n",
       "        vertical-align: top;\n",
       "    }\n",
       "\n",
       "    .dataframe thead th {\n",
       "        text-align: right;\n",
       "    }\n",
       "</style>\n",
       "<table border=\"1\" class=\"dataframe\">\n",
       "  <thead>\n",
       "    <tr style=\"text-align: right;\">\n",
       "      <th></th>\n",
       "      <th>Protein A</th>\n",
       "      <th>Protein B</th>\n",
       "      <th>Protein_A_sequence</th>\n",
       "      <th>Protein_B_sequence</th>\n",
       "    </tr>\n",
       "  </thead>\n",
       "  <tbody>\n",
       "    <tr>\n",
       "      <th>0</th>\n",
       "      <td>P29991</td>\n",
       "      <td>O00571</td>\n",
       "      <td>MNDQRKEAKNTPFNMLKRERNRVSTVQQLTKRFSLGMLQGRGPLKL...</td>\n",
       "      <td>MSHVAVENALGLDQQFAGLDLNSSDNQSGGSTASKGRYIPPHLRNR...</td>\n",
       "    </tr>\n",
       "    <tr>\n",
       "      <th>1</th>\n",
       "      <td>P29991</td>\n",
       "      <td>O00584</td>\n",
       "      <td>MNDQRKEAKNTPFNMLKRERNRVSTVQQLTKRFSLGMLQGRGPLKL...</td>\n",
       "      <td>MRPAALRGALLGCLCLALLCLGGADKRLRDNHEWKKLIMVQHWPET...</td>\n",
       "    </tr>\n",
       "    <tr>\n",
       "      <th>2</th>\n",
       "      <td>Q99IB8</td>\n",
       "      <td>O00584</td>\n",
       "      <td>MSTNPKPQRKTKRNTNRRPEDVKFPGGGQIVGGVYLLPRRGPRLGV...</td>\n",
       "      <td>MRPAALRGALLGCLCLALLCLGGADKRLRDNHEWKKLIMVQHWPET...</td>\n",
       "    </tr>\n",
       "    <tr>\n",
       "      <th>3</th>\n",
       "      <td>P03070</td>\n",
       "      <td>O00629</td>\n",
       "      <td>MDKVLNREESLQLMDLLGLERSAWGNIPLMRKAYLKKCKEFHPDKG...</td>\n",
       "      <td>MADNEKLDNQRLKNFKNKGRDLETMRRQRNEVVVELRKNKRDEHLL...</td>\n",
       "    </tr>\n",
       "    <tr>\n",
       "      <th>4</th>\n",
       "      <td>P49116</td>\n",
       "      <td>P10221</td>\n",
       "      <td>MTSPSPRIQIISTDSAVASPQRIQIVTDQQTGQKIQIVTAVDASGS...</td>\n",
       "      <td>MADRGLPSEAPVVTTSPAGPPSDGPMQRLLASLAGLRQPPTPTAET...</td>\n",
       "    </tr>\n",
       "  </tbody>\n",
       "</table>\n",
       "</div>"
      ],
      "text/plain": [
       "  Protein A Protein B                                 Protein_A_sequence  \\\n",
       "0    P29991    O00571  MNDQRKEAKNTPFNMLKRERNRVSTVQQLTKRFSLGMLQGRGPLKL...   \n",
       "1    P29991    O00584  MNDQRKEAKNTPFNMLKRERNRVSTVQQLTKRFSLGMLQGRGPLKL...   \n",
       "2    Q99IB8    O00584  MSTNPKPQRKTKRNTNRRPEDVKFPGGGQIVGGVYLLPRRGPRLGV...   \n",
       "3    P03070    O00629  MDKVLNREESLQLMDLLGLERSAWGNIPLMRKAYLKKCKEFHPDKG...   \n",
       "4    P49116    P10221  MTSPSPRIQIISTDSAVASPQRIQIVTDQQTGQKIQIVTAVDASGS...   \n",
       "\n",
       "                                  Protein_B_sequence  \n",
       "0  MSHVAVENALGLDQQFAGLDLNSSDNQSGGSTASKGRYIPPHLRNR...  \n",
       "1  MRPAALRGALLGCLCLALLCLGGADKRLRDNHEWKKLIMVQHWPET...  \n",
       "2  MRPAALRGALLGCLCLALLCLGGADKRLRDNHEWKKLIMVQHWPET...  \n",
       "3  MADNEKLDNQRLKNFKNKGRDLETMRRQRNEVVVELRKNKRDEHLL...  \n",
       "4  MADRGLPSEAPVVTTSPAGPPSDGPMQRLLASLAGLRQPPTPTAET...  "
      ]
     },
     "execution_count": 264,
     "metadata": {},
     "output_type": "execute_result"
    }
   ],
   "source": [
    "data.head()"
   ]
  },
  {
   "cell_type": "code",
   "execution_count": 265,
   "id": "efbc693c",
   "metadata": {},
   "outputs": [],
   "source": [
    "data = data.apply(lambda x: x.str.strip())"
   ]
  },
  {
   "cell_type": "code",
   "execution_count": 266,
   "id": "a13fcf36",
   "metadata": {},
   "outputs": [
    {
     "name": "stdout",
     "output_type": "stream",
     "text": [
      "Number of positive pairs:  5718\n"
     ]
    }
   ],
   "source": [
    "print(\"Number of positive pairs: \", len(data) )"
   ]
  },
  {
   "cell_type": "code",
   "execution_count": 267,
   "id": "58a0f792",
   "metadata": {},
   "outputs": [
    {
     "name": "stdout",
     "output_type": "stream",
     "text": [
      "Number of unique Proteins:  2781\n"
     ]
    }
   ],
   "source": [
    "print(\"Number of unique Proteins: \", len(set(data['Protein A']).union(set(data['Protein B']))) )"
   ]
  },
  {
   "cell_type": "code",
   "execution_count": 268,
   "id": "d16cdea9",
   "metadata": {},
   "outputs": [
    {
     "name": "stdout",
     "output_type": "stream",
     "text": [
      "Maximum length proteins:  YITPVNSLEKHSWYHGPVSRNAAEYLLSSGINGSFLVRESESSPGQRSISLRYEGRVYHYRINTASDGKLYVSSESRFNTLAELVHHHSTVADGLITTLHYPAPKRNKPTIYGVSPNYDKWEMERTDITMKHKLGGGQYGEVYEGVWKKYSLTVAVKTLKEDTMEVEEFLKEAAVMKEIKHPNLVQLLGVCTREPPFYIITEFMTYGNLLDYLRECNRQEVSAVVLLYMATQISSAMEYLEKKNFIHRDLAARNCLVGENHLVKVADFGLSRLMTGDTYTAHAGAKFPIKWTAPESLAYNKFSIKSDVWAFGVLLWEIATYGMSPYPGIDLSQVYELLEKDYRMERPEGCPEKVYELMRACWQWNPSDRPSFAEIHQAFETMFQESSISDEVEKELGKRGTRGGAGSMLQAPELPTKTRTCRRAAEQKASPPSLTPKLLRRQVTASPSSGLSHKKEATKGSASGMGTPATAEPAPPSNKVGLSKASSEEMRVRRHKHSSESPGRDKGRLAKLKPAPPPPPACTGKAGKPAQSPSQEAGEAGGPTKTKCTSLAMDAVNTDPTKAGPPGEGLRKPVPPSVPKPQSTAKPPGTPTSPVSTPSTAPAPSPLAGDQQPSSAAFIPLISTRVSLRKTRQPPERIASGTITKGVVLDSTEALCLAISRNSEQMASHSAVLEAGKNLYTFCVSYVDSIQQMRNKFAFREAINKLESNLRELQICPATASSGPAATQDFSKLLSSVKEISDIVRR\n",
      "\n",
      "\n",
      "Maximum length of Proteins sequences:  746\n"
     ]
    }
   ],
   "source": [
    "print(\"Maximum length proteins: \", max(set(data['Protein_A_sequence']).union(set(data['Protein_B_sequence']))))\n",
    "print('\\n' )\n",
    "print(\"Maximum length of Proteins sequences: \", len(max(set(data['Protein_A_sequence']).union(set(data['Protein_B_sequence'])))))"
   ]
  },
  {
   "cell_type": "markdown",
   "id": "ec61fdbb",
   "metadata": {},
   "source": [
    "### 1.3 Creating independent test set"
   ]
  },
  {
   "cell_type": "code",
   "execution_count": 269,
   "id": "f5dd8492",
   "metadata": {},
   "outputs": [
    {
     "data": {
      "text/html": [
       "<div>\n",
       "<style scoped>\n",
       "    .dataframe tbody tr th:only-of-type {\n",
       "        vertical-align: middle;\n",
       "    }\n",
       "\n",
       "    .dataframe tbody tr th {\n",
       "        vertical-align: top;\n",
       "    }\n",
       "\n",
       "    .dataframe thead th {\n",
       "        text-align: right;\n",
       "    }\n",
       "</style>\n",
       "<table border=\"1\" class=\"dataframe\">\n",
       "  <thead>\n",
       "    <tr style=\"text-align: right;\">\n",
       "      <th></th>\n",
       "      <th>Protein A</th>\n",
       "      <th>Protein B</th>\n",
       "      <th>Protein_A_sequence</th>\n",
       "      <th>Protein_B_sequence</th>\n",
       "    </tr>\n",
       "  </thead>\n",
       "  <tbody>\n",
       "    <tr>\n",
       "      <th>0</th>\n",
       "      <td>P29991</td>\n",
       "      <td>O00571</td>\n",
       "      <td>MNDQRKEAKNTPFNMLKRERNRVSTVQQLTKRFSLGMLQGRGPLKL...</td>\n",
       "      <td>MSHVAVENALGLDQQFAGLDLNSSDNQSGGSTASKGRYIPPHLRNR...</td>\n",
       "    </tr>\n",
       "    <tr>\n",
       "      <th>1</th>\n",
       "      <td>P29991</td>\n",
       "      <td>O00584</td>\n",
       "      <td>MNDQRKEAKNTPFNMLKRERNRVSTVQQLTKRFSLGMLQGRGPLKL...</td>\n",
       "      <td>MRPAALRGALLGCLCLALLCLGGADKRLRDNHEWKKLIMVQHWPET...</td>\n",
       "    </tr>\n",
       "    <tr>\n",
       "      <th>2</th>\n",
       "      <td>Q99IB8</td>\n",
       "      <td>O00584</td>\n",
       "      <td>MSTNPKPQRKTKRNTNRRPEDVKFPGGGQIVGGVYLLPRRGPRLGV...</td>\n",
       "      <td>MRPAALRGALLGCLCLALLCLGGADKRLRDNHEWKKLIMVQHWPET...</td>\n",
       "    </tr>\n",
       "    <tr>\n",
       "      <th>3</th>\n",
       "      <td>P03070</td>\n",
       "      <td>O00629</td>\n",
       "      <td>MDKVLNREESLQLMDLLGLERSAWGNIPLMRKAYLKKCKEFHPDKG...</td>\n",
       "      <td>MADNEKLDNQRLKNFKNKGRDLETMRRQRNEVVVELRKNKRDEHLL...</td>\n",
       "    </tr>\n",
       "    <tr>\n",
       "      <th>4</th>\n",
       "      <td>P49116</td>\n",
       "      <td>P10221</td>\n",
       "      <td>MTSPSPRIQIISTDSAVASPQRIQIVTDQQTGQKIQIVTAVDASGS...</td>\n",
       "      <td>MADRGLPSEAPVVTTSPAGPPSDGPMQRLLASLAGLRQPPTPTAET...</td>\n",
       "    </tr>\n",
       "    <tr>\n",
       "      <th>...</th>\n",
       "      <td>...</td>\n",
       "      <td>...</td>\n",
       "      <td>...</td>\n",
       "      <td>...</td>\n",
       "    </tr>\n",
       "    <tr>\n",
       "      <th>5713</th>\n",
       "      <td>Q93034</td>\n",
       "      <td>P69721</td>\n",
       "      <td>MATSNLLKNKGSLQFEDKWDFMRPIVLKLLRQESVTKQQWFDLFSD...</td>\n",
       "      <td>MENRWQVMIVWQVDRMRIRTWKSLVKHHMYVSGKARGWFYRHHYES...</td>\n",
       "    </tr>\n",
       "    <tr>\n",
       "      <th>5714</th>\n",
       "      <td>Q9HC16</td>\n",
       "      <td>P69721</td>\n",
       "      <td>MKPHFRNTVERMYRDTFSYNFYNRPILSRRNTVWLCYEVKTKGPSR...</td>\n",
       "      <td>MENRWQVMIVWQVDRMRIRTWKSLVKHHMYVSGKARGWFYRHHYES...</td>\n",
       "    </tr>\n",
       "    <tr>\n",
       "      <th>5715</th>\n",
       "      <td>Q9HC16</td>\n",
       "      <td>P69720</td>\n",
       "      <td>MKPHFRNTVERMYRDTFSYNFYNRPILSRRNTVWLCYEVKTKGPSR...</td>\n",
       "      <td>MENRWQVMIVWQVDRMRIRTWKSLVKHHMYVSGKARGWFYRHHYES...</td>\n",
       "    </tr>\n",
       "    <tr>\n",
       "      <th>5716</th>\n",
       "      <td>Q9HC16</td>\n",
       "      <td>P69722</td>\n",
       "      <td>MKPHFRNTVERMYRDTFSYNFYNRPILSRRNTVWLCYEVKTKGPSR...</td>\n",
       "      <td>MENRWQVMIVWQVDRMRIRTWKSLVKHHMYVSGKARGWFYRHHYES...</td>\n",
       "    </tr>\n",
       "    <tr>\n",
       "      <th>5717</th>\n",
       "      <td>Q9HC16</td>\n",
       "      <td>P69723</td>\n",
       "      <td>MKPHFRNTVERMYRDTFSYNFYNRPILSRRNTVWLCYEVKTKGPSR...</td>\n",
       "      <td>MENRWQVMIVWQVDRMRIRTWKSLVKHHMYVSGKARGWFYRHHYES...</td>\n",
       "    </tr>\n",
       "  </tbody>\n",
       "</table>\n",
       "<p>5718 rows × 4 columns</p>\n",
       "</div>"
      ],
      "text/plain": [
       "     Protein A Protein B                                 Protein_A_sequence  \\\n",
       "0       P29991    O00571  MNDQRKEAKNTPFNMLKRERNRVSTVQQLTKRFSLGMLQGRGPLKL...   \n",
       "1       P29991    O00584  MNDQRKEAKNTPFNMLKRERNRVSTVQQLTKRFSLGMLQGRGPLKL...   \n",
       "2       Q99IB8    O00584  MSTNPKPQRKTKRNTNRRPEDVKFPGGGQIVGGVYLLPRRGPRLGV...   \n",
       "3       P03070    O00629  MDKVLNREESLQLMDLLGLERSAWGNIPLMRKAYLKKCKEFHPDKG...   \n",
       "4       P49116    P10221  MTSPSPRIQIISTDSAVASPQRIQIVTDQQTGQKIQIVTAVDASGS...   \n",
       "...        ...       ...                                                ...   \n",
       "5713    Q93034    P69721  MATSNLLKNKGSLQFEDKWDFMRPIVLKLLRQESVTKQQWFDLFSD...   \n",
       "5714    Q9HC16    P69721  MKPHFRNTVERMYRDTFSYNFYNRPILSRRNTVWLCYEVKTKGPSR...   \n",
       "5715    Q9HC16    P69720  MKPHFRNTVERMYRDTFSYNFYNRPILSRRNTVWLCYEVKTKGPSR...   \n",
       "5716    Q9HC16    P69722  MKPHFRNTVERMYRDTFSYNFYNRPILSRRNTVWLCYEVKTKGPSR...   \n",
       "5717    Q9HC16    P69723  MKPHFRNTVERMYRDTFSYNFYNRPILSRRNTVWLCYEVKTKGPSR...   \n",
       "\n",
       "                                     Protein_B_sequence  \n",
       "0     MSHVAVENALGLDQQFAGLDLNSSDNQSGGSTASKGRYIPPHLRNR...  \n",
       "1     MRPAALRGALLGCLCLALLCLGGADKRLRDNHEWKKLIMVQHWPET...  \n",
       "2     MRPAALRGALLGCLCLALLCLGGADKRLRDNHEWKKLIMVQHWPET...  \n",
       "3     MADNEKLDNQRLKNFKNKGRDLETMRRQRNEVVVELRKNKRDEHLL...  \n",
       "4     MADRGLPSEAPVVTTSPAGPPSDGPMQRLLASLAGLRQPPTPTAET...  \n",
       "...                                                 ...  \n",
       "5713  MENRWQVMIVWQVDRMRIRTWKSLVKHHMYVSGKARGWFYRHHYES...  \n",
       "5714  MENRWQVMIVWQVDRMRIRTWKSLVKHHMYVSGKARGWFYRHHYES...  \n",
       "5715  MENRWQVMIVWQVDRMRIRTWKSLVKHHMYVSGKARGWFYRHHYES...  \n",
       "5716  MENRWQVMIVWQVDRMRIRTWKSLVKHHMYVSGKARGWFYRHHYES...  \n",
       "5717  MENRWQVMIVWQVDRMRIRTWKSLVKHHMYVSGKARGWFYRHHYES...  \n",
       "\n",
       "[5718 rows x 4 columns]"
      ]
     },
     "execution_count": 269,
     "metadata": {},
     "output_type": "execute_result"
    }
   ],
   "source": [
    "data"
   ]
  },
  {
   "cell_type": "code",
   "execution_count": 270,
   "id": "6bbb1449",
   "metadata": {},
   "outputs": [],
   "source": [
    "data = data.sample(frac=1,random_state = 42).reset_index(drop=True)"
   ]
  },
  {
   "cell_type": "code",
   "execution_count": 361,
   "id": "0fee94e4",
   "metadata": {},
   "outputs": [
    {
     "data": {
      "text/plain": [
       "571.8000000000001"
      ]
     },
     "execution_count": 361,
     "metadata": {},
     "output_type": "execute_result"
    }
   ],
   "source": [
    "hash_table_train_proteins = {}\n",
    "hash_table_test_proteins = {}\n",
    "percent_10 = len(data)*0.1\n",
    "percent_10"
   ]
  },
  {
   "cell_type": "code",
   "execution_count": 509,
   "id": "92cf2594",
   "metadata": {},
   "outputs": [],
   "source": [
    "starting_point_data = data[0:100]\n",
    "data_left = data[100:]\n",
    "\n",
    "\n",
    "def check_hash_table(train_data):\n",
    "    protein_unique_initial_train = set(starting_point_data['Protein A']).union(set(starting_point_data['Protein B']))\n",
    "\n",
    "    protein_unique_initial_test = set()\n",
    "    for index,row in train_data.iterrows():\n",
    "        if row['Protein A'] in protein_unique_initial_train or row['Protein B'] in protein_unique_initial_train:\n",
    "            \n",
    "            protein_unique_initial_train.add(row['Protein A'])\n",
    "            protein_unique_initial_train.add(row['Protein B'])\n",
    "            try:\n",
    "                protein_unique_initial_test.remove(row['Protein A'])\n",
    "            except:\n",
    "                pass\n",
    "            try:\n",
    "                protein_unique_initial_test.remove(row['Protein B'])\n",
    "            except:\n",
    "                pass\n",
    "        else:\n",
    "            \n",
    "            protein_unique_initial_test.add(row['Protein A'])\n",
    "            protein_unique_initial_test.add(row['Protein B'])\n",
    "    return protein_unique_initial_train,protein_unique_initial_test\n",
    "                "
   ]
  },
  {
   "cell_type": "code",
   "execution_count": 510,
   "id": "c5958bb5",
   "metadata": {},
   "outputs": [],
   "source": [
    "protein_unique_initial_train,protein_unique_initial_test = check_hash_table(data_left)"
   ]
  },
  {
   "cell_type": "code",
   "execution_count": 511,
   "id": "0c0bc8c0",
   "metadata": {},
   "outputs": [
    {
     "data": {
      "text/plain": [
       "set()"
      ]
     },
     "execution_count": 511,
     "metadata": {},
     "output_type": "execute_result"
    }
   ],
   "source": [
    " protein_unique_initial_test.intersection(protein_unique_initial_train)"
   ]
  },
  {
   "cell_type": "code",
   "execution_count": 512,
   "id": "278f7895",
   "metadata": {},
   "outputs": [
    {
     "data": {
      "text/plain": [
       "2781"
      ]
     },
     "execution_count": 512,
     "metadata": {},
     "output_type": "execute_result"
    }
   ],
   "source": [
    "len(protein_unique_initial_train.union(protein_unique_initial_test))"
   ]
  },
  {
   "cell_type": "code",
   "execution_count": 513,
   "id": "1b5d21c2",
   "metadata": {},
   "outputs": [
    {
     "data": {
      "text/plain": [
       "5613"
      ]
     },
     "execution_count": 513,
     "metadata": {},
     "output_type": "execute_result"
    }
   ],
   "source": [
    "li = []\n",
    "for index,row in data.iterrows():\n",
    "    if row['Protein A'] in protein_unique_initial_train or row['Protein B'] in protein_unique_initial_train:\n",
    "        li.append(1)\n",
    "    else:\n",
    "        li.append(0)\n",
    "        \n",
    "sum(li)   "
   ]
  },
  {
   "cell_type": "code",
   "execution_count": null,
   "id": "b5815baf",
   "metadata": {},
   "outputs": [],
   "source": []
  },
  {
   "cell_type": "code",
   "execution_count": 506,
   "id": "6dfce41e",
   "metadata": {},
   "outputs": [],
   "source": [
    "data[\"is_train\"] = li"
   ]
  },
  {
   "cell_type": "code",
   "execution_count": 507,
   "id": "1fa04b15",
   "metadata": {},
   "outputs": [
    {
     "data": {
      "text/html": [
       "<div>\n",
       "<style scoped>\n",
       "    .dataframe tbody tr th:only-of-type {\n",
       "        vertical-align: middle;\n",
       "    }\n",
       "\n",
       "    .dataframe tbody tr th {\n",
       "        vertical-align: top;\n",
       "    }\n",
       "\n",
       "    .dataframe thead th {\n",
       "        text-align: right;\n",
       "    }\n",
       "</style>\n",
       "<table border=\"1\" class=\"dataframe\">\n",
       "  <thead>\n",
       "    <tr style=\"text-align: right;\">\n",
       "      <th></th>\n",
       "      <th>Protein A</th>\n",
       "      <th>Protein B</th>\n",
       "      <th>Protein_A_sequence</th>\n",
       "      <th>Protein_B_sequence</th>\n",
       "      <th>is_train</th>\n",
       "    </tr>\n",
       "  </thead>\n",
       "  <tbody>\n",
       "    <tr>\n",
       "      <th>0</th>\n",
       "      <td>P30484</td>\n",
       "      <td>P04578</td>\n",
       "      <td>MRVTAPRTVLLLLSGALALTETWAGSHSMRYFYTAMSRPGRGEPRF...</td>\n",
       "      <td>MRVKEKYQHLWRWGWRWGTMLLGMLMICSATEKLWVTVYYGVPVWK...</td>\n",
       "      <td>1</td>\n",
       "    </tr>\n",
       "    <tr>\n",
       "      <th>1</th>\n",
       "      <td>P08311</td>\n",
       "      <td>P04578</td>\n",
       "      <td>MQPLLLLLAFLLPTGAEAGEIIGGRESRPHSRPYMAYLQIQSPAGQ...</td>\n",
       "      <td>MRVKEKYQHLWRWGWRWGTMLLGMLMICSATEKLWVTVYYGVPVWK...</td>\n",
       "      <td>1</td>\n",
       "    </tr>\n",
       "    <tr>\n",
       "      <th>2</th>\n",
       "      <td>Q13501</td>\n",
       "      <td>P04578</td>\n",
       "      <td>MASLTVKAYLLGKEDAAREIRRFSFCCSPEPEAEAEAAAGPGPCER...</td>\n",
       "      <td>MRVKEKYQHLWRWGWRWGTMLLGMLMICSATEKLWVTVYYGVPVWK...</td>\n",
       "      <td>1</td>\n",
       "    </tr>\n",
       "    <tr>\n",
       "      <th>3</th>\n",
       "      <td>Q9NVV0</td>\n",
       "      <td>P04578</td>\n",
       "      <td>MDSPWDELALAFSRTSMFPFFDIAHYLVSVMAVKRQPGAAALAWKN...</td>\n",
       "      <td>MRVKEKYQHLWRWGWRWGTMLLGMLMICSATEKLWVTVYYGVPVWK...</td>\n",
       "      <td>1</td>\n",
       "    </tr>\n",
       "    <tr>\n",
       "      <th>4</th>\n",
       "      <td>Q9P0L0</td>\n",
       "      <td>P04578</td>\n",
       "      <td>MASASGAMAKHEQILVLDPPTDLKFKGPFTDVVTTNLKLRNPSDRK...</td>\n",
       "      <td>MRVKEKYQHLWRWGWRWGTMLLGMLMICSATEKLWVTVYYGVPVWK...</td>\n",
       "      <td>1</td>\n",
       "    </tr>\n",
       "    <tr>\n",
       "      <th>...</th>\n",
       "      <td>...</td>\n",
       "      <td>...</td>\n",
       "      <td>...</td>\n",
       "      <td>...</td>\n",
       "      <td>...</td>\n",
       "    </tr>\n",
       "    <tr>\n",
       "      <th>167</th>\n",
       "      <td>P48741</td>\n",
       "      <td>P04578</td>\n",
       "      <td>MQAPRELAVGIDLGTTYSCVGVFQQGRVEILANDQGNRTTPSYVAF...</td>\n",
       "      <td>MRVKEKYQHLWRWGWRWGTMLLGMLMICSATEKLWVTVYYGVPVWK...</td>\n",
       "      <td>1</td>\n",
       "    </tr>\n",
       "    <tr>\n",
       "      <th>168</th>\n",
       "      <td>P20701</td>\n",
       "      <td>P04578</td>\n",
       "      <td>MKDSCITVMAMALLSGFFFFAPASSYNLDVRGARSFSPPRAGRHFG...</td>\n",
       "      <td>MRVKEKYQHLWRWGWRWGTMLLGMLMICSATEKLWVTVYYGVPVWK...</td>\n",
       "      <td>1</td>\n",
       "    </tr>\n",
       "    <tr>\n",
       "      <th>169</th>\n",
       "      <td>Q9BUT9</td>\n",
       "      <td>P04578</td>\n",
       "      <td>MYTITKGPSKLVAQRRTGPTQQQVEGRLGELLKCRQPAPPTSQPPR...</td>\n",
       "      <td>MRVKEKYQHLWRWGWRWGTMLLGMLMICSATEKLWVTVYYGVPVWK...</td>\n",
       "      <td>1</td>\n",
       "    </tr>\n",
       "    <tr>\n",
       "      <th>170</th>\n",
       "      <td>Q9UJZ1</td>\n",
       "      <td>P04578</td>\n",
       "      <td>MLARAARGTGALLLRGSLLASGRAPRRASSGLPRNTVVLFVPQQEA...</td>\n",
       "      <td>MRVKEKYQHLWRWGWRWGTMLLGMLMICSATEKLWVTVYYGVPVWK...</td>\n",
       "      <td>1</td>\n",
       "    </tr>\n",
       "    <tr>\n",
       "      <th>171</th>\n",
       "      <td>Q9H0U3</td>\n",
       "      <td>P04578</td>\n",
       "      <td>MAARWRFWCVSVTMVVALLIVCDVPSASAQRKKEMVLSEKVSQLME...</td>\n",
       "      <td>MRVKEKYQHLWRWGWRWGTMLLGMLMICSATEKLWVTVYYGVPVWK...</td>\n",
       "      <td>1</td>\n",
       "    </tr>\n",
       "  </tbody>\n",
       "</table>\n",
       "<p>172 rows × 5 columns</p>\n",
       "</div>"
      ],
      "text/plain": [
       "    Protein A Protein B                                 Protein_A_sequence  \\\n",
       "0      P30484    P04578  MRVTAPRTVLLLLSGALALTETWAGSHSMRYFYTAMSRPGRGEPRF...   \n",
       "1      P08311    P04578  MQPLLLLLAFLLPTGAEAGEIIGGRESRPHSRPYMAYLQIQSPAGQ...   \n",
       "2      Q13501    P04578  MASLTVKAYLLGKEDAAREIRRFSFCCSPEPEAEAEAAAGPGPCER...   \n",
       "3      Q9NVV0    P04578  MDSPWDELALAFSRTSMFPFFDIAHYLVSVMAVKRQPGAAALAWKN...   \n",
       "4      Q9P0L0    P04578  MASASGAMAKHEQILVLDPPTDLKFKGPFTDVVTTNLKLRNPSDRK...   \n",
       "..        ...       ...                                                ...   \n",
       "167    P48741    P04578  MQAPRELAVGIDLGTTYSCVGVFQQGRVEILANDQGNRTTPSYVAF...   \n",
       "168    P20701    P04578  MKDSCITVMAMALLSGFFFFAPASSYNLDVRGARSFSPPRAGRHFG...   \n",
       "169    Q9BUT9    P04578  MYTITKGPSKLVAQRRTGPTQQQVEGRLGELLKCRQPAPPTSQPPR...   \n",
       "170    Q9UJZ1    P04578  MLARAARGTGALLLRGSLLASGRAPRRASSGLPRNTVVLFVPQQEA...   \n",
       "171    Q9H0U3    P04578  MAARWRFWCVSVTMVVALLIVCDVPSASAQRKKEMVLSEKVSQLME...   \n",
       "\n",
       "                                    Protein_B_sequence  is_train  \n",
       "0    MRVKEKYQHLWRWGWRWGTMLLGMLMICSATEKLWVTVYYGVPVWK...         1  \n",
       "1    MRVKEKYQHLWRWGWRWGTMLLGMLMICSATEKLWVTVYYGVPVWK...         1  \n",
       "2    MRVKEKYQHLWRWGWRWGTMLLGMLMICSATEKLWVTVYYGVPVWK...         1  \n",
       "3    MRVKEKYQHLWRWGWRWGTMLLGMLMICSATEKLWVTVYYGVPVWK...         1  \n",
       "4    MRVKEKYQHLWRWGWRWGTMLLGMLMICSATEKLWVTVYYGVPVWK...         1  \n",
       "..                                                 ...       ...  \n",
       "167  MRVKEKYQHLWRWGWRWGTMLLGMLMICSATEKLWVTVYYGVPVWK...         1  \n",
       "168  MRVKEKYQHLWRWGWRWGTMLLGMLMICSATEKLWVTVYYGVPVWK...         1  \n",
       "169  MRVKEKYQHLWRWGWRWGTMLLGMLMICSATEKLWVTVYYGVPVWK...         1  \n",
       "170  MRVKEKYQHLWRWGWRWGTMLLGMLMICSATEKLWVTVYYGVPVWK...         1  \n",
       "171  MRVKEKYQHLWRWGWRWGTMLLGMLMICSATEKLWVTVYYGVPVWK...         1  \n",
       "\n",
       "[172 rows x 5 columns]"
      ]
     },
     "execution_count": 507,
     "metadata": {},
     "output_type": "execute_result"
    }
   ],
   "source": [
    "train_data = data[data.is_train == 1].reset_index(drop = True)\n",
    "train_data"
   ]
  },
  {
   "cell_type": "code",
   "execution_count": 508,
   "id": "1af86ba4",
   "metadata": {},
   "outputs": [
    {
     "data": {
      "text/html": [
       "<div>\n",
       "<style scoped>\n",
       "    .dataframe tbody tr th:only-of-type {\n",
       "        vertical-align: middle;\n",
       "    }\n",
       "\n",
       "    .dataframe tbody tr th {\n",
       "        vertical-align: top;\n",
       "    }\n",
       "\n",
       "    .dataframe thead th {\n",
       "        text-align: right;\n",
       "    }\n",
       "</style>\n",
       "<table border=\"1\" class=\"dataframe\">\n",
       "  <thead>\n",
       "    <tr style=\"text-align: right;\">\n",
       "      <th></th>\n",
       "      <th>Protein A</th>\n",
       "      <th>Protein B</th>\n",
       "      <th>Protein_A_sequence</th>\n",
       "      <th>Protein_B_sequence</th>\n",
       "      <th>is_train</th>\n",
       "    </tr>\n",
       "  </thead>\n",
       "  <tbody>\n",
       "    <tr>\n",
       "      <th>0</th>\n",
       "      <td>Q99IB8</td>\n",
       "      <td>Q969X0</td>\n",
       "      <td>MSTNPKPQRKTKRNTNRRPEDVKFPGGGQIVGGVYLLPRRGPRLGV...</td>\n",
       "      <td>MEEPPVREEEEEEGEEDEERDEVGPEGALGKSPFQLTAEDVYDISY...</td>\n",
       "      <td>0</td>\n",
       "    </tr>\n",
       "    <tr>\n",
       "      <th>1</th>\n",
       "      <td>Q96BM9</td>\n",
       "      <td>Q77M19</td>\n",
       "      <td>MIALFNKLLDWFKALFWKEEMELTLVGLQYSGKTTFVNVIASGQFN...</td>\n",
       "      <td>MAEEQARHVKNGLECIRALKAEPIGSLAIEEAMAAWSEISDNPGQE...</td>\n",
       "      <td>0</td>\n",
       "    </tr>\n",
       "    <tr>\n",
       "      <th>2</th>\n",
       "      <td>Q9WNA9</td>\n",
       "      <td>P16333</td>\n",
       "      <td>MNYKKYLWGTWFAALITCCGCLSIMFCLLTINLQNTIFLLSNISVY...</td>\n",
       "      <td>MAEEVVVVAKFDYVAQQEQELDIKKNERLWLLDDSKSWWRVRNSMN...</td>\n",
       "      <td>0</td>\n",
       "    </tr>\n",
       "    <tr>\n",
       "      <th>3</th>\n",
       "      <td>Q9Y6C2</td>\n",
       "      <td>P29991</td>\n",
       "      <td>MAPRTLWSCYLCCLLTAAAGAASYPPRGFSLYTGSSGALSPGGPQA...</td>\n",
       "      <td>MNDQRKEAKNTPFNMLKRERNRVSTVQQLTKRFSLGMLQGRGPLKL...</td>\n",
       "      <td>0</td>\n",
       "    </tr>\n",
       "    <tr>\n",
       "      <th>4</th>\n",
       "      <td>Q8JPQ9</td>\n",
       "      <td>Q05639</td>\n",
       "      <td>MMSHQQVQMDLILMQGIWTSVLKMQNYSTLLQLGSSSSMPQRPRLL...</td>\n",
       "      <td>MGKEKTHINIVVIGHVDSGKSTTTGHLIYKCGGIDKRTIEKFEKEA...</td>\n",
       "      <td>0</td>\n",
       "    </tr>\n",
       "    <tr>\n",
       "      <th>...</th>\n",
       "      <td>...</td>\n",
       "      <td>...</td>\n",
       "      <td>...</td>\n",
       "      <td>...</td>\n",
       "      <td>...</td>\n",
       "    </tr>\n",
       "    <tr>\n",
       "      <th>5541</th>\n",
       "      <td>Q6SVZ5</td>\n",
       "      <td>Q15629</td>\n",
       "      <td>MNLVMLILALWAPVAGSMPELSLTLFDEPPPLVETEPLPPLPDVSE...</td>\n",
       "      <td>MAIRKKSTKSPPVLSHEFVLQNHADIVSCVAMVFLLGLMFEITAKA...</td>\n",
       "      <td>0</td>\n",
       "    </tr>\n",
       "    <tr>\n",
       "      <th>5542</th>\n",
       "      <td>Q9Y2S7</td>\n",
       "      <td>Q77M19</td>\n",
       "      <td>MAACTARRALAVGSRWWSRSLTGARWPRPLCAAAGAGAFSPASTTT...</td>\n",
       "      <td>MAEEQARHVKNGLECIRALKAEPIGSLAIEEAMAAWSEISDNPGQE...</td>\n",
       "      <td>0</td>\n",
       "    </tr>\n",
       "    <tr>\n",
       "      <th>5543</th>\n",
       "      <td>P20639</td>\n",
       "      <td>P19525</td>\n",
       "      <td>MLAFCYSLPNAGDVIKGRVYEKDYALYIYLFDYPHSEAILAESVKM...</td>\n",
       "      <td>MAGDLSAGFFMEELNTYRQKQGVVLKYQELPNSGPPHDRRFTFQVI...</td>\n",
       "      <td>0</td>\n",
       "    </tr>\n",
       "    <tr>\n",
       "      <th>5544</th>\n",
       "      <td>P04601</td>\n",
       "      <td>O43169</td>\n",
       "      <td>MGGKWSKSSVIGWPTVRERMRRAEPAADRVGAASRDLEKHGAITSS...</td>\n",
       "      <td>MATAEASGSDGKGQEVETSVTYYRLEEVAKRNSLKELWLVIHGRVY...</td>\n",
       "      <td>0</td>\n",
       "    </tr>\n",
       "    <tr>\n",
       "      <th>5545</th>\n",
       "      <td>P62829</td>\n",
       "      <td>D1LN35</td>\n",
       "      <td>MSKRGRGGSSGAKFRISLGLPVGAVINCADNTGAKNLYIISVKGIK...</td>\n",
       "      <td>MNSNTVSSFQVDCFLWHVRKRFADQELGDAPFLDRLRRDQKSLRGR...</td>\n",
       "      <td>0</td>\n",
       "    </tr>\n",
       "  </tbody>\n",
       "</table>\n",
       "<p>5546 rows × 5 columns</p>\n",
       "</div>"
      ],
      "text/plain": [
       "     Protein A Protein B                                 Protein_A_sequence  \\\n",
       "0       Q99IB8    Q969X0  MSTNPKPQRKTKRNTNRRPEDVKFPGGGQIVGGVYLLPRRGPRLGV...   \n",
       "1       Q96BM9    Q77M19  MIALFNKLLDWFKALFWKEEMELTLVGLQYSGKTTFVNVIASGQFN...   \n",
       "2       Q9WNA9    P16333  MNYKKYLWGTWFAALITCCGCLSIMFCLLTINLQNTIFLLSNISVY...   \n",
       "3       Q9Y6C2    P29991  MAPRTLWSCYLCCLLTAAAGAASYPPRGFSLYTGSSGALSPGGPQA...   \n",
       "4       Q8JPQ9    Q05639  MMSHQQVQMDLILMQGIWTSVLKMQNYSTLLQLGSSSSMPQRPRLL...   \n",
       "...        ...       ...                                                ...   \n",
       "5541    Q6SVZ5    Q15629  MNLVMLILALWAPVAGSMPELSLTLFDEPPPLVETEPLPPLPDVSE...   \n",
       "5542    Q9Y2S7    Q77M19  MAACTARRALAVGSRWWSRSLTGARWPRPLCAAAGAGAFSPASTTT...   \n",
       "5543    P20639    P19525  MLAFCYSLPNAGDVIKGRVYEKDYALYIYLFDYPHSEAILAESVKM...   \n",
       "5544    P04601    O43169  MGGKWSKSSVIGWPTVRERMRRAEPAADRVGAASRDLEKHGAITSS...   \n",
       "5545    P62829    D1LN35  MSKRGRGGSSGAKFRISLGLPVGAVINCADNTGAKNLYIISVKGIK...   \n",
       "\n",
       "                                     Protein_B_sequence  is_train  \n",
       "0     MEEPPVREEEEEEGEEDEERDEVGPEGALGKSPFQLTAEDVYDISY...         0  \n",
       "1     MAEEQARHVKNGLECIRALKAEPIGSLAIEEAMAAWSEISDNPGQE...         0  \n",
       "2     MAEEVVVVAKFDYVAQQEQELDIKKNERLWLLDDSKSWWRVRNSMN...         0  \n",
       "3     MNDQRKEAKNTPFNMLKRERNRVSTVQQLTKRFSLGMLQGRGPLKL...         0  \n",
       "4     MGKEKTHINIVVIGHVDSGKSTTTGHLIYKCGGIDKRTIEKFEKEA...         0  \n",
       "...                                                 ...       ...  \n",
       "5541  MAIRKKSTKSPPVLSHEFVLQNHADIVSCVAMVFLLGLMFEITAKA...         0  \n",
       "5542  MAEEQARHVKNGLECIRALKAEPIGSLAIEEAMAAWSEISDNPGQE...         0  \n",
       "5543  MAGDLSAGFFMEELNTYRQKQGVVLKYQELPNSGPPHDRRFTFQVI...         0  \n",
       "5544  MATAEASGSDGKGQEVETSVTYYRLEEVAKRNSLKELWLVIHGRVY...         0  \n",
       "5545  MNSNTVSSFQVDCFLWHVRKRFADQELGDAPFLDRLRRDQKSLRGR...         0  \n",
       "\n",
       "[5546 rows x 5 columns]"
      ]
     },
     "execution_count": 508,
     "metadata": {},
     "output_type": "execute_result"
    }
   ],
   "source": [
    "test_data = data[data.is_train == 0].reset_index(drop = True)\n",
    "test_data"
   ]
  },
  {
   "cell_type": "code",
   "execution_count": 499,
   "id": "622b0743",
   "metadata": {},
   "outputs": [
    {
     "name": "stdout",
     "output_type": "stream",
     "text": [
      "Number of common proteins between test set and train set:  68\n"
     ]
    }
   ],
   "source": [
    "## checking the overlapping\n",
    "\n",
    "train_data_proteins = set(train_data['Protein A']).union(set(train_data['Protein B']))\n",
    "test_data_proteins = set(test_data['Protein A']).union(set(test_data['Protein B']))\n",
    "common_proteins = train_data_proteins.intersection(test_data_proteins)\n",
    "print(\"Number of common proteins between test set and train set: \", len(common_proteins))"
   ]
  },
  {
   "cell_type": "code",
   "execution_count": 500,
   "id": "d2fa1692",
   "metadata": {},
   "outputs": [
    {
     "name": "stdout",
     "output_type": "stream",
     "text": [
      "1\n",
      "1\n",
      "1\n",
      "1\n",
      "1\n",
      "1\n",
      "1\n",
      "1\n",
      "1\n",
      "1\n"
     ]
    }
   ],
   "source": [
    "for i in range(10):\n",
    "    try:\n",
    "        asdasd\n",
    "        print(2)\n",
    "    except:\n",
    "        pass\n",
    "    try:\n",
    "        print(1)\n",
    "    except: \n",
    "        print(\"2nd pass\")"
   ]
  },
  {
   "cell_type": "code",
   "execution_count": null,
   "id": "c9a90449",
   "metadata": {},
   "outputs": [],
   "source": []
  },
  {
   "cell_type": "code",
   "execution_count": null,
   "id": "ff7c81bf",
   "metadata": {},
   "outputs": [],
   "source": []
  },
  {
   "cell_type": "code",
   "execution_count": null,
   "id": "c4c73be4",
   "metadata": {},
   "outputs": [],
   "source": []
  },
  {
   "cell_type": "code",
   "execution_count": null,
   "id": "1e2df633",
   "metadata": {},
   "outputs": [],
   "source": []
  },
  {
   "cell_type": "code",
   "execution_count": null,
   "id": "f7d4eab7",
   "metadata": {},
   "outputs": [],
   "source": []
  },
  {
   "cell_type": "code",
   "execution_count": null,
   "id": "720d04de",
   "metadata": {},
   "outputs": [],
   "source": []
  },
  {
   "cell_type": "code",
   "execution_count": null,
   "id": "dbbf724b",
   "metadata": {},
   "outputs": [],
   "source": []
  },
  {
   "cell_type": "code",
   "execution_count": null,
   "id": "afd35b89",
   "metadata": {},
   "outputs": [],
   "source": []
  }
 ],
 "metadata": {
  "kernelspec": {
   "display_name": "Python 3 (ipykernel)",
   "language": "python",
   "name": "python3"
  },
  "language_info": {
   "codemirror_mode": {
    "name": "ipython",
    "version": 3
   },
   "file_extension": ".py",
   "mimetype": "text/x-python",
   "name": "python",
   "nbconvert_exporter": "python",
   "pygments_lexer": "ipython3",
   "version": "3.9.12"
  }
 },
 "nbformat": 4,
 "nbformat_minor": 5
}
