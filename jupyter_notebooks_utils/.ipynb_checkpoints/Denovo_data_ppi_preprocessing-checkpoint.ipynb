{
 "cells": [
  {
   "cell_type": "code",
   "execution_count": 4,
   "id": "620412c6",
   "metadata": {},
   "outputs": [],
   "source": [
    "import numpy as np\n",
    "import pandas as pd\n",
    "import Bio.SeqIO as SeqIO\n",
    "from tqdm import tqdm"
   ]
  },
  {
   "cell_type": "code",
   "execution_count": 21,
   "id": "5c1e89e0",
   "metadata": {},
   "outputs": [],
   "source": [
    "data = pd.read_excel(\"/home/anwer/Desktop/PPI_prediction/Dataset_ppi/Denovo/AS1.xlsx\")"
   ]
  },
  {
   "cell_type": "code",
   "execution_count": 22,
   "id": "eb4f56d5",
   "metadata": {},
   "outputs": [
    {
     "data": {
      "text/html": [
       "<div>\n",
       "<style scoped>\n",
       "    .dataframe tbody tr th:only-of-type {\n",
       "        vertical-align: middle;\n",
       "    }\n",
       "\n",
       "    .dataframe tbody tr th {\n",
       "        vertical-align: top;\n",
       "    }\n",
       "\n",
       "    .dataframe thead th {\n",
       "        text-align: right;\n",
       "    }\n",
       "</style>\n",
       "<table border=\"1\" class=\"dataframe\">\n",
       "  <thead>\n",
       "    <tr style=\"text-align: right;\">\n",
       "      <th></th>\n",
       "      <th>Protein A</th>\n",
       "      <th>Protein B</th>\n",
       "    </tr>\n",
       "  </thead>\n",
       "  <tbody>\n",
       "    <tr>\n",
       "      <th>0</th>\n",
       "      <td>P29991</td>\n",
       "      <td>O00571</td>\n",
       "    </tr>\n",
       "    <tr>\n",
       "      <th>1</th>\n",
       "      <td>P29991</td>\n",
       "      <td>O00584</td>\n",
       "    </tr>\n",
       "    <tr>\n",
       "      <th>2</th>\n",
       "      <td>Q99IB8</td>\n",
       "      <td>O00584</td>\n",
       "    </tr>\n",
       "    <tr>\n",
       "      <th>3</th>\n",
       "      <td>P03070</td>\n",
       "      <td>O00629</td>\n",
       "    </tr>\n",
       "    <tr>\n",
       "      <th>4</th>\n",
       "      <td>P49116</td>\n",
       "      <td>P10221</td>\n",
       "    </tr>\n",
       "    <tr>\n",
       "      <th>...</th>\n",
       "      <td>...</td>\n",
       "      <td>...</td>\n",
       "    </tr>\n",
       "    <tr>\n",
       "      <th>5748</th>\n",
       "      <td>Q93034</td>\n",
       "      <td>P69721</td>\n",
       "    </tr>\n",
       "    <tr>\n",
       "      <th>5749</th>\n",
       "      <td>Q9HC16</td>\n",
       "      <td>P69721</td>\n",
       "    </tr>\n",
       "    <tr>\n",
       "      <th>5750</th>\n",
       "      <td>Q9HC16</td>\n",
       "      <td>P69720</td>\n",
       "    </tr>\n",
       "    <tr>\n",
       "      <th>5751</th>\n",
       "      <td>Q9HC16</td>\n",
       "      <td>P69722</td>\n",
       "    </tr>\n",
       "    <tr>\n",
       "      <th>5752</th>\n",
       "      <td>Q9HC16</td>\n",
       "      <td>P69723</td>\n",
       "    </tr>\n",
       "  </tbody>\n",
       "</table>\n",
       "<p>5753 rows × 2 columns</p>\n",
       "</div>"
      ],
      "text/plain": [
       "     Protein A Protein B\n",
       "0       P29991    O00571\n",
       "1       P29991    O00584\n",
       "2       Q99IB8    O00584\n",
       "3       P03070    O00629\n",
       "4       P49116    P10221\n",
       "...        ...       ...\n",
       "5748    Q93034    P69721\n",
       "5749    Q9HC16    P69721\n",
       "5750    Q9HC16    P69720\n",
       "5751    Q9HC16    P69722\n",
       "5752    Q9HC16    P69723\n",
       "\n",
       "[5753 rows x 2 columns]"
      ]
     },
     "execution_count": 22,
     "metadata": {},
     "output_type": "execute_result"
    }
   ],
   "source": [
    "data = data[['Protein A','Protein B']]\n",
    "data"
   ]
  },
  {
   "cell_type": "markdown",
   "id": "50db03f9",
   "metadata": {},
   "source": [
    "## 1. Data Preprocessing"
   ]
  },
  {
   "cell_type": "markdown",
   "id": "aad52f67",
   "metadata": {},
   "source": [
    "### 1.1 Protein name to sequence"
   ]
  },
  {
   "cell_type": "code",
   "execution_count": 23,
   "id": "35402f79",
   "metadata": {},
   "outputs": [
    {
     "name": "stderr",
     "output_type": "stream",
     "text": [
      "445it [00:00, 95053.23it/s]\n",
      "2340it [00:00, 121853.27it/s]\n"
     ]
    }
   ],
   "source": [
    "\n",
    "dct_1 = {}\n",
    "for rec in tqdm(SeqIO.parse(\"/home/anwer/Desktop/PPI_prediction/Dataset_ppi/Denovo/AS2.fasta\",\"fasta\")):\n",
    "    dct_1[rec.id.split(\"|\")[1]] = str(rec.seq)\n",
    "for rec in tqdm(SeqIO.parse(\"/home/anwer/Desktop/PPI_prediction/Dataset_ppi/Denovo/AS3.fasta\",\"fasta\")):\n",
    "    dct_1[rec.id.split(\"|\")[1]] = str(rec.seq)    "
   ]
  },
  {
   "cell_type": "code",
   "execution_count": 24,
   "id": "2c6d524f",
   "metadata": {},
   "outputs": [],
   "source": [
    "def convert_to_seq(seq_name):\n",
    "    try:\n",
    "        return dct_1[seq_name]\n",
    "    except:\n",
    "        return None"
   ]
  },
  {
   "cell_type": "code",
   "execution_count": 25,
   "id": "308fb1a8",
   "metadata": {},
   "outputs": [],
   "source": [
    "data[\"Protein_A_sequence\"] = data['Protein A'].apply(convert_to_seq)\n",
    "data[\"Protein_B_sequence\"] = data['Protein B'].apply(convert_to_seq)\n",
    "data.dropna(inplace = True)"
   ]
  },
  {
   "cell_type": "code",
   "execution_count": 26,
   "id": "67dc6159",
   "metadata": {},
   "outputs": [],
   "source": [
    "data = data.apply(lambda x: x.str.strip())\n",
    "data.to_csv(\"/home/anwer/Desktop/PPI_prediction/csv_files/Denovo_ppi_with_sequences.csv\",index = False)"
   ]
  },
  {
   "cell_type": "markdown",
   "id": "0ae306d6",
   "metadata": {},
   "source": [
    "### 1.2 Exploratory Data Analysis"
   ]
  },
  {
   "cell_type": "code",
   "execution_count": 9,
   "id": "aaf1de6e",
   "metadata": {},
   "outputs": [],
   "source": [
    "data = pd.read_csv('../csv_files/Denovo_ppi_with_sequences.csv')"
   ]
  },
  {
   "cell_type": "code",
   "execution_count": 27,
   "id": "ba3113e7",
   "metadata": {},
   "outputs": [
    {
     "data": {
      "text/html": [
       "<div>\n",
       "<style scoped>\n",
       "    .dataframe tbody tr th:only-of-type {\n",
       "        vertical-align: middle;\n",
       "    }\n",
       "\n",
       "    .dataframe tbody tr th {\n",
       "        vertical-align: top;\n",
       "    }\n",
       "\n",
       "    .dataframe thead th {\n",
       "        text-align: right;\n",
       "    }\n",
       "</style>\n",
       "<table border=\"1\" class=\"dataframe\">\n",
       "  <thead>\n",
       "    <tr style=\"text-align: right;\">\n",
       "      <th></th>\n",
       "      <th>Protein A</th>\n",
       "      <th>Protein B</th>\n",
       "      <th>Protein_A_sequence</th>\n",
       "      <th>Protein_B_sequence</th>\n",
       "    </tr>\n",
       "  </thead>\n",
       "  <tbody>\n",
       "    <tr>\n",
       "      <th>0</th>\n",
       "      <td>P29991</td>\n",
       "      <td>O00571</td>\n",
       "      <td>MNDQRKEAKNTPFNMLKRERNRVSTVQQLTKRFSLGMLQGRGPLKL...</td>\n",
       "      <td>MSHVAVENALGLDQQFAGLDLNSSDNQSGGSTASKGRYIPPHLRNR...</td>\n",
       "    </tr>\n",
       "    <tr>\n",
       "      <th>1</th>\n",
       "      <td>P29991</td>\n",
       "      <td>O00584</td>\n",
       "      <td>MNDQRKEAKNTPFNMLKRERNRVSTVQQLTKRFSLGMLQGRGPLKL...</td>\n",
       "      <td>MRPAALRGALLGCLCLALLCLGGADKRLRDNHEWKKLIMVQHWPET...</td>\n",
       "    </tr>\n",
       "    <tr>\n",
       "      <th>2</th>\n",
       "      <td>Q99IB8</td>\n",
       "      <td>O00584</td>\n",
       "      <td>MSTNPKPQRKTKRNTNRRPEDVKFPGGGQIVGGVYLLPRRGPRLGV...</td>\n",
       "      <td>MRPAALRGALLGCLCLALLCLGGADKRLRDNHEWKKLIMVQHWPET...</td>\n",
       "    </tr>\n",
       "    <tr>\n",
       "      <th>3</th>\n",
       "      <td>P03070</td>\n",
       "      <td>O00629</td>\n",
       "      <td>MDKVLNREESLQLMDLLGLERSAWGNIPLMRKAYLKKCKEFHPDKG...</td>\n",
       "      <td>MADNEKLDNQRLKNFKNKGRDLETMRRQRNEVVVELRKNKRDEHLL...</td>\n",
       "    </tr>\n",
       "    <tr>\n",
       "      <th>4</th>\n",
       "      <td>P49116</td>\n",
       "      <td>P10221</td>\n",
       "      <td>MTSPSPRIQIISTDSAVASPQRIQIVTDQQTGQKIQIVTAVDASGS...</td>\n",
       "      <td>MADRGLPSEAPVVTTSPAGPPSDGPMQRLLASLAGLRQPPTPTAET...</td>\n",
       "    </tr>\n",
       "  </tbody>\n",
       "</table>\n",
       "</div>"
      ],
      "text/plain": [
       "  Protein A Protein B                                 Protein_A_sequence  \\\n",
       "0    P29991    O00571  MNDQRKEAKNTPFNMLKRERNRVSTVQQLTKRFSLGMLQGRGPLKL...   \n",
       "1    P29991    O00584  MNDQRKEAKNTPFNMLKRERNRVSTVQQLTKRFSLGMLQGRGPLKL...   \n",
       "2    Q99IB8    O00584  MSTNPKPQRKTKRNTNRRPEDVKFPGGGQIVGGVYLLPRRGPRLGV...   \n",
       "3    P03070    O00629  MDKVLNREESLQLMDLLGLERSAWGNIPLMRKAYLKKCKEFHPDKG...   \n",
       "4    P49116    P10221  MTSPSPRIQIISTDSAVASPQRIQIVTDQQTGQKIQIVTAVDASGS...   \n",
       "\n",
       "                                  Protein_B_sequence  \n",
       "0  MSHVAVENALGLDQQFAGLDLNSSDNQSGGSTASKGRYIPPHLRNR...  \n",
       "1  MRPAALRGALLGCLCLALLCLGGADKRLRDNHEWKKLIMVQHWPET...  \n",
       "2  MRPAALRGALLGCLCLALLCLGGADKRLRDNHEWKKLIMVQHWPET...  \n",
       "3  MADNEKLDNQRLKNFKNKGRDLETMRRQRNEVVVELRKNKRDEHLL...  \n",
       "4  MADRGLPSEAPVVTTSPAGPPSDGPMQRLLASLAGLRQPPTPTAET...  "
      ]
     },
     "execution_count": 27,
     "metadata": {},
     "output_type": "execute_result"
    }
   ],
   "source": [
    "data.head()\n"
   ]
  },
  {
   "cell_type": "code",
   "execution_count": 28,
   "id": "efbc693c",
   "metadata": {},
   "outputs": [],
   "source": [
    "data = data.apply(lambda x: x.str.strip())"
   ]
  },
  {
   "cell_type": "code",
   "execution_count": 29,
   "id": "a13fcf36",
   "metadata": {},
   "outputs": [
    {
     "name": "stdout",
     "output_type": "stream",
     "text": [
      "Number of positive pairs:  5718\n"
     ]
    }
   ],
   "source": [
    "print(\"Number of positive pairs: \", len(data))"
   ]
  },
  {
   "cell_type": "code",
   "execution_count": 30,
   "id": "58a0f792",
   "metadata": {},
   "outputs": [
    {
     "name": "stdout",
     "output_type": "stream",
     "text": [
      "Number of unique Proteins:  2781\n"
     ]
    }
   ],
   "source": [
    "print(\"Number of unique Proteins: \", len(set(data['Protein A']).union(set(data['Protein B']))) )"
   ]
  },
  {
   "cell_type": "code",
   "execution_count": 31,
   "id": "d16cdea9",
   "metadata": {},
   "outputs": [
    {
     "name": "stdout",
     "output_type": "stream",
     "text": [
      "Maximum length proteins:  YITPVNSLEKHSWYHGPVSRNAAEYLLSSGINGSFLVRESESSPGQRSISLRYEGRVYHYRINTASDGKLYVSSESRFNTLAELVHHHSTVADGLITTLHYPAPKRNKPTIYGVSPNYDKWEMERTDITMKHKLGGGQYGEVYEGVWKKYSLTVAVKTLKEDTMEVEEFLKEAAVMKEIKHPNLVQLLGVCTREPPFYIITEFMTYGNLLDYLRECNRQEVSAVVLLYMATQISSAMEYLEKKNFIHRDLAARNCLVGENHLVKVADFGLSRLMTGDTYTAHAGAKFPIKWTAPESLAYNKFSIKSDVWAFGVLLWEIATYGMSPYPGIDLSQVYELLEKDYRMERPEGCPEKVYELMRACWQWNPSDRPSFAEIHQAFETMFQESSISDEVEKELGKRGTRGGAGSMLQAPELPTKTRTCRRAAEQKASPPSLTPKLLRRQVTASPSSGLSHKKEATKGSASGMGTPATAEPAPPSNKVGLSKASSEEMRVRRHKHSSESPGRDKGRLAKLKPAPPPPPACTGKAGKPAQSPSQEAGEAGGPTKTKCTSLAMDAVNTDPTKAGPPGEGLRKPVPPSVPKPQSTAKPPGTPTSPVSTPSTAPAPSPLAGDQQPSSAAFIPLISTRVSLRKTRQPPERIASGTITKGVVLDSTEALCLAISRNSEQMASHSAVLEAGKNLYTFCVSYVDSIQQMRNKFAFREAINKLESNLRELQICPATASSGPAATQDFSKLLSSVKEISDIVRR\n",
      "\n",
      "\n",
      "Maximum length of Proteins sequences:  746\n"
     ]
    }
   ],
   "source": [
    "print(\"Maximum length proteins: \", max(set(data['Protein_A_sequence']).union(set(data['Protein_B_sequence']))))\n",
    "print('\\n' )\n",
    "print(\"Maximum length of Proteins sequences: \", len(max(set(data['Protein_A_sequence']).union(set(data['Protein_B_sequence'])))))"
   ]
  },
  {
   "cell_type": "markdown",
   "id": "4205d1ef",
   "metadata": {},
   "source": [
    "### 1.3 Creating pickle file for all unique proteins embedded vectors"
   ]
  },
  {
   "cell_type": "code",
   "execution_count": 2,
   "id": "df6e5295",
   "metadata": {},
   "outputs": [
    {
     "data": {
      "text/html": [
       "<div>\n",
       "<style scoped>\n",
       "    .dataframe tbody tr th:only-of-type {\n",
       "        vertical-align: middle;\n",
       "    }\n",
       "\n",
       "    .dataframe tbody tr th {\n",
       "        vertical-align: top;\n",
       "    }\n",
       "\n",
       "    .dataframe thead th {\n",
       "        text-align: right;\n",
       "    }\n",
       "</style>\n",
       "<table border=\"1\" class=\"dataframe\">\n",
       "  <thead>\n",
       "    <tr style=\"text-align: right;\">\n",
       "      <th></th>\n",
       "      <th>Protein A</th>\n",
       "      <th>Protein B</th>\n",
       "      <th>Protein_A_sequence</th>\n",
       "      <th>Protein_B_sequence</th>\n",
       "    </tr>\n",
       "  </thead>\n",
       "  <tbody>\n",
       "    <tr>\n",
       "      <th>0</th>\n",
       "      <td>P29991</td>\n",
       "      <td>O00571</td>\n",
       "      <td>MNDQRKEAKNTPFNMLKRERNRVSTVQQLTKRFSLGMLQGRGPLKL...</td>\n",
       "      <td>MSHVAVENALGLDQQFAGLDLNSSDNQSGGSTASKGRYIPPHLRNR...</td>\n",
       "    </tr>\n",
       "    <tr>\n",
       "      <th>1</th>\n",
       "      <td>P29991</td>\n",
       "      <td>O00584</td>\n",
       "      <td>MNDQRKEAKNTPFNMLKRERNRVSTVQQLTKRFSLGMLQGRGPLKL...</td>\n",
       "      <td>MRPAALRGALLGCLCLALLCLGGADKRLRDNHEWKKLIMVQHWPET...</td>\n",
       "    </tr>\n",
       "    <tr>\n",
       "      <th>2</th>\n",
       "      <td>Q99IB8</td>\n",
       "      <td>O00584</td>\n",
       "      <td>MSTNPKPQRKTKRNTNRRPEDVKFPGGGQIVGGVYLLPRRGPRLGV...</td>\n",
       "      <td>MRPAALRGALLGCLCLALLCLGGADKRLRDNHEWKKLIMVQHWPET...</td>\n",
       "    </tr>\n",
       "    <tr>\n",
       "      <th>3</th>\n",
       "      <td>P03070</td>\n",
       "      <td>O00629</td>\n",
       "      <td>MDKVLNREESLQLMDLLGLERSAWGNIPLMRKAYLKKCKEFHPDKG...</td>\n",
       "      <td>MADNEKLDNQRLKNFKNKGRDLETMRRQRNEVVVELRKNKRDEHLL...</td>\n",
       "    </tr>\n",
       "    <tr>\n",
       "      <th>4</th>\n",
       "      <td>P49116</td>\n",
       "      <td>P10221</td>\n",
       "      <td>MTSPSPRIQIISTDSAVASPQRIQIVTDQQTGQKIQIVTAVDASGS...</td>\n",
       "      <td>MADRGLPSEAPVVTTSPAGPPSDGPMQRLLASLAGLRQPPTPTAET...</td>\n",
       "    </tr>\n",
       "  </tbody>\n",
       "</table>\n",
       "</div>"
      ],
      "text/plain": [
       "  Protein A Protein B                                 Protein_A_sequence  \\\n",
       "0    P29991    O00571  MNDQRKEAKNTPFNMLKRERNRVSTVQQLTKRFSLGMLQGRGPLKL...   \n",
       "1    P29991    O00584  MNDQRKEAKNTPFNMLKRERNRVSTVQQLTKRFSLGMLQGRGPLKL...   \n",
       "2    Q99IB8    O00584  MSTNPKPQRKTKRNTNRRPEDVKFPGGGQIVGGVYLLPRRGPRLGV...   \n",
       "3    P03070    O00629  MDKVLNREESLQLMDLLGLERSAWGNIPLMRKAYLKKCKEFHPDKG...   \n",
       "4    P49116    P10221  MTSPSPRIQIISTDSAVASPQRIQIVTDQQTGQKIQIVTAVDASGS...   \n",
       "\n",
       "                                  Protein_B_sequence  \n",
       "0  MSHVAVENALGLDQQFAGLDLNSSDNQSGGSTASKGRYIPPHLRNR...  \n",
       "1  MRPAALRGALLGCLCLALLCLGGADKRLRDNHEWKKLIMVQHWPET...  \n",
       "2  MRPAALRGALLGCLCLALLCLGGADKRLRDNHEWKKLIMVQHWPET...  \n",
       "3  MADNEKLDNQRLKNFKNKGRDLETMRRQRNEVVVELRKNKRDEHLL...  \n",
       "4  MADRGLPSEAPVVTTSPAGPPSDGPMQRLLASLAGLRQPPTPTAET...  "
      ]
     },
     "execution_count": 2,
     "metadata": {},
     "output_type": "execute_result"
    }
   ],
   "source": [
    "data = pd.read_csv('../csv_files/Denovo_ppi_with_sequences.csv')\n",
    "data.head()"
   ]
  },
  {
   "cell_type": "code",
   "execution_count": 10,
   "id": "c5e91898",
   "metadata": {},
   "outputs": [
    {
     "name": "stderr",
     "output_type": "stream",
     "text": [
      "5718it [00:00, 18790.93it/s]\n"
     ]
    }
   ],
   "source": [
    "unique_proteins_with_sequence = {}\n",
    "for index,row in tqdm(data.iterrows()):\n",
    "    unique_proteins_with_sequence[row['Protein A']] = ' '.join(row['Protein_A_sequence'])\n",
    "    unique_proteins_with_sequence[row['Protein B']] = ' '.join(row['Protein_B_sequence'])"
   ]
  },
  {
   "cell_type": "code",
   "execution_count": 7,
   "id": "3767f1a5",
   "metadata": {},
   "outputs": [
    {
     "data": {
      "text/plain": [
       "2781"
      ]
     },
     "execution_count": 7,
     "metadata": {},
     "output_type": "execute_result"
    }
   ],
   "source": [
    "len(unique_proteins_with_sequence)"
   ]
  },
  {
   "cell_type": "code",
   "execution_count": 17,
   "id": "65d3789e",
   "metadata": {},
   "outputs": [],
   "source": [
    "from embedded_vectors_extract.extract_embedding_vectors import return_embedding_vectors_from_dict"
   ]
  },
  {
   "cell_type": "code",
   "execution_count": 19,
   "id": "4a61dcba",
   "metadata": {},
   "outputs": [],
   "source": [
    "prot_to_vec = return_embedding_vectors_from_dict(unique_proteins_with_sequence,\"prot_bert_bfd\")"
   ]
  },
  {
   "cell_type": "markdown",
   "id": "b4f0d8cd",
   "metadata": {},
   "source": [
    "### 1.4 Creating independent test set"
   ]
  },
  {
   "cell_type": "code",
   "execution_count": 82,
   "id": "f5dd8492",
   "metadata": {},
   "outputs": [
    {
     "data": {
      "text/html": [
       "<div>\n",
       "<style scoped>\n",
       "    .dataframe tbody tr th:only-of-type {\n",
       "        vertical-align: middle;\n",
       "    }\n",
       "\n",
       "    .dataframe tbody tr th {\n",
       "        vertical-align: top;\n",
       "    }\n",
       "\n",
       "    .dataframe thead th {\n",
       "        text-align: right;\n",
       "    }\n",
       "</style>\n",
       "<table border=\"1\" class=\"dataframe\">\n",
       "  <thead>\n",
       "    <tr style=\"text-align: right;\">\n",
       "      <th></th>\n",
       "      <th>Protein A</th>\n",
       "      <th>Protein B</th>\n",
       "      <th>Protein_A_sequence</th>\n",
       "      <th>Protein_B_sequence</th>\n",
       "    </tr>\n",
       "  </thead>\n",
       "  <tbody>\n",
       "    <tr>\n",
       "      <th>0</th>\n",
       "      <td>P29991</td>\n",
       "      <td>O00571</td>\n",
       "      <td>MNDQRKEAKNTPFNMLKRERNRVSTVQQLTKRFSLGMLQGRGPLKL...</td>\n",
       "      <td>MSHVAVENALGLDQQFAGLDLNSSDNQSGGSTASKGRYIPPHLRNR...</td>\n",
       "    </tr>\n",
       "    <tr>\n",
       "      <th>1</th>\n",
       "      <td>P29991</td>\n",
       "      <td>O00584</td>\n",
       "      <td>MNDQRKEAKNTPFNMLKRERNRVSTVQQLTKRFSLGMLQGRGPLKL...</td>\n",
       "      <td>MRPAALRGALLGCLCLALLCLGGADKRLRDNHEWKKLIMVQHWPET...</td>\n",
       "    </tr>\n",
       "    <tr>\n",
       "      <th>2</th>\n",
       "      <td>Q99IB8</td>\n",
       "      <td>O00584</td>\n",
       "      <td>MSTNPKPQRKTKRNTNRRPEDVKFPGGGQIVGGVYLLPRRGPRLGV...</td>\n",
       "      <td>MRPAALRGALLGCLCLALLCLGGADKRLRDNHEWKKLIMVQHWPET...</td>\n",
       "    </tr>\n",
       "    <tr>\n",
       "      <th>3</th>\n",
       "      <td>P03070</td>\n",
       "      <td>O00629</td>\n",
       "      <td>MDKVLNREESLQLMDLLGLERSAWGNIPLMRKAYLKKCKEFHPDKG...</td>\n",
       "      <td>MADNEKLDNQRLKNFKNKGRDLETMRRQRNEVVVELRKNKRDEHLL...</td>\n",
       "    </tr>\n",
       "    <tr>\n",
       "      <th>4</th>\n",
       "      <td>P49116</td>\n",
       "      <td>P10221</td>\n",
       "      <td>MTSPSPRIQIISTDSAVASPQRIQIVTDQQTGQKIQIVTAVDASGS...</td>\n",
       "      <td>MADRGLPSEAPVVTTSPAGPPSDGPMQRLLASLAGLRQPPTPTAET...</td>\n",
       "    </tr>\n",
       "    <tr>\n",
       "      <th>...</th>\n",
       "      <td>...</td>\n",
       "      <td>...</td>\n",
       "      <td>...</td>\n",
       "      <td>...</td>\n",
       "    </tr>\n",
       "    <tr>\n",
       "      <th>5713</th>\n",
       "      <td>Q93034</td>\n",
       "      <td>P69721</td>\n",
       "      <td>MATSNLLKNKGSLQFEDKWDFMRPIVLKLLRQESVTKQQWFDLFSD...</td>\n",
       "      <td>MENRWQVMIVWQVDRMRIRTWKSLVKHHMYVSGKARGWFYRHHYES...</td>\n",
       "    </tr>\n",
       "    <tr>\n",
       "      <th>5714</th>\n",
       "      <td>Q9HC16</td>\n",
       "      <td>P69721</td>\n",
       "      <td>MKPHFRNTVERMYRDTFSYNFYNRPILSRRNTVWLCYEVKTKGPSR...</td>\n",
       "      <td>MENRWQVMIVWQVDRMRIRTWKSLVKHHMYVSGKARGWFYRHHYES...</td>\n",
       "    </tr>\n",
       "    <tr>\n",
       "      <th>5715</th>\n",
       "      <td>Q9HC16</td>\n",
       "      <td>P69720</td>\n",
       "      <td>MKPHFRNTVERMYRDTFSYNFYNRPILSRRNTVWLCYEVKTKGPSR...</td>\n",
       "      <td>MENRWQVMIVWQVDRMRIRTWKSLVKHHMYVSGKARGWFYRHHYES...</td>\n",
       "    </tr>\n",
       "    <tr>\n",
       "      <th>5716</th>\n",
       "      <td>Q9HC16</td>\n",
       "      <td>P69722</td>\n",
       "      <td>MKPHFRNTVERMYRDTFSYNFYNRPILSRRNTVWLCYEVKTKGPSR...</td>\n",
       "      <td>MENRWQVMIVWQVDRMRIRTWKSLVKHHMYVSGKARGWFYRHHYES...</td>\n",
       "    </tr>\n",
       "    <tr>\n",
       "      <th>5717</th>\n",
       "      <td>Q9HC16</td>\n",
       "      <td>P69723</td>\n",
       "      <td>MKPHFRNTVERMYRDTFSYNFYNRPILSRRNTVWLCYEVKTKGPSR...</td>\n",
       "      <td>MENRWQVMIVWQVDRMRIRTWKSLVKHHMYVSGKARGWFYRHHYES...</td>\n",
       "    </tr>\n",
       "  </tbody>\n",
       "</table>\n",
       "<p>5718 rows × 4 columns</p>\n",
       "</div>"
      ],
      "text/plain": [
       "     Protein A Protein B                                 Protein_A_sequence  \\\n",
       "0       P29991    O00571  MNDQRKEAKNTPFNMLKRERNRVSTVQQLTKRFSLGMLQGRGPLKL...   \n",
       "1       P29991    O00584  MNDQRKEAKNTPFNMLKRERNRVSTVQQLTKRFSLGMLQGRGPLKL...   \n",
       "2       Q99IB8    O00584  MSTNPKPQRKTKRNTNRRPEDVKFPGGGQIVGGVYLLPRRGPRLGV...   \n",
       "3       P03070    O00629  MDKVLNREESLQLMDLLGLERSAWGNIPLMRKAYLKKCKEFHPDKG...   \n",
       "4       P49116    P10221  MTSPSPRIQIISTDSAVASPQRIQIVTDQQTGQKIQIVTAVDASGS...   \n",
       "...        ...       ...                                                ...   \n",
       "5713    Q93034    P69721  MATSNLLKNKGSLQFEDKWDFMRPIVLKLLRQESVTKQQWFDLFSD...   \n",
       "5714    Q9HC16    P69721  MKPHFRNTVERMYRDTFSYNFYNRPILSRRNTVWLCYEVKTKGPSR...   \n",
       "5715    Q9HC16    P69720  MKPHFRNTVERMYRDTFSYNFYNRPILSRRNTVWLCYEVKTKGPSR...   \n",
       "5716    Q9HC16    P69722  MKPHFRNTVERMYRDTFSYNFYNRPILSRRNTVWLCYEVKTKGPSR...   \n",
       "5717    Q9HC16    P69723  MKPHFRNTVERMYRDTFSYNFYNRPILSRRNTVWLCYEVKTKGPSR...   \n",
       "\n",
       "                                     Protein_B_sequence  \n",
       "0     MSHVAVENALGLDQQFAGLDLNSSDNQSGGSTASKGRYIPPHLRNR...  \n",
       "1     MRPAALRGALLGCLCLALLCLGGADKRLRDNHEWKKLIMVQHWPET...  \n",
       "2     MRPAALRGALLGCLCLALLCLGGADKRLRDNHEWKKLIMVQHWPET...  \n",
       "3     MADNEKLDNQRLKNFKNKGRDLETMRRQRNEVVVELRKNKRDEHLL...  \n",
       "4     MADRGLPSEAPVVTTSPAGPPSDGPMQRLLASLAGLRQPPTPTAET...  \n",
       "...                                                 ...  \n",
       "5713  MENRWQVMIVWQVDRMRIRTWKSLVKHHMYVSGKARGWFYRHHYES...  \n",
       "5714  MENRWQVMIVWQVDRMRIRTWKSLVKHHMYVSGKARGWFYRHHYES...  \n",
       "5715  MENRWQVMIVWQVDRMRIRTWKSLVKHHMYVSGKARGWFYRHHYES...  \n",
       "5716  MENRWQVMIVWQVDRMRIRTWKSLVKHHMYVSGKARGWFYRHHYES...  \n",
       "5717  MENRWQVMIVWQVDRMRIRTWKSLVKHHMYVSGKARGWFYRHHYES...  \n",
       "\n",
       "[5718 rows x 4 columns]"
      ]
     },
     "execution_count": 82,
     "metadata": {},
     "output_type": "execute_result"
    }
   ],
   "source": [
    "data = pd.read_csv('../csv_files/Denovo_ppi_with_sequences.csv')\n",
    "data"
   ]
  },
  {
   "cell_type": "code",
   "execution_count": 16,
   "id": "81bf11aa",
   "metadata": {},
   "outputs": [],
   "source": [
    "# data = data.sample(frac=1,random_state = 42).reset_index(drop=True)"
   ]
  },
  {
   "cell_type": "code",
   "execution_count": 19,
   "id": "d328816b",
   "metadata": {},
   "outputs": [],
   "source": [
    "# data = pd.read_csv('../csv_files/Denovo_ppi_with_sequences.csv')\n",
    "# data = data.iloc[0:50]\n",
    "\n",
    "\n",
    "# def check_hash_table(data):\n",
    "#     starting_point_data = data[0:1]\n",
    "#     data_left = data[1:]\n",
    "#     protein_unique_initial_train = set(starting_point_data['Protein A']).union(set(starting_point_data['Protein B']))\n",
    "    \n",
    "#     sum=0\n",
    "#     protein_unique_initial_test = set()\n",
    "#     for index,row in data_left.iterrows():\n",
    "        \n",
    "#         if row['Protein A'] in protein_unique_initial_train or row['Protein B'] in protein_unique_initial_train:\n",
    "            \n",
    "#             protein_unique_initial_train.add(row['Protein A'])\n",
    "#             protein_unique_initial_train.add(row['Protein B'])\n",
    "            \n",
    "#             if row['Protein B'] in protein_unique_initial_test:\n",
    "#                 protein_unique_initial_test.remove(row['Protein B'])\n",
    "#                 sum = sum + 1\n",
    "#             if row['Protein A'] in protein_unique_initial_test:\n",
    "#                 protein_unique_initial_test.remove(row['Protein A'])\n",
    "#                 sum = sum +1\n",
    "            \n",
    "#         else:\n",
    "            \n",
    "#             protein_unique_initial_test.add(row['Protein A'])\n",
    "#             protein_unique_initial_test.add(row['Protein B'])\n",
    "    \n",
    "#     return protein_unique_initial_train,protein_unique_initial_test  \n",
    "\n",
    "# protein_unique_initial_train = check_hash_table()\n",
    "\n"
   ]
  },
  {
   "cell_type": "code",
   "execution_count": 76,
   "id": "15aac18f",
   "metadata": {},
   "outputs": [],
   "source": [
    "#  li = []\n",
    "# for index,row in data.iterrows():\n",
    "   \n",
    "#     li.append([row['Protein A'],row['Protein B']])\n",
    "\n",
    "# li_test = []\n",
    "# for i in li:\n",
    "    \n",
    "#     if i not in li_train:\n",
    "#        li_test.append(i)"
   ]
  },
  {
   "cell_type": "code",
   "execution_count": 16,
   "id": "8a16585f",
   "metadata": {},
   "outputs": [],
   "source": [
    "# len(li_test) + len(li_train)\n",
    "# train_data = pd.DataFrame(li_train, columns =['Protein A', 'Protein B'])\n",
    "# test_data = pd.DataFrame(li_test, columns =['Protein A', 'Protein B'])\n",
    "        \n",
    "        "
   ]
  },
  {
   "cell_type": "code",
   "execution_count": 14,
   "id": "c251c43b",
   "metadata": {},
   "outputs": [],
   "source": [
    "# train_data_proteins = set(train_data['Protein A']).union(set(train_data['Protein B']))\n",
    "# test_data_proteins = set(test_data['Protein A']).union(set(test_data['Protein B']))\n",
    "# common_proteins = train_data_proteins.intersection(test_data_proteins)\n",
    "# print(\"Number of common proteins between test set and train set: \", len(common_proteins))"
   ]
  },
  {
   "cell_type": "code",
   "execution_count": 13,
   "id": "a015cfd3",
   "metadata": {},
   "outputs": [],
   "source": [
    "# def is_check(row):\n",
    "#     if row in un:\n",
    "#         return 1\n",
    "#     else:\n",
    "#         return 0\n",
    "    \n",
    "# data['is_train_1']= data['Protein A'].apply(is_check)\n",
    "# data['is_train_2']= data['Protein B'].apply(is_check)\n",
    "# data['is_train'] = data['is_train_1'] + data['is_train_2']\n",
    "# test = data[data.is_train == 0]\n",
    "# train = data[data.is_train != 0]\n",
    "# train"
   ]
  },
  {
   "cell_type": "code",
   "execution_count": 12,
   "id": "cfcf14be",
   "metadata": {},
   "outputs": [],
   "source": [
    "\n",
    "\n",
    "# def check_hash_table():\n",
    "#     starting_point_data = data[0:1]\n",
    "#     data_left = data[1:]\n",
    "#     li_1 = []\n",
    "#     li_2 = []\n",
    "    \n",
    "#     li_1.extend(starting_point_data['Protein A'].tolist())\n",
    "#     li_1.extend(starting_point_data['Protein B'].tolist())\n",
    "#     print(li_1)\n",
    "#     sum=0\n",
    "    \n",
    "#     for index,row in data_left.iterrows():\n",
    "#         sum = sum +1\n",
    "#         if str(row['Protein A']) in li_1 or str(row['Protein B']) in li_1:\n",
    "          \n",
    "#             li_2.append([str(row['Protein A']),str(row['Protein B'])])\n",
    "            \n",
    "#             li_1.append(str(row['Protein A']))\n",
    "#             li_1.append(str(row['Protein B']))\n",
    "           \n",
    "            \n",
    "            \n",
    "                \n",
    "  \n",
    "#     return li_2\n",
    "# protein_unique_initial_train = check_hash_table()\n",
    "# print(len(protein_unique_initial_train))\n"
   ]
  },
  {
   "cell_type": "code",
   "execution_count": 11,
   "id": "d312e448",
   "metadata": {},
   "outputs": [],
   "source": [
    "#  li = []\n",
    "# for index,row in data.iterrows():\n",
    "   \n",
    "#     li.append([row['Protein A'],row['Protein B']])\n",
    "\n",
    "# li_test = []\n",
    "# for i in li:\n",
    "    \n",
    "#     if i not in protein_unique_initial_train:\n",
    "#        li_test.append(i)"
   ]
  },
  {
   "cell_type": "code",
   "execution_count": 10,
   "id": "826209a7",
   "metadata": {},
   "outputs": [],
   "source": [
    "# len(li_test) + len(li_train)\n",
    "# train_data = pd.DataFrame(li_train, columns =['Protein A', 'Protein B'])\n",
    "# test_data = pd.DataFrame(li_test, columns =['Protein A', 'Protein B'])"
   ]
  },
  {
   "cell_type": "code",
   "execution_count": 9,
   "id": "98f88f5b",
   "metadata": {},
   "outputs": [],
   "source": [
    "# train_data_proteins = train_data['Protein A'].append(train_data['Protein B'])\n",
    "# test_data_proteins = test_data['Protein A'].append(test_data['Protein B'])\n",
    "# # test_data_proteins = set(test_data['Protein A']).union(set(test_data['Protein B']))\n",
    "# common_proteins = train_data_proteins.intersection(test_data_proteins)\n",
    "# print(\"Number of common proteins between test set and train set: \", len(common_proteins))"
   ]
  },
  {
   "cell_type": "code",
   "execution_count": 8,
   "id": "0a831f42",
   "metadata": {},
   "outputs": [],
   "source": [
    "# for i in train_data_proteins:\n",
    "#     if i in test_data_proteins:\n",
    "#         print(i)\n"
   ]
  },
  {
   "cell_type": "code",
   "execution_count": 7,
   "id": "178fb785",
   "metadata": {},
   "outputs": [],
   "source": [
    "# len(set(train_data_proteins))+len(set(test_data_proteins))"
   ]
  },
  {
   "cell_type": "code",
   "execution_count": 6,
   "id": "533effaa",
   "metadata": {
    "scrolled": true
   },
   "outputs": [],
   "source": [
    "# train_data = data[data.is_train == 1].reset_index(drop = True)\n",
    "# train_data\n",
    " "
   ]
  },
  {
   "cell_type": "code",
   "execution_count": 5,
   "id": "87d266c9",
   "metadata": {},
   "outputs": [],
   "source": [
    "# test_data = data[data.is_train == 0].reset_index(drop = True)\n",
    "# test_data"
   ]
  },
  {
   "cell_type": "code",
   "execution_count": 4,
   "id": "5c003e9b",
   "metadata": {},
   "outputs": [],
   "source": [
    "# ## checking the overlapping\n",
    "\n",
    "# train_data_proteins = set(train_data['Protein A']).union(set(train_data['Protein B']))\n",
    "# test_data_proteins = set(test_data['Protein A']).union(set(test_data['Protein B']))\n",
    "# common_proteins = train_data_proteins.intersection(test_data_proteins)\n",
    "# print(\"Number of common proteins between test set and train set: \", len(common_proteins))"
   ]
  },
  {
   "cell_type": "code",
   "execution_count": 3,
   "id": "e3fcd0f9",
   "metadata": {},
   "outputs": [],
   "source": [
    "# data['is_train'].value_counts()"
   ]
  },
  {
   "cell_type": "code",
   "execution_count": 1,
   "id": "83dd2653",
   "metadata": {},
   "outputs": [],
   "source": [
    "# sum = 0\n",
    "# li_3 = []\n",
    "# for index,row in train_data.iterrows():\n",
    "#     if row['Protein A'] in common_proteins or row['Protein B'] in common_proteins:\n",
    "# #          print(f\"{row['Protein A']}, {row['Protein B']}\")\n",
    "#             li_3.append(row['Protein A'])\n",
    "#             li_3.append(row['Protein B'])\n",
    "# li_3             "
   ]
  },
  {
   "cell_type": "code",
   "execution_count": 2,
   "id": "94da0bc8",
   "metadata": {},
   "outputs": [],
   "source": [
    "# li_4= []\n",
    "# for index,row in test_data.iterrows():\n",
    "#     if row['Protein A'] in common_proteins or row['Protein B'] in common_proteins:\n",
    "# #         print(f\"{row['Protein A']}, {row['Protein B']}\")\n",
    "#             li_4.append(row['Protein A'])\n",
    "#             li_4.append(row['Protein B'])\n",
    "# li_4"
   ]
  },
  {
   "cell_type": "code",
   "execution_count": 63,
   "id": "89668df1",
   "metadata": {},
   "outputs": [],
   "source": [
    "# test_data"
   ]
  },
  {
   "cell_type": "code",
   "execution_count": 312,
   "id": "b2b52e82",
   "metadata": {},
   "outputs": [],
   "source": [
    "# set(li_3).union(li_4)-set(li_3).intersection(li_4)"
   ]
  },
  {
   "cell_type": "code",
   "execution_count": null,
   "id": "a071bd67",
   "metadata": {},
   "outputs": [],
   "source": []
  },
  {
   "cell_type": "code",
   "execution_count": null,
   "id": "b4bbd714",
   "metadata": {},
   "outputs": [],
   "source": []
  }
 ],
 "metadata": {
  "kernelspec": {
   "display_name": "Python 3 (ipykernel)",
   "language": "python",
   "name": "python3"
  },
  "language_info": {
   "codemirror_mode": {
    "name": "ipython",
    "version": 3
   },
   "file_extension": ".py",
   "mimetype": "text/x-python",
   "name": "python",
   "nbconvert_exporter": "python",
   "pygments_lexer": "ipython3",
   "version": "3.9.12"
  }
 },
 "nbformat": 4,
 "nbformat_minor": 5
}
