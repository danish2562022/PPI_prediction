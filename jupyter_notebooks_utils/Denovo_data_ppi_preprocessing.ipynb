{
 "cells": [
  {
   "cell_type": "code",
   "execution_count": 182,
   "id": "620412c6",
   "metadata": {},
   "outputs": [],
   "source": [
    "import numpy as np\n",
    "import pandas as pd\n",
    "import Bio.SeqIO as SeqIO"
   ]
  },
  {
   "cell_type": "code",
   "execution_count": 183,
   "id": "5c1e89e0",
   "metadata": {},
   "outputs": [],
   "source": [
    "data = pd.read_excel(\"/home/anwer/Desktop/PPI_prediction/Dataset_ppi/Denovo/AS1.xlsx\")"
   ]
  },
  {
   "cell_type": "code",
   "execution_count": 184,
   "id": "eb4f56d5",
   "metadata": {},
   "outputs": [],
   "source": [
    "data = data[['Protein A','Protein B']]"
   ]
  },
  {
   "cell_type": "markdown",
   "id": "50db03f9",
   "metadata": {},
   "source": [
    "## 1. Data Preprocessing"
   ]
  },
  {
   "cell_type": "markdown",
   "id": "aad52f67",
   "metadata": {},
   "source": [
    "### 1.1 Protein name to sequence"
   ]
  },
  {
   "cell_type": "code",
   "execution_count": 185,
   "id": "35402f79",
   "metadata": {},
   "outputs": [
    {
     "name": "stderr",
     "output_type": "stream",
     "text": [
      "445it [00:00, 88111.47it/s]\n",
      "2340it [00:00, 93223.58it/s]\n"
     ]
    }
   ],
   "source": [
    "from tqdm import tqdm\n",
    "dct_1 = {}\n",
    "for rec in tqdm(SeqIO.parse(\"/home/anwer/Desktop/PPI_prediction/Dataset_ppi/Denovo/AS2.fasta\",\"fasta\")):\n",
    "    dct_1[rec.id.split(\"|\")[1]] = str(rec.seq)\n",
    "for rec in tqdm(SeqIO.parse(\"/home/anwer/Desktop/PPI_prediction/Dataset_ppi/Denovo/AS3.fasta\",\"fasta\")):\n",
    "    dct_1[rec.id.split(\"|\")[1]] = str(rec.seq)    "
   ]
  },
  {
   "cell_type": "code",
   "execution_count": 186,
   "id": "2c6d524f",
   "metadata": {},
   "outputs": [],
   "source": [
    "def convert_to_seq(seq_name):\n",
    "    try:\n",
    "        return dct_1[seq_name]\n",
    "    except:\n",
    "        return None"
   ]
  },
  {
   "cell_type": "code",
   "execution_count": 187,
   "id": "308fb1a8",
   "metadata": {},
   "outputs": [],
   "source": [
    "data[\"Protein_A_sequence\"] = data['Protein A'].apply(convert_to_seq)\n",
    "data[\"Protein_B_sequence\"] = data['Protein B'].apply(convert_to_seq)\n",
    "data.dropna(inplace = True)"
   ]
  },
  {
   "cell_type": "code",
   "execution_count": 188,
   "id": "67dc6159",
   "metadata": {},
   "outputs": [],
   "source": [
    "data = data.apply(lambda x: x.str.strip())\n",
    "data.to_csv(\"/home/anwer/Desktop/PPI_prediction/csv_files/Denovo_ppi_with_sequences.csv\",index = False)"
   ]
  },
  {
   "cell_type": "markdown",
   "id": "0ae306d6",
   "metadata": {},
   "source": [
    "### 1.2 Exploratory Data Analysis"
   ]
  },
  {
   "cell_type": "code",
   "execution_count": 263,
   "id": "aaf1de6e",
   "metadata": {},
   "outputs": [],
   "source": [
    "data = pd.read_csv('/home/anwer/Desktop/PPI_prediction/csv_files/Denovo_ppi_with_sequences.csv')"
   ]
  },
  {
   "cell_type": "code",
   "execution_count": 264,
   "id": "ba3113e7",
   "metadata": {},
   "outputs": [
    {
     "data": {
      "text/html": [
       "<div>\n",
       "<style scoped>\n",
       "    .dataframe tbody tr th:only-of-type {\n",
       "        vertical-align: middle;\n",
       "    }\n",
       "\n",
       "    .dataframe tbody tr th {\n",
       "        vertical-align: top;\n",
       "    }\n",
       "\n",
       "    .dataframe thead th {\n",
       "        text-align: right;\n",
       "    }\n",
       "</style>\n",
       "<table border=\"1\" class=\"dataframe\">\n",
       "  <thead>\n",
       "    <tr style=\"text-align: right;\">\n",
       "      <th></th>\n",
       "      <th>Protein A</th>\n",
       "      <th>Protein B</th>\n",
       "      <th>Protein_A_sequence</th>\n",
       "      <th>Protein_B_sequence</th>\n",
       "    </tr>\n",
       "  </thead>\n",
       "  <tbody>\n",
       "    <tr>\n",
       "      <th>0</th>\n",
       "      <td>P29991</td>\n",
       "      <td>O00571</td>\n",
       "      <td>MNDQRKEAKNTPFNMLKRERNRVSTVQQLTKRFSLGMLQGRGPLKL...</td>\n",
       "      <td>MSHVAVENALGLDQQFAGLDLNSSDNQSGGSTASKGRYIPPHLRNR...</td>\n",
       "    </tr>\n",
       "    <tr>\n",
       "      <th>1</th>\n",
       "      <td>P29991</td>\n",
       "      <td>O00584</td>\n",
       "      <td>MNDQRKEAKNTPFNMLKRERNRVSTVQQLTKRFSLGMLQGRGPLKL...</td>\n",
       "      <td>MRPAALRGALLGCLCLALLCLGGADKRLRDNHEWKKLIMVQHWPET...</td>\n",
       "    </tr>\n",
       "    <tr>\n",
       "      <th>2</th>\n",
       "      <td>Q99IB8</td>\n",
       "      <td>O00584</td>\n",
       "      <td>MSTNPKPQRKTKRNTNRRPEDVKFPGGGQIVGGVYLLPRRGPRLGV...</td>\n",
       "      <td>MRPAALRGALLGCLCLALLCLGGADKRLRDNHEWKKLIMVQHWPET...</td>\n",
       "    </tr>\n",
       "    <tr>\n",
       "      <th>3</th>\n",
       "      <td>P03070</td>\n",
       "      <td>O00629</td>\n",
       "      <td>MDKVLNREESLQLMDLLGLERSAWGNIPLMRKAYLKKCKEFHPDKG...</td>\n",
       "      <td>MADNEKLDNQRLKNFKNKGRDLETMRRQRNEVVVELRKNKRDEHLL...</td>\n",
       "    </tr>\n",
       "    <tr>\n",
       "      <th>4</th>\n",
       "      <td>P49116</td>\n",
       "      <td>P10221</td>\n",
       "      <td>MTSPSPRIQIISTDSAVASPQRIQIVTDQQTGQKIQIVTAVDASGS...</td>\n",
       "      <td>MADRGLPSEAPVVTTSPAGPPSDGPMQRLLASLAGLRQPPTPTAET...</td>\n",
       "    </tr>\n",
       "  </tbody>\n",
       "</table>\n",
       "</div>"
      ],
      "text/plain": [
       "  Protein A Protein B                                 Protein_A_sequence  \\\n",
       "0    P29991    O00571  MNDQRKEAKNTPFNMLKRERNRVSTVQQLTKRFSLGMLQGRGPLKL...   \n",
       "1    P29991    O00584  MNDQRKEAKNTPFNMLKRERNRVSTVQQLTKRFSLGMLQGRGPLKL...   \n",
       "2    Q99IB8    O00584  MSTNPKPQRKTKRNTNRRPEDVKFPGGGQIVGGVYLLPRRGPRLGV...   \n",
       "3    P03070    O00629  MDKVLNREESLQLMDLLGLERSAWGNIPLMRKAYLKKCKEFHPDKG...   \n",
       "4    P49116    P10221  MTSPSPRIQIISTDSAVASPQRIQIVTDQQTGQKIQIVTAVDASGS...   \n",
       "\n",
       "                                  Protein_B_sequence  \n",
       "0  MSHVAVENALGLDQQFAGLDLNSSDNQSGGSTASKGRYIPPHLRNR...  \n",
       "1  MRPAALRGALLGCLCLALLCLGGADKRLRDNHEWKKLIMVQHWPET...  \n",
       "2  MRPAALRGALLGCLCLALLCLGGADKRLRDNHEWKKLIMVQHWPET...  \n",
       "3  MADNEKLDNQRLKNFKNKGRDLETMRRQRNEVVVELRKNKRDEHLL...  \n",
       "4  MADRGLPSEAPVVTTSPAGPPSDGPMQRLLASLAGLRQPPTPTAET...  "
      ]
     },
     "execution_count": 264,
     "metadata": {},
     "output_type": "execute_result"
    }
   ],
   "source": [
    "data.head()"
   ]
  },
  {
   "cell_type": "code",
   "execution_count": 265,
   "id": "efbc693c",
   "metadata": {},
   "outputs": [],
   "source": [
    "data = data.apply(lambda x: x.str.strip())"
   ]
  },
  {
   "cell_type": "code",
   "execution_count": 266,
   "id": "a13fcf36",
   "metadata": {},
   "outputs": [
    {
     "name": "stdout",
     "output_type": "stream",
     "text": [
      "Number of positive pairs:  5718\n"
     ]
    }
   ],
   "source": [
    "print(\"Number of positive pairs: \", len(data) )"
   ]
  },
  {
   "cell_type": "code",
   "execution_count": 267,
   "id": "58a0f792",
   "metadata": {},
   "outputs": [
    {
     "name": "stdout",
     "output_type": "stream",
     "text": [
      "Number of unique Proteins:  2781\n"
     ]
    }
   ],
   "source": [
    "print(\"Number of unique Proteins: \", len(set(data['Protein A']).union(set(data['Protein B']))) )"
   ]
  },
  {
   "cell_type": "code",
   "execution_count": 268,
   "id": "d16cdea9",
   "metadata": {},
   "outputs": [
    {
     "name": "stdout",
     "output_type": "stream",
     "text": [
      "Maximum length proteins:  YITPVNSLEKHSWYHGPVSRNAAEYLLSSGINGSFLVRESESSPGQRSISLRYEGRVYHYRINTASDGKLYVSSESRFNTLAELVHHHSTVADGLITTLHYPAPKRNKPTIYGVSPNYDKWEMERTDITMKHKLGGGQYGEVYEGVWKKYSLTVAVKTLKEDTMEVEEFLKEAAVMKEIKHPNLVQLLGVCTREPPFYIITEFMTYGNLLDYLRECNRQEVSAVVLLYMATQISSAMEYLEKKNFIHRDLAARNCLVGENHLVKVADFGLSRLMTGDTYTAHAGAKFPIKWTAPESLAYNKFSIKSDVWAFGVLLWEIATYGMSPYPGIDLSQVYELLEKDYRMERPEGCPEKVYELMRACWQWNPSDRPSFAEIHQAFETMFQESSISDEVEKELGKRGTRGGAGSMLQAPELPTKTRTCRRAAEQKASPPSLTPKLLRRQVTASPSSGLSHKKEATKGSASGMGTPATAEPAPPSNKVGLSKASSEEMRVRRHKHSSESPGRDKGRLAKLKPAPPPPPACTGKAGKPAQSPSQEAGEAGGPTKTKCTSLAMDAVNTDPTKAGPPGEGLRKPVPPSVPKPQSTAKPPGTPTSPVSTPSTAPAPSPLAGDQQPSSAAFIPLISTRVSLRKTRQPPERIASGTITKGVVLDSTEALCLAISRNSEQMASHSAVLEAGKNLYTFCVSYVDSIQQMRNKFAFREAINKLESNLRELQICPATASSGPAATQDFSKLLSSVKEISDIVRR\n",
      "\n",
      "\n",
      "Maximum length of Proteins sequences:  746\n"
     ]
    }
   ],
   "source": [
    "print(\"Maximum length proteins: \", max(set(data['Protein_A_sequence']).union(set(data['Protein_B_sequence']))))\n",
    "print('\\n' )\n",
    "print(\"Maximum length of Proteins sequences: \", len(max(set(data['Protein_A_sequence']).union(set(data['Protein_B_sequence'])))))"
   ]
  },
  {
   "cell_type": "markdown",
   "id": "b4f0d8cd",
   "metadata": {},
   "source": [
    "### 1.3 Creating independent test set"
   ]
  },
  {
   "cell_type": "code",
   "execution_count": 269,
   "id": "f5dd8492",
   "metadata": {},
   "outputs": [
    {
     "data": {
      "text/html": [
       "<div>\n",
       "<style scoped>\n",
       "    .dataframe tbody tr th:only-of-type {\n",
       "        vertical-align: middle;\n",
       "    }\n",
       "\n",
       "    .dataframe tbody tr th {\n",
       "        vertical-align: top;\n",
       "    }\n",
       "\n",
       "    .dataframe thead th {\n",
       "        text-align: right;\n",
       "    }\n",
       "</style>\n",
       "<table border=\"1\" class=\"dataframe\">\n",
       "  <thead>\n",
       "    <tr style=\"text-align: right;\">\n",
       "      <th></th>\n",
       "      <th>Protein A</th>\n",
       "      <th>Protein B</th>\n",
       "      <th>Protein_A_sequence</th>\n",
       "      <th>Protein_B_sequence</th>\n",
       "    </tr>\n",
       "  </thead>\n",
       "  <tbody>\n",
       "    <tr>\n",
       "      <th>0</th>\n",
       "      <td>P29991</td>\n",
       "      <td>O00571</td>\n",
       "      <td>MNDQRKEAKNTPFNMLKRERNRVSTVQQLTKRFSLGMLQGRGPLKL...</td>\n",
       "      <td>MSHVAVENALGLDQQFAGLDLNSSDNQSGGSTASKGRYIPPHLRNR...</td>\n",
       "    </tr>\n",
       "    <tr>\n",
       "      <th>1</th>\n",
       "      <td>P29991</td>\n",
       "      <td>O00584</td>\n",
       "      <td>MNDQRKEAKNTPFNMLKRERNRVSTVQQLTKRFSLGMLQGRGPLKL...</td>\n",
       "      <td>MRPAALRGALLGCLCLALLCLGGADKRLRDNHEWKKLIMVQHWPET...</td>\n",
       "    </tr>\n",
       "    <tr>\n",
       "      <th>2</th>\n",
       "      <td>Q99IB8</td>\n",
       "      <td>O00584</td>\n",
       "      <td>MSTNPKPQRKTKRNTNRRPEDVKFPGGGQIVGGVYLLPRRGPRLGV...</td>\n",
       "      <td>MRPAALRGALLGCLCLALLCLGGADKRLRDNHEWKKLIMVQHWPET...</td>\n",
       "    </tr>\n",
       "    <tr>\n",
       "      <th>3</th>\n",
       "      <td>P03070</td>\n",
       "      <td>O00629</td>\n",
       "      <td>MDKVLNREESLQLMDLLGLERSAWGNIPLMRKAYLKKCKEFHPDKG...</td>\n",
       "      <td>MADNEKLDNQRLKNFKNKGRDLETMRRQRNEVVVELRKNKRDEHLL...</td>\n",
       "    </tr>\n",
       "    <tr>\n",
       "      <th>4</th>\n",
       "      <td>P49116</td>\n",
       "      <td>P10221</td>\n",
       "      <td>MTSPSPRIQIISTDSAVASPQRIQIVTDQQTGQKIQIVTAVDASGS...</td>\n",
       "      <td>MADRGLPSEAPVVTTSPAGPPSDGPMQRLLASLAGLRQPPTPTAET...</td>\n",
       "    </tr>\n",
       "    <tr>\n",
       "      <th>...</th>\n",
       "      <td>...</td>\n",
       "      <td>...</td>\n",
       "      <td>...</td>\n",
       "      <td>...</td>\n",
       "    </tr>\n",
       "    <tr>\n",
       "      <th>5713</th>\n",
       "      <td>Q93034</td>\n",
       "      <td>P69721</td>\n",
       "      <td>MATSNLLKNKGSLQFEDKWDFMRPIVLKLLRQESVTKQQWFDLFSD...</td>\n",
       "      <td>MENRWQVMIVWQVDRMRIRTWKSLVKHHMYVSGKARGWFYRHHYES...</td>\n",
       "    </tr>\n",
       "    <tr>\n",
       "      <th>5714</th>\n",
       "      <td>Q9HC16</td>\n",
       "      <td>P69721</td>\n",
       "      <td>MKPHFRNTVERMYRDTFSYNFYNRPILSRRNTVWLCYEVKTKGPSR...</td>\n",
       "      <td>MENRWQVMIVWQVDRMRIRTWKSLVKHHMYVSGKARGWFYRHHYES...</td>\n",
       "    </tr>\n",
       "    <tr>\n",
       "      <th>5715</th>\n",
       "      <td>Q9HC16</td>\n",
       "      <td>P69720</td>\n",
       "      <td>MKPHFRNTVERMYRDTFSYNFYNRPILSRRNTVWLCYEVKTKGPSR...</td>\n",
       "      <td>MENRWQVMIVWQVDRMRIRTWKSLVKHHMYVSGKARGWFYRHHYES...</td>\n",
       "    </tr>\n",
       "    <tr>\n",
       "      <th>5716</th>\n",
       "      <td>Q9HC16</td>\n",
       "      <td>P69722</td>\n",
       "      <td>MKPHFRNTVERMYRDTFSYNFYNRPILSRRNTVWLCYEVKTKGPSR...</td>\n",
       "      <td>MENRWQVMIVWQVDRMRIRTWKSLVKHHMYVSGKARGWFYRHHYES...</td>\n",
       "    </tr>\n",
       "    <tr>\n",
       "      <th>5717</th>\n",
       "      <td>Q9HC16</td>\n",
       "      <td>P69723</td>\n",
       "      <td>MKPHFRNTVERMYRDTFSYNFYNRPILSRRNTVWLCYEVKTKGPSR...</td>\n",
       "      <td>MENRWQVMIVWQVDRMRIRTWKSLVKHHMYVSGKARGWFYRHHYES...</td>\n",
       "    </tr>\n",
       "  </tbody>\n",
       "</table>\n",
       "<p>5718 rows × 4 columns</p>\n",
       "</div>"
      ],
      "text/plain": [
       "     Protein A Protein B                                 Protein_A_sequence  \\\n",
       "0       P29991    O00571  MNDQRKEAKNTPFNMLKRERNRVSTVQQLTKRFSLGMLQGRGPLKL...   \n",
       "1       P29991    O00584  MNDQRKEAKNTPFNMLKRERNRVSTVQQLTKRFSLGMLQGRGPLKL...   \n",
       "2       Q99IB8    O00584  MSTNPKPQRKTKRNTNRRPEDVKFPGGGQIVGGVYLLPRRGPRLGV...   \n",
       "3       P03070    O00629  MDKVLNREESLQLMDLLGLERSAWGNIPLMRKAYLKKCKEFHPDKG...   \n",
       "4       P49116    P10221  MTSPSPRIQIISTDSAVASPQRIQIVTDQQTGQKIQIVTAVDASGS...   \n",
       "...        ...       ...                                                ...   \n",
       "5713    Q93034    P69721  MATSNLLKNKGSLQFEDKWDFMRPIVLKLLRQESVTKQQWFDLFSD...   \n",
       "5714    Q9HC16    P69721  MKPHFRNTVERMYRDTFSYNFYNRPILSRRNTVWLCYEVKTKGPSR...   \n",
       "5715    Q9HC16    P69720  MKPHFRNTVERMYRDTFSYNFYNRPILSRRNTVWLCYEVKTKGPSR...   \n",
       "5716    Q9HC16    P69722  MKPHFRNTVERMYRDTFSYNFYNRPILSRRNTVWLCYEVKTKGPSR...   \n",
       "5717    Q9HC16    P69723  MKPHFRNTVERMYRDTFSYNFYNRPILSRRNTVWLCYEVKTKGPSR...   \n",
       "\n",
       "                                     Protein_B_sequence  \n",
       "0     MSHVAVENALGLDQQFAGLDLNSSDNQSGGSTASKGRYIPPHLRNR...  \n",
       "1     MRPAALRGALLGCLCLALLCLGGADKRLRDNHEWKKLIMVQHWPET...  \n",
       "2     MRPAALRGALLGCLCLALLCLGGADKRLRDNHEWKKLIMVQHWPET...  \n",
       "3     MADNEKLDNQRLKNFKNKGRDLETMRRQRNEVVVELRKNKRDEHLL...  \n",
       "4     MADRGLPSEAPVVTTSPAGPPSDGPMQRLLASLAGLRQPPTPTAET...  \n",
       "...                                                 ...  \n",
       "5713  MENRWQVMIVWQVDRMRIRTWKSLVKHHMYVSGKARGWFYRHHYES...  \n",
       "5714  MENRWQVMIVWQVDRMRIRTWKSLVKHHMYVSGKARGWFYRHHYES...  \n",
       "5715  MENRWQVMIVWQVDRMRIRTWKSLVKHHMYVSGKARGWFYRHHYES...  \n",
       "5716  MENRWQVMIVWQVDRMRIRTWKSLVKHHMYVSGKARGWFYRHHYES...  \n",
       "5717  MENRWQVMIVWQVDRMRIRTWKSLVKHHMYVSGKARGWFYRHHYES...  \n",
       "\n",
       "[5718 rows x 4 columns]"
      ]
     },
     "execution_count": 269,
     "metadata": {},
     "output_type": "execute_result"
    }
   ],
   "source": [
    "data"
   ]
  },
  {
   "cell_type": "code",
   "execution_count": 270,
   "id": "81bf11aa",
   "metadata": {},
   "outputs": [],
   "source": [
    "data = data.sample(frac=1,random_state = 42).reset_index(drop=True)"
   ]
  },
  {
   "cell_type": "code",
   "execution_count": 361,
   "id": "72ddcda4",
   "metadata": {},
   "outputs": [
    {
     "data": {
      "text/plain": [
       "571.8000000000001"
      ]
     },
     "execution_count": 361,
     "metadata": {},
     "output_type": "execute_result"
    }
   ],
   "source": [
    "hash_table_train_proteins = {}\n",
    "hash_table_test_proteins = {}\n",
    "percent_10 = len(data)*0.1\n",
    "percent_10"
   ]
  },
  {
   "cell_type": "code",
   "execution_count": 586,
   "id": "d328816b",
   "metadata": {},
   "outputs": [],
   "source": [
    "starting_point_data = data[0:100]\n",
    "data_left = data[100:]\n",
    "\n",
    "def check_hash_table(train_data):\n",
    "    protein_unique_initial_train = set(starting_point_data['Protein A']).union(set(starting_point_data['Protein B']))\n",
    "    sum=0\n",
    "    protein_unique_initial_test = set()\n",
    "    for index,row in train_data.iterrows():\n",
    "        if row['Protein A'] in protein_unique_initial_train or row['Protein B'] in protein_unique_initial_train:\n",
    "            \n",
    "            protein_unique_initial_train.add(row['Protein A'])\n",
    "            protein_unique_initial_train.add(row['Protein B'])\n",
    "            \n",
    "            if row['Protein B'] in protein_unique_initial_test:\n",
    "                protein_unique_initial_test.remove(row['Protein B'])\n",
    "                sum = sum + 1\n",
    "            elif row['Protein A'] in protein_unique_initial_test:\n",
    "                protein_unique_initial_test.remove(row['Protein A'])\n",
    "                sum = sum +1\n",
    "            \n",
    "        else:\n",
    "            \n",
    "            protein_unique_initial_test.add(row['Protein A'])\n",
    "            protein_unique_initial_test.add(row['Protein B'])\n",
    "    print(sum)\n",
    "    return protein_unique_initial_train,protein_unique_initial_test            "
   ]
  },
  {
   "cell_type": "code",
   "execution_count": 587,
   "id": "d312e448",
   "metadata": {},
   "outputs": [
    {
     "name": "stdout",
     "output_type": "stream",
     "text": [
      "298\n"
     ]
    }
   ],
   "source": [
    "protein_unique_initial_train,protein_unique_initial_test = check_hash_table(data_left)"
   ]
  },
  {
   "cell_type": "code",
   "execution_count": 588,
   "id": "0a831f42",
   "metadata": {},
   "outputs": [
    {
     "data": {
      "text/plain": [
       "set()"
      ]
     },
     "execution_count": 588,
     "metadata": {},
     "output_type": "execute_result"
    }
   ],
   "source": [
    "protein_unique_initial_test.intersection(protein_unique_initial_train)"
   ]
  },
  {
   "cell_type": "code",
   "execution_count": 589,
   "id": "178fb785",
   "metadata": {},
   "outputs": [
    {
     "data": {
      "text/plain": [
       "272"
      ]
     },
     "execution_count": 589,
     "metadata": {},
     "output_type": "execute_result"
    }
   ],
   "source": [
    "len(protein_unique_initial_test)"
   ]
  },
  {
   "cell_type": "code",
   "execution_count": 598,
   "id": "7e7315fb",
   "metadata": {},
   "outputs": [
    {
     "data": {
      "text/plain": [
       "2781"
      ]
     },
     "execution_count": 598,
     "metadata": {},
     "output_type": "execute_result"
    }
   ],
   "source": [
    "len(protein_unique_initial_train.union(protein_unique_initial_test))"
   ]
  },
  {
   "cell_type": "code",
   "execution_count": 591,
   "id": "533effaa",
   "metadata": {},
   "outputs": [],
   "source": [
    "li = []\n",
    "for index,row in data.iterrows():\n",
    "    if row['Protein A'] in protein_unique_initial_train or row['Protein B'] in protein_unique_initial_train:\n",
    "        li.append(1)\n",
    "    else:\n",
    "        li.append(0)\n",
    "        \n",
    " "
   ]
  },
  {
   "cell_type": "code",
   "execution_count": 592,
   "id": "4b6457b0",
   "metadata": {},
   "outputs": [
    {
     "ename": "TypeError",
     "evalue": "'int' object is not callable",
     "output_type": "error",
     "traceback": [
      "\u001b[0;31m---------------------------------------------------------------------------\u001b[0m",
      "\u001b[0;31mTypeError\u001b[0m                                 Traceback (most recent call last)",
      "Input \u001b[0;32mIn [592]\u001b[0m, in \u001b[0;36m<cell line: 1>\u001b[0;34m()\u001b[0m\n\u001b[0;32m----> 1\u001b[0m \u001b[38;5;28;43msum\u001b[39;49m\u001b[43m(\u001b[49m\u001b[43mli\u001b[49m\u001b[43m)\u001b[49m\n",
      "\u001b[0;31mTypeError\u001b[0m: 'int' object is not callable"
     ]
    }
   ],
   "source": [
    "sum(li)"
   ]
  },
  {
   "cell_type": "code",
   "execution_count": 593,
   "id": "d403f24e",
   "metadata": {},
   "outputs": [],
   "source": [
    "data[\"is_train\"] = li"
   ]
  },
  {
   "cell_type": "code",
   "execution_count": 594,
   "id": "e7b3d5b7",
   "metadata": {},
   "outputs": [
    {
     "data": {
      "text/html": [
       "<div>\n",
       "<style scoped>\n",
       "    .dataframe tbody tr th:only-of-type {\n",
       "        vertical-align: middle;\n",
       "    }\n",
       "\n",
       "    .dataframe tbody tr th {\n",
       "        vertical-align: top;\n",
       "    }\n",
       "\n",
       "    .dataframe thead th {\n",
       "        text-align: right;\n",
       "    }\n",
       "</style>\n",
       "<table border=\"1\" class=\"dataframe\">\n",
       "  <thead>\n",
       "    <tr style=\"text-align: right;\">\n",
       "      <th></th>\n",
       "      <th>Protein A</th>\n",
       "      <th>Protein B</th>\n",
       "      <th>Protein_A_sequence</th>\n",
       "      <th>Protein_B_sequence</th>\n",
       "      <th>is_train</th>\n",
       "    </tr>\n",
       "  </thead>\n",
       "  <tbody>\n",
       "    <tr>\n",
       "      <th>0</th>\n",
       "      <td>P30484</td>\n",
       "      <td>P04578</td>\n",
       "      <td>MRVTAPRTVLLLLSGALALTETWAGSHSMRYFYTAMSRPGRGEPRF...</td>\n",
       "      <td>MRVKEKYQHLWRWGWRWGTMLLGMLMICSATEKLWVTVYYGVPVWK...</td>\n",
       "      <td>1</td>\n",
       "    </tr>\n",
       "    <tr>\n",
       "      <th>1</th>\n",
       "      <td>Q99IB8</td>\n",
       "      <td>Q969X0</td>\n",
       "      <td>MSTNPKPQRKTKRNTNRRPEDVKFPGGGQIVGGVYLLPRRGPRLGV...</td>\n",
       "      <td>MEEPPVREEEEEEGEEDEERDEVGPEGALGKSPFQLTAEDVYDISY...</td>\n",
       "      <td>1</td>\n",
       "    </tr>\n",
       "    <tr>\n",
       "      <th>2</th>\n",
       "      <td>Q96BM9</td>\n",
       "      <td>Q77M19</td>\n",
       "      <td>MIALFNKLLDWFKALFWKEEMELTLVGLQYSGKTTFVNVIASGQFN...</td>\n",
       "      <td>MAEEQARHVKNGLECIRALKAEPIGSLAIEEAMAAWSEISDNPGQE...</td>\n",
       "      <td>1</td>\n",
       "    </tr>\n",
       "    <tr>\n",
       "      <th>3</th>\n",
       "      <td>Q9WNA9</td>\n",
       "      <td>P16333</td>\n",
       "      <td>MNYKKYLWGTWFAALITCCGCLSIMFCLLTINLQNTIFLLSNISVY...</td>\n",
       "      <td>MAEEVVVVAKFDYVAQQEQELDIKKNERLWLLDDSKSWWRVRNSMN...</td>\n",
       "      <td>1</td>\n",
       "    </tr>\n",
       "    <tr>\n",
       "      <th>4</th>\n",
       "      <td>Q9Y6C2</td>\n",
       "      <td>P29991</td>\n",
       "      <td>MAPRTLWSCYLCCLLTAAAGAASYPPRGFSLYTGSSGALSPGGPQA...</td>\n",
       "      <td>MNDQRKEAKNTPFNMLKRERNRVSTVQQLTKRFSLGMLQGRGPLKL...</td>\n",
       "      <td>1</td>\n",
       "    </tr>\n",
       "    <tr>\n",
       "      <th>...</th>\n",
       "      <td>...</td>\n",
       "      <td>...</td>\n",
       "      <td>...</td>\n",
       "      <td>...</td>\n",
       "      <td>...</td>\n",
       "    </tr>\n",
       "    <tr>\n",
       "      <th>5608</th>\n",
       "      <td>Q96QZ7</td>\n",
       "      <td>P06931</td>\n",
       "      <td>MSKVIQKKNHWTSRVHECTVKRGPQGELGVTVLGGAEHGEFPYVGA...</td>\n",
       "      <td>MDLKPFARTNPFSGLDCLWCREPLTEVDAFRCMVKDFHVVIREGCR...</td>\n",
       "      <td>1</td>\n",
       "    </tr>\n",
       "    <tr>\n",
       "      <th>5609</th>\n",
       "      <td>Q9Y2S7</td>\n",
       "      <td>Q77M19</td>\n",
       "      <td>MAACTARRALAVGSRWWSRSLTGARWPRPLCAAAGAGAFSPASTTT...</td>\n",
       "      <td>MAEEQARHVKNGLECIRALKAEPIGSLAIEEAMAAWSEISDNPGQE...</td>\n",
       "      <td>1</td>\n",
       "    </tr>\n",
       "    <tr>\n",
       "      <th>5610</th>\n",
       "      <td>P20639</td>\n",
       "      <td>P19525</td>\n",
       "      <td>MLAFCYSLPNAGDVIKGRVYEKDYALYIYLFDYPHSEAILAESVKM...</td>\n",
       "      <td>MAGDLSAGFFMEELNTYRQKQGVVLKYQELPNSGPPHDRRFTFQVI...</td>\n",
       "      <td>1</td>\n",
       "    </tr>\n",
       "    <tr>\n",
       "      <th>5611</th>\n",
       "      <td>P04601</td>\n",
       "      <td>O43169</td>\n",
       "      <td>MGGKWSKSSVIGWPTVRERMRRAEPAADRVGAASRDLEKHGAITSS...</td>\n",
       "      <td>MATAEASGSDGKGQEVETSVTYYRLEEVAKRNSLKELWLVIHGRVY...</td>\n",
       "      <td>1</td>\n",
       "    </tr>\n",
       "    <tr>\n",
       "      <th>5612</th>\n",
       "      <td>P62829</td>\n",
       "      <td>D1LN35</td>\n",
       "      <td>MSKRGRGGSSGAKFRISLGLPVGAVINCADNTGAKNLYIISVKGIK...</td>\n",
       "      <td>MNSNTVSSFQVDCFLWHVRKRFADQELGDAPFLDRLRRDQKSLRGR...</td>\n",
       "      <td>1</td>\n",
       "    </tr>\n",
       "  </tbody>\n",
       "</table>\n",
       "<p>5613 rows × 5 columns</p>\n",
       "</div>"
      ],
      "text/plain": [
       "     Protein A Protein B                                 Protein_A_sequence  \\\n",
       "0       P30484    P04578  MRVTAPRTVLLLLSGALALTETWAGSHSMRYFYTAMSRPGRGEPRF...   \n",
       "1       Q99IB8    Q969X0  MSTNPKPQRKTKRNTNRRPEDVKFPGGGQIVGGVYLLPRRGPRLGV...   \n",
       "2       Q96BM9    Q77M19  MIALFNKLLDWFKALFWKEEMELTLVGLQYSGKTTFVNVIASGQFN...   \n",
       "3       Q9WNA9    P16333  MNYKKYLWGTWFAALITCCGCLSIMFCLLTINLQNTIFLLSNISVY...   \n",
       "4       Q9Y6C2    P29991  MAPRTLWSCYLCCLLTAAAGAASYPPRGFSLYTGSSGALSPGGPQA...   \n",
       "...        ...       ...                                                ...   \n",
       "5608    Q96QZ7    P06931  MSKVIQKKNHWTSRVHECTVKRGPQGELGVTVLGGAEHGEFPYVGA...   \n",
       "5609    Q9Y2S7    Q77M19  MAACTARRALAVGSRWWSRSLTGARWPRPLCAAAGAGAFSPASTTT...   \n",
       "5610    P20639    P19525  MLAFCYSLPNAGDVIKGRVYEKDYALYIYLFDYPHSEAILAESVKM...   \n",
       "5611    P04601    O43169  MGGKWSKSSVIGWPTVRERMRRAEPAADRVGAASRDLEKHGAITSS...   \n",
       "5612    P62829    D1LN35  MSKRGRGGSSGAKFRISLGLPVGAVINCADNTGAKNLYIISVKGIK...   \n",
       "\n",
       "                                     Protein_B_sequence  is_train  \n",
       "0     MRVKEKYQHLWRWGWRWGTMLLGMLMICSATEKLWVTVYYGVPVWK...         1  \n",
       "1     MEEPPVREEEEEEGEEDEERDEVGPEGALGKSPFQLTAEDVYDISY...         1  \n",
       "2     MAEEQARHVKNGLECIRALKAEPIGSLAIEEAMAAWSEISDNPGQE...         1  \n",
       "3     MAEEVVVVAKFDYVAQQEQELDIKKNERLWLLDDSKSWWRVRNSMN...         1  \n",
       "4     MNDQRKEAKNTPFNMLKRERNRVSTVQQLTKRFSLGMLQGRGPLKL...         1  \n",
       "...                                                 ...       ...  \n",
       "5608  MDLKPFARTNPFSGLDCLWCREPLTEVDAFRCMVKDFHVVIREGCR...         1  \n",
       "5609  MAEEQARHVKNGLECIRALKAEPIGSLAIEEAMAAWSEISDNPGQE...         1  \n",
       "5610  MAGDLSAGFFMEELNTYRQKQGVVLKYQELPNSGPPHDRRFTFQVI...         1  \n",
       "5611  MATAEASGSDGKGQEVETSVTYYRLEEVAKRNSLKELWLVIHGRVY...         1  \n",
       "5612  MNSNTVSSFQVDCFLWHVRKRFADQELGDAPFLDRLRRDQKSLRGR...         1  \n",
       "\n",
       "[5613 rows x 5 columns]"
      ]
     },
     "execution_count": 594,
     "metadata": {},
     "output_type": "execute_result"
    }
   ],
   "source": [
    "train_data = data[data.is_train == 1].reset_index(drop = True)\n",
    "train_data"
   ]
  },
  {
   "cell_type": "code",
   "execution_count": 595,
   "id": "87d266c9",
   "metadata": {},
   "outputs": [
    {
     "data": {
      "text/html": [
       "<div>\n",
       "<style scoped>\n",
       "    .dataframe tbody tr th:only-of-type {\n",
       "        vertical-align: middle;\n",
       "    }\n",
       "\n",
       "    .dataframe tbody tr th {\n",
       "        vertical-align: top;\n",
       "    }\n",
       "\n",
       "    .dataframe thead th {\n",
       "        text-align: right;\n",
       "    }\n",
       "</style>\n",
       "<table border=\"1\" class=\"dataframe\">\n",
       "  <thead>\n",
       "    <tr style=\"text-align: right;\">\n",
       "      <th></th>\n",
       "      <th>Protein A</th>\n",
       "      <th>Protein B</th>\n",
       "      <th>Protein_A_sequence</th>\n",
       "      <th>Protein_B_sequence</th>\n",
       "      <th>is_train</th>\n",
       "    </tr>\n",
       "  </thead>\n",
       "  <tbody>\n",
       "    <tr>\n",
       "      <th>0</th>\n",
       "      <td>Q9BYF1</td>\n",
       "      <td>Q6Q1S2</td>\n",
       "      <td>MSSSSWLLLSLVAVTAAQSTIEEQAKTFLDKFNHEAEDLFYQSSLA...</td>\n",
       "      <td>MKLFLILLVLPLASCFFTCNSNANLSMLQLGVPDNSSTIVTGLLPT...</td>\n",
       "      <td>0</td>\n",
       "    </tr>\n",
       "    <tr>\n",
       "      <th>1</th>\n",
       "      <td>P78310</td>\n",
       "      <td>P36711</td>\n",
       "      <td>MALLLCFVLLCGVVDFARSLSITTPEEMIEKAKGETAYLPCKFTLS...</td>\n",
       "      <td>MKRSRTQYAEETEENDDFNPVYPFDPFDTSDVPFVTPPFTSSNGLQ...</td>\n",
       "      <td>0</td>\n",
       "    </tr>\n",
       "    <tr>\n",
       "      <th>2</th>\n",
       "      <td>Q9UKJ1</td>\n",
       "      <td>P06436</td>\n",
       "      <td>MGRPLLLPLLPLLLPPAFLQPSGSTGSGPSYLYGVTQPKHLSASMG...</td>\n",
       "      <td>MRQGAARGCRWFVVWALLGLTLGVLVASAAPSSPGTPGVAAATQAA...</td>\n",
       "      <td>0</td>\n",
       "    </tr>\n",
       "    <tr>\n",
       "      <th>3</th>\n",
       "      <td>P46100</td>\n",
       "      <td>F5HBC6</td>\n",
       "      <td>MTAEPMSESKLNTLVQKLHDFLAHSSEESEETSSPPRLAMNQNTDK...</td>\n",
       "      <td>MSQASSSPGEGPSSEAAAISEAEAASGSFGRLHCQVLRLITNVEGG...</td>\n",
       "      <td>0</td>\n",
       "    </tr>\n",
       "    <tr>\n",
       "      <th>4</th>\n",
       "      <td>Q4JR05</td>\n",
       "      <td>P20916</td>\n",
       "      <td>MSPCGYYSKWRNRDRPEYRRNLRFRRFFSSIHPNAAAGSGFNGPGV...</td>\n",
       "      <td>MIFLTALPLFWIMISASRGGHWGAWMPSSISAFEGTCVSIPCRFDF...</td>\n",
       "      <td>0</td>\n",
       "    </tr>\n",
       "    <tr>\n",
       "      <th>...</th>\n",
       "      <td>...</td>\n",
       "      <td>...</td>\n",
       "      <td>...</td>\n",
       "      <td>...</td>\n",
       "      <td>...</td>\n",
       "    </tr>\n",
       "    <tr>\n",
       "      <th>100</th>\n",
       "      <td>P56199</td>\n",
       "      <td>P04512</td>\n",
       "      <td>MAPRPRARPGVAVACCWLLTVVLRCCVSFNVDVKNSMTFSGPVEDM...</td>\n",
       "      <td>MEKLTDLNYTLSVITLMNNTLHTILEDPGMAYFPYIASVLTGLFAL...</td>\n",
       "      <td>0</td>\n",
       "    </tr>\n",
       "    <tr>\n",
       "      <th>101</th>\n",
       "      <td>Q96SB4</td>\n",
       "      <td>A7Y3Z3</td>\n",
       "      <td>MERKVLALQARKKRTKAKKDKAQRKSETQHRGSAPHSESDLPEQEE...</td>\n",
       "      <td>MADPAAATKYPLLKLLGSTWPTTPPRPIPKPSPWAPKKHRRLSSDQ...</td>\n",
       "      <td>0</td>\n",
       "    </tr>\n",
       "    <tr>\n",
       "      <th>102</th>\n",
       "      <td>P24766</td>\n",
       "      <td>O00585</td>\n",
       "      <td>MYSLVFVILMCIPFSFQTVYDDKSVCDSDNKEYMGIEVYVEATLDE...</td>\n",
       "      <td>MAQSLALSLLILVLAFGIPRTQGSDGGAQDCCLKYSQRKIPAKVVR...</td>\n",
       "      <td>0</td>\n",
       "    </tr>\n",
       "    <tr>\n",
       "      <th>103</th>\n",
       "      <td>Q13087</td>\n",
       "      <td>F5HEU0</td>\n",
       "      <td>MSRQLLPVLLLLLLRASCPWGQEQGARSPSEEPPEEEIPKEDGILV...</td>\n",
       "      <td>MKPVLVLAILAVLFLRLADSVPRPLNVVVSEIKSAHFRVEENQCWF...</td>\n",
       "      <td>0</td>\n",
       "    </tr>\n",
       "    <tr>\n",
       "      <th>104</th>\n",
       "      <td>Q6SVZ5</td>\n",
       "      <td>Q15629</td>\n",
       "      <td>MNLVMLILALWAPVAGSMPELSLTLFDEPPPLVETEPLPPLPDVSE...</td>\n",
       "      <td>MAIRKKSTKSPPVLSHEFVLQNHADIVSCVAMVFLLGLMFEITAKA...</td>\n",
       "      <td>0</td>\n",
       "    </tr>\n",
       "  </tbody>\n",
       "</table>\n",
       "<p>105 rows × 5 columns</p>\n",
       "</div>"
      ],
      "text/plain": [
       "    Protein A Protein B                                 Protein_A_sequence  \\\n",
       "0      Q9BYF1    Q6Q1S2  MSSSSWLLLSLVAVTAAQSTIEEQAKTFLDKFNHEAEDLFYQSSLA...   \n",
       "1      P78310    P36711  MALLLCFVLLCGVVDFARSLSITTPEEMIEKAKGETAYLPCKFTLS...   \n",
       "2      Q9UKJ1    P06436  MGRPLLLPLLPLLLPPAFLQPSGSTGSGPSYLYGVTQPKHLSASMG...   \n",
       "3      P46100    F5HBC6  MTAEPMSESKLNTLVQKLHDFLAHSSEESEETSSPPRLAMNQNTDK...   \n",
       "4      Q4JR05    P20916  MSPCGYYSKWRNRDRPEYRRNLRFRRFFSSIHPNAAAGSGFNGPGV...   \n",
       "..        ...       ...                                                ...   \n",
       "100    P56199    P04512  MAPRPRARPGVAVACCWLLTVVLRCCVSFNVDVKNSMTFSGPVEDM...   \n",
       "101    Q96SB4    A7Y3Z3  MERKVLALQARKKRTKAKKDKAQRKSETQHRGSAPHSESDLPEQEE...   \n",
       "102    P24766    O00585  MYSLVFVILMCIPFSFQTVYDDKSVCDSDNKEYMGIEVYVEATLDE...   \n",
       "103    Q13087    F5HEU0  MSRQLLPVLLLLLLRASCPWGQEQGARSPSEEPPEEEIPKEDGILV...   \n",
       "104    Q6SVZ5    Q15629  MNLVMLILALWAPVAGSMPELSLTLFDEPPPLVETEPLPPLPDVSE...   \n",
       "\n",
       "                                    Protein_B_sequence  is_train  \n",
       "0    MKLFLILLVLPLASCFFTCNSNANLSMLQLGVPDNSSTIVTGLLPT...         0  \n",
       "1    MKRSRTQYAEETEENDDFNPVYPFDPFDTSDVPFVTPPFTSSNGLQ...         0  \n",
       "2    MRQGAARGCRWFVVWALLGLTLGVLVASAAPSSPGTPGVAAATQAA...         0  \n",
       "3    MSQASSSPGEGPSSEAAAISEAEAASGSFGRLHCQVLRLITNVEGG...         0  \n",
       "4    MIFLTALPLFWIMISASRGGHWGAWMPSSISAFEGTCVSIPCRFDF...         0  \n",
       "..                                                 ...       ...  \n",
       "100  MEKLTDLNYTLSVITLMNNTLHTILEDPGMAYFPYIASVLTGLFAL...         0  \n",
       "101  MADPAAATKYPLLKLLGSTWPTTPPRPIPKPSPWAPKKHRRLSSDQ...         0  \n",
       "102  MAQSLALSLLILVLAFGIPRTQGSDGGAQDCCLKYSQRKIPAKVVR...         0  \n",
       "103  MKPVLVLAILAVLFLRLADSVPRPLNVVVSEIKSAHFRVEENQCWF...         0  \n",
       "104  MAIRKKSTKSPPVLSHEFVLQNHADIVSCVAMVFLLGLMFEITAKA...         0  \n",
       "\n",
       "[105 rows x 5 columns]"
      ]
     },
     "execution_count": 595,
     "metadata": {},
     "output_type": "execute_result"
    }
   ],
   "source": [
    "test_data = data[data.is_train == 0].reset_index(drop = True)\n",
    "test_data"
   ]
  },
  {
   "cell_type": "code",
   "execution_count": 596,
   "id": "5c003e9b",
   "metadata": {},
   "outputs": [
    {
     "name": "stdout",
     "output_type": "stream",
     "text": [
      "Number of common proteins between test set and train set:  20\n"
     ]
    }
   ],
   "source": [
    "## checking the overlapping\n",
    "\n",
    "train_data_proteins = set(train_data['Protein A']).union(set(train_data['Protein B']))\n",
    "test_data_proteins = set(test_data['Protein A']).union(set(test_data['Protein B']))\n",
    "common_proteins = train_data_proteins.intersection(test_data_proteins)\n",
    "print(\"Number of common proteins between test set and train set: \", len(common_proteins))"
   ]
  },
  {
   "cell_type": "code",
   "execution_count": 597,
   "id": "a0c8b9fa",
   "metadata": {},
   "outputs": [
    {
     "name": "stdout",
     "output_type": "stream",
     "text": [
      "1\n",
      "1\n",
      "1\n",
      "1\n",
      "1\n",
      "1\n",
      "1\n",
      "1\n",
      "1\n",
      "1\n"
     ]
    }
   ],
   "source": [
    "for i in range(10):\n",
    "    try:\n",
    "        asdasd\n",
    "        print(2)\n",
    "    except:\n",
    "        pass\n",
    "    try:\n",
    "        print(1)\n",
    "    except: \n",
    "        print(\"2nd pass\")"
   ]
  },
  {
   "cell_type": "code",
   "execution_count": 599,
   "id": "e3fcd0f9",
   "metadata": {},
   "outputs": [
    {
     "data": {
      "text/plain": [
       "1    5613\n",
       "0     105\n",
       "Name: is_train, dtype: int64"
      ]
     },
     "execution_count": 599,
     "metadata": {},
     "output_type": "execute_result"
    }
   ],
   "source": [
    "data['is_train'].value_counts()"
   ]
  },
  {
   "cell_type": "code",
   "execution_count": null,
   "id": "9096e901",
   "metadata": {},
   "outputs": [],
   "source": []
  },
  {
   "cell_type": "code",
   "execution_count": null,
   "id": "83dd2653",
   "metadata": {},
   "outputs": [],
   "source": []
  },
  {
   "cell_type": "code",
   "execution_count": null,
   "id": "94da0bc8",
   "metadata": {},
   "outputs": [],
   "source": []
  },
  {
   "cell_type": "code",
   "execution_count": null,
   "id": "89668df1",
   "metadata": {},
   "outputs": [],
   "source": []
  },
  {
   "cell_type": "code",
   "execution_count": null,
   "id": "b2b52e82",
   "metadata": {},
   "outputs": [],
   "source": []
  },
  {
   "cell_type": "code",
   "execution_count": null,
   "id": "a071bd67",
   "metadata": {},
   "outputs": [],
   "source": []
  },
  {
   "cell_type": "code",
   "execution_count": null,
   "id": "b4bbd714",
   "metadata": {},
   "outputs": [],
   "source": []
  }
 ],
 "metadata": {
  "kernelspec": {
   "display_name": "Python 3 (ipykernel)",
   "language": "python",
   "name": "python3"
  },
  "language_info": {
   "codemirror_mode": {
    "name": "ipython",
    "version": 3
   },
   "file_extension": ".py",
   "mimetype": "text/x-python",
   "name": "python",
   "nbconvert_exporter": "python",
   "pygments_lexer": "ipython3",
   "version": "3.9.12"
  }
 },
 "nbformat": 4,
 "nbformat_minor": 5
}
