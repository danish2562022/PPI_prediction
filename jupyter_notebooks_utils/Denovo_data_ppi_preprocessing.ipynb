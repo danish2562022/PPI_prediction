{
 "cells": [
  {
   "cell_type": "code",
   "execution_count": 4,
   "id": "620412c6",
   "metadata": {},
   "outputs": [],
   "source": [
    "import numpy as np\n",
    "import pandas as pd\n",
    "import Bio.SeqIO as SeqIO"
   ]
  },
  {
   "cell_type": "code",
   "execution_count": 2,
   "id": "5c1e89e0",
   "metadata": {},
   "outputs": [],
   "source": [
    "data = pd.read_excel(\"/home/anwer/Desktop/PPI_prediction/Dataset_ppi/Denovo/AS1.xlsx\")"
   ]
  },
  {
   "cell_type": "code",
   "execution_count": 3,
   "id": "eb4f56d5",
   "metadata": {},
   "outputs": [],
   "source": [
    "data = data[['Protein A','Protein B']]"
   ]
  },
  {
   "cell_type": "markdown",
   "id": "50db03f9",
   "metadata": {},
   "source": [
    "## 1. Data Preprocessing"
   ]
  },
  {
   "cell_type": "markdown",
   "id": "aad52f67",
   "metadata": {},
   "source": [
    "### 1.1 Protein name to sequence"
   ]
  },
  {
   "cell_type": "code",
   "execution_count": 5,
   "id": "35402f79",
   "metadata": {},
   "outputs": [
    {
     "name": "stderr",
     "output_type": "stream",
     "text": [
      "445it [00:00, 50387.81it/s]\n",
      "2340it [00:00, 57233.08it/s]\n"
     ]
    }
   ],
   "source": [
    "from tqdm import tqdm\n",
    "dct_1 = {}\n",
    "for rec in tqdm(SeqIO.parse(\"/home/anwer/Desktop/PPI_prediction/Dataset_ppi/Denovo/AS2.fasta\",\"fasta\")):\n",
    "    dct_1[rec.id.split(\"|\")[1]] = str(rec.seq)\n",
    "for rec in tqdm(SeqIO.parse(\"/home/anwer/Desktop/PPI_prediction/Dataset_ppi/Denovo/AS3.fasta\",\"fasta\")):\n",
    "    dct_1[rec.id.split(\"|\")[1]] = str(rec.seq)    "
   ]
  },
  {
   "cell_type": "code",
   "execution_count": 6,
   "id": "2c6d524f",
   "metadata": {},
   "outputs": [],
   "source": [
    "def convert_to_seq(seq_name):\n",
    "    try:\n",
    "        return dct_1[seq_name]\n",
    "    except:\n",
    "        return None"
   ]
  },
  {
   "cell_type": "code",
   "execution_count": 7,
   "id": "308fb1a8",
   "metadata": {},
   "outputs": [],
   "source": [
    "data[\"Protein_A_sequence\"] = data['Protein A'].apply(convert_to_seq)\n",
    "data[\"Protein_B_sequence\"] = data['Protein B'].apply(convert_to_seq)\n",
    "data.dropna(inplace = True)"
   ]
  },
  {
   "cell_type": "code",
   "execution_count": 42,
   "id": "67dc6159",
   "metadata": {},
   "outputs": [],
   "source": [
    "data = data.apply(lambda x: x.str.strip())\n",
    "data.to_csv(\"/home/anwer/Desktop/PPI_prediction/csv_files/Denovo_ppi_with_sequences.csv\",index = False)"
   ]
  },
  {
   "cell_type": "markdown",
   "id": "0ae306d6",
   "metadata": {},
   "source": [
    "### 1.2 Exploratory Data Analysis"
   ]
  },
  {
   "cell_type": "code",
   "execution_count": 43,
   "id": "aaf1de6e",
   "metadata": {},
   "outputs": [],
   "source": [
    "data = pd.read_csv('/home/anwer/Desktop/PPI_prediction/csv_files/Denovo_ppi_with_sequences.csv')"
   ]
  },
  {
   "cell_type": "code",
   "execution_count": 44,
   "id": "ba3113e7",
   "metadata": {},
   "outputs": [
    {
     "data": {
      "text/html": [
       "<div>\n",
       "<style scoped>\n",
       "    .dataframe tbody tr th:only-of-type {\n",
       "        vertical-align: middle;\n",
       "    }\n",
       "\n",
       "    .dataframe tbody tr th {\n",
       "        vertical-align: top;\n",
       "    }\n",
       "\n",
       "    .dataframe thead th {\n",
       "        text-align: right;\n",
       "    }\n",
       "</style>\n",
       "<table border=\"1\" class=\"dataframe\">\n",
       "  <thead>\n",
       "    <tr style=\"text-align: right;\">\n",
       "      <th></th>\n",
       "      <th>Protein A</th>\n",
       "      <th>Protein B</th>\n",
       "      <th>Protein_A_sequence</th>\n",
       "      <th>Protein_B_sequence</th>\n",
       "    </tr>\n",
       "  </thead>\n",
       "  <tbody>\n",
       "    <tr>\n",
       "      <th>0</th>\n",
       "      <td>P29991</td>\n",
       "      <td>O00571</td>\n",
       "      <td>MNDQRKEAKNTPFNMLKRERNRVSTVQQLTKRFSLGMLQGRGPLKL...</td>\n",
       "      <td>MSHVAVENALGLDQQFAGLDLNSSDNQSGGSTASKGRYIPPHLRNR...</td>\n",
       "    </tr>\n",
       "    <tr>\n",
       "      <th>1</th>\n",
       "      <td>P29991</td>\n",
       "      <td>O00584</td>\n",
       "      <td>MNDQRKEAKNTPFNMLKRERNRVSTVQQLTKRFSLGMLQGRGPLKL...</td>\n",
       "      <td>MRPAALRGALLGCLCLALLCLGGADKRLRDNHEWKKLIMVQHWPET...</td>\n",
       "    </tr>\n",
       "    <tr>\n",
       "      <th>2</th>\n",
       "      <td>Q99IB8</td>\n",
       "      <td>O00584</td>\n",
       "      <td>MSTNPKPQRKTKRNTNRRPEDVKFPGGGQIVGGVYLLPRRGPRLGV...</td>\n",
       "      <td>MRPAALRGALLGCLCLALLCLGGADKRLRDNHEWKKLIMVQHWPET...</td>\n",
       "    </tr>\n",
       "    <tr>\n",
       "      <th>3</th>\n",
       "      <td>P03070</td>\n",
       "      <td>O00629</td>\n",
       "      <td>MDKVLNREESLQLMDLLGLERSAWGNIPLMRKAYLKKCKEFHPDKG...</td>\n",
       "      <td>MADNEKLDNQRLKNFKNKGRDLETMRRQRNEVVVELRKNKRDEHLL...</td>\n",
       "    </tr>\n",
       "    <tr>\n",
       "      <th>4</th>\n",
       "      <td>P49116</td>\n",
       "      <td>P10221</td>\n",
       "      <td>MTSPSPRIQIISTDSAVASPQRIQIVTDQQTGQKIQIVTAVDASGS...</td>\n",
       "      <td>MADRGLPSEAPVVTTSPAGPPSDGPMQRLLASLAGLRQPPTPTAET...</td>\n",
       "    </tr>\n",
       "  </tbody>\n",
       "</table>\n",
       "</div>"
      ],
      "text/plain": [
       "  Protein A Protein B                                 Protein_A_sequence  \\\n",
       "0    P29991    O00571  MNDQRKEAKNTPFNMLKRERNRVSTVQQLTKRFSLGMLQGRGPLKL...   \n",
       "1    P29991    O00584  MNDQRKEAKNTPFNMLKRERNRVSTVQQLTKRFSLGMLQGRGPLKL...   \n",
       "2    Q99IB8    O00584  MSTNPKPQRKTKRNTNRRPEDVKFPGGGQIVGGVYLLPRRGPRLGV...   \n",
       "3    P03070    O00629  MDKVLNREESLQLMDLLGLERSAWGNIPLMRKAYLKKCKEFHPDKG...   \n",
       "4    P49116    P10221  MTSPSPRIQIISTDSAVASPQRIQIVTDQQTGQKIQIVTAVDASGS...   \n",
       "\n",
       "                                  Protein_B_sequence  \n",
       "0  MSHVAVENALGLDQQFAGLDLNSSDNQSGGSTASKGRYIPPHLRNR...  \n",
       "1  MRPAALRGALLGCLCLALLCLGGADKRLRDNHEWKKLIMVQHWPET...  \n",
       "2  MRPAALRGALLGCLCLALLCLGGADKRLRDNHEWKKLIMVQHWPET...  \n",
       "3  MADNEKLDNQRLKNFKNKGRDLETMRRQRNEVVVELRKNKRDEHLL...  \n",
       "4  MADRGLPSEAPVVTTSPAGPPSDGPMQRLLASLAGLRQPPTPTAET...  "
      ]
     },
     "execution_count": 44,
     "metadata": {},
     "output_type": "execute_result"
    }
   ],
   "source": [
    "data.head()"
   ]
  },
  {
   "cell_type": "code",
   "execution_count": 45,
   "id": "efbc693c",
   "metadata": {},
   "outputs": [],
   "source": [
    "data = data.apply(lambda x: x.str.strip())"
   ]
  },
  {
   "cell_type": "code",
   "execution_count": 47,
   "id": "a13fcf36",
   "metadata": {},
   "outputs": [
    {
     "name": "stdout",
     "output_type": "stream",
     "text": [
      "Number of positive pairs:  5718\n"
     ]
    }
   ],
   "source": [
    "print(\"Number of positive pairs: \", len(data) )"
   ]
  },
  {
   "cell_type": "code",
   "execution_count": 48,
   "id": "58a0f792",
   "metadata": {},
   "outputs": [
    {
     "name": "stdout",
     "output_type": "stream",
     "text": [
      "Number of unique Proteins:  2781\n"
     ]
    }
   ],
   "source": [
    "print(\"Number of unique Proteins: \", len(set(data['Protein A']).union(set(data['Protein B']))) )"
   ]
  },
  {
   "cell_type": "code",
   "execution_count": 49,
   "id": "d16cdea9",
   "metadata": {},
   "outputs": [
    {
     "name": "stdout",
     "output_type": "stream",
     "text": [
      "Maximum length proteins:  YITPVNSLEKHSWYHGPVSRNAAEYLLSSGINGSFLVRESESSPGQRSISLRYEGRVYHYRINTASDGKLYVSSESRFNTLAELVHHHSTVADGLITTLHYPAPKRNKPTIYGVSPNYDKWEMERTDITMKHKLGGGQYGEVYEGVWKKYSLTVAVKTLKEDTMEVEEFLKEAAVMKEIKHPNLVQLLGVCTREPPFYIITEFMTYGNLLDYLRECNRQEVSAVVLLYMATQISSAMEYLEKKNFIHRDLAARNCLVGENHLVKVADFGLSRLMTGDTYTAHAGAKFPIKWTAPESLAYNKFSIKSDVWAFGVLLWEIATYGMSPYPGIDLSQVYELLEKDYRMERPEGCPEKVYELMRACWQWNPSDRPSFAEIHQAFETMFQESSISDEVEKELGKRGTRGGAGSMLQAPELPTKTRTCRRAAEQKASPPSLTPKLLRRQVTASPSSGLSHKKEATKGSASGMGTPATAEPAPPSNKVGLSKASSEEMRVRRHKHSSESPGRDKGRLAKLKPAPPPPPACTGKAGKPAQSPSQEAGEAGGPTKTKCTSLAMDAVNTDPTKAGPPGEGLRKPVPPSVPKPQSTAKPPGTPTSPVSTPSTAPAPSPLAGDQQPSSAAFIPLISTRVSLRKTRQPPERIASGTITKGVVLDSTEALCLAISRNSEQMASHSAVLEAGKNLYTFCVSYVDSIQQMRNKFAFREAINKLESNLRELQICPATASSGPAATQDFSKLLSSVKEISDIVRR\n",
      "\n",
      "\n",
      "Maximum length of Proteins sequences:  746\n"
     ]
    }
   ],
   "source": [
    "print(\"Maximum length proteins: \", max(set(data['Protein_A_sequence']).union(set(data['Protein_B_sequence']))))\n",
    "print('\\n' )\n",
    "print(\"Maximum length of Proteins sequences: \", len(max(set(data['Protein_A_sequence']).union(set(data['Protein_B_sequence'])))))"
   ]
  },
  {
   "cell_type": "code",
   "execution_count": null,
   "id": "1007dbd8",
   "metadata": {},
   "outputs": [],
   "source": []
  },
  {
   "cell_type": "code",
   "execution_count": null,
   "id": "f5dd8492",
   "metadata": {},
   "outputs": [],
   "source": []
  }
 ],
 "metadata": {
  "kernelspec": {
   "display_name": "Python 3 (ipykernel)",
   "language": "python",
   "name": "python3"
  },
  "language_info": {
   "codemirror_mode": {
    "name": "ipython",
    "version": 3
   },
   "file_extension": ".py",
   "mimetype": "text/x-python",
   "name": "python",
   "nbconvert_exporter": "python",
   "pygments_lexer": "ipython3",
   "version": "3.9.12"
  }
 },
 "nbformat": 4,
 "nbformat_minor": 5
}
