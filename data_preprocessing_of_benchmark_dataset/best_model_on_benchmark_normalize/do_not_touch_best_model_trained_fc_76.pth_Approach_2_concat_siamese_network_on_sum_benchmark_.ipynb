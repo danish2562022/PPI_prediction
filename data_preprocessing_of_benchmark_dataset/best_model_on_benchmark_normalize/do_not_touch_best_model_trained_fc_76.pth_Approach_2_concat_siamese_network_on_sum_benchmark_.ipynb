{
 "cells": [
  {
   "cell_type": "markdown",
   "id": "ee9e6e12",
   "metadata": {},
   "source": [
    "### 1. Importing important libraries"
   ]
  },
  {
   "cell_type": "code",
   "execution_count": 97,
   "id": "f87afc0c",
   "metadata": {},
   "outputs": [
    {
     "data": {
      "text/plain": [
       "True"
      ]
     },
     "execution_count": 97,
     "metadata": {},
     "output_type": "execute_result"
    }
   ],
   "source": [
    "\n",
    "from tqdm import tqdm\n",
    "import numpy as np\n",
    "import pandas as pd\n",
    "import matplotlib.pyplot as plt\n",
    "import torch\n",
    "import timeit\n",
    "\n",
    "import os\n",
    "import pickle\n",
    "import torch.nn as nn\n",
    "import torch.optim as optim\n",
    "from torch.utils.data import Dataset, DataLoader\n",
    "from sklearn.metrics import  confusion_matrix, ConfusionMatrixDisplay\n",
    "from matplotlib.pyplot import figure\n",
    "import wandb\n",
    "\n",
    "wandb.login()"
   ]
  },
  {
   "cell_type": "code",
   "execution_count": 98,
   "id": "e42cd493",
   "metadata": {},
   "outputs": [
    {
     "name": "stdout",
     "output_type": "stream",
     "text": [
      "/home/danish/PPI_prediction/new_experiment\n"
     ]
    }
   ],
   "source": [
    "!pwd"
   ]
  },
  {
   "cell_type": "markdown",
   "id": "d13201b4",
   "metadata": {},
   "source": [
    "### 2. Basic EDA"
   ]
  },
  {
   "cell_type": "code",
   "execution_count": 99,
   "id": "b86c4140",
   "metadata": {},
   "outputs": [],
   "source": [
    "train =  pd.read_csv(\"Train_0_0.tsv\",delimiter='\\t',header=None)\n",
    "test =  pd.read_csv(\"Test_0_0.tsv\",delimiter='\\t',header=None)"
   ]
  },
  {
   "cell_type": "code",
   "execution_count": 100,
   "id": "b8544d82",
   "metadata": {},
   "outputs": [
    {
     "data": {
      "text/html": [
       "<div>\n",
       "<style scoped>\n",
       "    .dataframe tbody tr th:only-of-type {\n",
       "        vertical-align: middle;\n",
       "    }\n",
       "\n",
       "    .dataframe tbody tr th {\n",
       "        vertical-align: top;\n",
       "    }\n",
       "\n",
       "    .dataframe thead th {\n",
       "        text-align: right;\n",
       "    }\n",
       "</style>\n",
       "<table border=\"1\" class=\"dataframe\">\n",
       "  <thead>\n",
       "    <tr style=\"text-align: right;\">\n",
       "      <th></th>\n",
       "      <th>0</th>\n",
       "      <th>1</th>\n",
       "      <th>2</th>\n",
       "    </tr>\n",
       "  </thead>\n",
       "  <tbody>\n",
       "    <tr>\n",
       "      <th>0</th>\n",
       "      <td>8812</td>\n",
       "      <td>165140</td>\n",
       "      <td>1</td>\n",
       "    </tr>\n",
       "    <tr>\n",
       "      <th>1</th>\n",
       "      <td>5581</td>\n",
       "      <td>93953</td>\n",
       "      <td>0</td>\n",
       "    </tr>\n",
       "    <tr>\n",
       "      <th>2</th>\n",
       "      <td>56165</td>\n",
       "      <td>284293</td>\n",
       "      <td>0</td>\n",
       "    </tr>\n",
       "    <tr>\n",
       "      <th>3</th>\n",
       "      <td>1788</td>\n",
       "      <td>10919</td>\n",
       "      <td>1</td>\n",
       "    </tr>\n",
       "    <tr>\n",
       "      <th>4</th>\n",
       "      <td>999</td>\n",
       "      <td>54894</td>\n",
       "      <td>1</td>\n",
       "    </tr>\n",
       "    <tr>\n",
       "      <th>...</th>\n",
       "      <td>...</td>\n",
       "      <td>...</td>\n",
       "      <td>...</td>\n",
       "    </tr>\n",
       "    <tr>\n",
       "      <th>99995</th>\n",
       "      <td>3172</td>\n",
       "      <td>10987</td>\n",
       "      <td>1</td>\n",
       "    </tr>\n",
       "    <tr>\n",
       "      <th>99996</th>\n",
       "      <td>10107</td>\n",
       "      <td>58478</td>\n",
       "      <td>0</td>\n",
       "    </tr>\n",
       "    <tr>\n",
       "      <th>99997</th>\n",
       "      <td>27185</td>\n",
       "      <td>55180</td>\n",
       "      <td>0</td>\n",
       "    </tr>\n",
       "    <tr>\n",
       "      <th>99998</th>\n",
       "      <td>1674</td>\n",
       "      <td>6047</td>\n",
       "      <td>1</td>\n",
       "    </tr>\n",
       "    <tr>\n",
       "      <th>99999</th>\n",
       "      <td>23270</td>\n",
       "      <td>93979</td>\n",
       "      <td>0</td>\n",
       "    </tr>\n",
       "  </tbody>\n",
       "</table>\n",
       "<p>100000 rows × 3 columns</p>\n",
       "</div>"
      ],
      "text/plain": [
       "           0       1  2\n",
       "0       8812  165140  1\n",
       "1       5581   93953  0\n",
       "2      56165  284293  0\n",
       "3       1788   10919  1\n",
       "4        999   54894  1\n",
       "...      ...     ... ..\n",
       "99995   3172   10987  1\n",
       "99996  10107   58478  0\n",
       "99997  27185   55180  0\n",
       "99998   1674    6047  1\n",
       "99999  23270   93979  0\n",
       "\n",
       "[100000 rows x 3 columns]"
      ]
     },
     "execution_count": 100,
     "metadata": {},
     "output_type": "execute_result"
    }
   ],
   "source": [
    "train"
   ]
  },
  {
   "cell_type": "code",
   "execution_count": 101,
   "id": "9e9d497f",
   "metadata": {},
   "outputs": [
    {
     "data": {
      "text/plain": [
       "1    3415\n",
       "0    3415\n",
       "Name: 2, dtype: int64"
      ]
     },
     "execution_count": 101,
     "metadata": {},
     "output_type": "execute_result"
    }
   ],
   "source": [
    "test[2].value_counts()"
   ]
  },
  {
   "cell_type": "code",
   "execution_count": 102,
   "id": "100b971e",
   "metadata": {},
   "outputs": [
    {
     "data": {
      "text/plain": [
       "1    3415\n",
       "0    3415\n",
       "Name: 2, dtype: int64"
      ]
     },
     "execution_count": 102,
     "metadata": {},
     "output_type": "execute_result"
    }
   ],
   "source": [
    "train_pos = train[train[2] == 1][0:50000]\n",
    "train_neg = train[train[2] == 0][0:50000]\n",
    "train = pd.concat([train_pos,train_neg])\n",
    "\n",
    "test_pos = test[test[2] == 1]\n",
    "test_neg = test[test[2] ==0][0:len(test_pos)]\n",
    "test = pd.concat([test_pos,test_neg])\n",
    "test[2].value_counts()"
   ]
  },
  {
   "cell_type": "code",
   "execution_count": 103,
   "id": "a875593d",
   "metadata": {},
   "outputs": [],
   "source": [
    "val_pos =  test[test[2] == 1][0:1000]\n",
    "val_neg =  test[test[2] == 0][0:1000]\n",
    "val = pd.concat([val_pos,val_neg])\n",
    "\n",
    "test_pos =  test[test[2] == 1][1000:]\n",
    "test_neg =  test[test[2] == 0][1000:]\n",
    "test = pd.concat([test_pos,test_neg])"
   ]
  },
  {
   "cell_type": "code",
   "execution_count": 104,
   "id": "54417de4",
   "metadata": {},
   "outputs": [
    {
     "name": "stdout",
     "output_type": "stream",
     "text": [
      "Size of Train dataset:  100000\n",
      "Size of Test dataset:  4830\n",
      "Size of val dataset:  2000\n"
     ]
    }
   ],
   "source": [
    "print(\"Size of Train dataset: \", len(train))\n",
    "print(\"Size of Test dataset: \", len(test))\n",
    "print(\"Size of val dataset: \", len(val))"
   ]
  },
  {
   "cell_type": "code",
   "execution_count": 105,
   "id": "76efd1ad",
   "metadata": {},
   "outputs": [
    {
     "name": "stdout",
     "output_type": "stream",
     "text": [
      "Number of negative points in training set: 50000\n",
      "Number of positive points in training set: 50000\n",
      "------------------------------------------------------------------------------------------------------------------------------------------------------------------------------------------------------------------------------------\n",
      "Number of negative points in test set: 2415\n",
      "Number of positive points in test set: 2415\n",
      "------------------------------------------------------------------------------------------------------------------------------------------------------------------------------------------------------------------------------------\n",
      "Number of negative points in test set: 1000\n",
      "Number of positive points in test set: 1000\n"
     ]
    }
   ],
   "source": [
    "print(f\"Number of negative points in training set: {train[2].value_counts()[0]}\")\n",
    "print(f\"Number of positive points in training set: {train[2].value_counts()[1]}\")\n",
    "print(\"----\"*57)\n",
    "print(f\"Number of negative points in test set: {test[2].value_counts()[0]}\")\n",
    "print(f\"Number of positive points in test set: {test[2].value_counts()[1]}\")\n",
    "print(\"----\"*57)\n",
    "print(f\"Number of negative points in test set: {val[2].value_counts()[0]}\")\n",
    "print(f\"Number of positive points in test set: {val[2].value_counts()[1]}\")"
   ]
  },
  {
   "cell_type": "markdown",
   "id": "1dbb3682",
   "metadata": {},
   "source": [
    "### 3. Importing embedding vectors from pickle file"
   ]
  },
  {
   "cell_type": "code",
   "execution_count": 106,
   "id": "0de3e5d3",
   "metadata": {},
   "outputs": [],
   "source": [
    "with open(\"sum_of_amino_acid_benchmark_vector_bert_normalize_bfd.pickle\",'rb') as handle:\n",
    "    dc = pickle.load(handle)"
   ]
  },
  {
   "cell_type": "code",
   "execution_count": 107,
   "id": "3d4275fd",
   "metadata": {},
   "outputs": [
    {
     "data": {
      "text/html": [
       "<div>\n",
       "<style scoped>\n",
       "    .dataframe tbody tr th:only-of-type {\n",
       "        vertical-align: middle;\n",
       "    }\n",
       "\n",
       "    .dataframe tbody tr th {\n",
       "        vertical-align: top;\n",
       "    }\n",
       "\n",
       "    .dataframe thead th {\n",
       "        text-align: right;\n",
       "    }\n",
       "</style>\n",
       "<table border=\"1\" class=\"dataframe\">\n",
       "  <thead>\n",
       "    <tr style=\"text-align: right;\">\n",
       "      <th></th>\n",
       "      <th>0</th>\n",
       "      <th>1</th>\n",
       "      <th>2</th>\n",
       "    </tr>\n",
       "  </thead>\n",
       "  <tbody>\n",
       "    <tr>\n",
       "      <th>0</th>\n",
       "      <td>8812</td>\n",
       "      <td>165140</td>\n",
       "      <td>1</td>\n",
       "    </tr>\n",
       "    <tr>\n",
       "      <th>3</th>\n",
       "      <td>1788</td>\n",
       "      <td>10919</td>\n",
       "      <td>1</td>\n",
       "    </tr>\n",
       "    <tr>\n",
       "      <th>4</th>\n",
       "      <td>999</td>\n",
       "      <td>54894</td>\n",
       "      <td>1</td>\n",
       "    </tr>\n",
       "    <tr>\n",
       "      <th>6</th>\n",
       "      <td>10771</td>\n",
       "      <td>51438</td>\n",
       "      <td>1</td>\n",
       "    </tr>\n",
       "    <tr>\n",
       "      <th>7</th>\n",
       "      <td>274</td>\n",
       "      <td>5338</td>\n",
       "      <td>1</td>\n",
       "    </tr>\n",
       "    <tr>\n",
       "      <th>...</th>\n",
       "      <td>...</td>\n",
       "      <td>...</td>\n",
       "      <td>...</td>\n",
       "    </tr>\n",
       "    <tr>\n",
       "      <th>99993</th>\n",
       "      <td>138065</td>\n",
       "      <td>219854</td>\n",
       "      <td>0</td>\n",
       "    </tr>\n",
       "    <tr>\n",
       "      <th>99994</th>\n",
       "      <td>25763</td>\n",
       "      <td>729597</td>\n",
       "      <td>0</td>\n",
       "    </tr>\n",
       "    <tr>\n",
       "      <th>99996</th>\n",
       "      <td>10107</td>\n",
       "      <td>58478</td>\n",
       "      <td>0</td>\n",
       "    </tr>\n",
       "    <tr>\n",
       "      <th>99997</th>\n",
       "      <td>27185</td>\n",
       "      <td>55180</td>\n",
       "      <td>0</td>\n",
       "    </tr>\n",
       "    <tr>\n",
       "      <th>99999</th>\n",
       "      <td>23270</td>\n",
       "      <td>93979</td>\n",
       "      <td>0</td>\n",
       "    </tr>\n",
       "  </tbody>\n",
       "</table>\n",
       "<p>100000 rows × 3 columns</p>\n",
       "</div>"
      ],
      "text/plain": [
       "            0       1  2\n",
       "0        8812  165140  1\n",
       "3        1788   10919  1\n",
       "4         999   54894  1\n",
       "6       10771   51438  1\n",
       "7         274    5338  1\n",
       "...       ...     ... ..\n",
       "99993  138065  219854  0\n",
       "99994   25763  729597  0\n",
       "99996   10107   58478  0\n",
       "99997   27185   55180  0\n",
       "99999   23270   93979  0\n",
       "\n",
       "[100000 rows x 3 columns]"
      ]
     },
     "execution_count": 107,
     "metadata": {},
     "output_type": "execute_result"
    }
   ],
   "source": [
    "train"
   ]
  },
  {
   "cell_type": "code",
   "execution_count": 108,
   "id": "de026ef2",
   "metadata": {},
   "outputs": [],
   "source": [
    "def return_embed(prot_name):\n",
    "    try:\n",
    "        return dc[str(prot_name)]*500-1\n",
    "    except:\n",
    "        return np.nan\n",
    "train['embed_vec_protein_A'] = train[0].apply(return_embed)\n",
    "train['embed_vec_protein_B'] = train[1].apply(return_embed)\n",
    "\n",
    "test['embed_vec_protein_A'] = test[0].apply(return_embed)\n",
    "test['embed_vec_protein_B'] = test[1].apply(return_embed)\n",
    "\n",
    "val['embed_vec_protein_A'] = val[0].apply(return_embed)\n",
    "val['embed_vec_protein_B'] = val[1].apply(return_embed)\n",
    "\n",
    "\n",
    "train = train.dropna()\n",
    "test = test.dropna()\n",
    "val = val.dropna()"
   ]
  },
  {
   "cell_type": "code",
   "execution_count": 109,
   "id": "56c5e68e",
   "metadata": {},
   "outputs": [
    {
     "data": {
      "text/html": [
       "<div>\n",
       "<style scoped>\n",
       "    .dataframe tbody tr th:only-of-type {\n",
       "        vertical-align: middle;\n",
       "    }\n",
       "\n",
       "    .dataframe tbody tr th {\n",
       "        vertical-align: top;\n",
       "    }\n",
       "\n",
       "    .dataframe thead th {\n",
       "        text-align: right;\n",
       "    }\n",
       "</style>\n",
       "<table border=\"1\" class=\"dataframe\">\n",
       "  <thead>\n",
       "    <tr style=\"text-align: right;\">\n",
       "      <th></th>\n",
       "      <th>0</th>\n",
       "      <th>1</th>\n",
       "      <th>2</th>\n",
       "      <th>embed_vec_protein_A</th>\n",
       "      <th>embed_vec_protein_B</th>\n",
       "    </tr>\n",
       "  </thead>\n",
       "  <tbody>\n",
       "    <tr>\n",
       "      <th>0</th>\n",
       "      <td>8812</td>\n",
       "      <td>165140</td>\n",
       "      <td>1</td>\n",
       "      <td>[-4.137003, 1.1387072, -5.577691, 23.804869, 1...</td>\n",
       "      <td>[10.549672, 0.6898947, -7.3381624, -17.99396, ...</td>\n",
       "    </tr>\n",
       "    <tr>\n",
       "      <th>4</th>\n",
       "      <td>999</td>\n",
       "      <td>54894</td>\n",
       "      <td>1</td>\n",
       "      <td>[3.429071, 1.9356925, -6.0805483, -0.8916067, ...</td>\n",
       "      <td>[6.4256415, 13.054534, 0.22838259, 16.80025, 1...</td>\n",
       "    </tr>\n",
       "    <tr>\n",
       "      <th>6</th>\n",
       "      <td>10771</td>\n",
       "      <td>51438</td>\n",
       "      <td>1</td>\n",
       "      <td>[6.155548, 9.562074, -0.1157856, 3.327611, 6.1...</td>\n",
       "      <td>[10.115945, -1.2304958, -9.726263, 16.496975, ...</td>\n",
       "    </tr>\n",
       "    <tr>\n",
       "      <th>7</th>\n",
       "      <td>274</td>\n",
       "      <td>5338</td>\n",
       "      <td>1</td>\n",
       "      <td>[-10.636223, -7.661087, -16.337265, 18.760033,...</td>\n",
       "      <td>[10.423297, 10.890132, -5.2806287, 15.781599, ...</td>\n",
       "    </tr>\n",
       "    <tr>\n",
       "      <th>8</th>\n",
       "      <td>537</td>\n",
       "      <td>8856</td>\n",
       "      <td>1</td>\n",
       "      <td>[-6.659892, -3.1955101, -0.2977332, 5.195242, ...</td>\n",
       "      <td>[14.750025, 17.76645, -6.3672185, 10.122561, 1...</td>\n",
       "    </tr>\n",
       "  </tbody>\n",
       "</table>\n",
       "</div>"
      ],
      "text/plain": [
       "       0       1  2                                embed_vec_protein_A  \\\n",
       "0   8812  165140  1  [-4.137003, 1.1387072, -5.577691, 23.804869, 1...   \n",
       "4    999   54894  1  [3.429071, 1.9356925, -6.0805483, -0.8916067, ...   \n",
       "6  10771   51438  1  [6.155548, 9.562074, -0.1157856, 3.327611, 6.1...   \n",
       "7    274    5338  1  [-10.636223, -7.661087, -16.337265, 18.760033,...   \n",
       "8    537    8856  1  [-6.659892, -3.1955101, -0.2977332, 5.195242, ...   \n",
       "\n",
       "                                 embed_vec_protein_B  \n",
       "0  [10.549672, 0.6898947, -7.3381624, -17.99396, ...  \n",
       "4  [6.4256415, 13.054534, 0.22838259, 16.80025, 1...  \n",
       "6  [10.115945, -1.2304958, -9.726263, 16.496975, ...  \n",
       "7  [10.423297, 10.890132, -5.2806287, 15.781599, ...  \n",
       "8  [14.750025, 17.76645, -6.3672185, 10.122561, 1...  "
      ]
     },
     "execution_count": 109,
     "metadata": {},
     "output_type": "execute_result"
    }
   ],
   "source": [
    "train.head()"
   ]
  },
  {
   "cell_type": "code",
   "execution_count": 110,
   "id": "b64e9a6a",
   "metadata": {},
   "outputs": [
    {
     "name": "stderr",
     "output_type": "stream",
     "text": [
      "100%|██████████| 79639/79639 [00:23<00:00, 3362.79it/s]\n",
      "100%|██████████| 3956/3956 [00:01<00:00, 3365.53it/s]\n",
      "100%|██████████| 1629/1629 [00:00<00:00, 3328.37it/s]\n"
     ]
    }
   ],
   "source": [
    "train_features_Protein_A = []\n",
    "train_features_Protein_B = []\n",
    "train_label = []\n",
    "test_features_Protein_A = []\n",
    "test_features_Protein_B = []\n",
    "test_label =[]\n",
    "val_features_Protein_A = []\n",
    "val_features_Protein_B = []\n",
    "val_label = []\n",
    "for i in tqdm(range(len(train))):\n",
    "    train_features_Protein_A.append(np.array(train.iloc[i].embed_vec_protein_A))\n",
    "    train_features_Protein_B.append(np.array(train.iloc[i].embed_vec_protein_B))\n",
    "    train_label.append(np.array(train.iloc[i][2]))\n",
    "    \n",
    "for i in tqdm(range(len(test))):\n",
    "    test_features_Protein_A.append(np.array(test.iloc[i].embed_vec_protein_A))\n",
    "    test_features_Protein_B.append(np.array(test.iloc[i].embed_vec_protein_B))\n",
    "    test_label.append(np.array(test.iloc[i][2]))  \n",
    "for i in tqdm(range(len(val))):\n",
    "    \n",
    "    \n",
    "    val_features_Protein_A.append(np.array(val.iloc[i].embed_vec_protein_A))\n",
    "    val_features_Protein_B.append(np.array(val.iloc[i].embed_vec_protein_B))\n",
    "    val_label.append(np.array(val.iloc[i][2]))"
   ]
  },
  {
   "cell_type": "code",
   "execution_count": 111,
   "id": "8b1f23cc",
   "metadata": {},
   "outputs": [],
   "source": [
    "train_features_Protein_A = np.array(train_features_Protein_A)\n",
    "train_features_Protein_B = np.array(train_features_Protein_B)\n",
    "train_label = np.array(train_label)\n",
    "\n",
    "test_features_Protein_A = np.array(test_features_Protein_A)\n",
    "test_features_Protein_B = np.array(test_features_Protein_B)\n",
    "test_label = np.array(test_label)\n",
    "\n",
    "val_features_Protein_A = np.array(val_features_Protein_A)\n",
    "val_features_Protein_B = np.array(val_features_Protein_B)\n",
    "val_label = np.array(val_label)"
   ]
  },
  {
   "cell_type": "code",
   "execution_count": 112,
   "id": "29d1b2a3",
   "metadata": {},
   "outputs": [
    {
     "data": {
      "text/plain": [
       "(array([0, 1]), array([38723, 40916]))"
      ]
     },
     "execution_count": 112,
     "metadata": {},
     "output_type": "execute_result"
    }
   ],
   "source": [
    "np.unique(train_label, return_counts=True)"
   ]
  },
  {
   "cell_type": "markdown",
   "id": "f6833262",
   "metadata": {},
   "source": [
    "### 4. Dataloader"
   ]
  },
  {
   "cell_type": "code",
   "execution_count": 113,
   "id": "5fcd522a",
   "metadata": {},
   "outputs": [],
   "source": [
    "class Data(Dataset):\n",
    "    \n",
    "    def __init__(self, X_data_A,X_data_B, y_data):\n",
    "        self.X_data_A = X_data_A\n",
    "        self.X_data_B = X_data_B\n",
    "        self.y_data = y_data\n",
    "        \n",
    "    def __getitem__(self, index):\n",
    "        return self.X_data_A[index],self.X_data_B[index], self.y_data[index]\n",
    "        \n",
    "    def __len__ (self):\n",
    "        return len(self.X_data_A)"
   ]
  },
  {
   "cell_type": "code",
   "execution_count": 114,
   "id": "cbf7455f",
   "metadata": {},
   "outputs": [],
   "source": [
    "train_data = Data(torch.FloatTensor(train_features_Protein_A), torch.FloatTensor(train_features_Protein_B),\n",
    "                       torch.FloatTensor(train_label))\n",
    "\n",
    "test_data = Data(torch.FloatTensor(test_features_Protein_A), torch.FloatTensor(test_features_Protein_B),\n",
    "                       torch.FloatTensor(test_label))\n",
    "\n",
    "val_data = Data(torch.FloatTensor(val_features_Protein_A), torch.FloatTensor(val_features_Protein_B),\n",
    "                       torch.FloatTensor(val_label))"
   ]
  },
  {
   "cell_type": "code",
   "execution_count": 115,
   "id": "c0f2589d",
   "metadata": {},
   "outputs": [],
   "source": [
    "\n",
    "train_loader = DataLoader(dataset=train_data, batch_size=512, shuffle=True,drop_last=True)\n",
    "test_loader = DataLoader(dataset=test_data, batch_size=512,shuffle=True,drop_last=True )\n",
    "val_loader = DataLoader(dataset=val_data, batch_size=512,shuffle=True,drop_last=True )"
   ]
  },
  {
   "cell_type": "code",
   "execution_count": 116,
   "id": "ced5e5c3",
   "metadata": {},
   "outputs": [
    {
     "name": "stdout",
     "output_type": "stream",
     "text": [
      "torch.Size([512, 1024])\n",
      "torch.Size([512, 1024])\n",
      "torch.Size([512])\n"
     ]
    }
   ],
   "source": [
    "for i,j,k in train_loader:\n",
    "    print(i.shape)\n",
    "    print(j.shape)\n",
    "    print(k.shape)\n",
    "    break\n",
    "    "
   ]
  },
  {
   "cell_type": "markdown",
   "id": "070aa937",
   "metadata": {},
   "source": [
    "### 5. Building Models"
   ]
  },
  {
   "cell_type": "code",
   "execution_count": 117,
   "id": "317ccc0f",
   "metadata": {},
   "outputs": [],
   "source": [
    "class BertClassifier(nn.Module):\n",
    "    \n",
    "    def __init__(self,config, embed_dim =1024):\n",
    "        super(BertClassifier,self).__init__()\n",
    "        self.relu = nn.ReLU()\n",
    "        self.config = config\n",
    "        self.conv1  = nn.Conv1d(in_channels = 1,out_channels = 33, kernel_size = 10, stride=1)\n",
    "        self.fc1 = nn.Linear(33495,config['dim_1'])\n",
    "        self.fully_connected_layers_1 = nn.ModuleList([nn.Linear(config['dim_1']*2,config['dim_1']*2)\n",
    "                                                    for _ in range(config['layer_fc_1'])])\n",
    "        \n",
    "        \n",
    "    \n",
    "        self.fc_2 = nn.Linear(config['dim_1']*2,config['dim_2'])\n",
    "        self.fully_connected_layers_2 = nn.ModuleList([nn.Linear(config['dim_2'],config['dim_2'])\n",
    "                                                    for _ in range(config['layer_fc_2'])]) \n",
    "        self.bn2 = nn.BatchNorm1d(num_features=config['dim_2'])\n",
    "        self.fc3 = nn.Linear(config['dim_2'],config['dim_1'])\n",
    "        \n",
    "        self.fc4 = nn.Linear(config['dim_1'],256)\n",
    "        self.drop = nn.Dropout(p = 0.2)\n",
    "        self.fc5 = nn.Linear(256,128)\n",
    "        self.fc6 = nn.Linear(128,64)\n",
    "        self.fc7 = nn.Linear(64,32)\n",
    "        self.fc8 = nn.Linear(32,16)\n",
    "        self.fc9 = nn.Linear(16,8)\n",
    "        self.fc10 = nn.Linear(8,1)\n",
    "    \n",
    "    def forward(self, inputs_A,inputs_B):\n",
    "        \n",
    "        \n",
    "        inputs_A = inputs_A.reshape(512,1,1024)\n",
    "        output_conv_A = self.relu(self.conv1(inputs_A))\n",
    "        output_conv_A = output_conv_A.reshape(512,33495) \n",
    "        output_A = self.relu(self.fc1(output_conv_A))\n",
    "        \n",
    "        inputs_B = inputs_B.reshape(512,1,1024)\n",
    "        output_conv_B = self.relu(self.conv1(inputs_B))\n",
    "        output_conv_B = output_conv_B.reshape(512,33495) \n",
    "        output_B = self.relu(self.fc1(output_conv_B))\n",
    "        \n",
    "        \n",
    "        output = torch.cat((output_A, output_B),1)\n",
    "        for i in range(self.config['layer_fc_1']):\n",
    "            output = self.relu(self.fully_connected_layers_1[i](output))\n",
    "        output = self.relu(self.fc_2(output))\n",
    "        for i in range(self.config['layer_fc_2']):\n",
    "            output = self.relu(self.fully_connected_layers_2[i](output))\n",
    "            \n",
    "        output  = self.bn2(output)\n",
    "        output = self.relu(self.fc3(output))\n",
    "        if self.config['dropout']:\n",
    "            output = self.drop(output)\n",
    "            \n",
    "        output = self.relu(self.fc4(output))\n",
    "        output = self.relu(self.fc5(output))\n",
    "        output = self.relu(self.fc6(output))\n",
    "        output = self.fc7(output)\n",
    "        output = self.fc8(output)\n",
    "        output = self.fc9(output)\n",
    "        output = self.fc10(output)\n",
    "\n",
    "        return output"
   ]
  },
  {
   "cell_type": "code",
   "execution_count": 118,
   "id": "ae8abe36",
   "metadata": {},
   "outputs": [],
   "source": [
    "def build_optimizer(network, optimizer,learning_rate, momentum, weight_decay, amsgrad,momentum_decay):\n",
    "    \n",
    "    \n",
    "    if optimizer == \"sgd\":\n",
    "        optimizer_ = optim.SGD(network.parameters(),\n",
    "                              lr = learning_rate, momentum = momentum, weight_decay = weight_decay,\n",
    "                              )\n",
    "        \n",
    "        \n",
    "    elif optimizer == \"adam\":\n",
    "        optimizer_ = optim.Adam(network.parameters(),\n",
    "                               lr = learning_rate, betas = (0.9,0.999), weight_decay = weight_decay,\n",
    "                               amsgrad = amsgrad)\n",
    "        \n",
    "    elif optimizer == \"nadam\":\n",
    "        optimizer_ = torch.optim.NAdam(network.parameters(), lr = learning_rate, betas=(0.9, 0.999), eps=1e-08, weight_decay=  weight_decay, momentum_decay=momentum_decay, foreach=None)\n",
    "        \n",
    "        \n",
    "    elif optimizer == \"radam\":\n",
    "        optimizer_ = torch.optim.RAdam(network.parameters(), lr=learning_rate, betas=(0.9, 0.999), eps=1e-08, weight_decay=weight_decay, foreach=None)\n",
    "        \n",
    "    return optimizer_"
   ]
  },
  {
   "cell_type": "code",
   "execution_count": 119,
   "id": "187891f7",
   "metadata": {},
   "outputs": [
    {
     "name": "stdout",
     "output_type": "stream",
     "text": [
      "{'amsgrad': False,\n",
      " 'dim_1': 512,\n",
      " 'dim_2': 512,\n",
      " 'dropout': False,\n",
      " 'epochs': 100,\n",
      " 'layer_fc_1': 2,\n",
      " 'layer_fc_2': 2,\n",
      " 'learning_rate': 7e-05,\n",
      " 'momentum': 0.95,\n",
      " 'momentum_decay': 0.004,\n",
      " 'optimizer': 'adam',\n",
      " 'weight_decay': 0.0001}\n"
     ]
    }
   ],
   "source": [
    "# sweep_config = {\n",
    "#     'method': 'random'\n",
    "    \n",
    "#     }\n",
    "# metric = {\n",
    "#     'name': 'val_accuracy',\n",
    "#     'goal': 'maximize'   \n",
    "#     }\n",
    "# early_terminate = {\"type\": \"hyperband\",\n",
    "#       \"min_iter\": 3 }\n",
    "\n",
    "# sweep_config['metric'] = metric \n",
    "# sweep_config['early_terminate'] = early_terminate \n",
    "\n",
    "# parameters_dict = {\n",
    "    \n",
    "#     'layer_fc_1': {\n",
    "#         'values': [2]\n",
    "#         },\n",
    "   \n",
    "#     'dim_1': {\n",
    "#           'values': [2048]\n",
    "#         },\n",
    "    \n",
    "#     'layer_fc_2': {\n",
    "#         'values': [2]\n",
    "#         },\n",
    "#     'dim_2': {\n",
    "#           'values': [512]\n",
    "#         },\n",
    "    \n",
    "    \n",
    "#     'dropout': {\n",
    "#           'values': [False]\n",
    "#         },\n",
    "   \n",
    "    \n",
    "    \n",
    "#     'optimizer': {\n",
    "#           'values': ['adam',\"rms_prop\"]   #\n",
    "#         }\n",
    "#     ,\n",
    "  \n",
    "    \n",
    "#     'learning_rate': {\n",
    "#             'values':[0.0001,0.001,0.01,0.1]\n",
    "#         },\n",
    "    \n",
    "    \n",
    "#     'momentum': {\n",
    "#           'values': [0.95,0.9,0.99]\n",
    "#         },\n",
    "    \n",
    "#     'weight_decay': {\n",
    "#             'values': [0.009827436437331628,0.095,0.95]\n",
    "#         },\n",
    "   \n",
    "        \n",
    "#     'amsgrad': {\n",
    "#           'values': [False]\n",
    "#         },\n",
    "    \n",
    "    \n",
    "#     }\n",
    "\n",
    "\n",
    "# sweep_config['parameters'] = parameters_dict\n",
    "# parameters_dict.update({\n",
    "#     'epochs': {\n",
    "#         'value': 30}\n",
    "#     })\n",
    "\n",
    "\n",
    "# import pprint\n",
    "\n",
    "config = dict(layer_fc_1 = 2,\n",
    "        dim_1 = 512,\n",
    "        layer_fc_2 = 2,\n",
    "        dim_2 = 512,\n",
    "        dropout = False,\n",
    "        optimizer = 'adam',\n",
    "        learning_rate = 0.00007,\n",
    "        momentum = 0.95,\n",
    "        weight_decay = 0.0001,\n",
    "        amsgrad = False,\n",
    "        epochs = 100,\n",
    "        momentum_decay = 0.004)\n",
    "\n",
    "\n",
    "import pprint\n",
    "\n",
    "pprint.pprint(config)"
   ]
  },
  {
   "cell_type": "markdown",
   "id": "c5e114cc",
   "metadata": {},
   "source": [
    "### 6. Training"
   ]
  },
  {
   "cell_type": "code",
   "execution_count": 138,
   "id": "549fb3b6",
   "metadata": {},
   "outputs": [],
   "source": [
    "import random\n",
    "import time\n",
    "from tqdm import tqdm\n",
    "loss_fn = nn.BCEWithLogitsLoss()\n",
    "def train(config, train_dataloader,val_dataloader = None):\n",
    "    \n",
    "    best_accuracy = 0\n",
    "    device = torch.device(\"cuda:1\" if torch.cuda.is_available() else \"cpu\")\n",
    "    print(\"Start training...\\n\")\n",
    "    epochs = config['epochs']\n",
    "    \n",
    "    model = BertClassifier(config).to(device)\n",
    "    loss_fn = nn.BCEWithLogitsLoss()\n",
    "    optimizer,learning_rate, momentum, weight_decay, amsgrad,momentum_decay = config['optimizer'],config['learning_rate'], config['momentum'], config['weight_decay'], config['amsgrad'],config['momentum_decay']\n",
    "    optimizer = build_optimizer(model,optimizer,learning_rate, momentum, weight_decay, amsgrad,momentum_decay)\n",
    "    scheduler1 = torch.optim.lr_scheduler.ExponentialLR(optimizer, gamma=0.09)\n",
    "    scheduler2 = torch.optim.lr_scheduler.MultiStepLR(optimizer, milestones=[10,15], gamma=0.1)\n",
    "    \n",
    "    for epoch_i in range(1,epochs+1):\n",
    "        \n",
    "        total_loss = 0\n",
    "        model.train()\n",
    "        \n",
    "        for step,batch in tqdm(enumerate(train_dataloader)):\n",
    "            \n",
    "            inputs_A,inputs_B, b_labels = tuple(t.to(device) for t in batch)\n",
    "            b_labels = b_labels.reshape((1,512,1)).squeeze(0)\n",
    "            model.zero_grad()\n",
    "            logits = model(inputs_A,inputs_B)\n",
    "            loss = loss_fn(logits,b_labels.float()) \n",
    "            total_loss += loss.item()\n",
    "            loss.mean().backward()\n",
    "            optimizer.step()\n",
    "        scheduler1.step()\n",
    "        scheduler2.step()\n",
    "               \n",
    "        avg_train_loss = total_loss / len(train_dataloader)\n",
    "        \n",
    "    \n",
    "        if val_dataloader is not None:\n",
    "                \n",
    "                val_loss, val_accuracy = evaluate(model, val_dataloader)\n",
    "                print(f\"best accuracy {best_accuracy}\")\n",
    "                if val_accuracy > best_accuracy:\n",
    "                    best_accuracy = val_accuracy\n",
    "                    torch.save({\n",
    "                        'epoch': epoch_i ,\n",
    "                        'model_state_dict': model.state_dict(),\n",
    "                        'optimizer_state_dict': optimizer.state_dict(),\n",
    "                        'loss': loss_fn,\n",
    "                        }, 'best_model_trained_fc_v3.pth')\n",
    "        \n",
    "                \n",
    "        print(f\"Epoch: {epoch_i} | Training Loss: {avg_train_loss}  | Validation Loss: {val_loss}  | Accuracy: {val_accuracy:.2f}\")\n",
    "        with open('result.txt', 'a') as f:\n",
    "            print(f\"Epoch: {epoch_i} | Training Loss: {avg_train_loss}  | Validation Loss: {val_loss}  | Accuracy: {val_accuracy:.2f}\", file=f) \n",
    "    print(\"\\n\")\n",
    "   \n",
    "    print(f\"Training complete! Best accuracy: {best_accuracy:.2f}%.\")\n",
    "    \n",
    "\n",
    "def evaluate(model,val_dataloader):\n",
    "    \n",
    "    \n",
    "    model.eval()\n",
    "    val_accuracy = []\n",
    "    val_loss = []\n",
    "    for batch in tqdm(val_dataloader):\n",
    "       \n",
    "        device = torch.device(\"cuda:1\" if torch.cuda.is_available() else \"cpu\")\n",
    "        inputs_A,inputs_B ,b_labels = tuple(t.to(device) for t in batch)\n",
    "        b_labels = b_labels.reshape((1,512,1)).squeeze(0)\n",
    "        with torch.no_grad():\n",
    "                logits = model(inputs_A,inputs_B)\n",
    "        \n",
    "        loss = loss_fn(logits, b_labels.float())\n",
    "        val_loss.append(loss.item())\n",
    "        preds = torch.round(torch.sigmoid(logits))\n",
    "        \n",
    "        accuracy = (preds.float() == b_labels.float()).cpu().numpy().mean() * 100\n",
    "        val_accuracy.append(accuracy)\n",
    "    \n",
    "    val_loss = np.mean(val_loss)\n",
    "    val_accuracy = np.mean(val_accuracy)\n",
    "\n",
    "    return val_loss, val_accuracy "
   ]
  },
  {
   "cell_type": "code",
   "execution_count": 139,
   "id": "68fcd769",
   "metadata": {},
   "outputs": [],
   "source": [
    "def make(config):\n",
    "    # Make the data\n",
    "    if torch.cuda.is_available():\n",
    "        device = torch.device(\"cuda:1\")\n",
    "        print('The code uses GPU...')\n",
    "    else:\n",
    "        device = torch.device('cpu')\n",
    "        print('The code uses CPU!!!')\n",
    "\n",
    "    \n",
    "    model = BertClassifier(config).to(device)\n",
    "\n",
    "    # Make the loss and optimizer\n",
    "    criterion = nn.BCEWithLogitsLoss()\n",
    "    optimizer,learning_rate, momentum, weight_decay, amsgrad,momentum_decay = config['optimizer'],config['learning_rate'], config['momentum'], config['weight_decay'], config['amsgrad'],config['momentum_decay']\n",
    "    optimizer = build_optimizer(model,optimizer,learning_rate, momentum, weight_decay, amsgrad,momentum_decay)\n",
    "    \n",
    "    return model, criterion, optimizer"
   ]
  },
  {
   "cell_type": "code",
   "execution_count": 140,
   "id": "ee1d948b",
   "metadata": {},
   "outputs": [],
   "source": [
    "def model_pipeline(config=None):\n",
    "\n",
    "    # tell wandb to get started\n",
    "    \n",
    "      # access all HPs through wandb.config, so logging matches execution!\n",
    "      \n",
    "      \n",
    "      # make the model, data, and optimization problem\n",
    "      \n",
    "      \n",
    "      \n",
    "      # and use them to train the model\n",
    "      train(config, train_loader,val_dataloader = val_loader)\n",
    "     \n",
    "      for i,j in test_loader:\n",
    "          x = i\n",
    "     \n"
   ]
  },
  {
   "cell_type": "code",
   "execution_count": 141,
   "id": "bb9c4e8e",
   "metadata": {},
   "outputs": [
    {
     "name": "stdout",
     "output_type": "stream",
     "text": [
      "{'amsgrad': False,\n",
      " 'dim_1': 256,\n",
      " 'dim_2': 256,\n",
      " 'dropout': False,\n",
      " 'epochs': 100,\n",
      " 'layer_fc_1': 1,\n",
      " 'layer_fc_2': 1,\n",
      " 'learning_rate': 7e-05,\n",
      " 'momentum': 0.85,\n",
      " 'momentum_decay': 0.04,\n",
      " 'optimizer': 'adam',\n",
      " 'weight_decay': 1e-05}\n",
      "Start training...\n",
      "\n"
     ]
    },
    {
     "name": "stderr",
     "output_type": "stream",
     "text": [
      "155it [00:03, 50.38it/s]\n",
      "100%|██████████| 3/3 [00:00<00:00, 70.26it/s]\n"
     ]
    },
    {
     "name": "stdout",
     "output_type": "stream",
     "text": [
      "best accuracy 0\n",
      "Epoch: 1 | Training Loss: 0.5884150495452266  | Validation Loss: 0.5400416652361552  | Accuracy: 72.92\n"
     ]
    },
    {
     "name": "stderr",
     "output_type": "stream",
     "text": [
      "155it [00:03, 50.36it/s]\n",
      "100%|██████████| 3/3 [00:00<00:00, 70.64it/s]\n"
     ]
    },
    {
     "name": "stdout",
     "output_type": "stream",
     "text": [
      "best accuracy 72.91666666666667\n",
      "Epoch: 2 | Training Loss: 0.45559899576248664  | Validation Loss: 0.5162798464298248  | Accuracy: 75.00\n"
     ]
    },
    {
     "name": "stderr",
     "output_type": "stream",
     "text": [
      "155it [00:03, 46.55it/s]\n",
      "100%|██████████| 3/3 [00:00<00:00, 68.87it/s]\n"
     ]
    },
    {
     "name": "stdout",
     "output_type": "stream",
     "text": [
      "best accuracy 75.0\n",
      "Epoch: 3 | Training Loss: 0.43983732442702017  | Validation Loss: 0.5167311231295267  | Accuracy: 75.00\n"
     ]
    },
    {
     "name": "stderr",
     "output_type": "stream",
     "text": [
      "155it [00:03, 49.38it/s]\n",
      "100%|██████████| 3/3 [00:00<00:00, 68.09it/s]\n"
     ]
    },
    {
     "name": "stdout",
     "output_type": "stream",
     "text": [
      "best accuracy 75.0\n",
      "Epoch: 4 | Training Loss: 0.4381897909025992  | Validation Loss: 0.5099599361419678  | Accuracy: 75.39\n"
     ]
    },
    {
     "name": "stderr",
     "output_type": "stream",
     "text": [
      "155it [00:03, 49.40it/s]\n",
      "100%|██████████| 3/3 [00:00<00:00, 67.85it/s]\n"
     ]
    },
    {
     "name": "stdout",
     "output_type": "stream",
     "text": [
      "best accuracy 75.390625\n",
      "Epoch: 5 | Training Loss: 0.43849333428567455  | Validation Loss: 0.5206258296966553  | Accuracy: 74.48\n"
     ]
    },
    {
     "name": "stderr",
     "output_type": "stream",
     "text": [
      "155it [00:03, 45.72it/s]\n",
      "100%|██████████| 3/3 [00:00<00:00, 69.65it/s]\n"
     ]
    },
    {
     "name": "stdout",
     "output_type": "stream",
     "text": [
      "best accuracy 75.390625\n",
      "Epoch: 6 | Training Loss: 0.43819870237381225  | Validation Loss: 0.5228941837946574  | Accuracy: 74.48\n"
     ]
    },
    {
     "name": "stderr",
     "output_type": "stream",
     "text": [
      "155it [00:03, 49.39it/s]\n",
      "100%|██████████| 3/3 [00:00<00:00, 69.96it/s]\n"
     ]
    },
    {
     "name": "stdout",
     "output_type": "stream",
     "text": [
      "best accuracy 75.390625\n",
      "Epoch: 7 | Training Loss: 0.4382821604128807  | Validation Loss: 0.5231680075327555  | Accuracy: 74.61\n"
     ]
    },
    {
     "name": "stderr",
     "output_type": "stream",
     "text": [
      "155it [00:03, 49.45it/s]\n",
      "100%|██████████| 3/3 [00:00<00:00, 69.15it/s]\n"
     ]
    },
    {
     "name": "stdout",
     "output_type": "stream",
     "text": [
      "best accuracy 75.390625\n",
      "Epoch: 8 | Training Loss: 0.438079825908907  | Validation Loss: 0.5193617443243662  | Accuracy: 74.61\n"
     ]
    },
    {
     "name": "stderr",
     "output_type": "stream",
     "text": [
      "155it [00:03, 45.91it/s]\n",
      "100%|██████████| 3/3 [00:00<00:00, 69.22it/s]\n"
     ]
    },
    {
     "name": "stdout",
     "output_type": "stream",
     "text": [
      "best accuracy 75.390625\n",
      "Epoch: 9 | Training Loss: 0.43832576505599485  | Validation Loss: 0.5193424622217814  | Accuracy: 74.54\n"
     ]
    },
    {
     "name": "stderr",
     "output_type": "stream",
     "text": [
      "155it [00:03, 49.34it/s]\n",
      "100%|██████████| 3/3 [00:00<00:00, 69.25it/s]\n"
     ]
    },
    {
     "name": "stdout",
     "output_type": "stream",
     "text": [
      "best accuracy 75.390625\n",
      "Epoch: 10 | Training Loss: 0.4383297724108542  | Validation Loss: 0.518080602089564  | Accuracy: 74.87\n"
     ]
    },
    {
     "name": "stderr",
     "output_type": "stream",
     "text": [
      "155it [00:03, 49.39it/s]\n",
      "100%|██████████| 3/3 [00:00<00:00, 77.61it/s]\n"
     ]
    },
    {
     "name": "stdout",
     "output_type": "stream",
     "text": [
      "best accuracy 75.390625\n",
      "Epoch: 11 | Training Loss: 0.43816626129611846  | Validation Loss: 0.519973615805308  | Accuracy: 75.00\n"
     ]
    },
    {
     "name": "stderr",
     "output_type": "stream",
     "text": [
      "155it [00:03, 46.01it/s]\n",
      "100%|██████████| 3/3 [00:00<00:00, 68.33it/s]\n"
     ]
    },
    {
     "name": "stdout",
     "output_type": "stream",
     "text": [
      "best accuracy 75.390625\n",
      "Epoch: 12 | Training Loss: 0.4384944158215677  | Validation Loss: 0.5181633730729421  | Accuracy: 74.74\n"
     ]
    },
    {
     "name": "stderr",
     "output_type": "stream",
     "text": [
      "155it [00:03, 49.71it/s]\n",
      "100%|██████████| 3/3 [00:00<00:00, 73.86it/s]\n"
     ]
    },
    {
     "name": "stdout",
     "output_type": "stream",
     "text": [
      "best accuracy 75.390625\n",
      "Epoch: 13 | Training Loss: 0.4385120068826983  | Validation Loss: 0.5131854812304179  | Accuracy: 75.07\n"
     ]
    },
    {
     "name": "stderr",
     "output_type": "stream",
     "text": [
      "155it [00:03, 49.45it/s]\n",
      "100%|██████████| 3/3 [00:00<00:00, 68.13it/s]\n"
     ]
    },
    {
     "name": "stdout",
     "output_type": "stream",
     "text": [
      "best accuracy 75.390625\n",
      "Epoch: 14 | Training Loss: 0.43825615067635815  | Validation Loss: 0.5234959522883097  | Accuracy: 74.15\n"
     ]
    },
    {
     "name": "stderr",
     "output_type": "stream",
     "text": [
      "155it [00:03, 46.13it/s]\n",
      "100%|██████████| 3/3 [00:00<00:00, 67.77it/s]\n"
     ]
    },
    {
     "name": "stdout",
     "output_type": "stream",
     "text": [
      "best accuracy 75.390625\n",
      "Epoch: 15 | Training Loss: 0.43869044780731203  | Validation Loss: 0.5120989680290222  | Accuracy: 75.20\n"
     ]
    },
    {
     "name": "stderr",
     "output_type": "stream",
     "text": [
      "155it [00:03, 49.01it/s]\n",
      "100%|██████████| 3/3 [00:00<00:00, 69.63it/s]\n"
     ]
    },
    {
     "name": "stdout",
     "output_type": "stream",
     "text": [
      "best accuracy 75.390625\n",
      "Epoch: 16 | Training Loss: 0.4382560366584409  | Validation Loss: 0.5134421785672506  | Accuracy: 75.26\n"
     ]
    },
    {
     "name": "stderr",
     "output_type": "stream",
     "text": [
      "155it [00:03, 49.51it/s]\n",
      "100%|██████████| 3/3 [00:00<00:00, 69.75it/s]\n"
     ]
    },
    {
     "name": "stdout",
     "output_type": "stream",
     "text": [
      "best accuracy 75.390625\n",
      "Epoch: 17 | Training Loss: 0.43836645618561776  | Validation Loss: 0.5161235829194387  | Accuracy: 74.87\n"
     ]
    },
    {
     "name": "stderr",
     "output_type": "stream",
     "text": [
      "155it [00:03, 49.65it/s]\n",
      "100%|██████████| 3/3 [00:00<00:00, 68.84it/s]\n"
     ]
    },
    {
     "name": "stdout",
     "output_type": "stream",
     "text": [
      "best accuracy 75.390625\n",
      "Epoch: 18 | Training Loss: 0.43837068984585426  | Validation Loss: 0.5216646989186605  | Accuracy: 74.54\n"
     ]
    },
    {
     "name": "stderr",
     "output_type": "stream",
     "text": [
      "155it [00:03, 49.22it/s]\n",
      "100%|██████████| 3/3 [00:00<00:00, 70.29it/s]\n"
     ]
    },
    {
     "name": "stdout",
     "output_type": "stream",
     "text": [
      "best accuracy 75.390625\n",
      "Epoch: 19 | Training Loss: 0.4378655066413264  | Validation Loss: 0.5121968984603882  | Accuracy: 74.87\n"
     ]
    },
    {
     "name": "stderr",
     "output_type": "stream",
     "text": [
      "155it [00:03, 46.20it/s]\n",
      "100%|██████████| 3/3 [00:00<00:00, 69.74it/s]\n"
     ]
    },
    {
     "name": "stdout",
     "output_type": "stream",
     "text": [
      "best accuracy 75.390625\n",
      "Epoch: 20 | Training Loss: 0.4380676111867351  | Validation Loss: 0.5194561084111532  | Accuracy: 74.54\n"
     ]
    },
    {
     "name": "stderr",
     "output_type": "stream",
     "text": [
      "155it [00:03, 49.56it/s]\n",
      "100%|██████████| 3/3 [00:00<00:00, 70.10it/s]\n"
     ]
    },
    {
     "name": "stdout",
     "output_type": "stream",
     "text": [
      "best accuracy 75.390625\n",
      "Epoch: 21 | Training Loss: 0.43793478588904106  | Validation Loss: 0.5237301190694174  | Accuracy: 74.22\n"
     ]
    },
    {
     "name": "stderr",
     "output_type": "stream",
     "text": [
      "155it [00:03, 49.51it/s]\n",
      "100%|██████████| 3/3 [00:00<00:00, 68.82it/s]\n"
     ]
    },
    {
     "name": "stdout",
     "output_type": "stream",
     "text": [
      "best accuracy 75.390625\n",
      "Epoch: 22 | Training Loss: 0.438488019281818  | Validation Loss: 0.5216884811719259  | Accuracy: 74.54\n"
     ]
    },
    {
     "name": "stderr",
     "output_type": "stream",
     "text": [
      "155it [00:03, 46.03it/s]\n",
      "100%|██████████| 3/3 [00:00<00:00, 69.52it/s]\n"
     ]
    },
    {
     "name": "stdout",
     "output_type": "stream",
     "text": [
      "best accuracy 75.390625\n",
      "Epoch: 23 | Training Loss: 0.43828402526917  | Validation Loss: 0.5175898770491282  | Accuracy: 74.87\n"
     ]
    },
    {
     "name": "stderr",
     "output_type": "stream",
     "text": [
      "155it [00:03, 49.66it/s]\n",
      "100%|██████████| 3/3 [00:00<00:00, 70.17it/s]\n"
     ]
    },
    {
     "name": "stdout",
     "output_type": "stream",
     "text": [
      "best accuracy 75.390625\n",
      "Epoch: 24 | Training Loss: 0.43817469842972295  | Validation Loss: 0.5196505089600881  | Accuracy: 74.41\n"
     ]
    },
    {
     "name": "stderr",
     "output_type": "stream",
     "text": [
      "155it [00:03, 46.10it/s]\n",
      "100%|██████████| 3/3 [00:00<00:00, 68.16it/s]\n"
     ]
    },
    {
     "name": "stdout",
     "output_type": "stream",
     "text": [
      "best accuracy 75.390625\n",
      "Epoch: 25 | Training Loss: 0.43823693010114856  | Validation Loss: 0.5150837500890096  | Accuracy: 75.07\n"
     ]
    },
    {
     "name": "stderr",
     "output_type": "stream",
     "text": [
      "155it [00:03, 49.27it/s]\n",
      "100%|██████████| 3/3 [00:00<00:00, 69.25it/s]\n"
     ]
    },
    {
     "name": "stdout",
     "output_type": "stream",
     "text": [
      "best accuracy 75.390625\n",
      "Epoch: 26 | Training Loss: 0.4384529819411616  | Validation Loss: 0.513094445069631  | Accuracy: 75.07\n"
     ]
    },
    {
     "name": "stderr",
     "output_type": "stream",
     "text": [
      "155it [00:03, 49.62it/s]\n",
      "100%|██████████| 3/3 [00:00<00:00, 70.17it/s]\n"
     ]
    },
    {
     "name": "stdout",
     "output_type": "stream",
     "text": [
      "best accuracy 75.390625\n",
      "Epoch: 27 | Training Loss: 0.43818537765933624  | Validation Loss: 0.5207540988922119  | Accuracy: 74.74\n"
     ]
    },
    {
     "name": "stderr",
     "output_type": "stream",
     "text": [
      "155it [00:03, 49.43it/s]\n",
      "100%|██████████| 3/3 [00:00<00:00, 69.84it/s]\n"
     ]
    },
    {
     "name": "stdout",
     "output_type": "stream",
     "text": [
      "best accuracy 75.390625\n",
      "Epoch: 28 | Training Loss: 0.4384802031901575  | Validation Loss: 0.5208157102266947  | Accuracy: 74.67\n"
     ]
    },
    {
     "name": "stderr",
     "output_type": "stream",
     "text": [
      "155it [00:03, 45.74it/s]\n",
      "100%|██████████| 3/3 [00:00<00:00, 68.76it/s]\n"
     ]
    },
    {
     "name": "stdout",
     "output_type": "stream",
     "text": [
      "best accuracy 75.390625\n",
      "Epoch: 29 | Training Loss: 0.4383002898385448  | Validation Loss: 0.5161800980567932  | Accuracy: 75.07\n"
     ]
    },
    {
     "name": "stderr",
     "output_type": "stream",
     "text": [
      "155it [00:03, 49.59it/s]\n",
      "100%|██████████| 3/3 [00:00<00:00, 69.45it/s]\n"
     ]
    },
    {
     "name": "stdout",
     "output_type": "stream",
     "text": [
      "best accuracy 75.390625\n",
      "Epoch: 30 | Training Loss: 0.43818801641464233  | Validation Loss: 0.5203109383583069  | Accuracy: 74.54\n"
     ]
    },
    {
     "name": "stderr",
     "output_type": "stream",
     "text": [
      "155it [00:03, 45.95it/s]\n",
      "100%|██████████| 3/3 [00:00<00:00, 69.61it/s]\n"
     ]
    },
    {
     "name": "stdout",
     "output_type": "stream",
     "text": [
      "best accuracy 75.390625\n",
      "Epoch: 31 | Training Loss: 0.43871129635841616  | Validation Loss: 0.5194349884986877  | Accuracy: 75.00\n"
     ]
    },
    {
     "name": "stderr",
     "output_type": "stream",
     "text": [
      "155it [00:03, 49.58it/s]\n",
      "100%|██████████| 3/3 [00:00<00:00, 69.30it/s]\n"
     ]
    },
    {
     "name": "stdout",
     "output_type": "stream",
     "text": [
      "best accuracy 75.390625\n",
      "Epoch: 32 | Training Loss: 0.43862001665176886  | Validation Loss: 0.5184207955996195  | Accuracy: 74.48\n"
     ]
    },
    {
     "name": "stderr",
     "output_type": "stream",
     "text": [
      "155it [00:03, 49.63it/s]\n",
      "100%|██████████| 3/3 [00:00<00:00, 76.91it/s]\n"
     ]
    },
    {
     "name": "stdout",
     "output_type": "stream",
     "text": [
      "best accuracy 75.390625\n",
      "Epoch: 33 | Training Loss: 0.4380664477425237  | Validation Loss: 0.5123016635576884  | Accuracy: 75.39\n"
     ]
    },
    {
     "name": "stderr",
     "output_type": "stream",
     "text": [
      "155it [00:03, 49.54it/s]\n",
      "100%|██████████| 3/3 [00:00<00:00, 69.85it/s]\n"
     ]
    },
    {
     "name": "stdout",
     "output_type": "stream",
     "text": [
      "best accuracy 75.390625\n",
      "Epoch: 34 | Training Loss: 0.438270386380534  | Validation Loss: 0.5212702453136444  | Accuracy: 74.61\n"
     ]
    },
    {
     "name": "stderr",
     "output_type": "stream",
     "text": [
      "155it [00:03, 49.62it/s]\n",
      "100%|██████████| 3/3 [00:00<00:00, 67.97it/s]\n"
     ]
    },
    {
     "name": "stdout",
     "output_type": "stream",
     "text": [
      "best accuracy 75.390625\n",
      "Epoch: 35 | Training Loss: 0.4381669500181752  | Validation Loss: 0.514831135670344  | Accuracy: 74.80\n"
     ]
    },
    {
     "name": "stderr",
     "output_type": "stream",
     "text": [
      "155it [00:03, 45.68it/s]\n",
      "100%|██████████| 3/3 [00:00<00:00, 68.92it/s]\n"
     ]
    },
    {
     "name": "stdout",
     "output_type": "stream",
     "text": [
      "best accuracy 75.390625\n",
      "Epoch: 36 | Training Loss: 0.43851785044516284  | Validation Loss: 0.512914220492045  | Accuracy: 75.00\n"
     ]
    },
    {
     "name": "stderr",
     "output_type": "stream",
     "text": [
      "155it [00:03, 49.17it/s]\n",
      "100%|██████████| 3/3 [00:00<00:00, 68.78it/s]\n"
     ]
    },
    {
     "name": "stdout",
     "output_type": "stream",
     "text": [
      "best accuracy 75.390625\n",
      "Epoch: 37 | Training Loss: 0.43830032713951605  | Validation Loss: 0.5144792099793752  | Accuracy: 74.93\n"
     ]
    },
    {
     "name": "stderr",
     "output_type": "stream",
     "text": [
      "155it [00:03, 49.47it/s]\n",
      "100%|██████████| 3/3 [00:00<00:00, 69.47it/s]\n"
     ]
    },
    {
     "name": "stdout",
     "output_type": "stream",
     "text": [
      "best accuracy 75.390625\n",
      "Epoch: 38 | Training Loss: 0.4380388811711342  | Validation Loss: 0.5163825651009878  | Accuracy: 74.80\n"
     ]
    },
    {
     "name": "stderr",
     "output_type": "stream",
     "text": [
      "155it [00:03, 46.22it/s]\n",
      "100%|██████████| 3/3 [00:00<00:00, 69.14it/s]\n"
     ]
    },
    {
     "name": "stdout",
     "output_type": "stream",
     "text": [
      "best accuracy 75.390625\n",
      "Epoch: 39 | Training Loss: 0.43799181253679337  | Validation Loss: 0.5162126620610555  | Accuracy: 74.93\n"
     ]
    },
    {
     "name": "stderr",
     "output_type": "stream",
     "text": [
      "155it [00:03, 49.24it/s]\n",
      "100%|██████████| 3/3 [00:00<00:00, 74.28it/s]\n"
     ]
    },
    {
     "name": "stdout",
     "output_type": "stream",
     "text": [
      "best accuracy 75.390625\n",
      "Epoch: 40 | Training Loss: 0.43866238305645605  | Validation Loss: 0.5024237235387167  | Accuracy: 75.65\n"
     ]
    },
    {
     "name": "stderr",
     "output_type": "stream",
     "text": [
      "155it [00:03, 49.49it/s]\n",
      "100%|██████████| 3/3 [00:00<00:00, 70.02it/s]\n"
     ]
    },
    {
     "name": "stdout",
     "output_type": "stream",
     "text": [
      "best accuracy 75.65104166666667\n",
      "Epoch: 41 | Training Loss: 0.43865638086872716  | Validation Loss: 0.5151950716972351  | Accuracy: 74.93\n"
     ]
    },
    {
     "name": "stderr",
     "output_type": "stream",
     "text": [
      "155it [00:03, 46.00it/s]\n",
      "100%|██████████| 3/3 [00:00<00:00, 67.76it/s]\n"
     ]
    },
    {
     "name": "stdout",
     "output_type": "stream",
     "text": [
      "best accuracy 75.65104166666667\n",
      "Epoch: 42 | Training Loss: 0.4382599997904993  | Validation Loss: 0.5245776573816935  | Accuracy: 74.41\n"
     ]
    },
    {
     "name": "stderr",
     "output_type": "stream",
     "text": [
      "155it [00:03, 49.23it/s]\n",
      "100%|██████████| 3/3 [00:00<00:00, 68.64it/s]\n"
     ]
    },
    {
     "name": "stdout",
     "output_type": "stream",
     "text": [
      "best accuracy 75.65104166666667\n",
      "Epoch: 43 | Training Loss: 0.4383506111560329  | Validation Loss: 0.5201704899470011  | Accuracy: 74.41\n"
     ]
    },
    {
     "name": "stderr",
     "output_type": "stream",
     "text": [
      "155it [00:03, 48.75it/s]\n",
      "100%|██████████| 3/3 [00:00<00:00, 68.40it/s]\n"
     ]
    },
    {
     "name": "stdout",
     "output_type": "stream",
     "text": [
      "best accuracy 75.65104166666667\n",
      "Epoch: 44 | Training Loss: 0.438204469988423  | Validation Loss: 0.5254964033762614  | Accuracy: 74.22\n"
     ]
    },
    {
     "name": "stderr",
     "output_type": "stream",
     "text": [
      "155it [00:03, 45.61it/s]\n",
      "100%|██████████| 3/3 [00:00<00:00, 68.99it/s]\n"
     ]
    },
    {
     "name": "stdout",
     "output_type": "stream",
     "text": [
      "best accuracy 75.65104166666667\n",
      "Epoch: 45 | Training Loss: 0.43833802823097473  | Validation Loss: 0.514864424864451  | Accuracy: 74.87\n"
     ]
    },
    {
     "name": "stderr",
     "output_type": "stream",
     "text": [
      "155it [00:03, 49.58it/s]\n",
      "100%|██████████| 3/3 [00:00<00:00, 70.06it/s]\n"
     ]
    },
    {
     "name": "stdout",
     "output_type": "stream",
     "text": [
      "best accuracy 75.65104166666667\n",
      "Epoch: 46 | Training Loss: 0.43826047201310436  | Validation Loss: 0.5178589820861816  | Accuracy: 74.80\n"
     ]
    },
    {
     "name": "stderr",
     "output_type": "stream",
     "text": [
      "155it [00:03, 49.44it/s]\n",
      "100%|██████████| 3/3 [00:00<00:00, 67.69it/s]\n"
     ]
    },
    {
     "name": "stdout",
     "output_type": "stream",
     "text": [
      "best accuracy 75.65104166666667\n",
      "Epoch: 47 | Training Loss: 0.4382505338038168  | Validation Loss: 0.520646870136261  | Accuracy: 74.48\n"
     ]
    },
    {
     "name": "stderr",
     "output_type": "stream",
     "text": [
      "155it [00:03, 45.87it/s]\n",
      "100%|██████████| 3/3 [00:00<00:00, 72.49it/s]\n"
     ]
    },
    {
     "name": "stdout",
     "output_type": "stream",
     "text": [
      "best accuracy 75.65104166666667\n",
      "Epoch: 48 | Training Loss: 0.4383307651165993  | Validation Loss: 0.5170087615648905  | Accuracy: 74.74\n"
     ]
    },
    {
     "name": "stderr",
     "output_type": "stream",
     "text": [
      "155it [00:03, 48.91it/s]\n",
      "100%|██████████| 3/3 [00:00<00:00, 67.94it/s]\n"
     ]
    },
    {
     "name": "stdout",
     "output_type": "stream",
     "text": [
      "best accuracy 75.65104166666667\n",
      "Epoch: 49 | Training Loss: 0.43803377343762306  | Validation Loss: 0.519640843073527  | Accuracy: 74.48\n"
     ]
    },
    {
     "name": "stderr",
     "output_type": "stream",
     "text": [
      "155it [00:03, 49.29it/s]\n",
      "100%|██████████| 3/3 [00:00<00:00, 66.05it/s]\n"
     ]
    },
    {
     "name": "stdout",
     "output_type": "stream",
     "text": [
      "best accuracy 75.65104166666667\n",
      "Epoch: 50 | Training Loss: 0.4379986155417658  | Validation Loss: 0.518661896387736  | Accuracy: 74.74\n"
     ]
    },
    {
     "name": "stderr",
     "output_type": "stream",
     "text": [
      "155it [00:03, 45.88it/s]\n",
      "100%|██████████| 3/3 [00:00<00:00, 70.09it/s]\n"
     ]
    },
    {
     "name": "stdout",
     "output_type": "stream",
     "text": [
      "best accuracy 75.65104166666667\n",
      "Epoch: 51 | Training Loss: 0.43791879607785134  | Validation Loss: 0.5162906448046366  | Accuracy: 75.07\n"
     ]
    },
    {
     "name": "stderr",
     "output_type": "stream",
     "text": [
      "155it [00:03, 49.43it/s]\n",
      "100%|██████████| 3/3 [00:00<00:00, 69.69it/s]\n"
     ]
    },
    {
     "name": "stdout",
     "output_type": "stream",
     "text": [
      "best accuracy 75.65104166666667\n",
      "Epoch: 52 | Training Loss: 0.4381064718769443  | Validation Loss: 0.5184447268644968  | Accuracy: 75.07\n"
     ]
    },
    {
     "name": "stderr",
     "output_type": "stream",
     "text": [
      "155it [00:03, 45.71it/s]\n",
      "100%|██████████| 3/3 [00:00<00:00, 67.99it/s]\n"
     ]
    },
    {
     "name": "stdout",
     "output_type": "stream",
     "text": [
      "best accuracy 75.65104166666667\n",
      "Epoch: 53 | Training Loss: 0.43830524586862135  | Validation Loss: 0.5138219197591146  | Accuracy: 75.26\n"
     ]
    },
    {
     "name": "stderr",
     "output_type": "stream",
     "text": [
      "155it [00:03, 49.38it/s]\n",
      "100%|██████████| 3/3 [00:00<00:00, 69.10it/s]\n"
     ]
    },
    {
     "name": "stdout",
     "output_type": "stream",
     "text": [
      "best accuracy 75.65104166666667\n",
      "Epoch: 54 | Training Loss: 0.4384203045598922  | Validation Loss: 0.517377108335495  | Accuracy: 75.07\n"
     ]
    },
    {
     "name": "stderr",
     "output_type": "stream",
     "text": [
      "155it [00:03, 49.47it/s]\n",
      "100%|██████████| 3/3 [00:00<00:00, 68.54it/s]\n"
     ]
    },
    {
     "name": "stdout",
     "output_type": "stream",
     "text": [
      "best accuracy 75.65104166666667\n",
      "Epoch: 55 | Training Loss: 0.43884330065019667  | Validation Loss: 0.5191065073013306  | Accuracy: 74.61\n"
     ]
    },
    {
     "name": "stderr",
     "output_type": "stream",
     "text": [
      "155it [00:03, 49.40it/s]\n",
      "100%|██████████| 3/3 [00:00<00:00, 69.35it/s]\n"
     ]
    },
    {
     "name": "stdout",
     "output_type": "stream",
     "text": [
      "best accuracy 75.65104166666667\n",
      "Epoch: 56 | Training Loss: 0.4380667951799208  | Validation Loss: 0.5163869261741638  | Accuracy: 74.80\n"
     ]
    },
    {
     "name": "stderr",
     "output_type": "stream",
     "text": [
      "155it [00:03, 45.87it/s]\n",
      "100%|██████████| 3/3 [00:00<00:00, 68.92it/s]\n"
     ]
    },
    {
     "name": "stdout",
     "output_type": "stream",
     "text": [
      "best accuracy 75.65104166666667\n",
      "Epoch: 57 | Training Loss: 0.4381325060321439  | Validation Loss: 0.5171574254830679  | Accuracy: 74.67\n"
     ]
    },
    {
     "name": "stderr",
     "output_type": "stream",
     "text": [
      "155it [00:03, 49.27it/s]\n",
      "100%|██████████| 3/3 [00:00<00:00, 69.97it/s]\n"
     ]
    },
    {
     "name": "stdout",
     "output_type": "stream",
     "text": [
      "best accuracy 75.65104166666667\n",
      "Epoch: 58 | Training Loss: 0.4381982482248737  | Validation Loss: 0.525213360786438  | Accuracy: 74.09\n"
     ]
    },
    {
     "name": "stderr",
     "output_type": "stream",
     "text": [
      "155it [00:03, 49.67it/s]\n",
      "100%|██████████| 3/3 [00:00<00:00, 68.13it/s]\n"
     ]
    },
    {
     "name": "stdout",
     "output_type": "stream",
     "text": [
      "best accuracy 75.65104166666667\n",
      "Epoch: 59 | Training Loss: 0.4384203705095476  | Validation Loss: 0.5159481763839722  | Accuracy: 75.13\n"
     ]
    },
    {
     "name": "stderr",
     "output_type": "stream",
     "text": [
      "155it [00:03, 45.56it/s]\n",
      "100%|██████████| 3/3 [00:00<00:00, 68.08it/s]\n"
     ]
    },
    {
     "name": "stdout",
     "output_type": "stream",
     "text": [
      "best accuracy 75.65104166666667\n",
      "Epoch: 60 | Training Loss: 0.438071895030237  | Validation Loss: 0.5147464871406555  | Accuracy: 74.93\n"
     ]
    },
    {
     "name": "stderr",
     "output_type": "stream",
     "text": [
      "155it [00:03, 49.09it/s]\n",
      "100%|██████████| 3/3 [00:00<00:00, 68.49it/s]\n"
     ]
    },
    {
     "name": "stdout",
     "output_type": "stream",
     "text": [
      "best accuracy 75.65104166666667\n",
      "Epoch: 61 | Training Loss: 0.4382727546076621  | Validation Loss: 0.5151610871156057  | Accuracy: 75.07\n"
     ]
    },
    {
     "name": "stderr",
     "output_type": "stream",
     "text": [
      "155it [00:03, 49.40it/s]\n",
      "100%|██████████| 3/3 [00:00<00:00, 75.32it/s]\n"
     ]
    },
    {
     "name": "stdout",
     "output_type": "stream",
     "text": [
      "best accuracy 75.65104166666667\n",
      "Epoch: 62 | Training Loss: 0.43811519895830464  | Validation Loss: 0.5134928127129873  | Accuracy: 75.07\n"
     ]
    },
    {
     "name": "stderr",
     "output_type": "stream",
     "text": [
      "155it [00:03, 46.15it/s]\n",
      "100%|██████████| 3/3 [00:00<00:00, 67.71it/s]\n"
     ]
    },
    {
     "name": "stdout",
     "output_type": "stream",
     "text": [
      "best accuracy 75.65104166666667\n",
      "Epoch: 63 | Training Loss: 0.4384600498983937  | Validation Loss: 0.5226327379544576  | Accuracy: 74.67\n"
     ]
    },
    {
     "name": "stderr",
     "output_type": "stream",
     "text": [
      "155it [00:03, 48.67it/s]\n",
      "100%|██████████| 3/3 [00:00<00:00, 69.07it/s]\n"
     ]
    },
    {
     "name": "stdout",
     "output_type": "stream",
     "text": [
      "best accuracy 75.65104166666667\n",
      "Epoch: 64 | Training Loss: 0.4382097215421738  | Validation Loss: 0.5234674413998922  | Accuracy: 74.54\n"
     ]
    },
    {
     "name": "stderr",
     "output_type": "stream",
     "text": [
      "155it [00:03, 49.23it/s]\n",
      "100%|██████████| 3/3 [00:00<00:00, 69.02it/s]\n"
     ]
    },
    {
     "name": "stdout",
     "output_type": "stream",
     "text": [
      "best accuracy 75.65104166666667\n",
      "Epoch: 65 | Training Loss: 0.43835596999814436  | Validation Loss: 0.5159341295560201  | Accuracy: 74.74\n"
     ]
    },
    {
     "name": "stderr",
     "output_type": "stream",
     "text": [
      "155it [00:03, 46.00it/s]\n",
      "100%|██████████| 3/3 [00:00<00:00, 70.22it/s]\n"
     ]
    },
    {
     "name": "stdout",
     "output_type": "stream",
     "text": [
      "best accuracy 75.65104166666667\n",
      "Epoch: 66 | Training Loss: 0.4380831295444119  | Validation Loss: 0.5242762366930643  | Accuracy: 74.35\n"
     ]
    },
    {
     "name": "stderr",
     "output_type": "stream",
     "text": [
      "155it [00:03, 49.32it/s]\n",
      "100%|██████████| 3/3 [00:00<00:00, 69.28it/s]\n"
     ]
    },
    {
     "name": "stdout",
     "output_type": "stream",
     "text": [
      "best accuracy 75.65104166666667\n",
      "Epoch: 67 | Training Loss: 0.438420186696514  | Validation Loss: 0.5260798136393229  | Accuracy: 74.48\n"
     ]
    },
    {
     "name": "stderr",
     "output_type": "stream",
     "text": [
      "155it [00:03, 49.16it/s]\n",
      "100%|██████████| 3/3 [00:00<00:00, 68.17it/s]\n"
     ]
    },
    {
     "name": "stdout",
     "output_type": "stream",
     "text": [
      "best accuracy 75.65104166666667\n",
      "Epoch: 68 | Training Loss: 0.438129521377625  | Validation Loss: 0.5138694643974304  | Accuracy: 74.74\n"
     ]
    },
    {
     "name": "stderr",
     "output_type": "stream",
     "text": [
      "155it [00:03, 45.91it/s]\n",
      "100%|██████████| 3/3 [00:00<00:00, 67.42it/s]\n"
     ]
    },
    {
     "name": "stdout",
     "output_type": "stream",
     "text": [
      "best accuracy 75.65104166666667\n",
      "Epoch: 69 | Training Loss: 0.4384561452173418  | Validation Loss: 0.5216773748397827  | Accuracy: 74.48\n"
     ]
    },
    {
     "name": "stderr",
     "output_type": "stream",
     "text": [
      "155it [00:03, 48.77it/s]\n",
      "100%|██████████| 3/3 [00:00<00:00, 69.64it/s]\n"
     ]
    },
    {
     "name": "stdout",
     "output_type": "stream",
     "text": [
      "best accuracy 75.65104166666667\n",
      "Epoch: 70 | Training Loss: 0.4380194067955017  | Validation Loss: 0.5156113902727762  | Accuracy: 74.87\n"
     ]
    },
    {
     "name": "stderr",
     "output_type": "stream",
     "text": [
      "155it [00:03, 45.96it/s]\n",
      "100%|██████████| 3/3 [00:00<00:00, 68.88it/s]\n"
     ]
    },
    {
     "name": "stdout",
     "output_type": "stream",
     "text": [
      "best accuracy 75.65104166666667\n",
      "Epoch: 71 | Training Loss: 0.4385559343522595  | Validation Loss: 0.5179776151974996  | Accuracy: 74.74\n"
     ]
    },
    {
     "name": "stderr",
     "output_type": "stream",
     "text": [
      "155it [00:03, 49.64it/s]\n",
      "100%|██████████| 3/3 [00:00<00:00, 69.49it/s]\n"
     ]
    },
    {
     "name": "stdout",
     "output_type": "stream",
     "text": [
      "best accuracy 75.65104166666667\n",
      "Epoch: 72 | Training Loss: 0.4380067963753977  | Validation Loss: 0.5152046084403992  | Accuracy: 75.00\n"
     ]
    },
    {
     "name": "stderr",
     "output_type": "stream",
     "text": [
      "155it [00:03, 49.39it/s]\n",
      "100%|██████████| 3/3 [00:00<00:00, 70.07it/s]\n"
     ]
    },
    {
     "name": "stdout",
     "output_type": "stream",
     "text": [
      "best accuracy 75.65104166666667\n",
      "Epoch: 73 | Training Loss: 0.4381939845700418  | Validation Loss: 0.5141197840372721  | Accuracy: 75.20\n"
     ]
    },
    {
     "name": "stderr",
     "output_type": "stream",
     "text": [
      "155it [00:03, 49.32it/s]\n",
      "100%|██████████| 3/3 [00:00<00:00, 69.41it/s]\n"
     ]
    },
    {
     "name": "stdout",
     "output_type": "stream",
     "text": [
      "best accuracy 75.65104166666667\n",
      "Epoch: 74 | Training Loss: 0.43799942885675736  | Validation Loss: 0.5214619636535645  | Accuracy: 74.28\n"
     ]
    },
    {
     "name": "stderr",
     "output_type": "stream",
     "text": [
      "155it [00:03, 46.12it/s]\n",
      "100%|██████████| 3/3 [00:00<00:00, 68.48it/s]\n"
     ]
    },
    {
     "name": "stdout",
     "output_type": "stream",
     "text": [
      "best accuracy 75.65104166666667\n",
      "Epoch: 75 | Training Loss: 0.43813660721625053  | Validation Loss: 0.5205340087413788  | Accuracy: 74.41\n"
     ]
    },
    {
     "name": "stderr",
     "output_type": "stream",
     "text": [
      "155it [00:03, 49.55it/s]\n",
      "100%|██████████| 3/3 [00:00<00:00, 69.43it/s]\n"
     ]
    },
    {
     "name": "stdout",
     "output_type": "stream",
     "text": [
      "best accuracy 75.65104166666667\n",
      "Epoch: 76 | Training Loss: 0.4380654336944703  | Validation Loss: 0.5220190982023875  | Accuracy: 74.74\n"
     ]
    },
    {
     "name": "stderr",
     "output_type": "stream",
     "text": [
      "155it [00:03, 49.58it/s]\n",
      "100%|██████████| 3/3 [00:00<00:00, 69.56it/s]\n"
     ]
    },
    {
     "name": "stdout",
     "output_type": "stream",
     "text": [
      "best accuracy 75.65104166666667\n",
      "Epoch: 77 | Training Loss: 0.4382580391822323  | Validation Loss: 0.5199108918507894  | Accuracy: 74.87\n"
     ]
    },
    {
     "name": "stderr",
     "output_type": "stream",
     "text": [
      "12it [00:00, 45.95it/s]\n"
     ]
    },
    {
     "ename": "KeyboardInterrupt",
     "evalue": "",
     "output_type": "error",
     "traceback": [
      "\u001b[0;31m---------------------------------------------------------------------------\u001b[0m",
      "\u001b[0;31mKeyboardInterrupt\u001b[0m                         Traceback (most recent call last)",
      "Cell \u001b[0;32mIn[141], line 19\u001b[0m\n\u001b[1;32m     15\u001b[0m \u001b[38;5;28;01mimport\u001b[39;00m \u001b[38;5;21;01mpprint\u001b[39;00m\n\u001b[1;32m     17\u001b[0m pprint\u001b[38;5;241m.\u001b[39mpprint(config)\n\u001b[0;32m---> 19\u001b[0m \u001b[43mmodel_pipeline\u001b[49m\u001b[43m(\u001b[49m\u001b[43mconfig\u001b[49m\u001b[43m)\u001b[49m\n",
      "Cell \u001b[0;32mIn[140], line 13\u001b[0m, in \u001b[0;36mmodel_pipeline\u001b[0;34m(config)\u001b[0m\n\u001b[1;32m      1\u001b[0m \u001b[38;5;28;01mdef\u001b[39;00m \u001b[38;5;21mmodel_pipeline\u001b[39m(config\u001b[38;5;241m=\u001b[39m\u001b[38;5;28;01mNone\u001b[39;00m):\n\u001b[1;32m      2\u001b[0m \n\u001b[1;32m      3\u001b[0m     \u001b[38;5;66;03m# tell wandb to get started\u001b[39;00m\n\u001b[0;32m   (...)\u001b[0m\n\u001b[1;32m     11\u001b[0m       \n\u001b[1;32m     12\u001b[0m       \u001b[38;5;66;03m# and use them to train the model\u001b[39;00m\n\u001b[0;32m---> 13\u001b[0m       \u001b[43mtrain\u001b[49m\u001b[43m(\u001b[49m\u001b[43mconfig\u001b[49m\u001b[43m,\u001b[49m\u001b[43m \u001b[49m\u001b[43mtrain_loader\u001b[49m\u001b[43m,\u001b[49m\u001b[43mval_dataloader\u001b[49m\u001b[43m \u001b[49m\u001b[38;5;241;43m=\u001b[39;49m\u001b[43m \u001b[49m\u001b[43mval_loader\u001b[49m\u001b[43m)\u001b[49m\n\u001b[1;32m     15\u001b[0m       \u001b[38;5;28;01mfor\u001b[39;00m i,j \u001b[38;5;129;01min\u001b[39;00m test_loader:\n\u001b[1;32m     16\u001b[0m           x \u001b[38;5;241m=\u001b[39m i\n",
      "Cell \u001b[0;32mIn[138], line 24\u001b[0m, in \u001b[0;36mtrain\u001b[0;34m(config, train_dataloader, val_dataloader)\u001b[0m\n\u001b[1;32m     21\u001b[0m total_loss \u001b[38;5;241m=\u001b[39m \u001b[38;5;241m0\u001b[39m\n\u001b[1;32m     22\u001b[0m model\u001b[38;5;241m.\u001b[39mtrain()\n\u001b[0;32m---> 24\u001b[0m \u001b[38;5;28;01mfor\u001b[39;00m step,batch \u001b[38;5;129;01min\u001b[39;00m tqdm(\u001b[38;5;28menumerate\u001b[39m(train_dataloader)):\n\u001b[1;32m     26\u001b[0m     inputs_A,inputs_B, b_labels \u001b[38;5;241m=\u001b[39m \u001b[38;5;28mtuple\u001b[39m(t\u001b[38;5;241m.\u001b[39mto(device) \u001b[38;5;28;01mfor\u001b[39;00m t \u001b[38;5;129;01min\u001b[39;00m batch)\n\u001b[1;32m     27\u001b[0m     b_labels \u001b[38;5;241m=\u001b[39m b_labels\u001b[38;5;241m.\u001b[39mreshape((\u001b[38;5;241m1\u001b[39m,\u001b[38;5;241m512\u001b[39m,\u001b[38;5;241m1\u001b[39m))\u001b[38;5;241m.\u001b[39msqueeze(\u001b[38;5;241m0\u001b[39m)\n",
      "File \u001b[0;32m~/miniconda3/lib/python3.9/site-packages/tqdm/std.py:1195\u001b[0m, in \u001b[0;36mtqdm.__iter__\u001b[0;34m(self)\u001b[0m\n\u001b[1;32m   1192\u001b[0m time \u001b[38;5;241m=\u001b[39m \u001b[38;5;28mself\u001b[39m\u001b[38;5;241m.\u001b[39m_time\n\u001b[1;32m   1194\u001b[0m \u001b[38;5;28;01mtry\u001b[39;00m:\n\u001b[0;32m-> 1195\u001b[0m     \u001b[38;5;28;01mfor\u001b[39;00m obj \u001b[38;5;129;01min\u001b[39;00m iterable:\n\u001b[1;32m   1196\u001b[0m         \u001b[38;5;28;01myield\u001b[39;00m obj\n\u001b[1;32m   1197\u001b[0m         \u001b[38;5;66;03m# Update and possibly print the progressbar.\u001b[39;00m\n\u001b[1;32m   1198\u001b[0m         \u001b[38;5;66;03m# Note: does not call self.update(1) for speed optimisation.\u001b[39;00m\n",
      "File \u001b[0;32m~/miniconda3/lib/python3.9/site-packages/torch/utils/data/dataloader.py:681\u001b[0m, in \u001b[0;36m_BaseDataLoaderIter.__next__\u001b[0;34m(self)\u001b[0m\n\u001b[1;32m    678\u001b[0m \u001b[38;5;28;01mif\u001b[39;00m \u001b[38;5;28mself\u001b[39m\u001b[38;5;241m.\u001b[39m_sampler_iter \u001b[38;5;129;01mis\u001b[39;00m \u001b[38;5;28;01mNone\u001b[39;00m:\n\u001b[1;32m    679\u001b[0m     \u001b[38;5;66;03m# TODO(https://github.com/pytorch/pytorch/issues/76750)\u001b[39;00m\n\u001b[1;32m    680\u001b[0m     \u001b[38;5;28mself\u001b[39m\u001b[38;5;241m.\u001b[39m_reset()  \u001b[38;5;66;03m# type: ignore[call-arg]\u001b[39;00m\n\u001b[0;32m--> 681\u001b[0m data \u001b[38;5;241m=\u001b[39m \u001b[38;5;28;43mself\u001b[39;49m\u001b[38;5;241;43m.\u001b[39;49m\u001b[43m_next_data\u001b[49m\u001b[43m(\u001b[49m\u001b[43m)\u001b[49m\n\u001b[1;32m    682\u001b[0m \u001b[38;5;28mself\u001b[39m\u001b[38;5;241m.\u001b[39m_num_yielded \u001b[38;5;241m+\u001b[39m\u001b[38;5;241m=\u001b[39m \u001b[38;5;241m1\u001b[39m\n\u001b[1;32m    683\u001b[0m \u001b[38;5;28;01mif\u001b[39;00m \u001b[38;5;28mself\u001b[39m\u001b[38;5;241m.\u001b[39m_dataset_kind \u001b[38;5;241m==\u001b[39m _DatasetKind\u001b[38;5;241m.\u001b[39mIterable \u001b[38;5;129;01mand\u001b[39;00m \\\n\u001b[1;32m    684\u001b[0m         \u001b[38;5;28mself\u001b[39m\u001b[38;5;241m.\u001b[39m_IterableDataset_len_called \u001b[38;5;129;01mis\u001b[39;00m \u001b[38;5;129;01mnot\u001b[39;00m \u001b[38;5;28;01mNone\u001b[39;00m \u001b[38;5;129;01mand\u001b[39;00m \\\n\u001b[1;32m    685\u001b[0m         \u001b[38;5;28mself\u001b[39m\u001b[38;5;241m.\u001b[39m_num_yielded \u001b[38;5;241m>\u001b[39m \u001b[38;5;28mself\u001b[39m\u001b[38;5;241m.\u001b[39m_IterableDataset_len_called:\n",
      "File \u001b[0;32m~/miniconda3/lib/python3.9/site-packages/torch/utils/data/dataloader.py:721\u001b[0m, in \u001b[0;36m_SingleProcessDataLoaderIter._next_data\u001b[0;34m(self)\u001b[0m\n\u001b[1;32m    719\u001b[0m \u001b[38;5;28;01mdef\u001b[39;00m \u001b[38;5;21m_next_data\u001b[39m(\u001b[38;5;28mself\u001b[39m):\n\u001b[1;32m    720\u001b[0m     index \u001b[38;5;241m=\u001b[39m \u001b[38;5;28mself\u001b[39m\u001b[38;5;241m.\u001b[39m_next_index()  \u001b[38;5;66;03m# may raise StopIteration\u001b[39;00m\n\u001b[0;32m--> 721\u001b[0m     data \u001b[38;5;241m=\u001b[39m \u001b[38;5;28;43mself\u001b[39;49m\u001b[38;5;241;43m.\u001b[39;49m\u001b[43m_dataset_fetcher\u001b[49m\u001b[38;5;241;43m.\u001b[39;49m\u001b[43mfetch\u001b[49m\u001b[43m(\u001b[49m\u001b[43mindex\u001b[49m\u001b[43m)\u001b[49m  \u001b[38;5;66;03m# may raise StopIteration\u001b[39;00m\n\u001b[1;32m    722\u001b[0m     \u001b[38;5;28;01mif\u001b[39;00m \u001b[38;5;28mself\u001b[39m\u001b[38;5;241m.\u001b[39m_pin_memory:\n\u001b[1;32m    723\u001b[0m         data \u001b[38;5;241m=\u001b[39m _utils\u001b[38;5;241m.\u001b[39mpin_memory\u001b[38;5;241m.\u001b[39mpin_memory(data, \u001b[38;5;28mself\u001b[39m\u001b[38;5;241m.\u001b[39m_pin_memory_device)\n",
      "\u001b[0;31mKeyboardInterrupt\u001b[0m: "
     ]
    }
   ],
   "source": [
    "config = dict(layer_fc_1 = 1,\n",
    "        dim_1 = 256,\n",
    "        layer_fc_2 = 1,\n",
    "        dim_2 = 256,\n",
    "        dropout = False,\n",
    "        optimizer = 'adam',\n",
    "        learning_rate = 0.00007,\n",
    "        momentum = 0.85,\n",
    "        weight_decay = 0.00001,\n",
    "        amsgrad = False,\n",
    "        epochs = 100,\n",
    "        momentum_decay = 0.04)\n",
    "\n",
    "\n",
    "import pprint\n",
    "\n",
    "pprint.pprint(config)\n",
    "\n",
    "model_pipeline(config)"
   ]
  },
  {
   "cell_type": "markdown",
   "id": "e6f6413e",
   "metadata": {},
   "source": [
    "### 7. Testing model"
   ]
  },
  {
   "cell_type": "code",
   "execution_count": null,
   "id": "effe6561",
   "metadata": {},
   "outputs": [],
   "source": [
    "model = bert"
   ]
  },
  {
   "cell_type": "code",
   "execution_count": null,
   "id": "300648b4",
   "metadata": {},
   "outputs": [],
   "source": [
    "train_features_Protein_A"
   ]
  },
  {
   "cell_type": "code",
   "execution_count": null,
   "id": "40eabc23",
   "metadata": {},
   "outputs": [],
   "source": [
    "config"
   ]
  },
  {
   "cell_type": "code",
   "execution_count": null,
   "id": "97bcb77e-9a33-4cf1-815d-bcd425f62460",
   "metadata": {},
   "outputs": [],
   "source": []
  },
  {
   "cell_type": "code",
   "execution_count": null,
   "id": "1ece32cb-e0d2-4697-8e3c-4383a7358a94",
   "metadata": {},
   "outputs": [],
   "source": []
  }
 ],
 "metadata": {
  "kernelspec": {
   "display_name": "Python 3",
   "language": "python",
   "name": "python3"
  },
  "language_info": {
   "codemirror_mode": {
    "name": "ipython",
    "version": 3
   },
   "file_extension": ".py",
   "mimetype": "text/x-python",
   "name": "python",
   "nbconvert_exporter": "python",
   "pygments_lexer": "ipython3",
   "version": "3.9.12"
  }
 },
 "nbformat": 4,
 "nbformat_minor": 5
}
