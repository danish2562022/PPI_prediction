{
 "cells": [
  {
   "cell_type": "code",
   "execution_count": 1,
   "id": "88d7227b",
   "metadata": {},
   "outputs": [],
   "source": [
    "import pandas as pd"
   ]
  },
  {
   "cell_type": "code",
   "execution_count": 2,
   "id": "6ce4b60c",
   "metadata": {},
   "outputs": [],
   "source": [
    "train = pd.read_csv(\"combined_train.csv\")\n",
    "val = pd.read_csv(\"combined_val.csv\")\n",
    "test = pd.read_csv(\"combined_test.csv\")"
   ]
  },
  {
   "cell_type": "code",
   "execution_count": 3,
   "id": "d6be56da",
   "metadata": {},
   "outputs": [
    {
     "data": {
      "text/html": [
       "<div>\n",
       "<style scoped>\n",
       "    .dataframe tbody tr th:only-of-type {\n",
       "        vertical-align: middle;\n",
       "    }\n",
       "\n",
       "    .dataframe tbody tr th {\n",
       "        vertical-align: top;\n",
       "    }\n",
       "\n",
       "    .dataframe thead th {\n",
       "        text-align: right;\n",
       "    }\n",
       "</style>\n",
       "<table border=\"1\" class=\"dataframe\">\n",
       "  <thead>\n",
       "    <tr style=\"text-align: right;\">\n",
       "      <th></th>\n",
       "      <th>combined_pro</th>\n",
       "      <th>label</th>\n",
       "    </tr>\n",
       "  </thead>\n",
       "  <tbody>\n",
       "    <tr>\n",
       "      <th>0</th>\n",
       "      <td>M A T F P P A T S A P Q Q P P G P E D E D S S ...</td>\n",
       "      <td>0</td>\n",
       "    </tr>\n",
       "    <tr>\n",
       "      <th>1</th>\n",
       "      <td>M F R M L N S S F E D D P F F S E S I L A H R ...</td>\n",
       "      <td>0</td>\n",
       "    </tr>\n",
       "    <tr>\n",
       "      <th>2</th>\n",
       "      <td>M E L V Q V L K R G L Q Q I T G H G G L R G Y ...</td>\n",
       "      <td>1</td>\n",
       "    </tr>\n",
       "    <tr>\n",
       "      <th>3</th>\n",
       "      <td>M D P F L V L L H S V S S S L S S S E L T E L ...</td>\n",
       "      <td>1</td>\n",
       "    </tr>\n",
       "    <tr>\n",
       "      <th>4</th>\n",
       "      <td>M F P K F S L R S M F H G A G G G N D I Q W C ...</td>\n",
       "      <td>0</td>\n",
       "    </tr>\n",
       "    <tr>\n",
       "      <th>...</th>\n",
       "      <td>...</td>\n",
       "      <td>...</td>\n",
       "    </tr>\n",
       "    <tr>\n",
       "      <th>483601</th>\n",
       "      <td>M G A L R P T L L P P S L P L L L L L M L G M ...</td>\n",
       "      <td>0</td>\n",
       "    </tr>\n",
       "    <tr>\n",
       "      <th>483602</th>\n",
       "      <td>M K F N P F V T S D R S K N R K R H F N A P S ...</td>\n",
       "      <td>1</td>\n",
       "    </tr>\n",
       "    <tr>\n",
       "      <th>483603</th>\n",
       "      <td>M A T E H P E P P K A E L Q L P P P P P P G H ...</td>\n",
       "      <td>1</td>\n",
       "    </tr>\n",
       "    <tr>\n",
       "      <th>483604</th>\n",
       "      <td>M D S V A F E D V A V N F T Q E E W A L L G P ...</td>\n",
       "      <td>0</td>\n",
       "    </tr>\n",
       "    <tr>\n",
       "      <th>483605</th>\n",
       "      <td>M D Q P A G L Q V D Y V F R G V E H A V R V M ...</td>\n",
       "      <td>0</td>\n",
       "    </tr>\n",
       "  </tbody>\n",
       "</table>\n",
       "<p>483606 rows × 2 columns</p>\n",
       "</div>"
      ],
      "text/plain": [
       "                                             combined_pro  label\n",
       "0       M A T F P P A T S A P Q Q P P G P E D E D S S ...      0\n",
       "1       M F R M L N S S F E D D P F F S E S I L A H R ...      0\n",
       "2       M E L V Q V L K R G L Q Q I T G H G G L R G Y ...      1\n",
       "3       M D P F L V L L H S V S S S L S S S E L T E L ...      1\n",
       "4       M F P K F S L R S M F H G A G G G N D I Q W C ...      0\n",
       "...                                                   ...    ...\n",
       "483601  M G A L R P T L L P P S L P L L L L L M L G M ...      0\n",
       "483602  M K F N P F V T S D R S K N R K R H F N A P S ...      1\n",
       "483603  M A T E H P E P P K A E L Q L P P P P P P G H ...      1\n",
       "483604  M D S V A F E D V A V N F T Q E E W A L L G P ...      0\n",
       "483605  M D Q P A G L Q V D Y V F R G V E H A V R V M ...      0\n",
       "\n",
       "[483606 rows x 2 columns]"
      ]
     },
     "execution_count": 3,
     "metadata": {},
     "output_type": "execute_result"
    }
   ],
   "source": [
    "train"
   ]
  },
  {
   "cell_type": "code",
   "execution_count": 8,
   "id": "13c1bc01",
   "metadata": {},
   "outputs": [],
   "source": [
    "train_pos = train[train.label == 1][0:5000]\n",
    "train_neg = train[train.label == 0][0:5000]\n",
    "combined_train = pd.concat([train_pos,train_neg]).sample(frac = 1)\n",
    "\n",
    "val_pos = val[val.label == 1][0:1000]\n",
    "val_neg = val[val.label == 0][0:1000]\n",
    "combined_val = pd.concat([val_pos,val_neg]).sample(frac = 1)\n",
    "\n",
    "\n",
    "test_pos = test[test.label == 1][0:1000]\n",
    "test_neg = test[test.label == 0][0:1000]\n",
    "combined_test = pd.concat([test_pos,test_neg]).sample(frac = 1)"
   ]
  },
  {
   "cell_type": "code",
   "execution_count": 7,
   "id": "8d0e82c4",
   "metadata": {},
   "outputs": [
    {
     "data": {
      "text/plain": [
       "0    5000\n",
       "1    5000\n",
       "Name: label, dtype: int64"
      ]
     },
     "execution_count": 7,
     "metadata": {},
     "output_type": "execute_result"
    }
   ],
   "source": [
    "combined_train.label.value_counts()"
   ]
  },
  {
   "cell_type": "code",
   "execution_count": 9,
   "id": "059af147",
   "metadata": {},
   "outputs": [
    {
     "data": {
      "text/plain": [
       "1    1000\n",
       "0    1000\n",
       "Name: label, dtype: int64"
      ]
     },
     "execution_count": 9,
     "metadata": {},
     "output_type": "execute_result"
    }
   ],
   "source": [
    "combined_test.label.value_counts()"
   ]
  },
  {
   "cell_type": "code",
   "execution_count": 10,
   "id": "9cb5363f",
   "metadata": {},
   "outputs": [],
   "source": [
    "combined_train.to_csv(\"combined_train.csv\",index = False)"
   ]
  },
  {
   "cell_type": "code",
   "execution_count": 11,
   "id": "6cd4355a",
   "metadata": {},
   "outputs": [],
   "source": [
    "combined_val.to_csv(\"combined_val.csv\",index = False)"
   ]
  },
  {
   "cell_type": "code",
   "execution_count": 12,
   "id": "49614a68",
   "metadata": {},
   "outputs": [],
   "source": [
    "combined_test.to_csv(\"combined_test.csv\",index = False)"
   ]
  },
  {
   "cell_type": "code",
   "execution_count": null,
   "id": "ce2d8569",
   "metadata": {},
   "outputs": [],
   "source": []
  }
 ],
 "metadata": {
  "kernelspec": {
   "display_name": "Python 3 (ipykernel)",
   "language": "python",
   "name": "python3"
  },
  "language_info": {
   "codemirror_mode": {
    "name": "ipython",
    "version": 3
   },
   "file_extension": ".py",
   "mimetype": "text/x-python",
   "name": "python",
   "nbconvert_exporter": "python",
   "pygments_lexer": "ipython3",
   "version": "3.9.12"
  }
 },
 "nbformat": 4,
 "nbformat_minor": 5
}
