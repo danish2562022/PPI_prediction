{
 "cells": [
  {
   "cell_type": "code",
   "execution_count": 1,
   "id": "cf3e5b46",
   "metadata": {},
   "outputs": [],
   "source": [
    "import pandas as pd\n",
    "from tqdm import tqdm\n",
    "import pickle"
   ]
  },
  {
   "cell_type": "markdown",
   "id": "5d34856f",
   "metadata": {},
   "source": [
    "# 1. Pickle of combined protein [concat(P1,P2)]"
   ]
  },
  {
   "cell_type": "code",
   "execution_count": 4,
   "id": "09ef4314",
   "metadata": {},
   "outputs": [],
   "source": [
    "with open('./pickle/prot_to_seq_pickle/combined_prot.pickle', 'rb') as handle:\n",
    "    dc= pickle.load(handle)"
   ]
  },
  {
   "cell_type": "code",
   "execution_count": 5,
   "id": "8ebefffd",
   "metadata": {},
   "outputs": [
    {
     "data": {
      "text/plain": [
       "1371253"
      ]
     },
     "execution_count": 5,
     "metadata": {},
     "output_type": "execute_result"
    }
   ],
   "source": [
    "len(dc)"
   ]
  },
  {
   "cell_type": "markdown",
   "id": "62c2ac13",
   "metadata": {},
   "source": [
    "### 1.1 CSV related to this pickle"
   ]
  },
  {
   "cell_type": "code",
   "execution_count": 9,
   "id": "dc3f6efa",
   "metadata": {},
   "outputs": [],
   "source": [
    "data_train_name = pd.read_csv(\"./csv_files_new_ppi/training_and_test_set/combined_prot_a_prot_b/combined_train_only_name.csv\",nrows = 100)"
   ]
  },
  {
   "cell_type": "code",
   "execution_count": 10,
   "id": "d9eac6f4",
   "metadata": {},
   "outputs": [
    {
     "data": {
      "text/html": [
       "<div>\n",
       "<style scoped>\n",
       "    .dataframe tbody tr th:only-of-type {\n",
       "        vertical-align: middle;\n",
       "    }\n",
       "\n",
       "    .dataframe tbody tr th {\n",
       "        vertical-align: top;\n",
       "    }\n",
       "\n",
       "    .dataframe thead th {\n",
       "        text-align: right;\n",
       "    }\n",
       "</style>\n",
       "<table border=\"1\" class=\"dataframe\">\n",
       "  <thead>\n",
       "    <tr style=\"text-align: right;\">\n",
       "      <th></th>\n",
       "      <th>Protein_name</th>\n",
       "      <th>label</th>\n",
       "    </tr>\n",
       "  </thead>\n",
       "  <tbody>\n",
       "    <tr>\n",
       "      <th>0</th>\n",
       "      <td>Prot_699090</td>\n",
       "      <td>1</td>\n",
       "    </tr>\n",
       "    <tr>\n",
       "      <th>1</th>\n",
       "      <td>Prot_823864</td>\n",
       "      <td>1</td>\n",
       "    </tr>\n",
       "    <tr>\n",
       "      <th>2</th>\n",
       "      <td>Prot_82588</td>\n",
       "      <td>1</td>\n",
       "    </tr>\n",
       "    <tr>\n",
       "      <th>3</th>\n",
       "      <td>Prot_226837</td>\n",
       "      <td>1</td>\n",
       "    </tr>\n",
       "    <tr>\n",
       "      <th>4</th>\n",
       "      <td>Prot_1125748</td>\n",
       "      <td>1</td>\n",
       "    </tr>\n",
       "  </tbody>\n",
       "</table>\n",
       "</div>"
      ],
      "text/plain": [
       "   Protein_name  label\n",
       "0   Prot_699090      1\n",
       "1   Prot_823864      1\n",
       "2    Prot_82588      1\n",
       "3   Prot_226837      1\n",
       "4  Prot_1125748      1"
      ]
     },
     "execution_count": 10,
     "metadata": {},
     "output_type": "execute_result"
    }
   ],
   "source": [
    "data_train_name.head()"
   ]
  },
  {
   "cell_type": "code",
   "execution_count": 12,
   "id": "d77c4300",
   "metadata": {},
   "outputs": [],
   "source": [
    "data_test_name = pd.read_csv(\"./csv_files_new_ppi/training_and_test_set/combined_prot_a_prot_b/combined_test_only_name.csv\",nrows = 100)"
   ]
  },
  {
   "cell_type": "code",
   "execution_count": 23,
   "id": "6d327115",
   "metadata": {},
   "outputs": [
    {
     "data": {
      "text/html": [
       "<div>\n",
       "<style scoped>\n",
       "    .dataframe tbody tr th:only-of-type {\n",
       "        vertical-align: middle;\n",
       "    }\n",
       "\n",
       "    .dataframe tbody tr th {\n",
       "        vertical-align: top;\n",
       "    }\n",
       "\n",
       "    .dataframe thead th {\n",
       "        text-align: right;\n",
       "    }\n",
       "</style>\n",
       "<table border=\"1\" class=\"dataframe\">\n",
       "  <thead>\n",
       "    <tr style=\"text-align: right;\">\n",
       "      <th></th>\n",
       "      <th>Protein_name</th>\n",
       "      <th>label</th>\n",
       "    </tr>\n",
       "  </thead>\n",
       "  <tbody>\n",
       "    <tr>\n",
       "      <th>0</th>\n",
       "      <td>Prot_31599</td>\n",
       "      <td>1</td>\n",
       "    </tr>\n",
       "    <tr>\n",
       "      <th>1</th>\n",
       "      <td>Prot_142353</td>\n",
       "      <td>1</td>\n",
       "    </tr>\n",
       "    <tr>\n",
       "      <th>2</th>\n",
       "      <td>Prot_1220359</td>\n",
       "      <td>1</td>\n",
       "    </tr>\n",
       "    <tr>\n",
       "      <th>3</th>\n",
       "      <td>Prot_1069133</td>\n",
       "      <td>1</td>\n",
       "    </tr>\n",
       "    <tr>\n",
       "      <th>4</th>\n",
       "      <td>Prot_1145079</td>\n",
       "      <td>1</td>\n",
       "    </tr>\n",
       "  </tbody>\n",
       "</table>\n",
       "</div>"
      ],
      "text/plain": [
       "   Protein_name  label\n",
       "0    Prot_31599      1\n",
       "1   Prot_142353      1\n",
       "2  Prot_1220359      1\n",
       "3  Prot_1069133      1\n",
       "4  Prot_1145079      1"
      ]
     },
     "execution_count": 23,
     "metadata": {},
     "output_type": "execute_result"
    }
   ],
   "source": [
    "data_test_name.head()"
   ]
  },
  {
   "cell_type": "markdown",
   "id": "2960b42e",
   "metadata": {},
   "source": [
    "# 2. Pickle of unique proteins"
   ]
  },
  {
   "cell_type": "code",
   "execution_count": 14,
   "id": "45631de4",
   "metadata": {},
   "outputs": [],
   "source": [
    "with open('./pickle/prot_to_seq_pickle/all_prot_seq_for_bert.pickle', 'rb') as handle:\n",
    "    dc_pos= pickle.load(handle)"
   ]
  },
  {
   "cell_type": "code",
   "execution_count": 15,
   "id": "fc52fabf",
   "metadata": {},
   "outputs": [
    {
     "data": {
      "text/plain": [
       "23439"
      ]
     },
     "execution_count": 15,
     "metadata": {},
     "output_type": "execute_result"
    }
   ],
   "source": [
    "len(dc_pos)"
   ]
  },
  {
   "cell_type": "code",
   "execution_count": 16,
   "id": "dea3028a",
   "metadata": {},
   "outputs": [],
   "source": [
    "with open('./pickle/prot_to_seq_pickle/all_prot_negatome_seq_for_bert.pickle', 'rb') as handle:\n",
    "    dc_neg= pickle.load(handle)"
   ]
  },
  {
   "cell_type": "code",
   "execution_count": 17,
   "id": "21c4a97c",
   "metadata": {},
   "outputs": [
    {
     "data": {
      "text/plain": [
       "1342"
      ]
     },
     "execution_count": 17,
     "metadata": {},
     "output_type": "execute_result"
    }
   ],
   "source": [
    "len(dc_neg)"
   ]
  },
  {
   "cell_type": "markdown",
   "id": "1eafbbc2",
   "metadata": {},
   "source": [
    "### 2.1 CSV related to this pickle\n"
   ]
  },
  {
   "cell_type": "code",
   "execution_count": 20,
   "id": "183d3dbc",
   "metadata": {},
   "outputs": [],
   "source": [
    "data_train = pd.read_csv(\"./csv_files_new_ppi/training_and_test_set/train_set_without_embedding.csv\",nrows = 100)"
   ]
  },
  {
   "cell_type": "code",
   "execution_count": 22,
   "id": "e5abcbfc",
   "metadata": {},
   "outputs": [
    {
     "data": {
      "text/html": [
       "<div>\n",
       "<style scoped>\n",
       "    .dataframe tbody tr th:only-of-type {\n",
       "        vertical-align: middle;\n",
       "    }\n",
       "\n",
       "    .dataframe tbody tr th {\n",
       "        vertical-align: top;\n",
       "    }\n",
       "\n",
       "    .dataframe thead th {\n",
       "        text-align: right;\n",
       "    }\n",
       "</style>\n",
       "<table border=\"1\" class=\"dataframe\">\n",
       "  <thead>\n",
       "    <tr style=\"text-align: right;\">\n",
       "      <th></th>\n",
       "      <th>Protein_A</th>\n",
       "      <th>Protein_B</th>\n",
       "      <th>label</th>\n",
       "    </tr>\n",
       "  </thead>\n",
       "  <tbody>\n",
       "    <tr>\n",
       "      <th>0</th>\n",
       "      <td>PRO_1968</td>\n",
       "      <td>PRO_3259</td>\n",
       "      <td>1</td>\n",
       "    </tr>\n",
       "    <tr>\n",
       "      <th>1</th>\n",
       "      <td>PRO_1968</td>\n",
       "      <td>PRO_20825</td>\n",
       "      <td>1</td>\n",
       "    </tr>\n",
       "    <tr>\n",
       "      <th>2</th>\n",
       "      <td>PRO_1968</td>\n",
       "      <td>PRO_11236</td>\n",
       "      <td>1</td>\n",
       "    </tr>\n",
       "    <tr>\n",
       "      <th>3</th>\n",
       "      <td>PRO_1968</td>\n",
       "      <td>PRO_16190</td>\n",
       "      <td>1</td>\n",
       "    </tr>\n",
       "    <tr>\n",
       "      <th>4</th>\n",
       "      <td>PRO_1968</td>\n",
       "      <td>PRO_4579</td>\n",
       "      <td>1</td>\n",
       "    </tr>\n",
       "  </tbody>\n",
       "</table>\n",
       "</div>"
      ],
      "text/plain": [
       "  Protein_A  Protein_B  label\n",
       "0  PRO_1968   PRO_3259      1\n",
       "1  PRO_1968  PRO_20825      1\n",
       "2  PRO_1968  PRO_11236      1\n",
       "3  PRO_1968  PRO_16190      1\n",
       "4  PRO_1968   PRO_4579      1"
      ]
     },
     "execution_count": 22,
     "metadata": {},
     "output_type": "execute_result"
    }
   ],
   "source": [
    "data_train.head()"
   ]
  },
  {
   "cell_type": "code",
   "execution_count": 25,
   "id": "61bf13c0",
   "metadata": {},
   "outputs": [],
   "source": [
    "data_test = pd.read_csv(\"./csv_files_new_ppi/training_and_test_set/test_set_without_embedding.csv\",nrows = 100)"
   ]
  },
  {
   "cell_type": "code",
   "execution_count": 26,
   "id": "246245fa",
   "metadata": {},
   "outputs": [
    {
     "data": {
      "text/html": [
       "<div>\n",
       "<style scoped>\n",
       "    .dataframe tbody tr th:only-of-type {\n",
       "        vertical-align: middle;\n",
       "    }\n",
       "\n",
       "    .dataframe tbody tr th {\n",
       "        vertical-align: top;\n",
       "    }\n",
       "\n",
       "    .dataframe thead th {\n",
       "        text-align: right;\n",
       "    }\n",
       "</style>\n",
       "<table border=\"1\" class=\"dataframe\">\n",
       "  <thead>\n",
       "    <tr style=\"text-align: right;\">\n",
       "      <th></th>\n",
       "      <th>Protein_A</th>\n",
       "      <th>Protein_B</th>\n",
       "      <th>label</th>\n",
       "    </tr>\n",
       "  </thead>\n",
       "  <tbody>\n",
       "    <tr>\n",
       "      <th>0</th>\n",
       "      <td>PRO_4691</td>\n",
       "      <td>PRO_2365</td>\n",
       "      <td>1</td>\n",
       "    </tr>\n",
       "    <tr>\n",
       "      <th>1</th>\n",
       "      <td>PRO_12486</td>\n",
       "      <td>PRO_12486</td>\n",
       "      <td>1</td>\n",
       "    </tr>\n",
       "    <tr>\n",
       "      <th>2</th>\n",
       "      <td>PRO_12486</td>\n",
       "      <td>PRO_15453</td>\n",
       "      <td>1</td>\n",
       "    </tr>\n",
       "    <tr>\n",
       "      <th>3</th>\n",
       "      <td>PRO_12486</td>\n",
       "      <td>PRO_22362</td>\n",
       "      <td>1</td>\n",
       "    </tr>\n",
       "    <tr>\n",
       "      <th>4</th>\n",
       "      <td>PRO_12486</td>\n",
       "      <td>PRO_3423</td>\n",
       "      <td>1</td>\n",
       "    </tr>\n",
       "  </tbody>\n",
       "</table>\n",
       "</div>"
      ],
      "text/plain": [
       "   Protein_A  Protein_B  label\n",
       "0   PRO_4691   PRO_2365      1\n",
       "1  PRO_12486  PRO_12486      1\n",
       "2  PRO_12486  PRO_15453      1\n",
       "3  PRO_12486  PRO_22362      1\n",
       "4  PRO_12486   PRO_3423      1"
      ]
     },
     "execution_count": 26,
     "metadata": {},
     "output_type": "execute_result"
    }
   ],
   "source": [
    "data_test.head()"
   ]
  },
  {
   "cell_type": "code",
   "execution_count": null,
   "id": "e52bc1c2",
   "metadata": {},
   "outputs": [],
   "source": []
  }
 ],
 "metadata": {
  "kernelspec": {
   "display_name": "Python 3 (ipykernel)",
   "language": "python",
   "name": "python3"
  },
  "language_info": {
   "codemirror_mode": {
    "name": "ipython",
    "version": 3
   },
   "file_extension": ".py",
   "mimetype": "text/x-python",
   "name": "python",
   "nbconvert_exporter": "python",
   "pygments_lexer": "ipython3",
   "version": "3.9.12"
  }
 },
 "nbformat": 4,
 "nbformat_minor": 5
}
